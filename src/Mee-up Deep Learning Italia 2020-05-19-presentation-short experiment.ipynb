{
 "cells": [
  {
   "cell_type": "markdown",
   "metadata": {},
   "source": [
    "# The weather dataset\n",
    "This tutorial uses a [weather time series dataset recorded by the Max Planck Institute for Biogeochemistry.\n",
    "\n",
    "This dataset contains 14 different features such as air temperature, atmospheric pressure, and humidity. These were collected every 10 minutes, beginning in 2003. For efficiency, you will use only the data collected between 2009 and 2016. This section of the dataset was prepared by François Chollet for his book Deep Learning with Python.\n",
    "\n",
    "https://www.tensorflow.org/tutorials/structured_data/time_series"
   ]
  },
  {
   "cell_type": "code",
   "execution_count": 1,
   "metadata": {},
   "outputs": [],
   "source": [
    "%load_ext tensorboard\n"
   ]
  },
  {
   "cell_type": "code",
   "execution_count": 2,
   "metadata": {},
   "outputs": [],
   "source": [
    "import tensorflow as tf\n",
    "import datetime\n",
    "\n",
    "from lstm_timeseries import (data_proc, \n",
    "                             univariate_data, \n",
    "                             show_plot, \n",
    "                             baseline, \n",
    "                             multivariate_data,\n",
    "                             single_step_model, \n",
    "                             TimeSeriesLSTM, \n",
    "                             plot_preds, \n",
    "                             train_val_tf)\n",
    "\n",
    "import matplotlib.pyplot as plt\n",
    "tf.random.set_seed(13)\n",
    "\n"
   ]
  },
  {
   "cell_type": "code",
   "execution_count": 3,
   "metadata": {},
   "outputs": [],
   "source": [
    "# Clear any logs from previous runs\n",
    "!rm -rf ./logs/ "
   ]
  },
  {
   "cell_type": "code",
   "execution_count": 4,
   "metadata": {},
   "outputs": [
    {
     "name": "stdout",
     "output_type": "stream",
     "text": [
      "Wall time: 1.13 s\n"
     ]
    }
   ],
   "source": [
    "%%time\n",
    "df = data_proc()"
   ]
  },
  {
   "cell_type": "code",
   "execution_count": 5,
   "metadata": {},
   "outputs": [
    {
     "data": {
      "text/html": [
       "<div>\n",
       "<style scoped>\n",
       "    .dataframe tbody tr th:only-of-type {\n",
       "        vertical-align: middle;\n",
       "    }\n",
       "\n",
       "    .dataframe tbody tr th {\n",
       "        vertical-align: top;\n",
       "    }\n",
       "\n",
       "    .dataframe thead th {\n",
       "        text-align: right;\n",
       "    }\n",
       "</style>\n",
       "<table border=\"1\" class=\"dataframe\">\n",
       "  <thead>\n",
       "    <tr style=\"text-align: right;\">\n",
       "      <th></th>\n",
       "      <th>Date Time</th>\n",
       "      <th>p (mbar)</th>\n",
       "      <th>T (degC)</th>\n",
       "      <th>Tpot (K)</th>\n",
       "      <th>Tdew (degC)</th>\n",
       "      <th>rh (%)</th>\n",
       "      <th>VPmax (mbar)</th>\n",
       "      <th>VPact (mbar)</th>\n",
       "      <th>VPdef (mbar)</th>\n",
       "      <th>sh (g/kg)</th>\n",
       "      <th>H2OC (mmol/mol)</th>\n",
       "      <th>rho (g/m**3)</th>\n",
       "      <th>wv (m/s)</th>\n",
       "      <th>max. wv (m/s)</th>\n",
       "      <th>wd (deg)</th>\n",
       "    </tr>\n",
       "  </thead>\n",
       "  <tbody>\n",
       "    <tr>\n",
       "      <th>0</th>\n",
       "      <td>01.01.2009 00:10:00</td>\n",
       "      <td>996.52</td>\n",
       "      <td>-8.02</td>\n",
       "      <td>265.40</td>\n",
       "      <td>-8.90</td>\n",
       "      <td>93.3</td>\n",
       "      <td>3.33</td>\n",
       "      <td>3.11</td>\n",
       "      <td>0.22</td>\n",
       "      <td>1.94</td>\n",
       "      <td>3.12</td>\n",
       "      <td>1307.75</td>\n",
       "      <td>1.03</td>\n",
       "      <td>1.75</td>\n",
       "      <td>152.3</td>\n",
       "    </tr>\n",
       "    <tr>\n",
       "      <th>1</th>\n",
       "      <td>01.01.2009 00:20:00</td>\n",
       "      <td>996.57</td>\n",
       "      <td>-8.41</td>\n",
       "      <td>265.01</td>\n",
       "      <td>-9.28</td>\n",
       "      <td>93.4</td>\n",
       "      <td>3.23</td>\n",
       "      <td>3.02</td>\n",
       "      <td>0.21</td>\n",
       "      <td>1.89</td>\n",
       "      <td>3.03</td>\n",
       "      <td>1309.80</td>\n",
       "      <td>0.72</td>\n",
       "      <td>1.50</td>\n",
       "      <td>136.1</td>\n",
       "    </tr>\n",
       "    <tr>\n",
       "      <th>2</th>\n",
       "      <td>01.01.2009 00:30:00</td>\n",
       "      <td>996.53</td>\n",
       "      <td>-8.51</td>\n",
       "      <td>264.91</td>\n",
       "      <td>-9.31</td>\n",
       "      <td>93.9</td>\n",
       "      <td>3.21</td>\n",
       "      <td>3.01</td>\n",
       "      <td>0.20</td>\n",
       "      <td>1.88</td>\n",
       "      <td>3.02</td>\n",
       "      <td>1310.24</td>\n",
       "      <td>0.19</td>\n",
       "      <td>0.63</td>\n",
       "      <td>171.6</td>\n",
       "    </tr>\n",
       "    <tr>\n",
       "      <th>3</th>\n",
       "      <td>01.01.2009 00:40:00</td>\n",
       "      <td>996.51</td>\n",
       "      <td>-8.31</td>\n",
       "      <td>265.12</td>\n",
       "      <td>-9.07</td>\n",
       "      <td>94.2</td>\n",
       "      <td>3.26</td>\n",
       "      <td>3.07</td>\n",
       "      <td>0.19</td>\n",
       "      <td>1.92</td>\n",
       "      <td>3.08</td>\n",
       "      <td>1309.19</td>\n",
       "      <td>0.34</td>\n",
       "      <td>0.50</td>\n",
       "      <td>198.0</td>\n",
       "    </tr>\n",
       "    <tr>\n",
       "      <th>4</th>\n",
       "      <td>01.01.2009 00:50:00</td>\n",
       "      <td>996.51</td>\n",
       "      <td>-8.27</td>\n",
       "      <td>265.15</td>\n",
       "      <td>-9.04</td>\n",
       "      <td>94.1</td>\n",
       "      <td>3.27</td>\n",
       "      <td>3.08</td>\n",
       "      <td>0.19</td>\n",
       "      <td>1.92</td>\n",
       "      <td>3.09</td>\n",
       "      <td>1309.00</td>\n",
       "      <td>0.32</td>\n",
       "      <td>0.63</td>\n",
       "      <td>214.3</td>\n",
       "    </tr>\n",
       "  </tbody>\n",
       "</table>\n",
       "</div>"
      ],
      "text/plain": [
       "             Date Time  p (mbar)  T (degC)  Tpot (K)  Tdew (degC)  rh (%)  \\\n",
       "0  01.01.2009 00:10:00    996.52     -8.02    265.40        -8.90    93.3   \n",
       "1  01.01.2009 00:20:00    996.57     -8.41    265.01        -9.28    93.4   \n",
       "2  01.01.2009 00:30:00    996.53     -8.51    264.91        -9.31    93.9   \n",
       "3  01.01.2009 00:40:00    996.51     -8.31    265.12        -9.07    94.2   \n",
       "4  01.01.2009 00:50:00    996.51     -8.27    265.15        -9.04    94.1   \n",
       "\n",
       "   VPmax (mbar)  VPact (mbar)  VPdef (mbar)  sh (g/kg)  H2OC (mmol/mol)  \\\n",
       "0          3.33          3.11          0.22       1.94             3.12   \n",
       "1          3.23          3.02          0.21       1.89             3.03   \n",
       "2          3.21          3.01          0.20       1.88             3.02   \n",
       "3          3.26          3.07          0.19       1.92             3.08   \n",
       "4          3.27          3.08          0.19       1.92             3.09   \n",
       "\n",
       "   rho (g/m**3)  wv (m/s)  max. wv (m/s)  wd (deg)  \n",
       "0       1307.75      1.03           1.75     152.3  \n",
       "1       1309.80      0.72           1.50     136.1  \n",
       "2       1310.24      0.19           0.63     171.6  \n",
       "3       1309.19      0.34           0.50     198.0  \n",
       "4       1309.00      0.32           0.63     214.3  "
      ]
     },
     "execution_count": 5,
     "metadata": {},
     "output_type": "execute_result"
    }
   ],
   "source": [
    "df.head()"
   ]
  },
  {
   "cell_type": "code",
   "execution_count": 6,
   "metadata": {},
   "outputs": [],
   "source": [
    "TRAIN_SPLIT = 300000\n"
   ]
  },
  {
   "cell_type": "markdown",
   "metadata": {},
   "source": [
    "# Part 1: Forecast a univariate time series"
   ]
  },
  {
   "cell_type": "code",
   "execution_count": 7,
   "metadata": {},
   "outputs": [
    {
     "data": {
      "text/plain": [
       "Date Time\n",
       "01.01.2009 00:10:00   -8.02\n",
       "01.01.2009 00:20:00   -8.41\n",
       "01.01.2009 00:30:00   -8.51\n",
       "01.01.2009 00:40:00   -8.31\n",
       "01.01.2009 00:50:00   -8.27\n",
       "Name: T (degC), dtype: float64"
      ]
     },
     "execution_count": 7,
     "metadata": {},
     "output_type": "execute_result"
    }
   ],
   "source": [
    "uni_data = df['T (degC)']\n",
    "uni_data.index = df['Date Time']\n",
    "uni_data.head()"
   ]
  },
  {
   "cell_type": "code",
   "execution_count": 8,
   "metadata": {},
   "outputs": [
    {
     "data": {
      "image/png": "[encoded data removed]",
      "text/plain": [
       "<Figure size 576x432 with 1 Axes>"
      ]
     },
     "metadata": {
      "needs_background": "light"
     },
     "output_type": "display_data"
    }
   ],
   "source": [
    "uni_data.plot(subplots=True);"
   ]
  },
  {
   "cell_type": "code",
   "execution_count": 9,
   "metadata": {},
   "outputs": [],
   "source": [
    "uni_data = uni_data.values\n",
    "\n",
    "uni_train_mean = uni_data[:TRAIN_SPLIT].mean()\n",
    "uni_train_std = uni_data[:TRAIN_SPLIT].std()\n",
    "\n",
    "uni_data = (uni_data-uni_train_mean)/uni_train_std\n",
    "\n",
    "\n",
    "univariate_past_history = 20\n",
    "univariate_future_target = 0\n",
    "\n",
    "x_train_uni, y_train_uni = univariate_data(uni_data, 0, TRAIN_SPLIT,\n",
    "                                           univariate_past_history,\n",
    "                                           univariate_future_target)\n",
    "\n",
    "x_val_uni, y_val_uni = univariate_data(uni_data, TRAIN_SPLIT, None,\n",
    "                                       univariate_past_history,\n",
    "                                       univariate_future_target)"
   ]
  },
  {
   "cell_type": "raw",
   "metadata": {},
   "source": [
    "print ('Single window of past history')\n",
    "print (x_train_uni[0])\n",
    "print ('\\n Target temperature to predict')\n",
    "print (y_train_uni[0])"
   ]
  },
  {
   "cell_type": "code",
   "execution_count": 10,
   "metadata": {},
   "outputs": [
    {
     "data": {
      "image/png": "[encoded data removed]",
      "text/plain": [
       "<Figure size 576x432 with 1 Axes>"
      ]
     },
     "metadata": {
      "needs_background": "light"
     },
     "output_type": "display_data"
    }
   ],
   "source": [
    "show_plot([x_train_uni[0], y_train_uni[0]], 0, 'Sample Example');"
   ]
  },
  {
   "cell_type": "code",
   "execution_count": 11,
   "metadata": {},
   "outputs": [
    {
     "data": {
      "image/png": "[encoded data removed]",
      "text/plain": [
       "<Figure size 576x432 with 1 Axes>"
      ]
     },
     "metadata": {
      "needs_background": "light"
     },
     "output_type": "display_data"
    }
   ],
   "source": [
    "show_plot([x_train_uni[0], y_train_uni[0], baseline(x_train_uni[0])], 0,\n",
    "           'Baseline Prediction Example');"
   ]
  },
  {
   "cell_type": "raw",
   "metadata": {},
   "source": [
    "simple_lstm_model = lstm_model(x_train_uni, y_train_uni, x_val_uni, y_val_uni)"
   ]
  },
  {
   "cell_type": "markdown",
   "metadata": {},
   "source": [
    "# Multivariate forecast with lstm"
   ]
  },
  {
   "cell_type": "code",
   "execution_count": 12,
   "metadata": {},
   "outputs": [
    {
     "data": {
      "text/html": [
       "<div>\n",
       "<style scoped>\n",
       "    .dataframe tbody tr th:only-of-type {\n",
       "        vertical-align: middle;\n",
       "    }\n",
       "\n",
       "    .dataframe tbody tr th {\n",
       "        vertical-align: top;\n",
       "    }\n",
       "\n",
       "    .dataframe thead th {\n",
       "        text-align: right;\n",
       "    }\n",
       "</style>\n",
       "<table border=\"1\" class=\"dataframe\">\n",
       "  <thead>\n",
       "    <tr style=\"text-align: right;\">\n",
       "      <th></th>\n",
       "      <th>p (mbar)</th>\n",
       "      <th>T (degC)</th>\n",
       "      <th>rho (g/m**3)</th>\n",
       "    </tr>\n",
       "    <tr>\n",
       "      <th>Date Time</th>\n",
       "      <th></th>\n",
       "      <th></th>\n",
       "      <th></th>\n",
       "    </tr>\n",
       "  </thead>\n",
       "  <tbody>\n",
       "    <tr>\n",
       "      <th>01.01.2009 00:10:00</th>\n",
       "      <td>996.52</td>\n",
       "      <td>-8.02</td>\n",
       "      <td>1307.75</td>\n",
       "    </tr>\n",
       "    <tr>\n",
       "      <th>01.01.2009 00:20:00</th>\n",
       "      <td>996.57</td>\n",
       "      <td>-8.41</td>\n",
       "      <td>1309.80</td>\n",
       "    </tr>\n",
       "    <tr>\n",
       "      <th>01.01.2009 00:30:00</th>\n",
       "      <td>996.53</td>\n",
       "      <td>-8.51</td>\n",
       "      <td>1310.24</td>\n",
       "    </tr>\n",
       "    <tr>\n",
       "      <th>01.01.2009 00:40:00</th>\n",
       "      <td>996.51</td>\n",
       "      <td>-8.31</td>\n",
       "      <td>1309.19</td>\n",
       "    </tr>\n",
       "    <tr>\n",
       "      <th>01.01.2009 00:50:00</th>\n",
       "      <td>996.51</td>\n",
       "      <td>-8.27</td>\n",
       "      <td>1309.00</td>\n",
       "    </tr>\n",
       "  </tbody>\n",
       "</table>\n",
       "</div>"
      ],
      "text/plain": [
       "                     p (mbar)  T (degC)  rho (g/m**3)\n",
       "Date Time                                            \n",
       "01.01.2009 00:10:00    996.52     -8.02       1307.75\n",
       "01.01.2009 00:20:00    996.57     -8.41       1309.80\n",
       "01.01.2009 00:30:00    996.53     -8.51       1310.24\n",
       "01.01.2009 00:40:00    996.51     -8.31       1309.19\n",
       "01.01.2009 00:50:00    996.51     -8.27       1309.00"
      ]
     },
     "execution_count": 12,
     "metadata": {},
     "output_type": "execute_result"
    }
   ],
   "source": [
    "features_considered = ['p (mbar)', 'T (degC)', 'rho (g/m**3)']\n",
    "\n",
    "features = df[features_considered]\n",
    "features.index = df['Date Time']\n",
    "features.head()"
   ]
  },
  {
   "cell_type": "code",
   "execution_count": 13,
   "metadata": {},
   "outputs": [
    {
     "data": {
      "image/png": "[encoded data removed]",
      "text/plain": [
       "<Figure size 576x432 with 3 Axes>"
      ]
     },
     "metadata": {
      "needs_background": "light"
     },
     "output_type": "display_data"
    }
   ],
   "source": [
    "features.plot(subplots=True);"
   ]
  },
  {
   "cell_type": "code",
   "execution_count": 14,
   "metadata": {},
   "outputs": [],
   "source": [
    "dataset = features.values\n",
    "data_mean = dataset[:TRAIN_SPLIT].mean(axis=0)\n",
    "data_std = dataset[:TRAIN_SPLIT].std(axis=0)\n",
    "\n",
    "dataset = (dataset - data_mean)/data_std"
   ]
  },
  {
   "cell_type": "markdown",
   "metadata": {},
   "source": [
    "# Single step model\n",
    "* multivariate features to predict next time step"
   ]
  },
  {
   "cell_type": "code",
   "execution_count": 15,
   "metadata": {},
   "outputs": [],
   "source": [
    "# data for the last 5 days is used (720 observations) predict 12h ahead\n",
    "past_history = 720\n",
    "future_target = 72\n",
    "STEP = 6\n",
    "\n",
    "x_train_single, y_train_single = multivariate_data(dataset, dataset[:, 1], 0,\n",
    "                                                   TRAIN_SPLIT, past_history,\n",
    "                                                   future_target, STEP,\n",
    "                                                   single_step=True)\n",
    "\n",
    "x_val_single, y_val_single = multivariate_data(dataset, dataset[:, 1],\n",
    "                                               TRAIN_SPLIT, None, past_history,\n",
    "                                               future_target, STEP,\n",
    "                                               single_step=True)\n",
    "\n"
   ]
  },
  {
   "cell_type": "code",
   "execution_count": 16,
   "metadata": {},
   "outputs": [
    {
     "name": "stdout",
     "output_type": "stream",
     "text": [
      "Single window of past history : (120, 3)\n"
     ]
    }
   ],
   "source": [
    "print ('Single window of past history : {}'.format(x_train_single[0].shape))"
   ]
  },
  {
   "cell_type": "code",
   "execution_count": 17,
   "metadata": {
    "scrolled": false
   },
   "outputs": [
    {
     "name": "stdout",
     "output_type": "stream",
     "text": [
      "Train for 200 steps, validate for 50 steps\n",
      "Epoch 1/2\n",
      "200/200 [==============================] - ETA: 12:14 - loss: 1.13 - ETA: 2:01 - loss: 0.9627 - ETA: 1:05 - loss: 0.795 - ETA: 44s - loss: 0.663 - ETA: 33s - loss: 0.59 - ETA: 26s - loss: 0.55 - ETA: 21s - loss: 0.52 - ETA: 18s - loss: 0.50 - ETA: 15s - loss: 0.48 - ETA: 13s - loss: 0.47 - ETA: 11s - loss: 0.45 - ETA: 10s - loss: 0.44 - ETA: 9s - loss: 0.4315 - ETA: 8s - loss: 0.421 - ETA: 7s - loss: 0.410 - ETA: 6s - loss: 0.403 - ETA: 5s - loss: 0.394 - ETA: 5s - loss: 0.386 - ETA: 4s - loss: 0.379 - ETA: 4s - loss: 0.373 - ETA: 3s - loss: 0.367 - ETA: 3s - loss: 0.362 - ETA: 3s - loss: 0.358 - ETA: 2s - loss: 0.356 - ETA: 2s - loss: 0.352 - ETA: 2s - loss: 0.348 - ETA: 1s - loss: 0.344 - ETA: 1s - loss: 0.340 - ETA: 1s - loss: 0.337 - ETA: 1s - loss: 0.335 - ETA: 0s - loss: 0.334 - ETA: 0s - loss: 0.332 - ETA: 0s - loss: 0.330 - ETA: 0s - loss: 0.329 - ETA: 0s - loss: 0.327 - ETA: 0s - loss: 0.325 - 7s 33ms/step - loss: 0.3251 - val_loss: 0.2670\n",
      "Epoch 2/2\n",
      "200/200 [==============================] - ETA: 2s - loss: 0.267 - ETA: 1s - loss: 0.270 - ETA: 1s - loss: 0.277 - ETA: 1s - loss: 0.280 - ETA: 1s - loss: 0.280 - ETA: 1s - loss: 0.281 - ETA: 1s - loss: 0.280 - ETA: 1s - loss: 0.278 - ETA: 1s - loss: 0.278 - ETA: 1s - loss: 0.278 - ETA: 1s - loss: 0.278 - ETA: 1s - loss: 0.276 - ETA: 1s - loss: 0.275 - ETA: 1s - loss: 0.274 - ETA: 1s - loss: 0.274 - ETA: 1s - loss: 0.274 - ETA: 1s - loss: 0.273 - ETA: 0s - loss: 0.272 - ETA: 0s - loss: 0.271 - ETA: 0s - loss: 0.270 - ETA: 0s - loss: 0.268 - ETA: 0s - loss: 0.267 - ETA: 0s - loss: 0.266 - ETA: 0s - loss: 0.265 - ETA: 0s - loss: 0.264 - ETA: 0s - loss: 0.264 - ETA: 0s - loss: 0.263 - ETA: 0s - loss: 0.263 - ETA: 0s - loss: 0.263 - ETA: 0s - loss: 0.263 - ETA: 0s - loss: 0.264 - ETA: 0s - loss: 0.265 - ETA: 0s - loss: 0.264 - ETA: 0s - loss: 0.265 - 2s 12ms/step - loss: 0.2656 - val_loss: 0.2615\n",
      "Wall time: 10.9 s\n"
     ]
    }
   ],
   "source": [
    "%%time\n",
    "trained_model, single_step_history = single_step_model(x_train_single, \n",
    "                                                       y_train_single,\n",
    "                                                       x_val_single, \n",
    "                                                       y_val_single,\n",
    "                                                       epochs=4)\n",
    "\n"
   ]
  },
  {
   "cell_type": "markdown",
   "metadata": {},
   "source": [
    "# Plot first 3 predictions\n",
    "Use validation data for predictions"
   ]
  },
  {
   "cell_type": "code",
   "execution_count": 18,
   "metadata": {},
   "outputs": [
    {
     "data": {
      "image/png": "[encoded data removed]",
      "text/plain": [
       "<Figure size 576x432 with 1 Axes>"
      ]
     },
     "metadata": {
      "needs_background": "light"
     },
     "output_type": "display_data"
    },
    {
     "data": {
      "image/png": "[encoded data removed]",
      "text/plain": [
       "<Figure size 576x432 with 1 Axes>"
      ]
     },
     "metadata": {
      "needs_background": "light"
     },
     "output_type": "display_data"
    },
    {
     "data": {
      "image/png": "[encoded data removed]",
      "text/plain": [
       "<Figure size 576x432 with 1 Axes>"
      ]
     },
     "metadata": {
      "needs_background": "light"
     },
     "output_type": "display_data"
    }
   ],
   "source": [
    "\n",
    "train_data_single, val_data_single = train_val_tf(x_train_single, y_train_single, x_val_single, y_val_single)\n",
    "plot_preds(trained_model, val_data_single)\n",
    "\n"
   ]
  },
  {
   "cell_type": "code",
   "execution_count": 19,
   "metadata": {},
   "outputs": [],
   "source": [
    "def plot_train_history(history, title):\n",
    "  loss = history.history['loss']\n",
    "  val_loss = history.history['val_loss']\n",
    "\n",
    "  epochs = range(len(loss))\n",
    "\n",
    "  plt.figure()\n",
    "\n",
    "  plt.plot(epochs, loss, 'b', label='Training loss')\n",
    "  plt.plot(epochs, val_loss, 'r', label='Validation loss')\n",
    "  plt.title(title)\n",
    "  plt.legend()\n",
    "\n",
    "  plt.show()"
   ]
  },
  {
   "cell_type": "code",
   "execution_count": 20,
   "metadata": {},
   "outputs": [
    {
     "data": {
      "image/png": "[encoded data removed]",
      "text/plain": [
       "<Figure size 576x432 with 1 Axes>"
      ]
     },
     "metadata": {
      "needs_background": "light"
     },
     "output_type": "display_data"
    }
   ],
   "source": [
    "plot_train_history(single_step_history,\n",
    "                   'Single Step Training and validation loss')"
   ]
  },
  {
   "cell_type": "markdown",
   "metadata": {},
   "source": [
    "# Hyperparam search\n",
    "### Hyperband\n",
    "* Same data as in single step training above"
   ]
  },
  {
   "cell_type": "code",
   "execution_count": null,
   "metadata": {},
   "outputs": [],
   "source": []
  },
  {
   "cell_type": "code",
   "execution_count": 21,
   "metadata": {
    "scrolled": true
   },
   "outputs": [
    {
     "name": "stdout",
     "output_type": "stream",
     "text": [
      "INFO:tensorflow:Reloading Oracle from existing project hyperband\\helloworld_hyperband\\oracle.json\n",
      "INFO:tensorflow:Reloading Tuner from hyperband\\helloworld_hyperband\\tuner0.json\n",
      "INFO:tensorflow:Oracle triggered exit\n",
      "Wall time: 377 ms\n"
     ]
    }
   ],
   "source": [
    "%%time\n",
    "from kerastuner.tuners import RandomSearch, Hyperband\n",
    "\n",
    "\n",
    "hypermodel = TimeSeriesLSTM(num_outputs=1)\n",
    "    \n",
    "tuner = Hyperband(\n",
    "    hypermodel,\n",
    "    objective='mae',\n",
    "    #max_trials=40,\n",
    "    directory='hyperband',\n",
    "    project_name='helloworld_hyperband', \n",
    "    max_epochs=4)\n",
    "\n",
    "\n",
    "\n",
    "tuner.search(x_train_single,\n",
    "             y_train_single, \n",
    "             epochs=4, \n",
    "             validation_data=(x_val_single, y_val_single))"
   ]
  },
  {
   "cell_type": "code",
   "execution_count": null,
   "metadata": {
    "scrolled": false
   },
   "outputs": [],
   "source": []
  },
  {
   "cell_type": "code",
   "execution_count": 22,
   "metadata": {},
   "outputs": [],
   "source": [
    "models = tuner.get_best_models(num_models=1)"
   ]
  },
  {
   "cell_type": "code",
   "execution_count": 23,
   "metadata": {
    "scrolled": true
   },
   "outputs": [
    {
     "data": {
      "text/html": [
       "<span style=\"color:#4527A0\"><h1 style=\"font-size:18px\">Results summary</h1></span>"
      ],
      "text/plain": [
       "<IPython.core.display.HTML object>"
      ]
     },
     "metadata": {},
     "output_type": "display_data"
    },
    {
     "data": {
      "text/html": [
       "<span style=\"color:cyan\"> |-Results in hyperband\\helloworld_hyperband</span>"
      ],
      "text/plain": [
       "<IPython.core.display.HTML object>"
      ]
     },
     "metadata": {},
     "output_type": "display_data"
    },
    {
     "data": {
      "text/html": [
       "<span style=\"color:cyan\"> |-Showing 10 best trials</span>"
      ],
      "text/plain": [
       "<IPython.core.display.HTML object>"
      ]
     },
     "metadata": {},
     "output_type": "display_data"
    },
    {
     "data": {
      "text/html": [
       "<span style=\"color:cyan\"> |-Objective(name='mae', direction='min')</span>"
      ],
      "text/plain": [
       "<IPython.core.display.HTML object>"
      ]
     },
     "metadata": {},
     "output_type": "display_data"
    },
    {
     "data": {
      "text/html": [
       "<span style=\"color:#4527A0\"><h1 style=\"font-size:18px\">Trial summary</h1></span>"
      ],
      "text/plain": [
       "<IPython.core.display.HTML object>"
      ]
     },
     "metadata": {},
     "output_type": "display_data"
    },
    {
     "data": {
      "text/html": [
       "<span style=\"color:cyan\"> |-Trial ID: d8270198777cabecc58ca53750f71a3c</span>"
      ],
      "text/plain": [
       "<IPython.core.display.HTML object>"
      ]
     },
     "metadata": {},
     "output_type": "display_data"
    },
    {
     "data": {
      "text/html": [
       "<span style=\"color:cyan\"> |-Score: 0.09361021965742111</span>"
      ],
      "text/plain": [
       "<IPython.core.display.HTML object>"
      ]
     },
     "metadata": {},
     "output_type": "display_data"
    },
    {
     "data": {
      "text/html": [
       "<span style=\"color:cyan\"> |-Best step: 0</span>"
      ],
      "text/plain": [
       "<IPython.core.display.HTML object>"
      ]
     },
     "metadata": {},
     "output_type": "display_data"
    },
    {
     "data": {
      "text/html": [
       "<span style=\"color:#7E57C2\"><h2 style=\"font-size:16px\">Hyperparameters:</h2></span>"
      ],
      "text/plain": [
       "<IPython.core.display.HTML object>"
      ]
     },
     "metadata": {},
     "output_type": "display_data"
    },
    {
     "data": {
      "text/html": [
       "<span style=\"color:cyan\"> |-learning_rate: 0.001</span>"
      ],
      "text/plain": [
       "<IPython.core.display.HTML object>"
      ]
     },
     "metadata": {},
     "output_type": "display_data"
    },
    {
     "data": {
      "text/html": [
       "<span style=\"color:blue\"> |-tuner/bracket: 2</span>"
      ],
      "text/plain": [
       "<IPython.core.display.HTML object>"
      ]
     },
     "metadata": {},
     "output_type": "display_data"
    },
    {
     "data": {
      "text/html": [
       "<span style=\"color:cyan\"> |-tuner/epochs: 10</span>"
      ],
      "text/plain": [
       "<IPython.core.display.HTML object>"
      ]
     },
     "metadata": {},
     "output_type": "display_data"
    },
    {
     "data": {
      "text/html": [
       "<span style=\"color:blue\"> |-tuner/initial_epoch: 4</span>"
      ],
      "text/plain": [
       "<IPython.core.display.HTML object>"
      ]
     },
     "metadata": {},
     "output_type": "display_data"
    },
    {
     "data": {
      "text/html": [
       "<span style=\"color:cyan\"> |-tuner/round: 2</span>"
      ],
      "text/plain": [
       "<IPython.core.display.HTML object>"
      ]
     },
     "metadata": {},
     "output_type": "display_data"
    },
    {
     "data": {
      "text/html": [
       "<span style=\"color:blue\"> |-tuner/trial_id: cb603b01b7a928eef597e3e9e8dd5790</span>"
      ],
      "text/plain": [
       "<IPython.core.display.HTML object>"
      ]
     },
     "metadata": {},
     "output_type": "display_data"
    },
    {
     "data": {
      "text/html": [
       "<span style=\"color:cyan\"> |-units: 170</span>"
      ],
      "text/plain": [
       "<IPython.core.display.HTML object>"
      ]
     },
     "metadata": {},
     "output_type": "display_data"
    },
    {
     "data": {
      "text/html": [
       "<span style=\"color:#4527A0\"><h1 style=\"font-size:18px\">Trial summary</h1></span>"
      ],
      "text/plain": [
       "<IPython.core.display.HTML object>"
      ]
     },
     "metadata": {},
     "output_type": "display_data"
    },
    {
     "data": {
      "text/html": [
       "<span style=\"color:cyan\"> |-Trial ID: 01186cfb5bc7387a335657269c2b7e84</span>"
      ],
      "text/plain": [
       "<IPython.core.display.HTML object>"
      ]
     },
     "metadata": {},
     "output_type": "display_data"
    },
    {
     "data": {
      "text/html": [
       "<span style=\"color:cyan\"> |-Score: 0.09800152480602264</span>"
      ],
      "text/plain": [
       "<IPython.core.display.HTML object>"
      ]
     },
     "metadata": {},
     "output_type": "display_data"
    },
    {
     "data": {
      "text/html": [
       "<span style=\"color:cyan\"> |-Best step: 0</span>"
      ],
      "text/plain": [
       "<IPython.core.display.HTML object>"
      ]
     },
     "metadata": {},
     "output_type": "display_data"
    },
    {
     "data": {
      "text/html": [
       "<span style=\"color:#7E57C2\"><h2 style=\"font-size:16px\">Hyperparameters:</h2></span>"
      ],
      "text/plain": [
       "<IPython.core.display.HTML object>"
      ]
     },
     "metadata": {},
     "output_type": "display_data"
    },
    {
     "data": {
      "text/html": [
       "<span style=\"color:cyan\"> |-learning_rate: 0.001</span>"
      ],
      "text/plain": [
       "<IPython.core.display.HTML object>"
      ]
     },
     "metadata": {},
     "output_type": "display_data"
    },
    {
     "data": {
      "text/html": [
       "<span style=\"color:blue\"> |-tuner/bracket: 2</span>"
      ],
      "text/plain": [
       "<IPython.core.display.HTML object>"
      ]
     },
     "metadata": {},
     "output_type": "display_data"
    },
    {
     "data": {
      "text/html": [
       "<span style=\"color:cyan\"> |-tuner/epochs: 10</span>"
      ],
      "text/plain": [
       "<IPython.core.display.HTML object>"
      ]
     },
     "metadata": {},
     "output_type": "display_data"
    },
    {
     "data": {
      "text/html": [
       "<span style=\"color:blue\"> |-tuner/initial_epoch: 4</span>"
      ],
      "text/plain": [
       "<IPython.core.display.HTML object>"
      ]
     },
     "metadata": {},
     "output_type": "display_data"
    },
    {
     "data": {
      "text/html": [
       "<span style=\"color:cyan\"> |-tuner/round: 2</span>"
      ],
      "text/plain": [
       "<IPython.core.display.HTML object>"
      ]
     },
     "metadata": {},
     "output_type": "display_data"
    },
    {
     "data": {
      "text/html": [
       "<span style=\"color:blue\"> |-tuner/trial_id: 2bc0760519a3de782f6ff4f7501d34aa</span>"
      ],
      "text/plain": [
       "<IPython.core.display.HTML object>"
      ]
     },
     "metadata": {},
     "output_type": "display_data"
    },
    {
     "data": {
      "text/html": [
       "<span style=\"color:cyan\"> |-units: 138</span>"
      ],
      "text/plain": [
       "<IPython.core.display.HTML object>"
      ]
     },
     "metadata": {},
     "output_type": "display_data"
    },
    {
     "data": {
      "text/html": [
       "<span style=\"color:#4527A0\"><h1 style=\"font-size:18px\">Trial summary</h1></span>"
      ],
      "text/plain": [
       "<IPython.core.display.HTML object>"
      ]
     },
     "metadata": {},
     "output_type": "display_data"
    },
    {
     "data": {
      "text/html": [
       "<span style=\"color:cyan\"> |-Trial ID: 7c8b3b41c330e961b653c5228cb29a89</span>"
      ],
      "text/plain": [
       "<IPython.core.display.HTML object>"
      ]
     },
     "metadata": {},
     "output_type": "display_data"
    },
    {
     "data": {
      "text/html": [
       "<span style=\"color:cyan\"> |-Score: 0.10843775421380997</span>"
      ],
      "text/plain": [
       "<IPython.core.display.HTML object>"
      ]
     },
     "metadata": {},
     "output_type": "display_data"
    },
    {
     "data": {
      "text/html": [
       "<span style=\"color:cyan\"> |-Best step: 0</span>"
      ],
      "text/plain": [
       "<IPython.core.display.HTML object>"
      ]
     },
     "metadata": {},
     "output_type": "display_data"
    },
    {
     "data": {
      "text/html": [
       "<span style=\"color:#7E57C2\"><h2 style=\"font-size:16px\">Hyperparameters:</h2></span>"
      ],
      "text/plain": [
       "<IPython.core.display.HTML object>"
      ]
     },
     "metadata": {},
     "output_type": "display_data"
    },
    {
     "data": {
      "text/html": [
       "<span style=\"color:cyan\"> |-learning_rate: 0.001</span>"
      ],
      "text/plain": [
       "<IPython.core.display.HTML object>"
      ]
     },
     "metadata": {},
     "output_type": "display_data"
    },
    {
     "data": {
      "text/html": [
       "<span style=\"color:blue\"> |-tuner/bracket: 1</span>"
      ],
      "text/plain": [
       "<IPython.core.display.HTML object>"
      ]
     },
     "metadata": {},
     "output_type": "display_data"
    },
    {
     "data": {
      "text/html": [
       "<span style=\"color:cyan\"> |-tuner/epochs: 10</span>"
      ],
      "text/plain": [
       "<IPython.core.display.HTML object>"
      ]
     },
     "metadata": {},
     "output_type": "display_data"
    },
    {
     "data": {
      "text/html": [
       "<span style=\"color:blue\"> |-tuner/initial_epoch: 4</span>"
      ],
      "text/plain": [
       "<IPython.core.display.HTML object>"
      ]
     },
     "metadata": {},
     "output_type": "display_data"
    },
    {
     "data": {
      "text/html": [
       "<span style=\"color:cyan\"> |-tuner/round: 1</span>"
      ],
      "text/plain": [
       "<IPython.core.display.HTML object>"
      ]
     },
     "metadata": {},
     "output_type": "display_data"
    },
    {
     "data": {
      "text/html": [
       "<span style=\"color:blue\"> |-tuner/trial_id: 20713e0ed83c5e4a5c1771694c1c5b8d</span>"
      ],
      "text/plain": [
       "<IPython.core.display.HTML object>"
      ]
     },
     "metadata": {},
     "output_type": "display_data"
    },
    {
     "data": {
      "text/html": [
       "<span style=\"color:cyan\"> |-units: 106</span>"
      ],
      "text/plain": [
       "<IPython.core.display.HTML object>"
      ]
     },
     "metadata": {},
     "output_type": "display_data"
    },
    {
     "data": {
      "text/html": [
       "<span style=\"color:#4527A0\"><h1 style=\"font-size:18px\">Trial summary</h1></span>"
      ],
      "text/plain": [
       "<IPython.core.display.HTML object>"
      ]
     },
     "metadata": {},
     "output_type": "display_data"
    },
    {
     "data": {
      "text/html": [
       "<span style=\"color:cyan\"> |-Trial ID: 20713e0ed83c5e4a5c1771694c1c5b8d</span>"
      ],
      "text/plain": [
       "<IPython.core.display.HTML object>"
      ]
     },
     "metadata": {},
     "output_type": "display_data"
    },
    {
     "data": {
      "text/html": [
       "<span style=\"color:cyan\"> |-Score: 0.15005381405353546</span>"
      ],
      "text/plain": [
       "<IPython.core.display.HTML object>"
      ]
     },
     "metadata": {},
     "output_type": "display_data"
    },
    {
     "data": {
      "text/html": [
       "<span style=\"color:cyan\"> |-Best step: 0</span>"
      ],
      "text/plain": [
       "<IPython.core.display.HTML object>"
      ]
     },
     "metadata": {},
     "output_type": "display_data"
    },
    {
     "data": {
      "text/html": [
       "<span style=\"color:#7E57C2\"><h2 style=\"font-size:16px\">Hyperparameters:</h2></span>"
      ],
      "text/plain": [
       "<IPython.core.display.HTML object>"
      ]
     },
     "metadata": {},
     "output_type": "display_data"
    },
    {
     "data": {
      "text/html": [
       "<span style=\"color:cyan\"> |-learning_rate: 0.001</span>"
      ],
      "text/plain": [
       "<IPython.core.display.HTML object>"
      ]
     },
     "metadata": {},
     "output_type": "display_data"
    },
    {
     "data": {
      "text/html": [
       "<span style=\"color:blue\"> |-tuner/bracket: 1</span>"
      ],
      "text/plain": [
       "<IPython.core.display.HTML object>"
      ]
     },
     "metadata": {},
     "output_type": "display_data"
    },
    {
     "data": {
      "text/html": [
       "<span style=\"color:cyan\"> |-tuner/epochs: 4</span>"
      ],
      "text/plain": [
       "<IPython.core.display.HTML object>"
      ]
     },
     "metadata": {},
     "output_type": "display_data"
    },
    {
     "data": {
      "text/html": [
       "<span style=\"color:blue\"> |-tuner/initial_epoch: 0</span>"
      ],
      "text/plain": [
       "<IPython.core.display.HTML object>"
      ]
     },
     "metadata": {},
     "output_type": "display_data"
    },
    {
     "data": {
      "text/html": [
       "<span style=\"color:cyan\"> |-tuner/round: 0</span>"
      ],
      "text/plain": [
       "<IPython.core.display.HTML object>"
      ]
     },
     "metadata": {},
     "output_type": "display_data"
    },
    {
     "data": {
      "text/html": [
       "<span style=\"color:blue\"> |-units: 106</span>"
      ],
      "text/plain": [
       "<IPython.core.display.HTML object>"
      ]
     },
     "metadata": {},
     "output_type": "display_data"
    },
    {
     "data": {
      "text/html": [
       "<span style=\"color:#4527A0\"><h1 style=\"font-size:18px\">Trial summary</h1></span>"
      ],
      "text/plain": [
       "<IPython.core.display.HTML object>"
      ]
     },
     "metadata": {},
     "output_type": "display_data"
    },
    {
     "data": {
      "text/html": [
       "<span style=\"color:cyan\"> |-Trial ID: b17628a771e52ac9dbd4c18ef510ad1a</span>"
      ],
      "text/plain": [
       "<IPython.core.display.HTML object>"
      ]
     },
     "metadata": {},
     "output_type": "display_data"
    },
    {
     "data": {
      "text/html": [
       "<span style=\"color:cyan\"> |-Score: 0.18283025920391083</span>"
      ],
      "text/plain": [
       "<IPython.core.display.HTML object>"
      ]
     },
     "metadata": {},
     "output_type": "display_data"
    },
    {
     "data": {
      "text/html": [
       "<span style=\"color:cyan\"> |-Best step: 0</span>"
      ],
      "text/plain": [
       "<IPython.core.display.HTML object>"
      ]
     },
     "metadata": {},
     "output_type": "display_data"
    },
    {
     "data": {
      "text/html": [
       "<span style=\"color:#7E57C2\"><h2 style=\"font-size:16px\">Hyperparameters:</h2></span>"
      ],
      "text/plain": [
       "<IPython.core.display.HTML object>"
      ]
     },
     "metadata": {},
     "output_type": "display_data"
    },
    {
     "data": {
      "text/html": [
       "<span style=\"color:cyan\"> |-learning_rate: 0.001</span>"
      ],
      "text/plain": [
       "<IPython.core.display.HTML object>"
      ]
     },
     "metadata": {},
     "output_type": "display_data"
    },
    {
     "data": {
      "text/html": [
       "<span style=\"color:blue\"> |-tuner/bracket: 1</span>"
      ],
      "text/plain": [
       "<IPython.core.display.HTML object>"
      ]
     },
     "metadata": {},
     "output_type": "display_data"
    },
    {
     "data": {
      "text/html": [
       "<span style=\"color:cyan\"> |-tuner/epochs: 10</span>"
      ],
      "text/plain": [
       "<IPython.core.display.HTML object>"
      ]
     },
     "metadata": {},
     "output_type": "display_data"
    },
    {
     "data": {
      "text/html": [
       "<span style=\"color:blue\"> |-tuner/initial_epoch: 4</span>"
      ],
      "text/plain": [
       "<IPython.core.display.HTML object>"
      ]
     },
     "metadata": {},
     "output_type": "display_data"
    },
    {
     "data": {
      "text/html": [
       "<span style=\"color:cyan\"> |-tuner/round: 1</span>"
      ],
      "text/plain": [
       "<IPython.core.display.HTML object>"
      ]
     },
     "metadata": {},
     "output_type": "display_data"
    },
    {
     "data": {
      "text/html": [
       "<span style=\"color:blue\"> |-tuner/trial_id: 54a968df59eee5a2e776818e7998bd6a</span>"
      ],
      "text/plain": [
       "<IPython.core.display.HTML object>"
      ]
     },
     "metadata": {},
     "output_type": "display_data"
    },
    {
     "data": {
      "text/html": [
       "<span style=\"color:cyan\"> |-units: 42</span>"
      ],
      "text/plain": [
       "<IPython.core.display.HTML object>"
      ]
     },
     "metadata": {},
     "output_type": "display_data"
    },
    {
     "data": {
      "text/html": [
       "<span style=\"color:#4527A0\"><h1 style=\"font-size:18px\">Trial summary</h1></span>"
      ],
      "text/plain": [
       "<IPython.core.display.HTML object>"
      ]
     },
     "metadata": {},
     "output_type": "display_data"
    },
    {
     "data": {
      "text/html": [
       "<span style=\"color:cyan\"> |-Trial ID: 54a968df59eee5a2e776818e7998bd6a</span>"
      ],
      "text/plain": [
       "<IPython.core.display.HTML object>"
      ]
     },
     "metadata": {},
     "output_type": "display_data"
    },
    {
     "data": {
      "text/html": [
       "<span style=\"color:cyan\"> |-Score: 0.201022669672966</span>"
      ],
      "text/plain": [
       "<IPython.core.display.HTML object>"
      ]
     },
     "metadata": {},
     "output_type": "display_data"
    },
    {
     "data": {
      "text/html": [
       "<span style=\"color:cyan\"> |-Best step: 0</span>"
      ],
      "text/plain": [
       "<IPython.core.display.HTML object>"
      ]
     },
     "metadata": {},
     "output_type": "display_data"
    },
    {
     "data": {
      "text/html": [
       "<span style=\"color:#7E57C2\"><h2 style=\"font-size:16px\">Hyperparameters:</h2></span>"
      ],
      "text/plain": [
       "<IPython.core.display.HTML object>"
      ]
     },
     "metadata": {},
     "output_type": "display_data"
    },
    {
     "data": {
      "text/html": [
       "<span style=\"color:cyan\"> |-learning_rate: 0.001</span>"
      ],
      "text/plain": [
       "<IPython.core.display.HTML object>"
      ]
     },
     "metadata": {},
     "output_type": "display_data"
    },
    {
     "data": {
      "text/html": [
       "<span style=\"color:blue\"> |-tuner/bracket: 1</span>"
      ],
      "text/plain": [
       "<IPython.core.display.HTML object>"
      ]
     },
     "metadata": {},
     "output_type": "display_data"
    },
    {
     "data": {
      "text/html": [
       "<span style=\"color:cyan\"> |-tuner/epochs: 4</span>"
      ],
      "text/plain": [
       "<IPython.core.display.HTML object>"
      ]
     },
     "metadata": {},
     "output_type": "display_data"
    },
    {
     "data": {
      "text/html": [
       "<span style=\"color:blue\"> |-tuner/initial_epoch: 0</span>"
      ],
      "text/plain": [
       "<IPython.core.display.HTML object>"
      ]
     },
     "metadata": {},
     "output_type": "display_data"
    },
    {
     "data": {
      "text/html": [
       "<span style=\"color:cyan\"> |-tuner/round: 0</span>"
      ],
      "text/plain": [
       "<IPython.core.display.HTML object>"
      ]
     },
     "metadata": {},
     "output_type": "display_data"
    },
    {
     "data": {
      "text/html": [
       "<span style=\"color:blue\"> |-units: 42</span>"
      ],
      "text/plain": [
       "<IPython.core.display.HTML object>"
      ]
     },
     "metadata": {},
     "output_type": "display_data"
    },
    {
     "data": {
      "text/html": [
       "<span style=\"color:#4527A0\"><h1 style=\"font-size:18px\">Trial summary</h1></span>"
      ],
      "text/plain": [
       "<IPython.core.display.HTML object>"
      ]
     },
     "metadata": {},
     "output_type": "display_data"
    },
    {
     "data": {
      "text/html": [
       "<span style=\"color:cyan\"> |-Trial ID: 47da3fca3a61667175a4528904cd244e</span>"
      ],
      "text/plain": [
       "<IPython.core.display.HTML object>"
      ]
     },
     "metadata": {},
     "output_type": "display_data"
    },
    {
     "data": {
      "text/html": [
       "<span style=\"color:cyan\"> |-Score: 0.21071305871009827</span>"
      ],
      "text/plain": [
       "<IPython.core.display.HTML object>"
      ]
     },
     "metadata": {},
     "output_type": "display_data"
    },
    {
     "data": {
      "text/html": [
       "<span style=\"color:cyan\"> |-Best step: 0</span>"
      ],
      "text/plain": [
       "<IPython.core.display.HTML object>"
      ]
     },
     "metadata": {},
     "output_type": "display_data"
    },
    {
     "data": {
      "text/html": [
       "<span style=\"color:#7E57C2\"><h2 style=\"font-size:16px\">Hyperparameters:</h2></span>"
      ],
      "text/plain": [
       "<IPython.core.display.HTML object>"
      ]
     },
     "metadata": {},
     "output_type": "display_data"
    },
    {
     "data": {
      "text/html": [
       "<span style=\"color:cyan\"> |-learning_rate: 0.001</span>"
      ],
      "text/plain": [
       "<IPython.core.display.HTML object>"
      ]
     },
     "metadata": {},
     "output_type": "display_data"
    },
    {
     "data": {
      "text/html": [
       "<span style=\"color:blue\"> |-tuner/bracket: 2</span>"
      ],
      "text/plain": [
       "<IPython.core.display.HTML object>"
      ]
     },
     "metadata": {},
     "output_type": "display_data"
    },
    {
     "data": {
      "text/html": [
       "<span style=\"color:cyan\"> |-tuner/epochs: 2</span>"
      ],
      "text/plain": [
       "<IPython.core.display.HTML object>"
      ]
     },
     "metadata": {},
     "output_type": "display_data"
    },
    {
     "data": {
      "text/html": [
       "<span style=\"color:blue\"> |-tuner/initial_epoch: 0</span>"
      ],
      "text/plain": [
       "<IPython.core.display.HTML object>"
      ]
     },
     "metadata": {},
     "output_type": "display_data"
    },
    {
     "data": {
      "text/html": [
       "<span style=\"color:cyan\"> |-tuner/round: 0</span>"
      ],
      "text/plain": [
       "<IPython.core.display.HTML object>"
      ]
     },
     "metadata": {},
     "output_type": "display_data"
    },
    {
     "data": {
      "text/html": [
       "<span style=\"color:blue\"> |-units: 170</span>"
      ],
      "text/plain": [
       "<IPython.core.display.HTML object>"
      ]
     },
     "metadata": {},
     "output_type": "display_data"
    },
    {
     "data": {
      "text/html": [
       "<span style=\"color:#4527A0\"><h1 style=\"font-size:18px\">Trial summary</h1></span>"
      ],
      "text/plain": [
       "<IPython.core.display.HTML object>"
      ]
     },
     "metadata": {},
     "output_type": "display_data"
    },
    {
     "data": {
      "text/html": [
       "<span style=\"color:cyan\"> |-Trial ID: cb603b01b7a928eef597e3e9e8dd5790</span>"
      ],
      "text/plain": [
       "<IPython.core.display.HTML object>"
      ]
     },
     "metadata": {},
     "output_type": "display_data"
    },
    {
     "data": {
      "text/html": [
       "<span style=\"color:cyan\"> |-Score: 0.21093550324440002</span>"
      ],
      "text/plain": [
       "<IPython.core.display.HTML object>"
      ]
     },
     "metadata": {},
     "output_type": "display_data"
    },
    {
     "data": {
      "text/html": [
       "<span style=\"color:cyan\"> |-Best step: 0</span>"
      ],
      "text/plain": [
       "<IPython.core.display.HTML object>"
      ]
     },
     "metadata": {},
     "output_type": "display_data"
    },
    {
     "data": {
      "text/html": [
       "<span style=\"color:#7E57C2\"><h2 style=\"font-size:16px\">Hyperparameters:</h2></span>"
      ],
      "text/plain": [
       "<IPython.core.display.HTML object>"
      ]
     },
     "metadata": {},
     "output_type": "display_data"
    },
    {
     "data": {
      "text/html": [
       "<span style=\"color:cyan\"> |-learning_rate: 0.001</span>"
      ],
      "text/plain": [
       "<IPython.core.display.HTML object>"
      ]
     },
     "metadata": {},
     "output_type": "display_data"
    },
    {
     "data": {
      "text/html": [
       "<span style=\"color:blue\"> |-tuner/bracket: 2</span>"
      ],
      "text/plain": [
       "<IPython.core.display.HTML object>"
      ]
     },
     "metadata": {},
     "output_type": "display_data"
    },
    {
     "data": {
      "text/html": [
       "<span style=\"color:cyan\"> |-tuner/epochs: 4</span>"
      ],
      "text/plain": [
       "<IPython.core.display.HTML object>"
      ]
     },
     "metadata": {},
     "output_type": "display_data"
    },
    {
     "data": {
      "text/html": [
       "<span style=\"color:blue\"> |-tuner/initial_epoch: 2</span>"
      ],
      "text/plain": [
       "<IPython.core.display.HTML object>"
      ]
     },
     "metadata": {},
     "output_type": "display_data"
    },
    {
     "data": {
      "text/html": [
       "<span style=\"color:cyan\"> |-tuner/round: 1</span>"
      ],
      "text/plain": [
       "<IPython.core.display.HTML object>"
      ]
     },
     "metadata": {},
     "output_type": "display_data"
    },
    {
     "data": {
      "text/html": [
       "<span style=\"color:blue\"> |-tuner/trial_id: 47da3fca3a61667175a4528904cd244e</span>"
      ],
      "text/plain": [
       "<IPython.core.display.HTML object>"
      ]
     },
     "metadata": {},
     "output_type": "display_data"
    },
    {
     "data": {
      "text/html": [
       "<span style=\"color:cyan\"> |-units: 170</span>"
      ],
      "text/plain": [
       "<IPython.core.display.HTML object>"
      ]
     },
     "metadata": {},
     "output_type": "display_data"
    },
    {
     "data": {
      "text/html": [
       "<span style=\"color:#4527A0\"><h1 style=\"font-size:18px\">Trial summary</h1></span>"
      ],
      "text/plain": [
       "<IPython.core.display.HTML object>"
      ]
     },
     "metadata": {},
     "output_type": "display_data"
    },
    {
     "data": {
      "text/html": [
       "<span style=\"color:cyan\"> |-Trial ID: 6ec0f1975e4682a636262abeeb786273</span>"
      ],
      "text/plain": [
       "<IPython.core.display.HTML object>"
      ]
     },
     "metadata": {},
     "output_type": "display_data"
    },
    {
     "data": {
      "text/html": [
       "<span style=\"color:cyan\"> |-Score: 0.21296684443950653</span>"
      ],
      "text/plain": [
       "<IPython.core.display.HTML object>"
      ]
     },
     "metadata": {},
     "output_type": "display_data"
    },
    {
     "data": {
      "text/html": [
       "<span style=\"color:cyan\"> |-Best step: 0</span>"
      ],
      "text/plain": [
       "<IPython.core.display.HTML object>"
      ]
     },
     "metadata": {},
     "output_type": "display_data"
    },
    {
     "data": {
      "text/html": [
       "<span style=\"color:#7E57C2\"><h2 style=\"font-size:16px\">Hyperparameters:</h2></span>"
      ],
      "text/plain": [
       "<IPython.core.display.HTML object>"
      ]
     },
     "metadata": {},
     "output_type": "display_data"
    },
    {
     "data": {
      "text/html": [
       "<span style=\"color:cyan\"> |-learning_rate: 0.001</span>"
      ],
      "text/plain": [
       "<IPython.core.display.HTML object>"
      ]
     },
     "metadata": {},
     "output_type": "display_data"
    },
    {
     "data": {
      "text/html": [
       "<span style=\"color:blue\"> |-tuner/bracket: 2</span>"
      ],
      "text/plain": [
       "<IPython.core.display.HTML object>"
      ]
     },
     "metadata": {},
     "output_type": "display_data"
    },
    {
     "data": {
      "text/html": [
       "<span style=\"color:cyan\"> |-tuner/epochs: 2</span>"
      ],
      "text/plain": [
       "<IPython.core.display.HTML object>"
      ]
     },
     "metadata": {},
     "output_type": "display_data"
    },
    {
     "data": {
      "text/html": [
       "<span style=\"color:blue\"> |-tuner/initial_epoch: 0</span>"
      ],
      "text/plain": [
       "<IPython.core.display.HTML object>"
      ]
     },
     "metadata": {},
     "output_type": "display_data"
    },
    {
     "data": {
      "text/html": [
       "<span style=\"color:cyan\"> |-tuner/round: 0</span>"
      ],
      "text/plain": [
       "<IPython.core.display.HTML object>"
      ]
     },
     "metadata": {},
     "output_type": "display_data"
    },
    {
     "data": {
      "text/html": [
       "<span style=\"color:blue\"> |-units: 138</span>"
      ],
      "text/plain": [
       "<IPython.core.display.HTML object>"
      ]
     },
     "metadata": {},
     "output_type": "display_data"
    },
    {
     "data": {
      "text/html": [
       "<span style=\"color:#4527A0\"><h1 style=\"font-size:18px\">Trial summary</h1></span>"
      ],
      "text/plain": [
       "<IPython.core.display.HTML object>"
      ]
     },
     "metadata": {},
     "output_type": "display_data"
    },
    {
     "data": {
      "text/html": [
       "<span style=\"color:cyan\"> |-Trial ID: 2bc0760519a3de782f6ff4f7501d34aa</span>"
      ],
      "text/plain": [
       "<IPython.core.display.HTML object>"
      ]
     },
     "metadata": {},
     "output_type": "display_data"
    },
    {
     "data": {
      "text/html": [
       "<span style=\"color:cyan\"> |-Score: 0.21389415860176086</span>"
      ],
      "text/plain": [
       "<IPython.core.display.HTML object>"
      ]
     },
     "metadata": {},
     "output_type": "display_data"
    },
    {
     "data": {
      "text/html": [
       "<span style=\"color:cyan\"> |-Best step: 0</span>"
      ],
      "text/plain": [
       "<IPython.core.display.HTML object>"
      ]
     },
     "metadata": {},
     "output_type": "display_data"
    },
    {
     "data": {
      "text/html": [
       "<span style=\"color:#7E57C2\"><h2 style=\"font-size:16px\">Hyperparameters:</h2></span>"
      ],
      "text/plain": [
       "<IPython.core.display.HTML object>"
      ]
     },
     "metadata": {},
     "output_type": "display_data"
    },
    {
     "data": {
      "text/html": [
       "<span style=\"color:cyan\"> |-learning_rate: 0.001</span>"
      ],
      "text/plain": [
       "<IPython.core.display.HTML object>"
      ]
     },
     "metadata": {},
     "output_type": "display_data"
    },
    {
     "data": {
      "text/html": [
       "<span style=\"color:blue\"> |-tuner/bracket: 2</span>"
      ],
      "text/plain": [
       "<IPython.core.display.HTML object>"
      ]
     },
     "metadata": {},
     "output_type": "display_data"
    },
    {
     "data": {
      "text/html": [
       "<span style=\"color:cyan\"> |-tuner/epochs: 4</span>"
      ],
      "text/plain": [
       "<IPython.core.display.HTML object>"
      ]
     },
     "metadata": {},
     "output_type": "display_data"
    },
    {
     "data": {
      "text/html": [
       "<span style=\"color:blue\"> |-tuner/initial_epoch: 2</span>"
      ],
      "text/plain": [
       "<IPython.core.display.HTML object>"
      ]
     },
     "metadata": {},
     "output_type": "display_data"
    },
    {
     "data": {
      "text/html": [
       "<span style=\"color:cyan\"> |-tuner/round: 1</span>"
      ],
      "text/plain": [
       "<IPython.core.display.HTML object>"
      ]
     },
     "metadata": {},
     "output_type": "display_data"
    },
    {
     "data": {
      "text/html": [
       "<span style=\"color:blue\"> |-tuner/trial_id: 6ec0f1975e4682a636262abeeb786273</span>"
      ],
      "text/plain": [
       "<IPython.core.display.HTML object>"
      ]
     },
     "metadata": {},
     "output_type": "display_data"
    },
    {
     "data": {
      "text/html": [
       "<span style=\"color:cyan\"> |-units: 138</span>"
      ],
      "text/plain": [
       "<IPython.core.display.HTML object>"
      ]
     },
     "metadata": {},
     "output_type": "display_data"
    }
   ],
   "source": [
    "tuner.results_summary()"
   ]
  },
  {
   "cell_type": "code",
   "execution_count": 24,
   "metadata": {},
   "outputs": [
    {
     "data": {
      "text/plain": [
       "[<tensorflow.python.keras.engine.sequential.Sequential at 0x27f080e5f08>]"
      ]
     },
     "execution_count": 24,
     "metadata": {},
     "output_type": "execute_result"
    }
   ],
   "source": [
    "models"
   ]
  },
  {
   "cell_type": "code",
   "execution_count": 30,
   "metadata": {
    "scrolled": false
   },
   "outputs": [
    {
     "data": {
      "image/png": "[encoded data removed]",
      "text/plain": [
       "<Figure size 576x432 with 1 Axes>"
      ]
     },
     "metadata": {
      "needs_background": "light"
     },
     "output_type": "display_data"
    },
    {
     "data": {
      "image/png": "[encoded data removed]",
      "text/plain": [
       "<Figure size 576x432 with 1 Axes>"
      ]
     },
     "metadata": {
      "needs_background": "light"
     },
     "output_type": "display_data"
    },
    {
     "data": {
      "image/png": "[encoded data removed]",
      "text/plain": [
       "<Figure size 576x432 with 1 Axes>"
      ]
     },
     "metadata": {
      "needs_background": "light"
     },
     "output_type": "display_data"
    },
    {
     "data": {
      "text/html": [
       "<span style=\"color:#4527A0\"><h1 style=\"font-size:18px\">Results summary</h1></span>"
      ],
      "text/plain": [
       "<IPython.core.display.HTML object>"
      ]
     },
     "metadata": {},
     "output_type": "display_data"
    },
    {
     "data": {
      "text/html": [
       "<span style=\"color:cyan\"> |-Results in hyperband\\helloworld_hyperband</span>"
      ],
      "text/plain": [
       "<IPython.core.display.HTML object>"
      ]
     },
     "metadata": {},
     "output_type": "display_data"
    },
    {
     "data": {
      "text/html": [
       "<span style=\"color:cyan\"> |-Showing 10 best trials</span>"
      ],
      "text/plain": [
       "<IPython.core.display.HTML object>"
      ]
     },
     "metadata": {},
     "output_type": "display_data"
    },
    {
     "data": {
      "text/html": [
       "<span style=\"color:cyan\"> |-Objective(name='mae', direction='min')</span>"
      ],
      "text/plain": [
       "<IPython.core.display.HTML object>"
      ]
     },
     "metadata": {},
     "output_type": "display_data"
    },
    {
     "data": {
      "text/html": [
       "<span style=\"color:#4527A0\"><h1 style=\"font-size:18px\">Trial summary</h1></span>"
      ],
      "text/plain": [
       "<IPython.core.display.HTML object>"
      ]
     },
     "metadata": {},
     "output_type": "display_data"
    },
    {
     "data": {
      "text/html": [
       "<span style=\"color:cyan\"> |-Trial ID: d8270198777cabecc58ca53750f71a3c</span>"
      ],
      "text/plain": [
       "<IPython.core.display.HTML object>"
      ]
     },
     "metadata": {},
     "output_type": "display_data"
    },
    {
     "data": {
      "text/html": [
       "<span style=\"color:cyan\"> |-Score: 0.09361021965742111</span>"
      ],
      "text/plain": [
       "<IPython.core.display.HTML object>"
      ]
     },
     "metadata": {},
     "output_type": "display_data"
    },
    {
     "data": {
      "text/html": [
       "<span style=\"color:cyan\"> |-Best step: 0</span>"
      ],
      "text/plain": [
       "<IPython.core.display.HTML object>"
      ]
     },
     "metadata": {},
     "output_type": "display_data"
    },
    {
     "data": {
      "text/html": [
       "<span style=\"color:#7E57C2\"><h2 style=\"font-size:16px\">Hyperparameters:</h2></span>"
      ],
      "text/plain": [
       "<IPython.core.display.HTML object>"
      ]
     },
     "metadata": {},
     "output_type": "display_data"
    },
    {
     "data": {
      "text/html": [
       "<span style=\"color:cyan\"> |-learning_rate: 0.001</span>"
      ],
      "text/plain": [
       "<IPython.core.display.HTML object>"
      ]
     },
     "metadata": {},
     "output_type": "display_data"
    },
    {
     "data": {
      "text/html": [
       "<span style=\"color:blue\"> |-tuner/bracket: 2</span>"
      ],
      "text/plain": [
       "<IPython.core.display.HTML object>"
      ]
     },
     "metadata": {},
     "output_type": "display_data"
    },
    {
     "data": {
      "text/html": [
       "<span style=\"color:cyan\"> |-tuner/epochs: 10</span>"
      ],
      "text/plain": [
       "<IPython.core.display.HTML object>"
      ]
     },
     "metadata": {},
     "output_type": "display_data"
    },
    {
     "data": {
      "text/html": [
       "<span style=\"color:blue\"> |-tuner/initial_epoch: 4</span>"
      ],
      "text/plain": [
       "<IPython.core.display.HTML object>"
      ]
     },
     "metadata": {},
     "output_type": "display_data"
    },
    {
     "data": {
      "text/html": [
       "<span style=\"color:cyan\"> |-tuner/round: 2</span>"
      ],
      "text/plain": [
       "<IPython.core.display.HTML object>"
      ]
     },
     "metadata": {},
     "output_type": "display_data"
    },
    {
     "data": {
      "text/html": [
       "<span style=\"color:blue\"> |-tuner/trial_id: cb603b01b7a928eef597e3e9e8dd5790</span>"
      ],
      "text/plain": [
       "<IPython.core.display.HTML object>"
      ]
     },
     "metadata": {},
     "output_type": "display_data"
    },
    {
     "data": {
      "text/html": [
       "<span style=\"color:cyan\"> |-units: 170</span>"
      ],
      "text/plain": [
       "<IPython.core.display.HTML object>"
      ]
     },
     "metadata": {},
     "output_type": "display_data"
    },
    {
     "data": {
      "text/html": [
       "<span style=\"color:#4527A0\"><h1 style=\"font-size:18px\">Trial summary</h1></span>"
      ],
      "text/plain": [
       "<IPython.core.display.HTML object>"
      ]
     },
     "metadata": {},
     "output_type": "display_data"
    },
    {
     "data": {
      "text/html": [
       "<span style=\"color:cyan\"> |-Trial ID: 01186cfb5bc7387a335657269c2b7e84</span>"
      ],
      "text/plain": [
       "<IPython.core.display.HTML object>"
      ]
     },
     "metadata": {},
     "output_type": "display_data"
    },
    {
     "data": {
      "text/html": [
       "<span style=\"color:cyan\"> |-Score: 0.09800152480602264</span>"
      ],
      "text/plain": [
       "<IPython.core.display.HTML object>"
      ]
     },
     "metadata": {},
     "output_type": "display_data"
    },
    {
     "data": {
      "text/html": [
       "<span style=\"color:cyan\"> |-Best step: 0</span>"
      ],
      "text/plain": [
       "<IPython.core.display.HTML object>"
      ]
     },
     "metadata": {},
     "output_type": "display_data"
    },
    {
     "data": {
      "text/html": [
       "<span style=\"color:#7E57C2\"><h2 style=\"font-size:16px\">Hyperparameters:</h2></span>"
      ],
      "text/plain": [
       "<IPython.core.display.HTML object>"
      ]
     },
     "metadata": {},
     "output_type": "display_data"
    },
    {
     "data": {
      "text/html": [
       "<span style=\"color:cyan\"> |-learning_rate: 0.001</span>"
      ],
      "text/plain": [
       "<IPython.core.display.HTML object>"
      ]
     },
     "metadata": {},
     "output_type": "display_data"
    },
    {
     "data": {
      "text/html": [
       "<span style=\"color:blue\"> |-tuner/bracket: 2</span>"
      ],
      "text/plain": [
       "<IPython.core.display.HTML object>"
      ]
     },
     "metadata": {},
     "output_type": "display_data"
    },
    {
     "data": {
      "text/html": [
       "<span style=\"color:cyan\"> |-tuner/epochs: 10</span>"
      ],
      "text/plain": [
       "<IPython.core.display.HTML object>"
      ]
     },
     "metadata": {},
     "output_type": "display_data"
    },
    {
     "data": {
      "text/html": [
       "<span style=\"color:blue\"> |-tuner/initial_epoch: 4</span>"
      ],
      "text/plain": [
       "<IPython.core.display.HTML object>"
      ]
     },
     "metadata": {},
     "output_type": "display_data"
    },
    {
     "data": {
      "text/html": [
       "<span style=\"color:cyan\"> |-tuner/round: 2</span>"
      ],
      "text/plain": [
       "<IPython.core.display.HTML object>"
      ]
     },
     "metadata": {},
     "output_type": "display_data"
    },
    {
     "data": {
      "text/html": [
       "<span style=\"color:blue\"> |-tuner/trial_id: 2bc0760519a3de782f6ff4f7501d34aa</span>"
      ],
      "text/plain": [
       "<IPython.core.display.HTML object>"
      ]
     },
     "metadata": {},
     "output_type": "display_data"
    },
    {
     "data": {
      "text/html": [
       "<span style=\"color:cyan\"> |-units: 138</span>"
      ],
      "text/plain": [
       "<IPython.core.display.HTML object>"
      ]
     },
     "metadata": {},
     "output_type": "display_data"
    },
    {
     "data": {
      "text/html": [
       "<span style=\"color:#4527A0\"><h1 style=\"font-size:18px\">Trial summary</h1></span>"
      ],
      "text/plain": [
       "<IPython.core.display.HTML object>"
      ]
     },
     "metadata": {},
     "output_type": "display_data"
    },
    {
     "data": {
      "text/html": [
       "<span style=\"color:cyan\"> |-Trial ID: 7c8b3b41c330e961b653c5228cb29a89</span>"
      ],
      "text/plain": [
       "<IPython.core.display.HTML object>"
      ]
     },
     "metadata": {},
     "output_type": "display_data"
    },
    {
     "data": {
      "text/html": [
       "<span style=\"color:cyan\"> |-Score: 0.10843775421380997</span>"
      ],
      "text/plain": [
       "<IPython.core.display.HTML object>"
      ]
     },
     "metadata": {},
     "output_type": "display_data"
    },
    {
     "data": {
      "text/html": [
       "<span style=\"color:cyan\"> |-Best step: 0</span>"
      ],
      "text/plain": [
       "<IPython.core.display.HTML object>"
      ]
     },
     "metadata": {},
     "output_type": "display_data"
    },
    {
     "data": {
      "text/html": [
       "<span style=\"color:#7E57C2\"><h2 style=\"font-size:16px\">Hyperparameters:</h2></span>"
      ],
      "text/plain": [
       "<IPython.core.display.HTML object>"
      ]
     },
     "metadata": {},
     "output_type": "display_data"
    },
    {
     "data": {
      "text/html": [
       "<span style=\"color:cyan\"> |-learning_rate: 0.001</span>"
      ],
      "text/plain": [
       "<IPython.core.display.HTML object>"
      ]
     },
     "metadata": {},
     "output_type": "display_data"
    },
    {
     "data": {
      "text/html": [
       "<span style=\"color:blue\"> |-tuner/bracket: 1</span>"
      ],
      "text/plain": [
       "<IPython.core.display.HTML object>"
      ]
     },
     "metadata": {},
     "output_type": "display_data"
    },
    {
     "data": {
      "text/html": [
       "<span style=\"color:cyan\"> |-tuner/epochs: 10</span>"
      ],
      "text/plain": [
       "<IPython.core.display.HTML object>"
      ]
     },
     "metadata": {},
     "output_type": "display_data"
    },
    {
     "data": {
      "text/html": [
       "<span style=\"color:blue\"> |-tuner/initial_epoch: 4</span>"
      ],
      "text/plain": [
       "<IPython.core.display.HTML object>"
      ]
     },
     "metadata": {},
     "output_type": "display_data"
    },
    {
     "data": {
      "text/html": [
       "<span style=\"color:cyan\"> |-tuner/round: 1</span>"
      ],
      "text/plain": [
       "<IPython.core.display.HTML object>"
      ]
     },
     "metadata": {},
     "output_type": "display_data"
    },
    {
     "data": {
      "text/html": [
       "<span style=\"color:blue\"> |-tuner/trial_id: 20713e0ed83c5e4a5c1771694c1c5b8d</span>"
      ],
      "text/plain": [
       "<IPython.core.display.HTML object>"
      ]
     },
     "metadata": {},
     "output_type": "display_data"
    },
    {
     "data": {
      "text/html": [
       "<span style=\"color:cyan\"> |-units: 106</span>"
      ],
      "text/plain": [
       "<IPython.core.display.HTML object>"
      ]
     },
     "metadata": {},
     "output_type": "display_data"
    },
    {
     "data": {
      "text/html": [
       "<span style=\"color:#4527A0\"><h1 style=\"font-size:18px\">Trial summary</h1></span>"
      ],
      "text/plain": [
       "<IPython.core.display.HTML object>"
      ]
     },
     "metadata": {},
     "output_type": "display_data"
    },
    {
     "data": {
      "text/html": [
       "<span style=\"color:cyan\"> |-Trial ID: 20713e0ed83c5e4a5c1771694c1c5b8d</span>"
      ],
      "text/plain": [
       "<IPython.core.display.HTML object>"
      ]
     },
     "metadata": {},
     "output_type": "display_data"
    },
    {
     "data": {
      "text/html": [
       "<span style=\"color:cyan\"> |-Score: 0.15005381405353546</span>"
      ],
      "text/plain": [
       "<IPython.core.display.HTML object>"
      ]
     },
     "metadata": {},
     "output_type": "display_data"
    },
    {
     "data": {
      "text/html": [
       "<span style=\"color:cyan\"> |-Best step: 0</span>"
      ],
      "text/plain": [
       "<IPython.core.display.HTML object>"
      ]
     },
     "metadata": {},
     "output_type": "display_data"
    },
    {
     "data": {
      "text/html": [
       "<span style=\"color:#7E57C2\"><h2 style=\"font-size:16px\">Hyperparameters:</h2></span>"
      ],
      "text/plain": [
       "<IPython.core.display.HTML object>"
      ]
     },
     "metadata": {},
     "output_type": "display_data"
    },
    {
     "data": {
      "text/html": [
       "<span style=\"color:cyan\"> |-learning_rate: 0.001</span>"
      ],
      "text/plain": [
       "<IPython.core.display.HTML object>"
      ]
     },
     "metadata": {},
     "output_type": "display_data"
    },
    {
     "data": {
      "text/html": [
       "<span style=\"color:blue\"> |-tuner/bracket: 1</span>"
      ],
      "text/plain": [
       "<IPython.core.display.HTML object>"
      ]
     },
     "metadata": {},
     "output_type": "display_data"
    },
    {
     "data": {
      "text/html": [
       "<span style=\"color:cyan\"> |-tuner/epochs: 4</span>"
      ],
      "text/plain": [
       "<IPython.core.display.HTML object>"
      ]
     },
     "metadata": {},
     "output_type": "display_data"
    },
    {
     "data": {
      "text/html": [
       "<span style=\"color:blue\"> |-tuner/initial_epoch: 0</span>"
      ],
      "text/plain": [
       "<IPython.core.display.HTML object>"
      ]
     },
     "metadata": {},
     "output_type": "display_data"
    },
    {
     "data": {
      "text/html": [
       "<span style=\"color:cyan\"> |-tuner/round: 0</span>"
      ],
      "text/plain": [
       "<IPython.core.display.HTML object>"
      ]
     },
     "metadata": {},
     "output_type": "display_data"
    },
    {
     "data": {
      "text/html": [
       "<span style=\"color:blue\"> |-units: 106</span>"
      ],
      "text/plain": [
       "<IPython.core.display.HTML object>"
      ]
     },
     "metadata": {},
     "output_type": "display_data"
    },
    {
     "data": {
      "text/html": [
       "<span style=\"color:#4527A0\"><h1 style=\"font-size:18px\">Trial summary</h1></span>"
      ],
      "text/plain": [
       "<IPython.core.display.HTML object>"
      ]
     },
     "metadata": {},
     "output_type": "display_data"
    },
    {
     "data": {
      "text/html": [
       "<span style=\"color:cyan\"> |-Trial ID: b17628a771e52ac9dbd4c18ef510ad1a</span>"
      ],
      "text/plain": [
       "<IPython.core.display.HTML object>"
      ]
     },
     "metadata": {},
     "output_type": "display_data"
    },
    {
     "data": {
      "text/html": [
       "<span style=\"color:cyan\"> |-Score: 0.18283025920391083</span>"
      ],
      "text/plain": [
       "<IPython.core.display.HTML object>"
      ]
     },
     "metadata": {},
     "output_type": "display_data"
    },
    {
     "data": {
      "text/html": [
       "<span style=\"color:cyan\"> |-Best step: 0</span>"
      ],
      "text/plain": [
       "<IPython.core.display.HTML object>"
      ]
     },
     "metadata": {},
     "output_type": "display_data"
    },
    {
     "data": {
      "text/html": [
       "<span style=\"color:#7E57C2\"><h2 style=\"font-size:16px\">Hyperparameters:</h2></span>"
      ],
      "text/plain": [
       "<IPython.core.display.HTML object>"
      ]
     },
     "metadata": {},
     "output_type": "display_data"
    },
    {
     "data": {
      "text/html": [
       "<span style=\"color:cyan\"> |-learning_rate: 0.001</span>"
      ],
      "text/plain": [
       "<IPython.core.display.HTML object>"
      ]
     },
     "metadata": {},
     "output_type": "display_data"
    },
    {
     "data": {
      "text/html": [
       "<span style=\"color:blue\"> |-tuner/bracket: 1</span>"
      ],
      "text/plain": [
       "<IPython.core.display.HTML object>"
      ]
     },
     "metadata": {},
     "output_type": "display_data"
    },
    {
     "data": {
      "text/html": [
       "<span style=\"color:cyan\"> |-tuner/epochs: 10</span>"
      ],
      "text/plain": [
       "<IPython.core.display.HTML object>"
      ]
     },
     "metadata": {},
     "output_type": "display_data"
    },
    {
     "data": {
      "text/html": [
       "<span style=\"color:blue\"> |-tuner/initial_epoch: 4</span>"
      ],
      "text/plain": [
       "<IPython.core.display.HTML object>"
      ]
     },
     "metadata": {},
     "output_type": "display_data"
    },
    {
     "data": {
      "text/html": [
       "<span style=\"color:cyan\"> |-tuner/round: 1</span>"
      ],
      "text/plain": [
       "<IPython.core.display.HTML object>"
      ]
     },
     "metadata": {},
     "output_type": "display_data"
    },
    {
     "data": {
      "text/html": [
       "<span style=\"color:blue\"> |-tuner/trial_id: 54a968df59eee5a2e776818e7998bd6a</span>"
      ],
      "text/plain": [
       "<IPython.core.display.HTML object>"
      ]
     },
     "metadata": {},
     "output_type": "display_data"
    },
    {
     "data": {
      "text/html": [
       "<span style=\"color:cyan\"> |-units: 42</span>"
      ],
      "text/plain": [
       "<IPython.core.display.HTML object>"
      ]
     },
     "metadata": {},
     "output_type": "display_data"
    },
    {
     "data": {
      "text/html": [
       "<span style=\"color:#4527A0\"><h1 style=\"font-size:18px\">Trial summary</h1></span>"
      ],
      "text/plain": [
       "<IPython.core.display.HTML object>"
      ]
     },
     "metadata": {},
     "output_type": "display_data"
    },
    {
     "data": {
      "text/html": [
       "<span style=\"color:cyan\"> |-Trial ID: 54a968df59eee5a2e776818e7998bd6a</span>"
      ],
      "text/plain": [
       "<IPython.core.display.HTML object>"
      ]
     },
     "metadata": {},
     "output_type": "display_data"
    },
    {
     "data": {
      "text/html": [
       "<span style=\"color:cyan\"> |-Score: 0.201022669672966</span>"
      ],
      "text/plain": [
       "<IPython.core.display.HTML object>"
      ]
     },
     "metadata": {},
     "output_type": "display_data"
    },
    {
     "data": {
      "text/html": [
       "<span style=\"color:cyan\"> |-Best step: 0</span>"
      ],
      "text/plain": [
       "<IPython.core.display.HTML object>"
      ]
     },
     "metadata": {},
     "output_type": "display_data"
    },
    {
     "data": {
      "text/html": [
       "<span style=\"color:#7E57C2\"><h2 style=\"font-size:16px\">Hyperparameters:</h2></span>"
      ],
      "text/plain": [
       "<IPython.core.display.HTML object>"
      ]
     },
     "metadata": {},
     "output_type": "display_data"
    },
    {
     "data": {
      "text/html": [
       "<span style=\"color:cyan\"> |-learning_rate: 0.001</span>"
      ],
      "text/plain": [
       "<IPython.core.display.HTML object>"
      ]
     },
     "metadata": {},
     "output_type": "display_data"
    },
    {
     "data": {
      "text/html": [
       "<span style=\"color:blue\"> |-tuner/bracket: 1</span>"
      ],
      "text/plain": [
       "<IPython.core.display.HTML object>"
      ]
     },
     "metadata": {},
     "output_type": "display_data"
    },
    {
     "data": {
      "text/html": [
       "<span style=\"color:cyan\"> |-tuner/epochs: 4</span>"
      ],
      "text/plain": [
       "<IPython.core.display.HTML object>"
      ]
     },
     "metadata": {},
     "output_type": "display_data"
    },
    {
     "data": {
      "text/html": [
       "<span style=\"color:blue\"> |-tuner/initial_epoch: 0</span>"
      ],
      "text/plain": [
       "<IPython.core.display.HTML object>"
      ]
     },
     "metadata": {},
     "output_type": "display_data"
    },
    {
     "data": {
      "text/html": [
       "<span style=\"color:cyan\"> |-tuner/round: 0</span>"
      ],
      "text/plain": [
       "<IPython.core.display.HTML object>"
      ]
     },
     "metadata": {},
     "output_type": "display_data"
    },
    {
     "data": {
      "text/html": [
       "<span style=\"color:blue\"> |-units: 42</span>"
      ],
      "text/plain": [
       "<IPython.core.display.HTML object>"
      ]
     },
     "metadata": {},
     "output_type": "display_data"
    },
    {
     "data": {
      "text/html": [
       "<span style=\"color:#4527A0\"><h1 style=\"font-size:18px\">Trial summary</h1></span>"
      ],
      "text/plain": [
       "<IPython.core.display.HTML object>"
      ]
     },
     "metadata": {},
     "output_type": "display_data"
    },
    {
     "data": {
      "text/html": [
       "<span style=\"color:cyan\"> |-Trial ID: 47da3fca3a61667175a4528904cd244e</span>"
      ],
      "text/plain": [
       "<IPython.core.display.HTML object>"
      ]
     },
     "metadata": {},
     "output_type": "display_data"
    },
    {
     "data": {
      "text/html": [
       "<span style=\"color:cyan\"> |-Score: 0.21071305871009827</span>"
      ],
      "text/plain": [
       "<IPython.core.display.HTML object>"
      ]
     },
     "metadata": {},
     "output_type": "display_data"
    },
    {
     "data": {
      "text/html": [
       "<span style=\"color:cyan\"> |-Best step: 0</span>"
      ],
      "text/plain": [
       "<IPython.core.display.HTML object>"
      ]
     },
     "metadata": {},
     "output_type": "display_data"
    },
    {
     "data": {
      "text/html": [
       "<span style=\"color:#7E57C2\"><h2 style=\"font-size:16px\">Hyperparameters:</h2></span>"
      ],
      "text/plain": [
       "<IPython.core.display.HTML object>"
      ]
     },
     "metadata": {},
     "output_type": "display_data"
    },
    {
     "data": {
      "text/html": [
       "<span style=\"color:cyan\"> |-learning_rate: 0.001</span>"
      ],
      "text/plain": [
       "<IPython.core.display.HTML object>"
      ]
     },
     "metadata": {},
     "output_type": "display_data"
    },
    {
     "data": {
      "text/html": [
       "<span style=\"color:blue\"> |-tuner/bracket: 2</span>"
      ],
      "text/plain": [
       "<IPython.core.display.HTML object>"
      ]
     },
     "metadata": {},
     "output_type": "display_data"
    },
    {
     "data": {
      "text/html": [
       "<span style=\"color:cyan\"> |-tuner/epochs: 2</span>"
      ],
      "text/plain": [
       "<IPython.core.display.HTML object>"
      ]
     },
     "metadata": {},
     "output_type": "display_data"
    },
    {
     "data": {
      "text/html": [
       "<span style=\"color:blue\"> |-tuner/initial_epoch: 0</span>"
      ],
      "text/plain": [
       "<IPython.core.display.HTML object>"
      ]
     },
     "metadata": {},
     "output_type": "display_data"
    },
    {
     "data": {
      "text/html": [
       "<span style=\"color:cyan\"> |-tuner/round: 0</span>"
      ],
      "text/plain": [
       "<IPython.core.display.HTML object>"
      ]
     },
     "metadata": {},
     "output_type": "display_data"
    },
    {
     "data": {
      "text/html": [
       "<span style=\"color:blue\"> |-units: 170</span>"
      ],
      "text/plain": [
       "<IPython.core.display.HTML object>"
      ]
     },
     "metadata": {},
     "output_type": "display_data"
    },
    {
     "data": {
      "text/html": [
       "<span style=\"color:#4527A0\"><h1 style=\"font-size:18px\">Trial summary</h1></span>"
      ],
      "text/plain": [
       "<IPython.core.display.HTML object>"
      ]
     },
     "metadata": {},
     "output_type": "display_data"
    },
    {
     "data": {
      "text/html": [
       "<span style=\"color:cyan\"> |-Trial ID: cb603b01b7a928eef597e3e9e8dd5790</span>"
      ],
      "text/plain": [
       "<IPython.core.display.HTML object>"
      ]
     },
     "metadata": {},
     "output_type": "display_data"
    },
    {
     "data": {
      "text/html": [
       "<span style=\"color:cyan\"> |-Score: 0.21093550324440002</span>"
      ],
      "text/plain": [
       "<IPython.core.display.HTML object>"
      ]
     },
     "metadata": {},
     "output_type": "display_data"
    },
    {
     "data": {
      "text/html": [
       "<span style=\"color:cyan\"> |-Best step: 0</span>"
      ],
      "text/plain": [
       "<IPython.core.display.HTML object>"
      ]
     },
     "metadata": {},
     "output_type": "display_data"
    },
    {
     "data": {
      "text/html": [
       "<span style=\"color:#7E57C2\"><h2 style=\"font-size:16px\">Hyperparameters:</h2></span>"
      ],
      "text/plain": [
       "<IPython.core.display.HTML object>"
      ]
     },
     "metadata": {},
     "output_type": "display_data"
    },
    {
     "data": {
      "text/html": [
       "<span style=\"color:cyan\"> |-learning_rate: 0.001</span>"
      ],
      "text/plain": [
       "<IPython.core.display.HTML object>"
      ]
     },
     "metadata": {},
     "output_type": "display_data"
    },
    {
     "data": {
      "text/html": [
       "<span style=\"color:blue\"> |-tuner/bracket: 2</span>"
      ],
      "text/plain": [
       "<IPython.core.display.HTML object>"
      ]
     },
     "metadata": {},
     "output_type": "display_data"
    },
    {
     "data": {
      "text/html": [
       "<span style=\"color:cyan\"> |-tuner/epochs: 4</span>"
      ],
      "text/plain": [
       "<IPython.core.display.HTML object>"
      ]
     },
     "metadata": {},
     "output_type": "display_data"
    },
    {
     "data": {
      "text/html": [
       "<span style=\"color:blue\"> |-tuner/initial_epoch: 2</span>"
      ],
      "text/plain": [
       "<IPython.core.display.HTML object>"
      ]
     },
     "metadata": {},
     "output_type": "display_data"
    },
    {
     "data": {
      "text/html": [
       "<span style=\"color:cyan\"> |-tuner/round: 1</span>"
      ],
      "text/plain": [
       "<IPython.core.display.HTML object>"
      ]
     },
     "metadata": {},
     "output_type": "display_data"
    },
    {
     "data": {
      "text/html": [
       "<span style=\"color:blue\"> |-tuner/trial_id: 47da3fca3a61667175a4528904cd244e</span>"
      ],
      "text/plain": [
       "<IPython.core.display.HTML object>"
      ]
     },
     "metadata": {},
     "output_type": "display_data"
    },
    {
     "data": {
      "text/html": [
       "<span style=\"color:cyan\"> |-units: 170</span>"
      ],
      "text/plain": [
       "<IPython.core.display.HTML object>"
      ]
     },
     "metadata": {},
     "output_type": "display_data"
    },
    {
     "data": {
      "text/html": [
       "<span style=\"color:#4527A0\"><h1 style=\"font-size:18px\">Trial summary</h1></span>"
      ],
      "text/plain": [
       "<IPython.core.display.HTML object>"
      ]
     },
     "metadata": {},
     "output_type": "display_data"
    },
    {
     "data": {
      "text/html": [
       "<span style=\"color:cyan\"> |-Trial ID: 6ec0f1975e4682a636262abeeb786273</span>"
      ],
      "text/plain": [
       "<IPython.core.display.HTML object>"
      ]
     },
     "metadata": {},
     "output_type": "display_data"
    },
    {
     "data": {
      "text/html": [
       "<span style=\"color:cyan\"> |-Score: 0.21296684443950653</span>"
      ],
      "text/plain": [
       "<IPython.core.display.HTML object>"
      ]
     },
     "metadata": {},
     "output_type": "display_data"
    },
    {
     "data": {
      "text/html": [
       "<span style=\"color:cyan\"> |-Best step: 0</span>"
      ],
      "text/plain": [
       "<IPython.core.display.HTML object>"
      ]
     },
     "metadata": {},
     "output_type": "display_data"
    },
    {
     "data": {
      "text/html": [
       "<span style=\"color:#7E57C2\"><h2 style=\"font-size:16px\">Hyperparameters:</h2></span>"
      ],
      "text/plain": [
       "<IPython.core.display.HTML object>"
      ]
     },
     "metadata": {},
     "output_type": "display_data"
    },
    {
     "data": {
      "text/html": [
       "<span style=\"color:cyan\"> |-learning_rate: 0.001</span>"
      ],
      "text/plain": [
       "<IPython.core.display.HTML object>"
      ]
     },
     "metadata": {},
     "output_type": "display_data"
    },
    {
     "data": {
      "text/html": [
       "<span style=\"color:blue\"> |-tuner/bracket: 2</span>"
      ],
      "text/plain": [
       "<IPython.core.display.HTML object>"
      ]
     },
     "metadata": {},
     "output_type": "display_data"
    },
    {
     "data": {
      "text/html": [
       "<span style=\"color:cyan\"> |-tuner/epochs: 2</span>"
      ],
      "text/plain": [
       "<IPython.core.display.HTML object>"
      ]
     },
     "metadata": {},
     "output_type": "display_data"
    },
    {
     "data": {
      "text/html": [
       "<span style=\"color:blue\"> |-tuner/initial_epoch: 0</span>"
      ],
      "text/plain": [
       "<IPython.core.display.HTML object>"
      ]
     },
     "metadata": {},
     "output_type": "display_data"
    },
    {
     "data": {
      "text/html": [
       "<span style=\"color:cyan\"> |-tuner/round: 0</span>"
      ],
      "text/plain": [
       "<IPython.core.display.HTML object>"
      ]
     },
     "metadata": {},
     "output_type": "display_data"
    },
    {
     "data": {
      "text/html": [
       "<span style=\"color:blue\"> |-units: 138</span>"
      ],
      "text/plain": [
       "<IPython.core.display.HTML object>"
      ]
     },
     "metadata": {},
     "output_type": "display_data"
    },
    {
     "data": {
      "text/html": [
       "<span style=\"color:#4527A0\"><h1 style=\"font-size:18px\">Trial summary</h1></span>"
      ],
      "text/plain": [
       "<IPython.core.display.HTML object>"
      ]
     },
     "metadata": {},
     "output_type": "display_data"
    },
    {
     "data": {
      "text/html": [
       "<span style=\"color:cyan\"> |-Trial ID: 2bc0760519a3de782f6ff4f7501d34aa</span>"
      ],
      "text/plain": [
       "<IPython.core.display.HTML object>"
      ]
     },
     "metadata": {},
     "output_type": "display_data"
    },
    {
     "data": {
      "text/html": [
       "<span style=\"color:cyan\"> |-Score: 0.21389415860176086</span>"
      ],
      "text/plain": [
       "<IPython.core.display.HTML object>"
      ]
     },
     "metadata": {},
     "output_type": "display_data"
    },
    {
     "data": {
      "text/html": [
       "<span style=\"color:cyan\"> |-Best step: 0</span>"
      ],
      "text/plain": [
       "<IPython.core.display.HTML object>"
      ]
     },
     "metadata": {},
     "output_type": "display_data"
    },
    {
     "data": {
      "text/html": [
       "<span style=\"color:#7E57C2\"><h2 style=\"font-size:16px\">Hyperparameters:</h2></span>"
      ],
      "text/plain": [
       "<IPython.core.display.HTML object>"
      ]
     },
     "metadata": {},
     "output_type": "display_data"
    },
    {
     "data": {
      "text/html": [
       "<span style=\"color:cyan\"> |-learning_rate: 0.001</span>"
      ],
      "text/plain": [
       "<IPython.core.display.HTML object>"
      ]
     },
     "metadata": {},
     "output_type": "display_data"
    },
    {
     "data": {
      "text/html": [
       "<span style=\"color:blue\"> |-tuner/bracket: 2</span>"
      ],
      "text/plain": [
       "<IPython.core.display.HTML object>"
      ]
     },
     "metadata": {},
     "output_type": "display_data"
    },
    {
     "data": {
      "text/html": [
       "<span style=\"color:cyan\"> |-tuner/epochs: 4</span>"
      ],
      "text/plain": [
       "<IPython.core.display.HTML object>"
      ]
     },
     "metadata": {},
     "output_type": "display_data"
    },
    {
     "data": {
      "text/html": [
       "<span style=\"color:blue\"> |-tuner/initial_epoch: 2</span>"
      ],
      "text/plain": [
       "<IPython.core.display.HTML object>"
      ]
     },
     "metadata": {},
     "output_type": "display_data"
    },
    {
     "data": {
      "text/html": [
       "<span style=\"color:cyan\"> |-tuner/round: 1</span>"
      ],
      "text/plain": [
       "<IPython.core.display.HTML object>"
      ]
     },
     "metadata": {},
     "output_type": "display_data"
    },
    {
     "data": {
      "text/html": [
       "<span style=\"color:blue\"> |-tuner/trial_id: 6ec0f1975e4682a636262abeeb786273</span>"
      ],
      "text/plain": [
       "<IPython.core.display.HTML object>"
      ]
     },
     "metadata": {},
     "output_type": "display_data"
    },
    {
     "data": {
      "text/html": [
       "<span style=\"color:cyan\"> |-units: 138</span>"
      ],
      "text/plain": [
       "<IPython.core.display.HTML object>"
      ]
     },
     "metadata": {},
     "output_type": "display_data"
    },
    {
     "name": "stdout",
     "output_type": "stream",
     "text": [
      "WARNING:tensorflow:Unresolved object in checkpoint: (root).layer-1.kernel\n",
      "WARNING:tensorflow:Unresolved object in checkpoint: (root).layer-1.bias\n",
      "WARNING:tensorflow:Unresolved object in checkpoint: (root).optimizer.iter\n",
      "WARNING:tensorflow:Unresolved object in checkpoint: (root).optimizer.decay\n",
      "WARNING:tensorflow:Unresolved object in checkpoint: (root).optimizer.learning_rate\n",
      "WARNING:tensorflow:Unresolved object in checkpoint: (root).optimizer.momentum\n",
      "WARNING:tensorflow:Unresolved object in checkpoint: (root).optimizer.rho\n",
      "WARNING:tensorflow:Unresolved object in checkpoint: (root).layer-0.cell.kernel\n",
      "WARNING:tensorflow:Unresolved object in checkpoint: (root).layer-0.cell.recurrent_kernel\n",
      "WARNING:tensorflow:Unresolved object in checkpoint: (root).layer-0.cell.bias\n",
      "WARNING:tensorflow:Unresolved object in checkpoint: (root).optimizer's state 'rms' for (root).layer-1.kernel\n",
      "WARNING:tensorflow:Unresolved object in checkpoint: (root).optimizer's state 'rms' for (root).layer-1.bias\n",
      "WARNING:tensorflow:Unresolved object in checkpoint: (root).optimizer's state 'rms' for (root).layer-0.cell.kernel\n",
      "WARNING:tensorflow:Unresolved object in checkpoint: (root).optimizer's state 'rms' for (root).layer-0.cell.recurrent_kernel\n",
      "WARNING:tensorflow:Unresolved object in checkpoint: (root).optimizer's state 'rms' for (root).layer-0.cell.bias\n",
      "WARNING:tensorflow:A checkpoint was restored (e.g. tf.train.Checkpoint.restore or tf.keras.Model.load_weights) but not all checkpointed values were used. See above for specific issues. Use expect_partial() on the load status object, e.g. tf.train.Checkpoint.restore(...).expect_partial(), to silence these warnings, or use assert_consumed() to make the check explicit. See https://www.tensorflow.org/guide/checkpoint#loading_mechanics for details.\n"
     ]
    }
   ],
   "source": [
    "plot_preds(models[0], val_data_single)\n",
    "\n",
    "tuner.results_summary()\n",
    "\n",
    "# Retrieve the best model.\n",
    "best_model = tuner.get_best_models(num_models=1)[0]\n",
    "\n",
    "# Evaluate the best model.\n",
    "#loss, accuracy = best_model.evaluate(x_val_single, y_val_single)"
   ]
  },
  {
   "cell_type": "markdown",
   "metadata": {},
   "source": [
    "#  Random Search"
   ]
  },
  {
   "cell_type": "code",
   "execution_count": null,
   "metadata": {},
   "outputs": [],
   "source": []
  },
  {
   "cell_type": "code",
   "execution_count": 26,
   "metadata": {
    "scrolled": true
   },
   "outputs": [
    {
     "name": "stdout",
     "output_type": "stream",
     "text": [
      "INFO:tensorflow:Reloading Oracle from existing project random_search\\helloworld_random\\oracle.json\n",
      "Train on 299280 samples, validate on 119759 samples\n",
      "Epoch 1/2\n"
     ]
    },
    {
     "name": "stdout",
     "output_type": "stream",
     "text": [
      " 38112/299280 [==>...........................] - ETA: 4:29:50 - loss: 0.6057 - mae: 0.60 - ETA: 39:48 - loss: 0.6802 - mae: 0.6802 - ETA: 22:06 - loss: 0.6551 - mae: 0.65 - ETA: 15:34 - loss: 0.6395 - mae: 0.63 - ETA: 12:39 - loss: 0.6189 - mae: 0.61 - ETA: 10:25 - loss: 0.6016 - mae: 0.60 - ETA: 8:55 - loss: 0.5873 - mae: 0.5873 - ETA: 7:51 - loss: 0.5750 - mae: 0.575 - ETA: 7:02 - loss: 0.5577 - mae: 0.557 - ETA: 6:25 - loss: 0.5458 - mae: 0.545 - ETA: 6:00 - loss: 0.5351 - mae: 0.535 - ETA: 5:35 - loss: 0.5246 - mae: 0.524 - ETA: 5:14 - loss: 0.5162 - mae: 0.516 - ETA: 4:57 - loss: 0.5080 - mae: 0.508 - ETA: 4:41 - loss: 0.4980 - mae: 0.498 - ETA: 4:28 - loss: 0.4887 - mae: 0.488 - ETA: 4:16 - loss: 0.4806 - mae: 0.480 - ETA: 4:06 - loss: 0.4741 - mae: 0.474 - ETA: 3:57 - loss: 0.4695 - mae: 0.469 - ETA: 3:49 - loss: 0.4645 - mae: 0.464 - ETA: 3:42 - loss: 0.4597 - mae: 0.459 - ETA: 3:35 - loss: 0.4552 - mae: 0.455 - ETA: 3:29 - loss: 0.4502 - mae: 0.450 - ETA: 3:23 - loss: 0.4472 - mae: 0.447 - ETA: 3:18 - loss: 0.4433 - mae: 0.443 - ETA: 3:14 - loss: 0.4401 - mae: 0.440 - ETA: 3:10 - loss: 0.4361 - mae: 0.436 - ETA: 3:06 - loss: 0.4340 - mae: 0.434 - ETA: 3:03 - loss: 0.4313 - mae: 0.431 - ETA: 3:00 - loss: 0.4288 - mae: 0.428 - ETA: 2:57 - loss: 0.4265 - mae: 0.426 - ETA: 2:54 - loss: 0.4236 - mae: 0.423 - ETA: 2:51 - loss: 0.4212 - mae: 0.421 - ETA: 2:48 - loss: 0.4204 - mae: 0.420 - ETA: 2:46 - loss: 0.4171 - mae: 0.417 - ETA: 2:43 - loss: 0.4160 - mae: 0.416 - ETA: 2:41 - loss: 0.4133 - mae: 0.413 - ETA: 2:39 - loss: 0.4119 - mae: 0.411 - ETA: 2:37 - loss: 0.4105 - mae: 0.410 - ETA: 2:35 - loss: 0.4086 - mae: 0.408 - ETA: 2:33 - loss: 0.4063 - mae: 0.406 - ETA: 2:31 - loss: 0.4037 - mae: 0.403 - ETA: 2:29 - loss: 0.4025 - mae: 0.402 - ETA: 2:28 - loss: 0.4007 - mae: 0.400 - ETA: 2:26 - loss: 0.3992 - mae: 0.399 - ETA: 2:25 - loss: 0.3980 - mae: 0.398 - ETA: 2:23 - loss: 0.3970 - mae: 0.397 - ETA: 2:22 - loss: 0.3956 - mae: 0.395 - ETA: 2:21 - loss: 0.3934 - mae: 0.393 - ETA: 2:20 - loss: 0.3926 - mae: 0.392 - ETA: 2:19 - loss: 0.3913 - mae: 0.391 - ETA: 2:17 - loss: 0.3898 - mae: 0.389 - ETA: 2:16 - loss: 0.3886 - mae: 0.388 - ETA: 2:15 - loss: 0.3872 - mae: 0.387 - ETA: 2:14 - loss: 0.3862 - mae: 0.386 - ETA: 2:13 - loss: 0.3853 - mae: 0.385 - ETA: 2:12 - loss: 0.3846 - mae: 0.384 - ETA: 2:11 - loss: 0.3837 - mae: 0.383 - ETA: 2:10 - loss: 0.3831 - mae: 0.383 - ETA: 2:09 - loss: 0.3823 - mae: 0.382 - ETA: 2:09 - loss: 0.3810 - mae: 0.381 - ETA: 2:08 - loss: 0.3797 - mae: 0.379 - ETA: 2:07 - loss: 0.3792 - mae: 0.379 - ETA: 2:06 - loss: 0.3782 - mae: 0.378 - ETA: 2:05 - loss: 0.3776 - mae: 0.377 - ETA: 2:05 - loss: 0.3772 - mae: 0.377 - ETA: 2:04 - loss: 0.3760 - mae: 0.376 - ETA: 2:03 - loss: 0.3751 - mae: 0.375 - ETA: 2:03 - loss: 0.3738 - mae: 0.373 - ETA: 2:02 - loss: 0.3729 - mae: 0.372 - ETA: 2:02 - loss: 0.3728 - mae: 0.372 - ETA: 2:02 - loss: 0.3721 - mae: 0.372 - ETA: 2:01 - loss: 0.3710 - mae: 0.371 - ETA: 2:01 - loss: 0.3704 - mae: 0.370 - ETA: 2:00 - loss: 0.3700 - mae: 0.370 - ETA: 2:00 - loss: 0.3692 - mae: 0.369 - ETA: 1:59 - loss: 0.3685 - mae: 0.368 - ETA: 1:58 - loss: 0.3674 - mae: 0.367 - ETA: 1:58 - loss: 0.3663 - mae: 0.366 - ETA: 1:57 - loss: 0.3654 - mae: 0.365 - ETA: 1:57 - loss: 0.3647 - mae: 0.364 - ETA: 1:56 - loss: 0.3640 - mae: 0.364 - ETA: 1:56 - loss: 0.3634 - mae: 0.363 - ETA: 1:55 - loss: 0.3629 - mae: 0.362 - ETA: 1:55 - loss: 0.3621 - mae: 0.362 - ETA: 1:55 - loss: 0.3615 - mae: 0.361 - ETA: 1:54 - loss: 0.3608 - mae: 0.360 - ETA: 1:54 - loss: 0.3601 - mae: 0.360 - ETA: 1:53 - loss: 0.3598 - mae: 0.359 - ETA: 1:53 - loss: 0.3592 - mae: 0.359 - ETA: 1:52 - loss: 0.3580 - mae: 0.358 - ETA: 1:52 - loss: 0.3575 - mae: 0.357 - ETA: 1:52 - loss: 0.3567 - mae: 0.356 - ETA: 1:51 - loss: 0.3556 - mae: 0.355 - ETA: 1:51 - loss: 0.3551 - mae: 0.355 - ETA: 1:51 - loss: 0.3543 - mae: 0.354 - ETA: 1:50 - loss: 0.3538 - mae: 0.353 - ETA: 1:50 - loss: 0.3531 - mae: 0.353 - ETA: 1:50 - loss: 0.3525 - mae: 0.352 - ETA: 1:50 - loss: 0.3519 - mae: 0.351 - ETA: 1:49 - loss: 0.3515 - mae: 0.351 - ETA: 1:49 - loss: 0.3508 - mae: 0.350 - ETA: 1:49 - loss: 0.3503 - mae: 0.350 - ETA: 1:49 - loss: 0.3498 - mae: 0.349 - ETA: 1:49 - loss: 0.3492 - mae: 0.349 - ETA: 1:48 - loss: 0.3485 - mae: 0.348 - ETA: 1:48 - loss: 0.3481 - mae: 0.348 - ETA: 1:48 - loss: 0.3475 - mae: 0.347 - ETA: 1:47 - loss: 0.3468 - mae: 0.346 - ETA: 1:47 - loss: 0.3464 - mae: 0.346 - ETA: 1:47 - loss: 0.3458 - mae: 0.345 - ETA: 1:46 - loss: 0.3452 - mae: 0.345 - ETA: 1:46 - loss: 0.3448 - mae: 0.344 - ETA: 1:46 - loss: 0.3442 - mae: 0.344 - ETA: 1:45 - loss: 0.3436 - mae: 0.343 - ETA: 1:45 - loss: 0.3432 - mae: 0.343 - ETA: 1:45 - loss: 0.3427 - mae: 0.342 - ETA: 1:45 - loss: 0.3423 - mae: 0.342 - ETA: 1:44 - loss: 0.3417 - mae: 0.341 - ETA: 1:44 - loss: 0.3415 - mae: 0.341 - ETA: 1:44 - loss: 0.3411 - mae: 0.341 - ETA: 1:44 - loss: 0.3407 - mae: 0.340 - ETA: 1:43 - loss: 0.3406 - mae: 0.340 - ETA: 1:43 - loss: 0.3400 - mae: 0.340 - ETA: 1:43 - loss: 0.3396 - mae: 0.339 - ETA: 1:43 - loss: 0.3392 - mae: 0.339 - ETA: 1:42 - loss: 0.3390 - mae: 0.339 - ETA: 1:42 - loss: 0.3386 - mae: 0.338 - ETA: 1:42 - loss: 0.3381 - mae: 0.338 - ETA: 1:42 - loss: 0.3377 - mae: 0.337 - ETA: 1:41 - loss: 0.3373 - mae: 0.337 - ETA: 1:41 - loss: 0.3367 - mae: 0.336 - ETA: 1:41 - loss: 0.3364 - mae: 0.336 - ETA: 1:41 - loss: 0.3361 - mae: 0.336 - ETA: 1:40 - loss: 0.3354 - mae: 0.335 - ETA: 1:40 - loss: 0.3351 - mae: 0.335 - ETA: 1:40 - loss: 0.3346 - mae: 0.334 - ETA: 1:40 - loss: 0.3346 - mae: 0.334 - ETA: 1:40 - loss: 0.3343 - mae: 0.334 - ETA: 1:39 - loss: 0.3340 - mae: 0.334 - ETA: 1:39 - loss: 0.3336 - mae: 0.333 - ETA: 1:39 - loss: 0.3333 - mae: 0.333 - ETA: 1:39 - loss: 0.3332 - mae: 0.333 - ETA: 1:39 - loss: 0.3329 - mae: 0.332 - ETA: 1:38 - loss: 0.3325 - mae: 0.332 - ETA: 1:38 - loss: 0.3322 - mae: 0.332 - ETA: 1:38 - loss: 0.3318 - mae: 0.331 - ETA: 1:38 - loss: 0.3315 - mae: 0.331 - ETA: 1:38 - loss: 0.3312 - mae: 0.331 - ETA: 1:37 - loss: 0.3309 - mae: 0.330 - ETA: 1:37 - loss: 0.3306 - mae: 0.330 - ETA: 1:37 - loss: 0.3303 - mae: 0.330 - ETA: 1:37 - loss: 0.3298 - mae: 0.329 - ETA: 1:37 - loss: 0.3292 - mae: 0.329 - ETA: 1:36 - loss: 0.3290 - mae: 0.329 - ETA: 1:36 - loss: 0.3288 - mae: 0.328 - ETA: 1:36 - loss: 0.3286 - mae: 0.328 - ETA: 1:36 - loss: 0.3284 - mae: 0.328 - ETA: 1:36 - loss: 0.3282 - mae: 0.328 - ETA: 1:36 - loss: 0.3280 - mae: 0.328 - ETA: 1:35 - loss: 0.3277 - mae: 0.327 - ETA: 1:35 - loss: 0.3275 - mae: 0.327 - ETA: 1:35 - loss: 0.3272 - mae: 0.327 - ETA: 1:35 - loss: 0.3270 - mae: 0.327 - ETA: 1:35 - loss: 0.3267 - mae: 0.326 - ETA: 1:35 - loss: 0.3264 - mae: 0.326 - ETA: 1:34 - loss: 0.3258 - mae: 0.325 - ETA: 1:34 - loss: 0.3255 - mae: 0.325 - ETA: 1:34 - loss: 0.3252 - mae: 0.325 - ETA: 1:34 - loss: 0.3251 - mae: 0.325 - ETA: 1:34 - loss: 0.3249 - mae: 0.324 - ETA: 1:34 - loss: 0.3245 - mae: 0.324 - ETA: 1:33 - loss: 0.3242 - mae: 0.324 - ETA: 1:33 - loss: 0.3239 - mae: 0.323 - ETA: 1:33 - loss: 0.3237 - mae: 0.323 - ETA: 1:33 - loss: 0.3235 - mae: 0.323 - ETA: 1:33 - loss: 0.3232 - mae: 0.323 - ETA: 1:33 - loss: 0.3230 - mae: 0.323 - ETA: 1:33 - loss: 0.3228 - mae: 0.322 - ETA: 1:32 - loss: 0.3226 - mae: 0.322 - ETA: 1:32 - loss: 0.3224 - mae: 0.322 - ETA: 1:32 - loss: 0.3221 - mae: 0.322 - ETA: 1:32 - loss: 0.3218 - mae: 0.321 - ETA: 1:32 - loss: 0.3218 - mae: 0.321 - ETA: 1:32 - loss: 0.3216 - mae: 0.321 - ETA: 1:32 - loss: 0.3216 - mae: 0.321 - ETA: 1:31 - loss: 0.3215 - mae: 0.321 - ETA: 1:31 - loss: 0.3212 - mae: 0.321 - ETA: 1:31 - loss: 0.3210 - mae: 0.321 - ETA: 1:31 - loss: 0.3209 - mae: 0.320 - ETA: 1:31 - loss: 0.3209 - mae: 0.320 - ETA: 1:31 - loss: 0.3205 - mae: 0.320 - ETA: 1:31 - loss: 0.3203 - mae: 0.320 - ETA: 1:30 - loss: 0.3201 - mae: 0.320 - ETA: 1:30 - loss: 0.3199 - mae: 0.319 - ETA: 1:30 - loss: 0.3197 - mae: 0.319 - ETA: 1:30 - loss: 0.3196 - mae: 0.319 - ETA: 1:30 - loss: 0.3195 - mae: 0.319 - ETA: 1:30 - loss: 0.3194 - mae: 0.319 - ETA: 1:30 - loss: 0.3191 - mae: 0.319 - ETA: 1:30 - loss: 0.3189 - mae: 0.318 - ETA: 1:29 - loss: 0.3187 - mae: 0.318 - ETA: 1:29 - loss: 0.3184 - mae: 0.318 - ETA: 1:29 - loss: 0.3182 - mae: 0.3182"
     ]
    },
    {
     "name": "stdout",
     "output_type": "stream",
     "text": [
      " 76640/299280 [======>.......................] - ETA: 1:29 - loss: 0.3178 - mae: 0.317 - ETA: 1:29 - loss: 0.3177 - mae: 0.317 - ETA: 1:29 - loss: 0.3175 - mae: 0.317 - ETA: 1:29 - loss: 0.3174 - mae: 0.317 - ETA: 1:28 - loss: 0.3171 - mae: 0.317 - ETA: 1:28 - loss: 0.3170 - mae: 0.317 - ETA: 1:28 - loss: 0.3168 - mae: 0.316 - ETA: 1:28 - loss: 0.3165 - mae: 0.316 - ETA: 1:28 - loss: 0.3165 - mae: 0.316 - ETA: 1:28 - loss: 0.3163 - mae: 0.316 - ETA: 1:28 - loss: 0.3161 - mae: 0.316 - ETA: 1:28 - loss: 0.3159 - mae: 0.315 - ETA: 1:27 - loss: 0.3157 - mae: 0.315 - ETA: 1:27 - loss: 0.3155 - mae: 0.315 - ETA: 1:27 - loss: 0.3153 - mae: 0.315 - ETA: 1:27 - loss: 0.3153 - mae: 0.315 - ETA: 1:27 - loss: 0.3151 - mae: 0.315 - ETA: 1:27 - loss: 0.3149 - mae: 0.314 - ETA: 1:27 - loss: 0.3148 - mae: 0.314 - ETA: 1:27 - loss: 0.3147 - mae: 0.314 - ETA: 1:26 - loss: 0.3145 - mae: 0.314 - ETA: 1:26 - loss: 0.3145 - mae: 0.314 - ETA: 1:26 - loss: 0.3142 - mae: 0.314 - ETA: 1:26 - loss: 0.3139 - mae: 0.313 - ETA: 1:26 - loss: 0.3138 - mae: 0.313 - ETA: 1:26 - loss: 0.3135 - mae: 0.313 - ETA: 1:26 - loss: 0.3134 - mae: 0.313 - ETA: 1:26 - loss: 0.3132 - mae: 0.313 - ETA: 1:26 - loss: 0.3130 - mae: 0.313 - ETA: 1:25 - loss: 0.3128 - mae: 0.312 - ETA: 1:25 - loss: 0.3126 - mae: 0.312 - ETA: 1:25 - loss: 0.3123 - mae: 0.312 - ETA: 1:25 - loss: 0.3123 - mae: 0.312 - ETA: 1:25 - loss: 0.3120 - mae: 0.312 - ETA: 1:25 - loss: 0.3120 - mae: 0.312 - ETA: 1:25 - loss: 0.3118 - mae: 0.311 - ETA: 1:25 - loss: 0.3118 - mae: 0.311 - ETA: 1:25 - loss: 0.3115 - mae: 0.311 - ETA: 1:24 - loss: 0.3112 - mae: 0.311 - ETA: 1:24 - loss: 0.3111 - mae: 0.311 - ETA: 1:24 - loss: 0.3110 - mae: 0.311 - ETA: 1:24 - loss: 0.3108 - mae: 0.310 - ETA: 1:24 - loss: 0.3106 - mae: 0.310 - ETA: 1:24 - loss: 0.3105 - mae: 0.310 - ETA: 1:24 - loss: 0.3102 - mae: 0.310 - ETA: 1:24 - loss: 0.3100 - mae: 0.310 - ETA: 1:24 - loss: 0.3100 - mae: 0.310 - ETA: 1:24 - loss: 0.3098 - mae: 0.309 - ETA: 1:23 - loss: 0.3097 - mae: 0.309 - ETA: 1:23 - loss: 0.3095 - mae: 0.309 - ETA: 1:23 - loss: 0.3094 - mae: 0.309 - ETA: 1:23 - loss: 0.3093 - mae: 0.309 - ETA: 1:23 - loss: 0.3092 - mae: 0.309 - ETA: 1:23 - loss: 0.3090 - mae: 0.309 - ETA: 1:23 - loss: 0.3088 - mae: 0.308 - ETA: 1:23 - loss: 0.3086 - mae: 0.308 - ETA: 1:23 - loss: 0.3085 - mae: 0.308 - ETA: 1:23 - loss: 0.3083 - mae: 0.308 - ETA: 1:22 - loss: 0.3082 - mae: 0.308 - ETA: 1:22 - loss: 0.3081 - mae: 0.308 - ETA: 1:22 - loss: 0.3081 - mae: 0.308 - ETA: 1:22 - loss: 0.3080 - mae: 0.308 - ETA: 1:22 - loss: 0.3079 - mae: 0.307 - ETA: 1:22 - loss: 0.3079 - mae: 0.307 - ETA: 1:22 - loss: 0.3077 - mae: 0.307 - ETA: 1:22 - loss: 0.3076 - mae: 0.307 - ETA: 1:22 - loss: 0.3076 - mae: 0.307 - ETA: 1:22 - loss: 0.3075 - mae: 0.307 - ETA: 1:22 - loss: 0.3074 - mae: 0.307 - ETA: 1:21 - loss: 0.3073 - mae: 0.307 - ETA: 1:21 - loss: 0.3071 - mae: 0.307 - ETA: 1:21 - loss: 0.3071 - mae: 0.307 - ETA: 1:21 - loss: 0.3070 - mae: 0.307 - ETA: 1:21 - loss: 0.3069 - mae: 0.306 - ETA: 1:21 - loss: 0.3068 - mae: 0.306 - ETA: 1:21 - loss: 0.3066 - mae: 0.306 - ETA: 1:21 - loss: 0.3065 - mae: 0.306 - ETA: 1:21 - loss: 0.3065 - mae: 0.306 - ETA: 1:21 - loss: 0.3064 - mae: 0.306 - ETA: 1:20 - loss: 0.3064 - mae: 0.306 - ETA: 1:20 - loss: 0.3063 - mae: 0.306 - ETA: 1:20 - loss: 0.3062 - mae: 0.306 - ETA: 1:20 - loss: 0.3061 - mae: 0.306 - ETA: 1:20 - loss: 0.3059 - mae: 0.305 - ETA: 1:20 - loss: 0.3058 - mae: 0.305 - ETA: 1:20 - loss: 0.3056 - mae: 0.305 - ETA: 1:20 - loss: 0.3055 - mae: 0.305 - ETA: 1:20 - loss: 0.3054 - mae: 0.305 - ETA: 1:20 - loss: 0.3054 - mae: 0.305 - ETA: 1:20 - loss: 0.3053 - mae: 0.305 - ETA: 1:20 - loss: 0.3052 - mae: 0.305 - ETA: 1:19 - loss: 0.3050 - mae: 0.305 - ETA: 1:19 - loss: 0.3050 - mae: 0.305 - ETA: 1:19 - loss: 0.3049 - mae: 0.304 - ETA: 1:19 - loss: 0.3049 - mae: 0.304 - ETA: 1:19 - loss: 0.3048 - mae: 0.304 - ETA: 1:19 - loss: 0.3046 - mae: 0.304 - ETA: 1:19 - loss: 0.3045 - mae: 0.304 - ETA: 1:19 - loss: 0.3044 - mae: 0.304 - ETA: 1:19 - loss: 0.3043 - mae: 0.304 - ETA: 1:19 - loss: 0.3041 - mae: 0.304 - ETA: 1:19 - loss: 0.3042 - mae: 0.304 - ETA: 1:19 - loss: 0.3041 - mae: 0.304 - ETA: 1:19 - loss: 0.3040 - mae: 0.304 - ETA: 1:18 - loss: 0.3039 - mae: 0.303 - ETA: 1:18 - loss: 0.3039 - mae: 0.303 - ETA: 1:18 - loss: 0.3038 - mae: 0.303 - ETA: 1:18 - loss: 0.3038 - mae: 0.303 - ETA: 1:18 - loss: 0.3037 - mae: 0.303 - ETA: 1:18 - loss: 0.3035 - mae: 0.303 - ETA: 1:18 - loss: 0.3033 - mae: 0.303 - ETA: 1:18 - loss: 0.3032 - mae: 0.303 - ETA: 1:18 - loss: 0.3031 - mae: 0.303 - ETA: 1:18 - loss: 0.3031 - mae: 0.303 - ETA: 1:18 - loss: 0.3030 - mae: 0.303 - ETA: 1:18 - loss: 0.3030 - mae: 0.303 - ETA: 1:17 - loss: 0.3029 - mae: 0.302 - ETA: 1:17 - loss: 0.3028 - mae: 0.302 - ETA: 1:17 - loss: 0.3027 - mae: 0.302 - ETA: 1:17 - loss: 0.3026 - mae: 0.302 - ETA: 1:17 - loss: 0.3024 - mae: 0.302 - ETA: 1:17 - loss: 0.3023 - mae: 0.302 - ETA: 1:17 - loss: 0.3022 - mae: 0.302 - ETA: 1:17 - loss: 0.3021 - mae: 0.302 - ETA: 1:17 - loss: 0.3019 - mae: 0.301 - ETA: 1:17 - loss: 0.3018 - mae: 0.301 - ETA: 1:17 - loss: 0.3018 - mae: 0.301 - ETA: 1:17 - loss: 0.3016 - mae: 0.301 - ETA: 1:16 - loss: 0.3016 - mae: 0.301 - ETA: 1:16 - loss: 0.3015 - mae: 0.301 - ETA: 1:16 - loss: 0.3014 - mae: 0.301 - ETA: 1:16 - loss: 0.3013 - mae: 0.301 - ETA: 1:16 - loss: 0.3012 - mae: 0.301 - ETA: 1:16 - loss: 0.3011 - mae: 0.301 - ETA: 1:16 - loss: 0.3010 - mae: 0.301 - ETA: 1:16 - loss: 0.3009 - mae: 0.300 - ETA: 1:16 - loss: 0.3008 - mae: 0.300 - ETA: 1:16 - loss: 0.3007 - mae: 0.300 - ETA: 1:16 - loss: 0.3006 - mae: 0.300 - ETA: 1:16 - loss: 0.3005 - mae: 0.300 - ETA: 1:15 - loss: 0.3005 - mae: 0.300 - ETA: 1:15 - loss: 0.3004 - mae: 0.300 - ETA: 1:15 - loss: 0.3003 - mae: 0.300 - ETA: 1:15 - loss: 0.3001 - mae: 0.300 - ETA: 1:15 - loss: 0.3001 - mae: 0.300 - ETA: 1:15 - loss: 0.3001 - mae: 0.300 - ETA: 1:15 - loss: 0.3000 - mae: 0.300 - ETA: 1:15 - loss: 0.2999 - mae: 0.299 - ETA: 1:15 - loss: 0.2997 - mae: 0.299 - ETA: 1:15 - loss: 0.2996 - mae: 0.299 - ETA: 1:15 - loss: 0.2995 - mae: 0.299 - ETA: 1:14 - loss: 0.2994 - mae: 0.299 - ETA: 1:14 - loss: 0.2993 - mae: 0.299 - ETA: 1:14 - loss: 0.2991 - mae: 0.299 - ETA: 1:14 - loss: 0.2991 - mae: 0.299 - ETA: 1:14 - loss: 0.2990 - mae: 0.299 - ETA: 1:14 - loss: 0.2990 - mae: 0.299 - ETA: 1:14 - loss: 0.2989 - mae: 0.298 - ETA: 1:14 - loss: 0.2988 - mae: 0.298 - ETA: 1:14 - loss: 0.2988 - mae: 0.298 - ETA: 1:14 - loss: 0.2987 - mae: 0.298 - ETA: 1:14 - loss: 0.2986 - mae: 0.298 - ETA: 1:14 - loss: 0.2986 - mae: 0.298 - ETA: 1:14 - loss: 0.2985 - mae: 0.298 - ETA: 1:13 - loss: 0.2984 - mae: 0.298 - ETA: 1:13 - loss: 0.2982 - mae: 0.298 - ETA: 1:13 - loss: 0.2982 - mae: 0.298 - ETA: 1:13 - loss: 0.2981 - mae: 0.298 - ETA: 1:13 - loss: 0.2981 - mae: 0.298 - ETA: 1:13 - loss: 0.2979 - mae: 0.297 - ETA: 1:13 - loss: 0.2978 - mae: 0.297 - ETA: 1:13 - loss: 0.2977 - mae: 0.297 - ETA: 1:13 - loss: 0.2976 - mae: 0.297 - ETA: 1:13 - loss: 0.2974 - mae: 0.297 - ETA: 1:13 - loss: 0.2973 - mae: 0.297 - ETA: 1:13 - loss: 0.2973 - mae: 0.297 - ETA: 1:13 - loss: 0.2973 - mae: 0.297 - ETA: 1:12 - loss: 0.2971 - mae: 0.297 - ETA: 1:12 - loss: 0.2971 - mae: 0.297 - ETA: 1:12 - loss: 0.2971 - mae: 0.297 - ETA: 1:12 - loss: 0.2970 - mae: 0.297 - ETA: 1:12 - loss: 0.2969 - mae: 0.296 - ETA: 1:12 - loss: 0.2968 - mae: 0.296 - ETA: 1:12 - loss: 0.2966 - mae: 0.296 - ETA: 1:12 - loss: 0.2966 - mae: 0.296 - ETA: 1:12 - loss: 0.2965 - mae: 0.296 - ETA: 1:12 - loss: 0.2964 - mae: 0.296 - ETA: 1:12 - loss: 0.2964 - mae: 0.296 - ETA: 1:12 - loss: 0.2963 - mae: 0.296 - ETA: 1:12 - loss: 0.2962 - mae: 0.296 - ETA: 1:11 - loss: 0.2962 - mae: 0.296 - ETA: 1:11 - loss: 0.2962 - mae: 0.296 - ETA: 1:11 - loss: 0.2961 - mae: 0.296 - ETA: 1:11 - loss: 0.2961 - mae: 0.296 - ETA: 1:11 - loss: 0.2961 - mae: 0.296 - ETA: 1:11 - loss: 0.2960 - mae: 0.296 - ETA: 1:11 - loss: 0.2960 - mae: 0.296 - ETA: 1:11 - loss: 0.2959 - mae: 0.295 - ETA: 1:11 - loss: 0.2958 - mae: 0.295 - ETA: 1:11 - loss: 0.2958 - mae: 0.295 - ETA: 1:11 - loss: 0.2957 - mae: 0.295 - ETA: 1:11 - loss: 0.2956 - mae: 0.295 - ETA: 1:11 - loss: 0.2955 - mae: 0.295 - ETA: 1:10 - loss: 0.2954 - mae: 0.2954"
     ]
    },
    {
     "name": "stdout",
     "output_type": "stream",
     "text": [
      "116288/299280 [==========>...................] - ETA: 1:10 - loss: 0.2954 - mae: 0.295 - ETA: 1:10 - loss: 0.2952 - mae: 0.295 - ETA: 1:10 - loss: 0.2952 - mae: 0.295 - ETA: 1:10 - loss: 0.2951 - mae: 0.295 - ETA: 1:10 - loss: 0.2950 - mae: 0.295 - ETA: 1:10 - loss: 0.2950 - mae: 0.295 - ETA: 1:10 - loss: 0.2949 - mae: 0.294 - ETA: 1:10 - loss: 0.2948 - mae: 0.294 - ETA: 1:10 - loss: 0.2947 - mae: 0.294 - ETA: 1:10 - loss: 0.2946 - mae: 0.294 - ETA: 1:10 - loss: 0.2946 - mae: 0.294 - ETA: 1:10 - loss: 0.2945 - mae: 0.294 - ETA: 1:09 - loss: 0.2944 - mae: 0.294 - ETA: 1:09 - loss: 0.2944 - mae: 0.294 - ETA: 1:09 - loss: 0.2943 - mae: 0.294 - ETA: 1:09 - loss: 0.2942 - mae: 0.294 - ETA: 1:09 - loss: 0.2942 - mae: 0.294 - ETA: 1:09 - loss: 0.2942 - mae: 0.294 - ETA: 1:09 - loss: 0.2940 - mae: 0.294 - ETA: 1:09 - loss: 0.2940 - mae: 0.294 - ETA: 1:09 - loss: 0.2939 - mae: 0.293 - ETA: 1:09 - loss: 0.2938 - mae: 0.293 - ETA: 1:09 - loss: 0.2937 - mae: 0.293 - ETA: 1:09 - loss: 0.2936 - mae: 0.293 - ETA: 1:09 - loss: 0.2935 - mae: 0.293 - ETA: 1:08 - loss: 0.2934 - mae: 0.293 - ETA: 1:08 - loss: 0.2934 - mae: 0.293 - ETA: 1:08 - loss: 0.2934 - mae: 0.293 - ETA: 1:08 - loss: 0.2932 - mae: 0.293 - ETA: 1:08 - loss: 0.2932 - mae: 0.293 - ETA: 1:08 - loss: 0.2931 - mae: 0.293 - ETA: 1:08 - loss: 0.2931 - mae: 0.293 - ETA: 1:08 - loss: 0.2930 - mae: 0.293 - ETA: 1:08 - loss: 0.2929 - mae: 0.292 - ETA: 1:08 - loss: 0.2929 - mae: 0.292 - ETA: 1:08 - loss: 0.2928 - mae: 0.292 - ETA: 1:08 - loss: 0.2928 - mae: 0.292 - ETA: 1:08 - loss: 0.2927 - mae: 0.292 - ETA: 1:08 - loss: 0.2927 - mae: 0.292 - ETA: 1:07 - loss: 0.2925 - mae: 0.292 - ETA: 1:07 - loss: 0.2925 - mae: 0.292 - ETA: 1:07 - loss: 0.2924 - mae: 0.292 - ETA: 1:07 - loss: 0.2924 - mae: 0.292 - ETA: 1:07 - loss: 0.2922 - mae: 0.292 - ETA: 1:07 - loss: 0.2921 - mae: 0.292 - ETA: 1:07 - loss: 0.2921 - mae: 0.292 - ETA: 1:07 - loss: 0.2920 - mae: 0.292 - ETA: 1:07 - loss: 0.2919 - mae: 0.291 - ETA: 1:07 - loss: 0.2919 - mae: 0.291 - ETA: 1:07 - loss: 0.2918 - mae: 0.291 - ETA: 1:07 - loss: 0.2917 - mae: 0.291 - ETA: 1:07 - loss: 0.2917 - mae: 0.291 - ETA: 1:07 - loss: 0.2917 - mae: 0.291 - ETA: 1:06 - loss: 0.2917 - mae: 0.291 - ETA: 1:06 - loss: 0.2916 - mae: 0.291 - ETA: 1:06 - loss: 0.2916 - mae: 0.291 - ETA: 1:06 - loss: 0.2915 - mae: 0.291 - ETA: 1:06 - loss: 0.2915 - mae: 0.291 - ETA: 1:06 - loss: 0.2914 - mae: 0.291 - ETA: 1:06 - loss: 0.2913 - mae: 0.291 - ETA: 1:06 - loss: 0.2912 - mae: 0.291 - ETA: 1:06 - loss: 0.2911 - mae: 0.291 - ETA: 1:06 - loss: 0.2911 - mae: 0.291 - ETA: 1:06 - loss: 0.2911 - mae: 0.291 - ETA: 1:06 - loss: 0.2910 - mae: 0.291 - ETA: 1:06 - loss: 0.2908 - mae: 0.290 - ETA: 1:06 - loss: 0.2907 - mae: 0.290 - ETA: 1:05 - loss: 0.2906 - mae: 0.290 - ETA: 1:05 - loss: 0.2906 - mae: 0.290 - ETA: 1:05 - loss: 0.2906 - mae: 0.290 - ETA: 1:05 - loss: 0.2906 - mae: 0.290 - ETA: 1:05 - loss: 0.2905 - mae: 0.290 - ETA: 1:05 - loss: 0.2904 - mae: 0.290 - ETA: 1:05 - loss: 0.2903 - mae: 0.290 - ETA: 1:05 - loss: 0.2902 - mae: 0.290 - ETA: 1:05 - loss: 0.2901 - mae: 0.290 - ETA: 1:05 - loss: 0.2900 - mae: 0.290 - ETA: 1:05 - loss: 0.2900 - mae: 0.290 - ETA: 1:05 - loss: 0.2899 - mae: 0.289 - ETA: 1:05 - loss: 0.2899 - mae: 0.289 - ETA: 1:05 - loss: 0.2898 - mae: 0.289 - ETA: 1:05 - loss: 0.2898 - mae: 0.289 - ETA: 1:04 - loss: 0.2897 - mae: 0.289 - ETA: 1:04 - loss: 0.2896 - mae: 0.289 - ETA: 1:04 - loss: 0.2896 - mae: 0.289 - ETA: 1:04 - loss: 0.2896 - mae: 0.289 - ETA: 1:04 - loss: 0.2896 - mae: 0.289 - ETA: 1:04 - loss: 0.2895 - mae: 0.289 - ETA: 1:04 - loss: 0.2895 - mae: 0.289 - ETA: 1:04 - loss: 0.2894 - mae: 0.289 - ETA: 1:04 - loss: 0.2892 - mae: 0.289 - ETA: 1:04 - loss: 0.2892 - mae: 0.289 - ETA: 1:04 - loss: 0.2891 - mae: 0.289 - ETA: 1:04 - loss: 0.2891 - mae: 0.289 - ETA: 1:04 - loss: 0.2890 - mae: 0.289 - ETA: 1:04 - loss: 0.2890 - mae: 0.289 - ETA: 1:03 - loss: 0.2890 - mae: 0.289 - ETA: 1:03 - loss: 0.2889 - mae: 0.288 - ETA: 1:03 - loss: 0.2889 - mae: 0.288 - ETA: 1:03 - loss: 0.2888 - mae: 0.288 - ETA: 1:03 - loss: 0.2887 - mae: 0.288 - ETA: 1:03 - loss: 0.2886 - mae: 0.288 - ETA: 1:03 - loss: 0.2886 - mae: 0.288 - ETA: 1:03 - loss: 0.2886 - mae: 0.288 - ETA: 1:03 - loss: 0.2886 - mae: 0.288 - ETA: 1:03 - loss: 0.2885 - mae: 0.288 - ETA: 1:03 - loss: 0.2884 - mae: 0.288 - ETA: 1:03 - loss: 0.2883 - mae: 0.288 - ETA: 1:03 - loss: 0.2883 - mae: 0.288 - ETA: 1:03 - loss: 0.2882 - mae: 0.288 - ETA: 1:03 - loss: 0.2881 - mae: 0.288 - ETA: 1:02 - loss: 0.2881 - mae: 0.288 - ETA: 1:02 - loss: 0.2880 - mae: 0.288 - ETA: 1:02 - loss: 0.2880 - mae: 0.288 - ETA: 1:02 - loss: 0.2879 - mae: 0.287 - ETA: 1:02 - loss: 0.2878 - mae: 0.287 - ETA: 1:02 - loss: 0.2878 - mae: 0.287 - ETA: 1:02 - loss: 0.2877 - mae: 0.287 - ETA: 1:02 - loss: 0.2877 - mae: 0.287 - ETA: 1:02 - loss: 0.2876 - mae: 0.287 - ETA: 1:02 - loss: 0.2875 - mae: 0.287 - ETA: 1:02 - loss: 0.2875 - mae: 0.287 - ETA: 1:02 - loss: 0.2874 - mae: 0.287 - ETA: 1:02 - loss: 0.2874 - mae: 0.287 - ETA: 1:02 - loss: 0.2874 - mae: 0.287 - ETA: 1:02 - loss: 0.2873 - mae: 0.287 - ETA: 1:01 - loss: 0.2872 - mae: 0.287 - ETA: 1:01 - loss: 0.2872 - mae: 0.287 - ETA: 1:01 - loss: 0.2872 - mae: 0.287 - ETA: 1:01 - loss: 0.2871 - mae: 0.287 - ETA: 1:01 - loss: 0.2870 - mae: 0.287 - ETA: 1:01 - loss: 0.2870 - mae: 0.287 - ETA: 1:01 - loss: 0.2869 - mae: 0.286 - ETA: 1:01 - loss: 0.2869 - mae: 0.286 - ETA: 1:01 - loss: 0.2869 - mae: 0.286 - ETA: 1:01 - loss: 0.2868 - mae: 0.286 - ETA: 1:01 - loss: 0.2867 - mae: 0.286 - ETA: 1:01 - loss: 0.2867 - mae: 0.286 - ETA: 1:01 - loss: 0.2866 - mae: 0.286 - ETA: 1:01 - loss: 0.2865 - mae: 0.286 - ETA: 1:01 - loss: 0.2865 - mae: 0.286 - ETA: 1:00 - loss: 0.2864 - mae: 0.286 - ETA: 1:00 - loss: 0.2864 - mae: 0.286 - ETA: 1:00 - loss: 0.2864 - mae: 0.286 - ETA: 1:00 - loss: 0.2863 - mae: 0.286 - ETA: 1:00 - loss: 0.2862 - mae: 0.286 - ETA: 1:00 - loss: 0.2861 - mae: 0.286 - ETA: 1:00 - loss: 0.2861 - mae: 0.286 - ETA: 1:00 - loss: 0.2860 - mae: 0.286 - ETA: 1:00 - loss: 0.2860 - mae: 0.286 - ETA: 1:00 - loss: 0.2860 - mae: 0.286 - ETA: 1:00 - loss: 0.2860 - mae: 0.286 - ETA: 1:00 - loss: 0.2859 - mae: 0.285 - ETA: 1:00 - loss: 0.2859 - mae: 0.285 - ETA: 1:00 - loss: 0.2858 - mae: 0.285 - ETA: 1:00 - loss: 0.2857 - mae: 0.285 - ETA: 59s - loss: 0.2857 - mae: 0.285 - ETA: 59s - loss: 0.2857 - mae: 0.28 - ETA: 59s - loss: 0.2857 - mae: 0.28 - ETA: 59s - loss: 0.2857 - mae: 0.28 - ETA: 59s - loss: 0.2857 - mae: 0.28 - ETA: 59s - loss: 0.2856 - mae: 0.28 - ETA: 59s - loss: 0.2856 - mae: 0.28 - ETA: 59s - loss: 0.2855 - mae: 0.28 - ETA: 59s - loss: 0.2855 - mae: 0.28 - ETA: 59s - loss: 0.2854 - mae: 0.28 - ETA: 59s - loss: 0.2854 - mae: 0.28 - ETA: 59s - loss: 0.2853 - mae: 0.28 - ETA: 59s - loss: 0.2853 - mae: 0.28 - ETA: 59s - loss: 0.2852 - mae: 0.28 - ETA: 59s - loss: 0.2852 - mae: 0.28 - ETA: 58s - loss: 0.2851 - mae: 0.28 - ETA: 58s - loss: 0.2851 - mae: 0.28 - ETA: 58s - loss: 0.2851 - mae: 0.28 - ETA: 58s - loss: 0.2850 - mae: 0.28 - ETA: 58s - loss: 0.2850 - mae: 0.28 - ETA: 58s - loss: 0.2850 - mae: 0.28 - ETA: 58s - loss: 0.2849 - mae: 0.28 - ETA: 58s - loss: 0.2849 - mae: 0.28 - ETA: 58s - loss: 0.2849 - mae: 0.28 - ETA: 58s - loss: 0.2848 - mae: 0.28 - ETA: 58s - loss: 0.2848 - mae: 0.28 - ETA: 58s - loss: 0.2848 - mae: 0.28 - ETA: 58s - loss: 0.2847 - mae: 0.28 - ETA: 58s - loss: 0.2847 - mae: 0.28 - ETA: 58s - loss: 0.2847 - mae: 0.28 - ETA: 57s - loss: 0.2847 - mae: 0.28 - ETA: 57s - loss: 0.2847 - mae: 0.28 - ETA: 57s - loss: 0.2847 - mae: 0.28 - ETA: 57s - loss: 0.2846 - mae: 0.28 - ETA: 57s - loss: 0.2847 - mae: 0.28 - ETA: 57s - loss: 0.2846 - mae: 0.28 - ETA: 57s - loss: 0.2846 - mae: 0.28 - ETA: 57s - loss: 0.2846 - mae: 0.28 - ETA: 57s - loss: 0.2845 - mae: 0.28 - ETA: 57s - loss: 0.2845 - mae: 0.28 - ETA: 57s - loss: 0.2845 - mae: 0.28 - ETA: 57s - loss: 0.2844 - mae: 0.28 - ETA: 57s - loss: 0.2843 - mae: 0.28 - ETA: 57s - loss: 0.2843 - mae: 0.28 - ETA: 57s - loss: 0.2843 - mae: 0.28 - ETA: 57s - loss: 0.2843 - mae: 0.28 - ETA: 56s - loss: 0.2842 - mae: 0.28 - ETA: 56s - loss: 0.2842 - mae: 0.28 - ETA: 56s - loss: 0.2841 - mae: 0.28 - ETA: 56s - loss: 0.2840 - mae: 0.28 - ETA: 56s - loss: 0.2840 - mae: 0.2840"
     ]
    },
    {
     "name": "stdout",
     "output_type": "stream",
     "text": [
      "156576/299280 [==============>...............] - ETA: 56s - loss: 0.2840 - mae: 0.28 - ETA: 56s - loss: 0.2839 - mae: 0.28 - ETA: 56s - loss: 0.2839 - mae: 0.28 - ETA: 56s - loss: 0.2838 - mae: 0.28 - ETA: 56s - loss: 0.2838 - mae: 0.28 - ETA: 56s - loss: 0.2838 - mae: 0.28 - ETA: 56s - loss: 0.2837 - mae: 0.28 - ETA: 56s - loss: 0.2837 - mae: 0.28 - ETA: 56s - loss: 0.2836 - mae: 0.28 - ETA: 56s - loss: 0.2836 - mae: 0.28 - ETA: 55s - loss: 0.2836 - mae: 0.28 - ETA: 55s - loss: 0.2836 - mae: 0.28 - ETA: 55s - loss: 0.2835 - mae: 0.28 - ETA: 55s - loss: 0.2835 - mae: 0.28 - ETA: 55s - loss: 0.2835 - mae: 0.28 - ETA: 55s - loss: 0.2834 - mae: 0.28 - ETA: 55s - loss: 0.2834 - mae: 0.28 - ETA: 55s - loss: 0.2834 - mae: 0.28 - ETA: 55s - loss: 0.2833 - mae: 0.28 - ETA: 55s - loss: 0.2833 - mae: 0.28 - ETA: 55s - loss: 0.2832 - mae: 0.28 - ETA: 55s - loss: 0.2832 - mae: 0.28 - ETA: 55s - loss: 0.2832 - mae: 0.28 - ETA: 55s - loss: 0.2830 - mae: 0.28 - ETA: 55s - loss: 0.2830 - mae: 0.28 - ETA: 55s - loss: 0.2830 - mae: 0.28 - ETA: 54s - loss: 0.2830 - mae: 0.28 - ETA: 54s - loss: 0.2829 - mae: 0.28 - ETA: 54s - loss: 0.2829 - mae: 0.28 - ETA: 54s - loss: 0.2828 - mae: 0.28 - ETA: 54s - loss: 0.2828 - mae: 0.28 - ETA: 54s - loss: 0.2828 - mae: 0.28 - ETA: 54s - loss: 0.2828 - mae: 0.28 - ETA: 54s - loss: 0.2828 - mae: 0.28 - ETA: 54s - loss: 0.2827 - mae: 0.28 - ETA: 54s - loss: 0.2827 - mae: 0.28 - ETA: 54s - loss: 0.2827 - mae: 0.28 - ETA: 54s - loss: 0.2826 - mae: 0.28 - ETA: 54s - loss: 0.2826 - mae: 0.28 - ETA: 54s - loss: 0.2825 - mae: 0.28 - ETA: 54s - loss: 0.2825 - mae: 0.28 - ETA: 54s - loss: 0.2825 - mae: 0.28 - ETA: 53s - loss: 0.2824 - mae: 0.28 - ETA: 53s - loss: 0.2824 - mae: 0.28 - ETA: 53s - loss: 0.2823 - mae: 0.28 - ETA: 53s - loss: 0.2822 - mae: 0.28 - ETA: 53s - loss: 0.2822 - mae: 0.28 - ETA: 53s - loss: 0.2821 - mae: 0.28 - ETA: 53s - loss: 0.2821 - mae: 0.28 - ETA: 53s - loss: 0.2821 - mae: 0.28 - ETA: 53s - loss: 0.2820 - mae: 0.28 - ETA: 53s - loss: 0.2820 - mae: 0.28 - ETA: 53s - loss: 0.2820 - mae: 0.28 - ETA: 53s - loss: 0.2819 - mae: 0.28 - ETA: 53s - loss: 0.2819 - mae: 0.28 - ETA: 53s - loss: 0.2818 - mae: 0.28 - ETA: 53s - loss: 0.2818 - mae: 0.28 - ETA: 53s - loss: 0.2817 - mae: 0.28 - ETA: 53s - loss: 0.2816 - mae: 0.28 - ETA: 52s - loss: 0.2816 - mae: 0.28 - ETA: 52s - loss: 0.2816 - mae: 0.28 - ETA: 52s - loss: 0.2816 - mae: 0.28 - ETA: 52s - loss: 0.2816 - mae: 0.28 - ETA: 52s - loss: 0.2816 - mae: 0.28 - ETA: 52s - loss: 0.2815 - mae: 0.28 - ETA: 52s - loss: 0.2815 - mae: 0.28 - ETA: 52s - loss: 0.2815 - mae: 0.28 - ETA: 52s - loss: 0.2814 - mae: 0.28 - ETA: 52s - loss: 0.2814 - mae: 0.28 - ETA: 52s - loss: 0.2813 - mae: 0.28 - ETA: 52s - loss: 0.2813 - mae: 0.28 - ETA: 52s - loss: 0.2813 - mae: 0.28 - ETA: 52s - loss: 0.2813 - mae: 0.28 - ETA: 52s - loss: 0.2812 - mae: 0.28 - ETA: 52s - loss: 0.2812 - mae: 0.28 - ETA: 52s - loss: 0.2812 - mae: 0.28 - ETA: 51s - loss: 0.2812 - mae: 0.28 - ETA: 51s - loss: 0.2811 - mae: 0.28 - ETA: 51s - loss: 0.2811 - mae: 0.28 - ETA: 51s - loss: 0.2811 - mae: 0.28 - ETA: 51s - loss: 0.2810 - mae: 0.28 - ETA: 51s - loss: 0.2810 - mae: 0.28 - ETA: 51s - loss: 0.2809 - mae: 0.28 - ETA: 51s - loss: 0.2809 - mae: 0.28 - ETA: 51s - loss: 0.2808 - mae: 0.28 - ETA: 51s - loss: 0.2808 - mae: 0.28 - ETA: 51s - loss: 0.2808 - mae: 0.28 - ETA: 51s - loss: 0.2807 - mae: 0.28 - ETA: 51s - loss: 0.2807 - mae: 0.28 - ETA: 51s - loss: 0.2807 - mae: 0.28 - ETA: 51s - loss: 0.2807 - mae: 0.28 - ETA: 51s - loss: 0.2807 - mae: 0.28 - ETA: 51s - loss: 0.2806 - mae: 0.28 - ETA: 51s - loss: 0.2806 - mae: 0.28 - ETA: 50s - loss: 0.2806 - mae: 0.28 - ETA: 50s - loss: 0.2805 - mae: 0.28 - ETA: 50s - loss: 0.2804 - mae: 0.28 - ETA: 50s - loss: 0.2804 - mae: 0.28 - ETA: 50s - loss: 0.2804 - mae: 0.28 - ETA: 50s - loss: 0.2804 - mae: 0.28 - ETA: 50s - loss: 0.2803 - mae: 0.28 - ETA: 50s - loss: 0.2803 - mae: 0.28 - ETA: 50s - loss: 0.2803 - mae: 0.28 - ETA: 50s - loss: 0.2803 - mae: 0.28 - ETA: 50s - loss: 0.2802 - mae: 0.28 - ETA: 50s - loss: 0.2802 - mae: 0.28 - ETA: 50s - loss: 0.2802 - mae: 0.28 - ETA: 50s - loss: 0.2802 - mae: 0.28 - ETA: 50s - loss: 0.2802 - mae: 0.28 - ETA: 50s - loss: 0.2801 - mae: 0.28 - ETA: 50s - loss: 0.2801 - mae: 0.28 - ETA: 50s - loss: 0.2800 - mae: 0.28 - ETA: 49s - loss: 0.2800 - mae: 0.28 - ETA: 49s - loss: 0.2800 - mae: 0.28 - ETA: 49s - loss: 0.2799 - mae: 0.27 - ETA: 49s - loss: 0.2799 - mae: 0.27 - ETA: 49s - loss: 0.2798 - mae: 0.27 - ETA: 49s - loss: 0.2798 - mae: 0.27 - ETA: 49s - loss: 0.2797 - mae: 0.27 - ETA: 49s - loss: 0.2797 - mae: 0.27 - ETA: 49s - loss: 0.2796 - mae: 0.27 - ETA: 49s - loss: 0.2796 - mae: 0.27 - ETA: 49s - loss: 0.2795 - mae: 0.27 - ETA: 49s - loss: 0.2795 - mae: 0.27 - ETA: 49s - loss: 0.2795 - mae: 0.27 - ETA: 49s - loss: 0.2794 - mae: 0.27 - ETA: 49s - loss: 0.2794 - mae: 0.27 - ETA: 49s - loss: 0.2793 - mae: 0.27 - ETA: 48s - loss: 0.2792 - mae: 0.27 - ETA: 48s - loss: 0.2792 - mae: 0.27 - ETA: 48s - loss: 0.2791 - mae: 0.27 - ETA: 48s - loss: 0.2791 - mae: 0.27 - ETA: 48s - loss: 0.2791 - mae: 0.27 - ETA: 48s - loss: 0.2790 - mae: 0.27 - ETA: 48s - loss: 0.2789 - mae: 0.27 - ETA: 48s - loss: 0.2790 - mae: 0.27 - ETA: 48s - loss: 0.2789 - mae: 0.27 - ETA: 48s - loss: 0.2789 - mae: 0.27 - ETA: 48s - loss: 0.2788 - mae: 0.27 - ETA: 48s - loss: 0.2788 - mae: 0.27 - ETA: 48s - loss: 0.2788 - mae: 0.27 - ETA: 48s - loss: 0.2788 - mae: 0.27 - ETA: 48s - loss: 0.2787 - mae: 0.27 - ETA: 48s - loss: 0.2787 - mae: 0.27 - ETA: 48s - loss: 0.2787 - mae: 0.27 - ETA: 47s - loss: 0.2786 - mae: 0.27 - ETA: 47s - loss: 0.2786 - mae: 0.27 - ETA: 47s - loss: 0.2786 - mae: 0.27 - ETA: 47s - loss: 0.2786 - mae: 0.27 - ETA: 47s - loss: 0.2785 - mae: 0.27 - ETA: 47s - loss: 0.2785 - mae: 0.27 - ETA: 47s - loss: 0.2785 - mae: 0.27 - ETA: 47s - loss: 0.2785 - mae: 0.27 - ETA: 47s - loss: 0.2785 - mae: 0.27 - ETA: 47s - loss: 0.2784 - mae: 0.27 - ETA: 47s - loss: 0.2783 - mae: 0.27 - ETA: 47s - loss: 0.2783 - mae: 0.27 - ETA: 47s - loss: 0.2782 - mae: 0.27 - ETA: 47s - loss: 0.2782 - mae: 0.27 - ETA: 47s - loss: 0.2782 - mae: 0.27 - ETA: 47s - loss: 0.2781 - mae: 0.27 - ETA: 46s - loss: 0.2781 - mae: 0.27 - ETA: 46s - loss: 0.2780 - mae: 0.27 - ETA: 46s - loss: 0.2780 - mae: 0.27 - ETA: 46s - loss: 0.2780 - mae: 0.27 - ETA: 46s - loss: 0.2780 - mae: 0.27 - ETA: 46s - loss: 0.2779 - mae: 0.27 - ETA: 46s - loss: 0.2779 - mae: 0.27 - ETA: 46s - loss: 0.2779 - mae: 0.27 - ETA: 46s - loss: 0.2778 - mae: 0.27 - ETA: 46s - loss: 0.2778 - mae: 0.27 - ETA: 46s - loss: 0.2778 - mae: 0.27 - ETA: 46s - loss: 0.2778 - mae: 0.27 - ETA: 46s - loss: 0.2778 - mae: 0.27 - ETA: 46s - loss: 0.2777 - mae: 0.27 - ETA: 46s - loss: 0.2777 - mae: 0.27 - ETA: 46s - loss: 0.2777 - mae: 0.27 - ETA: 46s - loss: 0.2776 - mae: 0.27 - ETA: 45s - loss: 0.2776 - mae: 0.27 - ETA: 45s - loss: 0.2776 - mae: 0.27 - ETA: 45s - loss: 0.2776 - mae: 0.27 - ETA: 45s - loss: 0.2776 - mae: 0.27 - ETA: 45s - loss: 0.2775 - mae: 0.27 - ETA: 45s - loss: 0.2775 - mae: 0.27 - ETA: 45s - loss: 0.2774 - mae: 0.27 - ETA: 45s - loss: 0.2774 - mae: 0.27 - ETA: 45s - loss: 0.2774 - mae: 0.27 - ETA: 45s - loss: 0.2774 - mae: 0.27 - ETA: 45s - loss: 0.2773 - mae: 0.27 - ETA: 45s - loss: 0.2773 - mae: 0.27 - ETA: 45s - loss: 0.2773 - mae: 0.27 - ETA: 45s - loss: 0.2772 - mae: 0.27 - ETA: 45s - loss: 0.2772 - mae: 0.27 - ETA: 45s - loss: 0.2772 - mae: 0.27 - ETA: 44s - loss: 0.2771 - mae: 0.27 - ETA: 44s - loss: 0.2771 - mae: 0.27 - ETA: 44s - loss: 0.2771 - mae: 0.27 - ETA: 44s - loss: 0.2770 - mae: 0.27 - ETA: 44s - loss: 0.2770 - mae: 0.27 - ETA: 44s - loss: 0.2769 - mae: 0.27 - ETA: 44s - loss: 0.2769 - mae: 0.27 - ETA: 44s - loss: 0.2768 - mae: 0.27 - ETA: 44s - loss: 0.2768 - mae: 0.27 - ETA: 44s - loss: 0.2768 - mae: 0.27 - ETA: 44s - loss: 0.2768 - mae: 0.27 - ETA: 44s - loss: 0.2768 - mae: 0.27 - ETA: 44s - loss: 0.2768 - mae: 0.27 - ETA: 44s - loss: 0.2767 - mae: 0.27 - ETA: 44s - loss: 0.2767 - mae: 0.27 - ETA: 44s - loss: 0.2767 - mae: 0.27 - ETA: 43s - loss: 0.2766 - mae: 0.27 - ETA: 43s - loss: 0.2766 - mae: 0.27 - ETA: 43s - loss: 0.2766 - mae: 0.27 - ETA: 43s - loss: 0.2765 - mae: 0.27 - ETA: 43s - loss: 0.2765 - mae: 0.2765"
     ]
    },
    {
     "name": "stdout",
     "output_type": "stream",
     "text": [
      "197824/299280 [==================>...........] - ETA: 43s - loss: 0.2764 - mae: 0.27 - ETA: 43s - loss: 0.2764 - mae: 0.27 - ETA: 43s - loss: 0.2764 - mae: 0.27 - ETA: 43s - loss: 0.2764 - mae: 0.27 - ETA: 43s - loss: 0.2763 - mae: 0.27 - ETA: 43s - loss: 0.2763 - mae: 0.27 - ETA: 43s - loss: 0.2762 - mae: 0.27 - ETA: 43s - loss: 0.2762 - mae: 0.27 - ETA: 43s - loss: 0.2762 - mae: 0.27 - ETA: 43s - loss: 0.2761 - mae: 0.27 - ETA: 43s - loss: 0.2761 - mae: 0.27 - ETA: 42s - loss: 0.2761 - mae: 0.27 - ETA: 42s - loss: 0.2761 - mae: 0.27 - ETA: 42s - loss: 0.2760 - mae: 0.27 - ETA: 42s - loss: 0.2760 - mae: 0.27 - ETA: 42s - loss: 0.2760 - mae: 0.27 - ETA: 42s - loss: 0.2760 - mae: 0.27 - ETA: 42s - loss: 0.2760 - mae: 0.27 - ETA: 42s - loss: 0.2760 - mae: 0.27 - ETA: 42s - loss: 0.2759 - mae: 0.27 - ETA: 42s - loss: 0.2759 - mae: 0.27 - ETA: 42s - loss: 0.2759 - mae: 0.27 - ETA: 42s - loss: 0.2758 - mae: 0.27 - ETA: 42s - loss: 0.2758 - mae: 0.27 - ETA: 42s - loss: 0.2758 - mae: 0.27 - ETA: 42s - loss: 0.2758 - mae: 0.27 - ETA: 42s - loss: 0.2758 - mae: 0.27 - ETA: 42s - loss: 0.2757 - mae: 0.27 - ETA: 41s - loss: 0.2757 - mae: 0.27 - ETA: 41s - loss: 0.2757 - mae: 0.27 - ETA: 41s - loss: 0.2756 - mae: 0.27 - ETA: 41s - loss: 0.2756 - mae: 0.27 - ETA: 41s - loss: 0.2756 - mae: 0.27 - ETA: 41s - loss: 0.2756 - mae: 0.27 - ETA: 41s - loss: 0.2755 - mae: 0.27 - ETA: 41s - loss: 0.2755 - mae: 0.27 - ETA: 41s - loss: 0.2754 - mae: 0.27 - ETA: 41s - loss: 0.2754 - mae: 0.27 - ETA: 41s - loss: 0.2754 - mae: 0.27 - ETA: 41s - loss: 0.2754 - mae: 0.27 - ETA: 41s - loss: 0.2753 - mae: 0.27 - ETA: 41s - loss: 0.2753 - mae: 0.27 - ETA: 41s - loss: 0.2753 - mae: 0.27 - ETA: 41s - loss: 0.2753 - mae: 0.27 - ETA: 40s - loss: 0.2752 - mae: 0.27 - ETA: 40s - loss: 0.2752 - mae: 0.27 - ETA: 40s - loss: 0.2752 - mae: 0.27 - ETA: 40s - loss: 0.2752 - mae: 0.27 - ETA: 40s - loss: 0.2752 - mae: 0.27 - ETA: 40s - loss: 0.2751 - mae: 0.27 - ETA: 40s - loss: 0.2751 - mae: 0.27 - ETA: 40s - loss: 0.2751 - mae: 0.27 - ETA: 40s - loss: 0.2751 - mae: 0.27 - ETA: 40s - loss: 0.2750 - mae: 0.27 - ETA: 40s - loss: 0.2750 - mae: 0.27 - ETA: 40s - loss: 0.2750 - mae: 0.27 - ETA: 40s - loss: 0.2749 - mae: 0.27 - ETA: 40s - loss: 0.2749 - mae: 0.27 - ETA: 40s - loss: 0.2749 - mae: 0.27 - ETA: 40s - loss: 0.2749 - mae: 0.27 - ETA: 39s - loss: 0.2749 - mae: 0.27 - ETA: 39s - loss: 0.2749 - mae: 0.27 - ETA: 39s - loss: 0.2748 - mae: 0.27 - ETA: 39s - loss: 0.2748 - mae: 0.27 - ETA: 39s - loss: 0.2748 - mae: 0.27 - ETA: 39s - loss: 0.2748 - mae: 0.27 - ETA: 39s - loss: 0.2747 - mae: 0.27 - ETA: 39s - loss: 0.2747 - mae: 0.27 - ETA: 39s - loss: 0.2747 - mae: 0.27 - ETA: 39s - loss: 0.2747 - mae: 0.27 - ETA: 39s - loss: 0.2746 - mae: 0.27 - ETA: 39s - loss: 0.2746 - mae: 0.27 - ETA: 39s - loss: 0.2746 - mae: 0.27 - ETA: 39s - loss: 0.2746 - mae: 0.27 - ETA: 39s - loss: 0.2746 - mae: 0.27 - ETA: 39s - loss: 0.2746 - mae: 0.27 - ETA: 39s - loss: 0.2745 - mae: 0.27 - ETA: 38s - loss: 0.2745 - mae: 0.27 - ETA: 38s - loss: 0.2745 - mae: 0.27 - ETA: 38s - loss: 0.2745 - mae: 0.27 - ETA: 38s - loss: 0.2744 - mae: 0.27 - ETA: 38s - loss: 0.2744 - mae: 0.27 - ETA: 38s - loss: 0.2744 - mae: 0.27 - ETA: 38s - loss: 0.2744 - mae: 0.27 - ETA: 38s - loss: 0.2743 - mae: 0.27 - ETA: 38s - loss: 0.2743 - mae: 0.27 - ETA: 38s - loss: 0.2743 - mae: 0.27 - ETA: 38s - loss: 0.2743 - mae: 0.27 - ETA: 38s - loss: 0.2742 - mae: 0.27 - ETA: 38s - loss: 0.2742 - mae: 0.27 - ETA: 38s - loss: 0.2742 - mae: 0.27 - ETA: 38s - loss: 0.2742 - mae: 0.27 - ETA: 38s - loss: 0.2741 - mae: 0.27 - ETA: 38s - loss: 0.2741 - mae: 0.27 - ETA: 37s - loss: 0.2741 - mae: 0.27 - ETA: 37s - loss: 0.2741 - mae: 0.27 - ETA: 37s - loss: 0.2741 - mae: 0.27 - ETA: 37s - loss: 0.2741 - mae: 0.27 - ETA: 37s - loss: 0.2740 - mae: 0.27 - ETA: 37s - loss: 0.2740 - mae: 0.27 - ETA: 37s - loss: 0.2740 - mae: 0.27 - ETA: 37s - loss: 0.2739 - mae: 0.27 - ETA: 37s - loss: 0.2739 - mae: 0.27 - ETA: 37s - loss: 0.2739 - mae: 0.27 - ETA: 37s - loss: 0.2739 - mae: 0.27 - ETA: 37s - loss: 0.2739 - mae: 0.27 - ETA: 37s - loss: 0.2739 - mae: 0.27 - ETA: 37s - loss: 0.2739 - mae: 0.27 - ETA: 37s - loss: 0.2739 - mae: 0.27 - ETA: 37s - loss: 0.2738 - mae: 0.27 - ETA: 36s - loss: 0.2738 - mae: 0.27 - ETA: 36s - loss: 0.2738 - mae: 0.27 - ETA: 36s - loss: 0.2737 - mae: 0.27 - ETA: 36s - loss: 0.2737 - mae: 0.27 - ETA: 36s - loss: 0.2737 - mae: 0.27 - ETA: 36s - loss: 0.2737 - mae: 0.27 - ETA: 36s - loss: 0.2736 - mae: 0.27 - ETA: 36s - loss: 0.2736 - mae: 0.27 - ETA: 36s - loss: 0.2736 - mae: 0.27 - ETA: 36s - loss: 0.2736 - mae: 0.27 - ETA: 36s - loss: 0.2735 - mae: 0.27 - ETA: 36s - loss: 0.2735 - mae: 0.27 - ETA: 36s - loss: 0.2735 - mae: 0.27 - ETA: 36s - loss: 0.2735 - mae: 0.27 - ETA: 36s - loss: 0.2735 - mae: 0.27 - ETA: 36s - loss: 0.2734 - mae: 0.27 - ETA: 36s - loss: 0.2734 - mae: 0.27 - ETA: 35s - loss: 0.2734 - mae: 0.27 - ETA: 35s - loss: 0.2734 - mae: 0.27 - ETA: 35s - loss: 0.2733 - mae: 0.27 - ETA: 35s - loss: 0.2733 - mae: 0.27 - ETA: 35s - loss: 0.2733 - mae: 0.27 - ETA: 35s - loss: 0.2732 - mae: 0.27 - ETA: 35s - loss: 0.2732 - mae: 0.27 - ETA: 35s - loss: 0.2732 - mae: 0.27 - ETA: 35s - loss: 0.2732 - mae: 0.27 - ETA: 35s - loss: 0.2732 - mae: 0.27 - ETA: 35s - loss: 0.2731 - mae: 0.27 - ETA: 35s - loss: 0.2731 - mae: 0.27 - ETA: 35s - loss: 0.2731 - mae: 0.27 - ETA: 35s - loss: 0.2731 - mae: 0.27 - ETA: 35s - loss: 0.2730 - mae: 0.27 - ETA: 35s - loss: 0.2730 - mae: 0.27 - ETA: 35s - loss: 0.2729 - mae: 0.27 - ETA: 34s - loss: 0.2729 - mae: 0.27 - ETA: 34s - loss: 0.2729 - mae: 0.27 - ETA: 34s - loss: 0.2729 - mae: 0.27 - ETA: 34s - loss: 0.2728 - mae: 0.27 - ETA: 34s - loss: 0.2728 - mae: 0.27 - ETA: 34s - loss: 0.2728 - mae: 0.27 - ETA: 34s - loss: 0.2728 - mae: 0.27 - ETA: 34s - loss: 0.2728 - mae: 0.27 - ETA: 34s - loss: 0.2727 - mae: 0.27 - ETA: 34s - loss: 0.2727 - mae: 0.27 - ETA: 34s - loss: 0.2727 - mae: 0.27 - ETA: 34s - loss: 0.2726 - mae: 0.27 - ETA: 34s - loss: 0.2726 - mae: 0.27 - ETA: 34s - loss: 0.2726 - mae: 0.27 - ETA: 34s - loss: 0.2726 - mae: 0.27 - ETA: 34s - loss: 0.2726 - mae: 0.27 - ETA: 33s - loss: 0.2726 - mae: 0.27 - ETA: 33s - loss: 0.2725 - mae: 0.27 - ETA: 33s - loss: 0.2725 - mae: 0.27 - ETA: 33s - loss: 0.2725 - mae: 0.27 - ETA: 33s - loss: 0.2725 - mae: 0.27 - ETA: 33s - loss: 0.2724 - mae: 0.27 - ETA: 33s - loss: 0.2724 - mae: 0.27 - ETA: 33s - loss: 0.2724 - mae: 0.27 - ETA: 33s - loss: 0.2723 - mae: 0.27 - ETA: 33s - loss: 0.2723 - mae: 0.27 - ETA: 33s - loss: 0.2722 - mae: 0.27 - ETA: 33s - loss: 0.2722 - mae: 0.27 - ETA: 33s - loss: 0.2722 - mae: 0.27 - ETA: 33s - loss: 0.2721 - mae: 0.27 - ETA: 33s - loss: 0.2721 - mae: 0.27 - ETA: 33s - loss: 0.2721 - mae: 0.27 - ETA: 33s - loss: 0.2721 - mae: 0.27 - ETA: 32s - loss: 0.2721 - mae: 0.27 - ETA: 32s - loss: 0.2721 - mae: 0.27 - ETA: 32s - loss: 0.2720 - mae: 0.27 - ETA: 32s - loss: 0.2720 - mae: 0.27 - ETA: 32s - loss: 0.2720 - mae: 0.27 - ETA: 32s - loss: 0.2720 - mae: 0.27 - ETA: 32s - loss: 0.2720 - mae: 0.27 - ETA: 32s - loss: 0.2720 - mae: 0.27 - ETA: 32s - loss: 0.2720 - mae: 0.27 - ETA: 32s - loss: 0.2720 - mae: 0.27 - ETA: 32s - loss: 0.2720 - mae: 0.27 - ETA: 32s - loss: 0.2719 - mae: 0.27 - ETA: 32s - loss: 0.2719 - mae: 0.27 - ETA: 32s - loss: 0.2719 - mae: 0.27 - ETA: 32s - loss: 0.2719 - mae: 0.27 - ETA: 32s - loss: 0.2719 - mae: 0.27 - ETA: 32s - loss: 0.2719 - mae: 0.27 - ETA: 31s - loss: 0.2718 - mae: 0.27 - ETA: 31s - loss: 0.2718 - mae: 0.27 - ETA: 31s - loss: 0.2718 - mae: 0.27 - ETA: 31s - loss: 0.2718 - mae: 0.27 - ETA: 31s - loss: 0.2717 - mae: 0.27 - ETA: 31s - loss: 0.2717 - mae: 0.27 - ETA: 31s - loss: 0.2717 - mae: 0.27 - ETA: 31s - loss: 0.2717 - mae: 0.27 - ETA: 31s - loss: 0.2717 - mae: 0.27 - ETA: 31s - loss: 0.2716 - mae: 0.27 - ETA: 31s - loss: 0.2716 - mae: 0.27 - ETA: 31s - loss: 0.2716 - mae: 0.27 - ETA: 31s - loss: 0.2716 - mae: 0.27 - ETA: 31s - loss: 0.2715 - mae: 0.27 - ETA: 31s - loss: 0.2715 - mae: 0.27 - ETA: 31s - loss: 0.2715 - mae: 0.27 - ETA: 31s - loss: 0.2715 - mae: 0.27 - ETA: 30s - loss: 0.2715 - mae: 0.27 - ETA: 30s - loss: 0.2715 - mae: 0.27 - ETA: 30s - loss: 0.2714 - mae: 0.27 - ETA: 30s - loss: 0.2714 - mae: 0.2714"
     ]
    },
    {
     "name": "stdout",
     "output_type": "stream",
     "text": [
      "239040/299280 [======================>.......] - ETA: 30s - loss: 0.2714 - mae: 0.27 - ETA: 30s - loss: 0.2714 - mae: 0.27 - ETA: 30s - loss: 0.2713 - mae: 0.27 - ETA: 30s - loss: 0.2713 - mae: 0.27 - ETA: 30s - loss: 0.2713 - mae: 0.27 - ETA: 30s - loss: 0.2713 - mae: 0.27 - ETA: 30s - loss: 0.2712 - mae: 0.27 - ETA: 30s - loss: 0.2712 - mae: 0.27 - ETA: 30s - loss: 0.2712 - mae: 0.27 - ETA: 30s - loss: 0.2712 - mae: 0.27 - ETA: 30s - loss: 0.2712 - mae: 0.27 - ETA: 30s - loss: 0.2712 - mae: 0.27 - ETA: 30s - loss: 0.2712 - mae: 0.27 - ETA: 29s - loss: 0.2711 - mae: 0.27 - ETA: 29s - loss: 0.2711 - mae: 0.27 - ETA: 29s - loss: 0.2711 - mae: 0.27 - ETA: 29s - loss: 0.2711 - mae: 0.27 - ETA: 29s - loss: 0.2711 - mae: 0.27 - ETA: 29s - loss: 0.2711 - mae: 0.27 - ETA: 29s - loss: 0.2711 - mae: 0.27 - ETA: 29s - loss: 0.2710 - mae: 0.27 - ETA: 29s - loss: 0.2710 - mae: 0.27 - ETA: 29s - loss: 0.2710 - mae: 0.27 - ETA: 29s - loss: 0.2710 - mae: 0.27 - ETA: 29s - loss: 0.2710 - mae: 0.27 - ETA: 29s - loss: 0.2709 - mae: 0.27 - ETA: 29s - loss: 0.2709 - mae: 0.27 - ETA: 29s - loss: 0.2709 - mae: 0.27 - ETA: 29s - loss: 0.2709 - mae: 0.27 - ETA: 28s - loss: 0.2709 - mae: 0.27 - ETA: 28s - loss: 0.2709 - mae: 0.27 - ETA: 28s - loss: 0.2709 - mae: 0.27 - ETA: 28s - loss: 0.2708 - mae: 0.27 - ETA: 28s - loss: 0.2708 - mae: 0.27 - ETA: 28s - loss: 0.2708 - mae: 0.27 - ETA: 28s - loss: 0.2708 - mae: 0.27 - ETA: 28s - loss: 0.2708 - mae: 0.27 - ETA: 28s - loss: 0.2707 - mae: 0.27 - ETA: 28s - loss: 0.2708 - mae: 0.27 - ETA: 28s - loss: 0.2707 - mae: 0.27 - ETA: 28s - loss: 0.2707 - mae: 0.27 - ETA: 28s - loss: 0.2707 - mae: 0.27 - ETA: 28s - loss: 0.2706 - mae: 0.27 - ETA: 28s - loss: 0.2706 - mae: 0.27 - ETA: 28s - loss: 0.2706 - mae: 0.27 - ETA: 28s - loss: 0.2706 - mae: 0.27 - ETA: 27s - loss: 0.2706 - mae: 0.27 - ETA: 27s - loss: 0.2706 - mae: 0.27 - ETA: 27s - loss: 0.2706 - mae: 0.27 - ETA: 27s - loss: 0.2706 - mae: 0.27 - ETA: 27s - loss: 0.2705 - mae: 0.27 - ETA: 27s - loss: 0.2705 - mae: 0.27 - ETA: 27s - loss: 0.2705 - mae: 0.27 - ETA: 27s - loss: 0.2705 - mae: 0.27 - ETA: 27s - loss: 0.2704 - mae: 0.27 - ETA: 27s - loss: 0.2704 - mae: 0.27 - ETA: 27s - loss: 0.2704 - mae: 0.27 - ETA: 27s - loss: 0.2704 - mae: 0.27 - ETA: 27s - loss: 0.2703 - mae: 0.27 - ETA: 27s - loss: 0.2703 - mae: 0.27 - ETA: 27s - loss: 0.2703 - mae: 0.27 - ETA: 27s - loss: 0.2703 - mae: 0.27 - ETA: 27s - loss: 0.2702 - mae: 0.27 - ETA: 26s - loss: 0.2702 - mae: 0.27 - ETA: 26s - loss: 0.2702 - mae: 0.27 - ETA: 26s - loss: 0.2702 - mae: 0.27 - ETA: 26s - loss: 0.2702 - mae: 0.27 - ETA: 26s - loss: 0.2702 - mae: 0.27 - ETA: 26s - loss: 0.2701 - mae: 0.27 - ETA: 26s - loss: 0.2701 - mae: 0.27 - ETA: 26s - loss: 0.2701 - mae: 0.27 - ETA: 26s - loss: 0.2701 - mae: 0.27 - ETA: 26s - loss: 0.2700 - mae: 0.27 - ETA: 26s - loss: 0.2700 - mae: 0.27 - ETA: 26s - loss: 0.2700 - mae: 0.27 - ETA: 26s - loss: 0.2700 - mae: 0.27 - ETA: 26s - loss: 0.2700 - mae: 0.27 - ETA: 26s - loss: 0.2700 - mae: 0.27 - ETA: 26s - loss: 0.2700 - mae: 0.27 - ETA: 26s - loss: 0.2699 - mae: 0.26 - ETA: 26s - loss: 0.2699 - mae: 0.26 - ETA: 25s - loss: 0.2699 - mae: 0.26 - ETA: 25s - loss: 0.2699 - mae: 0.26 - ETA: 25s - loss: 0.2698 - mae: 0.26 - ETA: 25s - loss: 0.2698 - mae: 0.26 - ETA: 25s - loss: 0.2699 - mae: 0.26 - ETA: 25s - loss: 0.2698 - mae: 0.26 - ETA: 25s - loss: 0.2698 - mae: 0.26 - ETA: 25s - loss: 0.2698 - mae: 0.26 - ETA: 25s - loss: 0.2698 - mae: 0.26 - ETA: 25s - loss: 0.2698 - mae: 0.26 - ETA: 25s - loss: 0.2697 - mae: 0.26 - ETA: 25s - loss: 0.2697 - mae: 0.26 - ETA: 25s - loss: 0.2697 - mae: 0.26 - ETA: 25s - loss: 0.2697 - mae: 0.26 - ETA: 25s - loss: 0.2696 - mae: 0.26 - ETA: 25s - loss: 0.2696 - mae: 0.26 - ETA: 25s - loss: 0.2696 - mae: 0.26 - ETA: 24s - loss: 0.2695 - mae: 0.26 - ETA: 24s - loss: 0.2695 - mae: 0.26 - ETA: 24s - loss: 0.2695 - mae: 0.26 - ETA: 24s - loss: 0.2694 - mae: 0.26 - ETA: 24s - loss: 0.2694 - mae: 0.26 - ETA: 24s - loss: 0.2694 - mae: 0.26 - ETA: 24s - loss: 0.2694 - mae: 0.26 - ETA: 24s - loss: 0.2694 - mae: 0.26 - ETA: 24s - loss: 0.2694 - mae: 0.26 - ETA: 24s - loss: 0.2694 - mae: 0.26 - ETA: 24s - loss: 0.2694 - mae: 0.26 - ETA: 24s - loss: 0.2694 - mae: 0.26 - ETA: 24s - loss: 0.2693 - mae: 0.26 - ETA: 24s - loss: 0.2693 - mae: 0.26 - ETA: 24s - loss: 0.2693 - mae: 0.26 - ETA: 24s - loss: 0.2693 - mae: 0.26 - ETA: 24s - loss: 0.2692 - mae: 0.26 - ETA: 23s - loss: 0.2692 - mae: 0.26 - ETA: 23s - loss: 0.2692 - mae: 0.26 - ETA: 23s - loss: 0.2692 - mae: 0.26 - ETA: 23s - loss: 0.2691 - mae: 0.26 - ETA: 23s - loss: 0.2691 - mae: 0.26 - ETA: 23s - loss: 0.2691 - mae: 0.26 - ETA: 23s - loss: 0.2691 - mae: 0.26 - ETA: 23s - loss: 0.2690 - mae: 0.26 - ETA: 23s - loss: 0.2690 - mae: 0.26 - ETA: 23s - loss: 0.2690 - mae: 0.26 - ETA: 23s - loss: 0.2690 - mae: 0.26 - ETA: 23s - loss: 0.2689 - mae: 0.26 - ETA: 23s - loss: 0.2689 - mae: 0.26 - ETA: 23s - loss: 0.2689 - mae: 0.26 - ETA: 23s - loss: 0.2689 - mae: 0.26 - ETA: 23s - loss: 0.2688 - mae: 0.26 - ETA: 23s - loss: 0.2688 - mae: 0.26 - ETA: 22s - loss: 0.2688 - mae: 0.26 - ETA: 22s - loss: 0.2688 - mae: 0.26 - ETA: 22s - loss: 0.2688 - mae: 0.26 - ETA: 22s - loss: 0.2688 - mae: 0.26 - ETA: 22s - loss: 0.2687 - mae: 0.26 - ETA: 22s - loss: 0.2687 - mae: 0.26 - ETA: 22s - loss: 0.2687 - mae: 0.26 - ETA: 22s - loss: 0.2687 - mae: 0.26 - ETA: 22s - loss: 0.2687 - mae: 0.26 - ETA: 22s - loss: 0.2686 - mae: 0.26 - ETA: 22s - loss: 0.2686 - mae: 0.26 - ETA: 22s - loss: 0.2686 - mae: 0.26 - ETA: 22s - loss: 0.2686 - mae: 0.26 - ETA: 22s - loss: 0.2686 - mae: 0.26 - ETA: 22s - loss: 0.2686 - mae: 0.26 - ETA: 22s - loss: 0.2685 - mae: 0.26 - ETA: 22s - loss: 0.2685 - mae: 0.26 - ETA: 21s - loss: 0.2685 - mae: 0.26 - ETA: 21s - loss: 0.2684 - mae: 0.26 - ETA: 21s - loss: 0.2684 - mae: 0.26 - ETA: 21s - loss: 0.2684 - mae: 0.26 - ETA: 21s - loss: 0.2684 - mae: 0.26 - ETA: 21s - loss: 0.2684 - mae: 0.26 - ETA: 21s - loss: 0.2684 - mae: 0.26 - ETA: 21s - loss: 0.2683 - mae: 0.26 - ETA: 21s - loss: 0.2683 - mae: 0.26 - ETA: 21s - loss: 0.2683 - mae: 0.26 - ETA: 21s - loss: 0.2682 - mae: 0.26 - ETA: 21s - loss: 0.2682 - mae: 0.26 - ETA: 21s - loss: 0.2682 - mae: 0.26 - ETA: 21s - loss: 0.2682 - mae: 0.26 - ETA: 21s - loss: 0.2682 - mae: 0.26 - ETA: 21s - loss: 0.2682 - mae: 0.26 - ETA: 21s - loss: 0.2682 - mae: 0.26 - ETA: 20s - loss: 0.2681 - mae: 0.26 - ETA: 20s - loss: 0.2681 - mae: 0.26 - ETA: 20s - loss: 0.2681 - mae: 0.26 - ETA: 20s - loss: 0.2681 - mae: 0.26 - ETA: 20s - loss: 0.2681 - mae: 0.26 - ETA: 20s - loss: 0.2680 - mae: 0.26 - ETA: 20s - loss: 0.2680 - mae: 0.26 - ETA: 20s - loss: 0.2680 - mae: 0.26 - ETA: 20s - loss: 0.2680 - mae: 0.26 - ETA: 20s - loss: 0.2679 - mae: 0.26 - ETA: 20s - loss: 0.2679 - mae: 0.26 - ETA: 20s - loss: 0.2679 - mae: 0.26 - ETA: 20s - loss: 0.2679 - mae: 0.26 - ETA: 20s - loss: 0.2679 - mae: 0.26 - ETA: 20s - loss: 0.2679 - mae: 0.26 - ETA: 20s - loss: 0.2678 - mae: 0.26 - ETA: 20s - loss: 0.2678 - mae: 0.26 - ETA: 19s - loss: 0.2678 - mae: 0.26 - ETA: 19s - loss: 0.2678 - mae: 0.26 - ETA: 19s - loss: 0.2678 - mae: 0.26 - ETA: 19s - loss: 0.2677 - mae: 0.26 - ETA: 19s - loss: 0.2677 - mae: 0.26 - ETA: 19s - loss: 0.2677 - mae: 0.26 - ETA: 19s - loss: 0.2677 - mae: 0.26 - ETA: 19s - loss: 0.2677 - mae: 0.26 - ETA: 19s - loss: 0.2677 - mae: 0.26 - ETA: 19s - loss: 0.2677 - mae: 0.26 - ETA: 19s - loss: 0.2677 - mae: 0.26 - ETA: 19s - loss: 0.2676 - mae: 0.26 - ETA: 19s - loss: 0.2676 - mae: 0.26 - ETA: 19s - loss: 0.2676 - mae: 0.26 - ETA: 19s - loss: 0.2676 - mae: 0.26 - ETA: 19s - loss: 0.2676 - mae: 0.26 - ETA: 19s - loss: 0.2676 - mae: 0.26 - ETA: 18s - loss: 0.2676 - mae: 0.26 - ETA: 18s - loss: 0.2675 - mae: 0.26 - ETA: 18s - loss: 0.2675 - mae: 0.26 - ETA: 18s - loss: 0.2675 - mae: 0.26 - ETA: 18s - loss: 0.2675 - mae: 0.26 - ETA: 18s - loss: 0.2675 - mae: 0.26 - ETA: 18s - loss: 0.2674 - mae: 0.26 - ETA: 18s - loss: 0.2674 - mae: 0.26 - ETA: 18s - loss: 0.2674 - mae: 0.26 - ETA: 18s - loss: 0.2674 - mae: 0.26 - ETA: 18s - loss: 0.2674 - mae: 0.26 - ETA: 18s - loss: 0.2674 - mae: 0.26 - ETA: 18s - loss: 0.2674 - mae: 0.26 - ETA: 18s - loss: 0.2674 - mae: 0.26 - ETA: 18s - loss: 0.2673 - mae: 0.2673"
     ]
    },
    {
     "name": "stdout",
     "output_type": "stream",
     "text": [
      "280128/299280 [===========================>..] - ETA: 18s - loss: 0.2673 - mae: 0.26 - ETA: 18s - loss: 0.2673 - mae: 0.26 - ETA: 17s - loss: 0.2673 - mae: 0.26 - ETA: 17s - loss: 0.2673 - mae: 0.26 - ETA: 17s - loss: 0.2673 - mae: 0.26 - ETA: 17s - loss: 0.2672 - mae: 0.26 - ETA: 17s - loss: 0.2672 - mae: 0.26 - ETA: 17s - loss: 0.2672 - mae: 0.26 - ETA: 17s - loss: 0.2672 - mae: 0.26 - ETA: 17s - loss: 0.2671 - mae: 0.26 - ETA: 17s - loss: 0.2671 - mae: 0.26 - ETA: 17s - loss: 0.2671 - mae: 0.26 - ETA: 17s - loss: 0.2671 - mae: 0.26 - ETA: 17s - loss: 0.2671 - mae: 0.26 - ETA: 17s - loss: 0.2670 - mae: 0.26 - ETA: 17s - loss: 0.2670 - mae: 0.26 - ETA: 17s - loss: 0.2670 - mae: 0.26 - ETA: 17s - loss: 0.2670 - mae: 0.26 - ETA: 17s - loss: 0.2670 - mae: 0.26 - ETA: 16s - loss: 0.2670 - mae: 0.26 - ETA: 16s - loss: 0.2670 - mae: 0.26 - ETA: 16s - loss: 0.2669 - mae: 0.26 - ETA: 16s - loss: 0.2669 - mae: 0.26 - ETA: 16s - loss: 0.2669 - mae: 0.26 - ETA: 16s - loss: 0.2669 - mae: 0.26 - ETA: 16s - loss: 0.2669 - mae: 0.26 - ETA: 16s - loss: 0.2669 - mae: 0.26 - ETA: 16s - loss: 0.2668 - mae: 0.26 - ETA: 16s - loss: 0.2668 - mae: 0.26 - ETA: 16s - loss: 0.2668 - mae: 0.26 - ETA: 16s - loss: 0.2668 - mae: 0.26 - ETA: 16s - loss: 0.2668 - mae: 0.26 - ETA: 16s - loss: 0.2668 - mae: 0.26 - ETA: 16s - loss: 0.2668 - mae: 0.26 - ETA: 16s - loss: 0.2668 - mae: 0.26 - ETA: 16s - loss: 0.2668 - mae: 0.26 - ETA: 16s - loss: 0.2668 - mae: 0.26 - ETA: 15s - loss: 0.2667 - mae: 0.26 - ETA: 15s - loss: 0.2667 - mae: 0.26 - ETA: 15s - loss: 0.2667 - mae: 0.26 - ETA: 15s - loss: 0.2667 - mae: 0.26 - ETA: 15s - loss: 0.2667 - mae: 0.26 - ETA: 15s - loss: 0.2666 - mae: 0.26 - ETA: 15s - loss: 0.2666 - mae: 0.26 - ETA: 15s - loss: 0.2666 - mae: 0.26 - ETA: 15s - loss: 0.2666 - mae: 0.26 - ETA: 15s - loss: 0.2666 - mae: 0.26 - ETA: 15s - loss: 0.2666 - mae: 0.26 - ETA: 15s - loss: 0.2666 - mae: 0.26 - ETA: 15s - loss: 0.2665 - mae: 0.26 - ETA: 15s - loss: 0.2665 - mae: 0.26 - ETA: 15s - loss: 0.2665 - mae: 0.26 - ETA: 15s - loss: 0.2665 - mae: 0.26 - ETA: 15s - loss: 0.2665 - mae: 0.26 - ETA: 14s - loss: 0.2665 - mae: 0.26 - ETA: 14s - loss: 0.2664 - mae: 0.26 - ETA: 14s - loss: 0.2664 - mae: 0.26 - ETA: 14s - loss: 0.2664 - mae: 0.26 - ETA: 14s - loss: 0.2664 - mae: 0.26 - ETA: 14s - loss: 0.2664 - mae: 0.26 - ETA: 14s - loss: 0.2663 - mae: 0.26 - ETA: 14s - loss: 0.2663 - mae: 0.26 - ETA: 14s - loss: 0.2663 - mae: 0.26 - ETA: 14s - loss: 0.2663 - mae: 0.26 - ETA: 14s - loss: 0.2663 - mae: 0.26 - ETA: 14s - loss: 0.2663 - mae: 0.26 - ETA: 14s - loss: 0.2663 - mae: 0.26 - ETA: 14s - loss: 0.2663 - mae: 0.26 - ETA: 14s - loss: 0.2663 - mae: 0.26 - ETA: 14s - loss: 0.2663 - mae: 0.26 - ETA: 14s - loss: 0.2663 - mae: 0.26 - ETA: 13s - loss: 0.2663 - mae: 0.26 - ETA: 13s - loss: 0.2663 - mae: 0.26 - ETA: 13s - loss: 0.2662 - mae: 0.26 - ETA: 13s - loss: 0.2662 - mae: 0.26 - ETA: 13s - loss: 0.2662 - mae: 0.26 - ETA: 13s - loss: 0.2662 - mae: 0.26 - ETA: 13s - loss: 0.2662 - mae: 0.26 - ETA: 13s - loss: 0.2663 - mae: 0.26 - ETA: 13s - loss: 0.2662 - mae: 0.26 - ETA: 13s - loss: 0.2662 - mae: 0.26 - ETA: 13s - loss: 0.2662 - mae: 0.26 - ETA: 13s - loss: 0.2662 - mae: 0.26 - ETA: 13s - loss: 0.2662 - mae: 0.26 - ETA: 13s - loss: 0.2662 - mae: 0.26 - ETA: 13s - loss: 0.2661 - mae: 0.26 - ETA: 13s - loss: 0.2661 - mae: 0.26 - ETA: 13s - loss: 0.2661 - mae: 0.26 - ETA: 12s - loss: 0.2661 - mae: 0.26 - ETA: 12s - loss: 0.2661 - mae: 0.26 - ETA: 12s - loss: 0.2661 - mae: 0.26 - ETA: 12s - loss: 0.2661 - mae: 0.26 - ETA: 12s - loss: 0.2660 - mae: 0.26 - ETA: 12s - loss: 0.2660 - mae: 0.26 - ETA: 12s - loss: 0.2660 - mae: 0.26 - ETA: 12s - loss: 0.2660 - mae: 0.26 - ETA: 12s - loss: 0.2660 - mae: 0.26 - ETA: 12s - loss: 0.2660 - mae: 0.26 - ETA: 12s - loss: 0.2660 - mae: 0.26 - ETA: 12s - loss: 0.2660 - mae: 0.26 - ETA: 12s - loss: 0.2660 - mae: 0.26 - ETA: 12s - loss: 0.2660 - mae: 0.26 - ETA: 12s - loss: 0.2660 - mae: 0.26 - ETA: 12s - loss: 0.2659 - mae: 0.26 - ETA: 12s - loss: 0.2659 - mae: 0.26 - ETA: 11s - loss: 0.2659 - mae: 0.26 - ETA: 11s - loss: 0.2659 - mae: 0.26 - ETA: 11s - loss: 0.2659 - mae: 0.26 - ETA: 11s - loss: 0.2659 - mae: 0.26 - ETA: 11s - loss: 0.2659 - mae: 0.26 - ETA: 11s - loss: 0.2659 - mae: 0.26 - ETA: 11s - loss: 0.2658 - mae: 0.26 - ETA: 11s - loss: 0.2658 - mae: 0.26 - ETA: 11s - loss: 0.2658 - mae: 0.26 - ETA: 11s - loss: 0.2658 - mae: 0.26 - ETA: 11s - loss: 0.2658 - mae: 0.26 - ETA: 11s - loss: 0.2658 - mae: 0.26 - ETA: 11s - loss: 0.2658 - mae: 0.26 - ETA: 11s - loss: 0.2658 - mae: 0.26 - ETA: 11s - loss: 0.2657 - mae: 0.26 - ETA: 11s - loss: 0.2657 - mae: 0.26 - ETA: 11s - loss: 0.2657 - mae: 0.26 - ETA: 11s - loss: 0.2657 - mae: 0.26 - ETA: 10s - loss: 0.2657 - mae: 0.26 - ETA: 10s - loss: 0.2657 - mae: 0.26 - ETA: 10s - loss: 0.2657 - mae: 0.26 - ETA: 10s - loss: 0.2656 - mae: 0.26 - ETA: 10s - loss: 0.2657 - mae: 0.26 - ETA: 10s - loss: 0.2656 - mae: 0.26 - ETA: 10s - loss: 0.2656 - mae: 0.26 - ETA: 10s - loss: 0.2656 - mae: 0.26 - ETA: 10s - loss: 0.2656 - mae: 0.26 - ETA: 10s - loss: 0.2656 - mae: 0.26 - ETA: 10s - loss: 0.2656 - mae: 0.26 - ETA: 10s - loss: 0.2655 - mae: 0.26 - ETA: 10s - loss: 0.2655 - mae: 0.26 - ETA: 10s - loss: 0.2655 - mae: 0.26 - ETA: 10s - loss: 0.2655 - mae: 0.26 - ETA: 10s - loss: 0.2655 - mae: 0.26 - ETA: 10s - loss: 0.2655 - mae: 0.26 - ETA: 10s - loss: 0.2655 - mae: 0.26 - ETA: 9s - loss: 0.2654 - mae: 0.2654 - ETA: 9s - loss: 0.2654 - mae: 0.265 - ETA: 9s - loss: 0.2654 - mae: 0.265 - ETA: 9s - loss: 0.2654 - mae: 0.265 - ETA: 9s - loss: 0.2654 - mae: 0.265 - ETA: 9s - loss: 0.2654 - mae: 0.265 - ETA: 9s - loss: 0.2653 - mae: 0.265 - ETA: 9s - loss: 0.2653 - mae: 0.265 - ETA: 9s - loss: 0.2653 - mae: 0.265 - ETA: 9s - loss: 0.2653 - mae: 0.265 - ETA: 9s - loss: 0.2653 - mae: 0.265 - ETA: 9s - loss: 0.2653 - mae: 0.265 - ETA: 9s - loss: 0.2653 - mae: 0.265 - ETA: 9s - loss: 0.2653 - mae: 0.265 - ETA: 9s - loss: 0.2652 - mae: 0.265 - ETA: 9s - loss: 0.2652 - mae: 0.265 - ETA: 9s - loss: 0.2652 - mae: 0.265 - ETA: 8s - loss: 0.2652 - mae: 0.265 - ETA: 8s - loss: 0.2652 - mae: 0.265 - ETA: 8s - loss: 0.2652 - mae: 0.265 - ETA: 8s - loss: 0.2652 - mae: 0.265 - ETA: 8s - loss: 0.2652 - mae: 0.265 - ETA: 8s - loss: 0.2652 - mae: 0.265 - ETA: 8s - loss: 0.2652 - mae: 0.265 - ETA: 8s - loss: 0.2652 - mae: 0.265 - ETA: 8s - loss: 0.2652 - mae: 0.265 - ETA: 8s - loss: 0.2652 - mae: 0.265 - ETA: 8s - loss: 0.2651 - mae: 0.265 - ETA: 8s - loss: 0.2651 - mae: 0.265 - ETA: 8s - loss: 0.2651 - mae: 0.265 - ETA: 8s - loss: 0.2651 - mae: 0.265 - ETA: 8s - loss: 0.2651 - mae: 0.265 - ETA: 8s - loss: 0.2651 - mae: 0.265 - ETA: 8s - loss: 0.2651 - mae: 0.265 - ETA: 7s - loss: 0.2651 - mae: 0.265 - ETA: 7s - loss: 0.2651 - mae: 0.265 - ETA: 7s - loss: 0.2651 - mae: 0.265 - ETA: 7s - loss: 0.2650 - mae: 0.265 - ETA: 7s - loss: 0.2650 - mae: 0.265 - ETA: 7s - loss: 0.2650 - mae: 0.265 - ETA: 7s - loss: 0.2650 - mae: 0.265 - ETA: 7s - loss: 0.2650 - mae: 0.265 - ETA: 7s - loss: 0.2650 - mae: 0.265 - ETA: 7s - loss: 0.2649 - mae: 0.264 - ETA: 7s - loss: 0.2649 - mae: 0.264 - ETA: 7s - loss: 0.2649 - mae: 0.264 - ETA: 7s - loss: 0.2649 - mae: 0.264 - ETA: 7s - loss: 0.2649 - mae: 0.264 - ETA: 7s - loss: 0.2649 - mae: 0.264 - ETA: 7s - loss: 0.2649 - mae: 0.264 - ETA: 7s - loss: 0.2648 - mae: 0.264 - ETA: 7s - loss: 0.2648 - mae: 0.264 - ETA: 6s - loss: 0.2648 - mae: 0.264 - ETA: 6s - loss: 0.2648 - mae: 0.264 - ETA: 6s - loss: 0.2648 - mae: 0.264 - ETA: 6s - loss: 0.2648 - mae: 0.264 - ETA: 6s - loss: 0.2648 - mae: 0.264 - ETA: 6s - loss: 0.2647 - mae: 0.264 - ETA: 6s - loss: 0.2647 - mae: 0.264 - ETA: 6s - loss: 0.2647 - mae: 0.264 - ETA: 6s - loss: 0.2647 - mae: 0.264 - ETA: 6s - loss: 0.2647 - mae: 0.264 - ETA: 6s - loss: 0.2647 - mae: 0.264 - ETA: 6s - loss: 0.2647 - mae: 0.264 - ETA: 6s - loss: 0.2646 - mae: 0.264 - ETA: 6s - loss: 0.2646 - mae: 0.264 - ETA: 6s - loss: 0.2646 - mae: 0.264 - ETA: 6s - loss: 0.2646 - mae: 0.264 - ETA: 6s - loss: 0.2646 - mae: 0.264 - ETA: 5s - loss: 0.2646 - mae: 0.264 - ETA: 5s - loss: 0.2646 - mae: 0.264 - ETA: 5s - loss: 0.2646 - mae: 0.264 - ETA: 5s - loss: 0.2646 - mae: 0.264 - ETA: 5s - loss: 0.2646 - mae: 0.2646"
     ]
    },
    {
     "name": "stdout",
     "output_type": "stream",
     "text": [
      "299280/299280 [==============================] - ETA: 5s - loss: 0.2646 - mae: 0.264 - ETA: 5s - loss: 0.2646 - mae: 0.264 - ETA: 5s - loss: 0.2646 - mae: 0.264 - ETA: 5s - loss: 0.2645 - mae: 0.264 - ETA: 5s - loss: 0.2645 - mae: 0.264 - ETA: 5s - loss: 0.2645 - mae: 0.264 - ETA: 5s - loss: 0.2645 - mae: 0.264 - ETA: 5s - loss: 0.2645 - mae: 0.264 - ETA: 5s - loss: 0.2645 - mae: 0.264 - ETA: 5s - loss: 0.2645 - mae: 0.264 - ETA: 5s - loss: 0.2645 - mae: 0.264 - ETA: 5s - loss: 0.2645 - mae: 0.264 - ETA: 4s - loss: 0.2644 - mae: 0.264 - ETA: 4s - loss: 0.2644 - mae: 0.264 - ETA: 4s - loss: 0.2644 - mae: 0.264 - ETA: 4s - loss: 0.2644 - mae: 0.264 - ETA: 4s - loss: 0.2644 - mae: 0.264 - ETA: 4s - loss: 0.2644 - mae: 0.264 - ETA: 4s - loss: 0.2644 - mae: 0.264 - ETA: 4s - loss: 0.2644 - mae: 0.264 - ETA: 4s - loss: 0.2644 - mae: 0.264 - ETA: 4s - loss: 0.2644 - mae: 0.264 - ETA: 4s - loss: 0.2643 - mae: 0.264 - ETA: 4s - loss: 0.2643 - mae: 0.264 - ETA: 4s - loss: 0.2643 - mae: 0.264 - ETA: 4s - loss: 0.2643 - mae: 0.264 - ETA: 4s - loss: 0.2643 - mae: 0.264 - ETA: 4s - loss: 0.2643 - mae: 0.264 - ETA: 4s - loss: 0.2643 - mae: 0.264 - ETA: 4s - loss: 0.2643 - mae: 0.264 - ETA: 3s - loss: 0.2643 - mae: 0.264 - ETA: 3s - loss: 0.2643 - mae: 0.264 - ETA: 3s - loss: 0.2643 - mae: 0.264 - ETA: 3s - loss: 0.2643 - mae: 0.264 - ETA: 3s - loss: 0.2643 - mae: 0.264 - ETA: 3s - loss: 0.2643 - mae: 0.264 - ETA: 3s - loss: 0.2643 - mae: 0.264 - ETA: 3s - loss: 0.2643 - mae: 0.264 - ETA: 3s - loss: 0.2642 - mae: 0.264 - ETA: 3s - loss: 0.2642 - mae: 0.264 - ETA: 3s - loss: 0.2642 - mae: 0.264 - ETA: 3s - loss: 0.2642 - mae: 0.264 - ETA: 3s - loss: 0.2642 - mae: 0.264 - ETA: 3s - loss: 0.2642 - mae: 0.264 - ETA: 3s - loss: 0.2642 - mae: 0.264 - ETA: 3s - loss: 0.2642 - mae: 0.264 - ETA: 3s - loss: 0.2642 - mae: 0.264 - ETA: 2s - loss: 0.2641 - mae: 0.264 - ETA: 2s - loss: 0.2641 - mae: 0.264 - ETA: 2s - loss: 0.2641 - mae: 0.264 - ETA: 2s - loss: 0.2641 - mae: 0.264 - ETA: 2s - loss: 0.2641 - mae: 0.264 - ETA: 2s - loss: 0.2641 - mae: 0.264 - ETA: 2s - loss: 0.2641 - mae: 0.264 - ETA: 2s - loss: 0.2641 - mae: 0.264 - ETA: 2s - loss: 0.2641 - mae: 0.264 - ETA: 2s - loss: 0.2641 - mae: 0.264 - ETA: 2s - loss: 0.2641 - mae: 0.264 - ETA: 2s - loss: 0.2641 - mae: 0.264 - ETA: 2s - loss: 0.2641 - mae: 0.264 - ETA: 2s - loss: 0.2641 - mae: 0.264 - ETA: 2s - loss: 0.2640 - mae: 0.264 - ETA: 2s - loss: 0.2640 - mae: 0.264 - ETA: 2s - loss: 0.2640 - mae: 0.264 - ETA: 2s - loss: 0.2640 - mae: 0.264 - ETA: 1s - loss: 0.2640 - mae: 0.264 - ETA: 1s - loss: 0.2640 - mae: 0.264 - ETA: 1s - loss: 0.2640 - mae: 0.264 - ETA: 1s - loss: 0.2639 - mae: 0.263 - ETA: 1s - loss: 0.2639 - mae: 0.263 - ETA: 1s - loss: 0.2639 - mae: 0.263 - ETA: 1s - loss: 0.2639 - mae: 0.263 - ETA: 1s - loss: 0.2639 - mae: 0.263 - ETA: 1s - loss: 0.2639 - mae: 0.263 - ETA: 1s - loss: 0.2639 - mae: 0.263 - ETA: 1s - loss: 0.2638 - mae: 0.263 - ETA: 1s - loss: 0.2638 - mae: 0.263 - ETA: 1s - loss: 0.2638 - mae: 0.263 - ETA: 1s - loss: 0.2638 - mae: 0.263 - ETA: 1s - loss: 0.2638 - mae: 0.263 - ETA: 1s - loss: 0.2638 - mae: 0.263 - ETA: 1s - loss: 0.2637 - mae: 0.263 - ETA: 0s - loss: 0.2637 - mae: 0.263 - ETA: 0s - loss: 0.2637 - mae: 0.263 - ETA: 0s - loss: 0.2637 - mae: 0.263 - ETA: 0s - loss: 0.2637 - mae: 0.263 - ETA: 0s - loss: 0.2637 - mae: 0.263 - ETA: 0s - loss: 0.2637 - mae: 0.263 - ETA: 0s - loss: 0.2637 - mae: 0.263 - ETA: 0s - loss: 0.2637 - mae: 0.263 - ETA: 0s - loss: 0.2637 - mae: 0.263 - ETA: 0s - loss: 0.2637 - mae: 0.263 - ETA: 0s - loss: 0.2637 - mae: 0.263 - ETA: 0s - loss: 0.2636 - mae: 0.263 - ETA: 0s - loss: 0.2636 - mae: 0.263 - ETA: 0s - loss: 0.2636 - mae: 0.263 - ETA: 0s - loss: 0.2636 - mae: 0.263 - ETA: 0s - loss: 0.2636 - mae: 0.263 - ETA: 0s - loss: 0.2636 - mae: 0.263 - 108s 361us/sample - loss: 0.2636 - mae: 0.2636 - val_loss: 0.2542 - val_mae: 0.2542\n",
      "Epoch 2/2\n"
     ]
    },
    {
     "name": "stdout",
     "output_type": "stream",
     "text": [
      " 37440/299280 [==>...........................] - ETA: 2:01 - loss: 0.2692 - mae: 0.269 - ETA: 1:50 - loss: 0.2470 - mae: 0.247 - ETA: 1:41 - loss: 0.2412 - mae: 0.241 - ETA: 1:37 - loss: 0.2363 - mae: 0.236 - ETA: 1:35 - loss: 0.2466 - mae: 0.246 - ETA: 1:36 - loss: 0.2441 - mae: 0.244 - ETA: 1:37 - loss: 0.2449 - mae: 0.244 - ETA: 1:37 - loss: 0.2413 - mae: 0.241 - ETA: 1:35 - loss: 0.2433 - mae: 0.243 - ETA: 1:34 - loss: 0.2452 - mae: 0.245 - ETA: 1:34 - loss: 0.2428 - mae: 0.242 - ETA: 1:35 - loss: 0.2431 - mae: 0.243 - ETA: 1:36 - loss: 0.2413 - mae: 0.241 - ETA: 1:36 - loss: 0.2425 - mae: 0.242 - ETA: 1:35 - loss: 0.2434 - mae: 0.243 - ETA: 1:35 - loss: 0.2425 - mae: 0.242 - ETA: 1:35 - loss: 0.2431 - mae: 0.243 - ETA: 1:34 - loss: 0.2436 - mae: 0.243 - ETA: 1:35 - loss: 0.2432 - mae: 0.243 - ETA: 1:35 - loss: 0.2429 - mae: 0.242 - ETA: 1:35 - loss: 0.2422 - mae: 0.242 - ETA: 1:35 - loss: 0.2421 - mae: 0.242 - ETA: 1:34 - loss: 0.2419 - mae: 0.241 - ETA: 1:34 - loss: 0.2419 - mae: 0.241 - ETA: 1:33 - loss: 0.2422 - mae: 0.242 - ETA: 1:33 - loss: 0.2436 - mae: 0.243 - ETA: 1:33 - loss: 0.2438 - mae: 0.243 - ETA: 1:33 - loss: 0.2439 - mae: 0.243 - ETA: 1:33 - loss: 0.2437 - mae: 0.243 - ETA: 1:32 - loss: 0.2432 - mae: 0.243 - ETA: 1:32 - loss: 0.2426 - mae: 0.242 - ETA: 1:32 - loss: 0.2433 - mae: 0.243 - ETA: 1:31 - loss: 0.2431 - mae: 0.243 - ETA: 1:31 - loss: 0.2429 - mae: 0.242 - ETA: 1:31 - loss: 0.2431 - mae: 0.243 - ETA: 1:31 - loss: 0.2433 - mae: 0.243 - ETA: 1:31 - loss: 0.2432 - mae: 0.243 - ETA: 1:31 - loss: 0.2431 - mae: 0.243 - ETA: 1:31 - loss: 0.2430 - mae: 0.243 - ETA: 1:30 - loss: 0.2434 - mae: 0.243 - ETA: 1:30 - loss: 0.2440 - mae: 0.244 - ETA: 1:30 - loss: 0.2441 - mae: 0.244 - ETA: 1:30 - loss: 0.2442 - mae: 0.244 - ETA: 1:30 - loss: 0.2444 - mae: 0.244 - ETA: 1:30 - loss: 0.2442 - mae: 0.244 - ETA: 1:29 - loss: 0.2444 - mae: 0.244 - ETA: 1:29 - loss: 0.2443 - mae: 0.244 - ETA: 1:29 - loss: 0.2444 - mae: 0.244 - ETA: 1:29 - loss: 0.2445 - mae: 0.244 - ETA: 1:29 - loss: 0.2449 - mae: 0.244 - ETA: 1:29 - loss: 0.2449 - mae: 0.244 - ETA: 1:29 - loss: 0.2446 - mae: 0.244 - ETA: 1:29 - loss: 0.2449 - mae: 0.244 - ETA: 1:28 - loss: 0.2452 - mae: 0.245 - ETA: 1:28 - loss: 0.2450 - mae: 0.245 - ETA: 1:28 - loss: 0.2452 - mae: 0.245 - ETA: 1:28 - loss: 0.2456 - mae: 0.245 - ETA: 1:28 - loss: 0.2455 - mae: 0.245 - ETA: 1:28 - loss: 0.2456 - mae: 0.245 - ETA: 1:28 - loss: 0.2454 - mae: 0.245 - ETA: 1:28 - loss: 0.2453 - mae: 0.245 - ETA: 1:28 - loss: 0.2451 - mae: 0.245 - ETA: 1:28 - loss: 0.2453 - mae: 0.245 - ETA: 1:28 - loss: 0.2456 - mae: 0.245 - ETA: 1:28 - loss: 0.2459 - mae: 0.245 - ETA: 1:28 - loss: 0.2457 - mae: 0.245 - ETA: 1:27 - loss: 0.2458 - mae: 0.245 - ETA: 1:27 - loss: 0.2456 - mae: 0.245 - ETA: 1:27 - loss: 0.2458 - mae: 0.245 - ETA: 1:27 - loss: 0.2460 - mae: 0.246 - ETA: 1:27 - loss: 0.2459 - mae: 0.245 - ETA: 1:27 - loss: 0.2460 - mae: 0.246 - ETA: 1:27 - loss: 0.2460 - mae: 0.246 - ETA: 1:27 - loss: 0.2459 - mae: 0.245 - ETA: 1:27 - loss: 0.2460 - mae: 0.246 - ETA: 1:27 - loss: 0.2461 - mae: 0.246 - ETA: 1:27 - loss: 0.2458 - mae: 0.245 - ETA: 1:27 - loss: 0.2460 - mae: 0.246 - ETA: 1:27 - loss: 0.2458 - mae: 0.245 - ETA: 1:26 - loss: 0.2456 - mae: 0.245 - ETA: 1:26 - loss: 0.2458 - mae: 0.245 - ETA: 1:26 - loss: 0.2460 - mae: 0.246 - ETA: 1:26 - loss: 0.2461 - mae: 0.246 - ETA: 1:26 - loss: 0.2461 - mae: 0.246 - ETA: 1:26 - loss: 0.2458 - mae: 0.245 - ETA: 1:26 - loss: 0.2461 - mae: 0.246 - ETA: 1:26 - loss: 0.2463 - mae: 0.246 - ETA: 1:26 - loss: 0.2463 - mae: 0.246 - ETA: 1:26 - loss: 0.2458 - mae: 0.245 - ETA: 1:26 - loss: 0.2460 - mae: 0.246 - ETA: 1:26 - loss: 0.2458 - mae: 0.245 - ETA: 1:26 - loss: 0.2459 - mae: 0.245 - ETA: 1:26 - loss: 0.2461 - mae: 0.246 - ETA: 1:26 - loss: 0.2460 - mae: 0.246 - ETA: 1:26 - loss: 0.2458 - mae: 0.245 - ETA: 1:26 - loss: 0.2458 - mae: 0.245 - ETA: 1:26 - loss: 0.2457 - mae: 0.245 - ETA: 1:26 - loss: 0.2454 - mae: 0.245 - ETA: 1:25 - loss: 0.2455 - mae: 0.245 - ETA: 1:25 - loss: 0.2453 - mae: 0.245 - ETA: 1:25 - loss: 0.2455 - mae: 0.245 - ETA: 1:25 - loss: 0.2454 - mae: 0.245 - ETA: 1:25 - loss: 0.2451 - mae: 0.245 - ETA: 1:25 - loss: 0.2452 - mae: 0.245 - ETA: 1:25 - loss: 0.2452 - mae: 0.245 - ETA: 1:25 - loss: 0.2452 - mae: 0.245 - ETA: 1:25 - loss: 0.2453 - mae: 0.245 - ETA: 1:25 - loss: 0.2452 - mae: 0.245 - ETA: 1:25 - loss: 0.2452 - mae: 0.245 - ETA: 1:25 - loss: 0.2452 - mae: 0.245 - ETA: 1:25 - loss: 0.2453 - mae: 0.245 - ETA: 1:25 - loss: 0.2454 - mae: 0.245 - ETA: 1:25 - loss: 0.2454 - mae: 0.245 - ETA: 1:25 - loss: 0.2455 - mae: 0.245 - ETA: 1:25 - loss: 0.2458 - mae: 0.245 - ETA: 1:25 - loss: 0.2458 - mae: 0.245 - ETA: 1:24 - loss: 0.2457 - mae: 0.245 - ETA: 1:24 - loss: 0.2459 - mae: 0.245 - ETA: 1:24 - loss: 0.2458 - mae: 0.245 - ETA: 1:24 - loss: 0.2456 - mae: 0.245 - ETA: 1:24 - loss: 0.2456 - mae: 0.245 - ETA: 1:24 - loss: 0.2456 - mae: 0.245 - ETA: 1:24 - loss: 0.2457 - mae: 0.245 - ETA: 1:24 - loss: 0.2457 - mae: 0.245 - ETA: 1:24 - loss: 0.2459 - mae: 0.245 - ETA: 1:24 - loss: 0.2461 - mae: 0.246 - ETA: 1:24 - loss: 0.2460 - mae: 0.246 - ETA: 1:24 - loss: 0.2462 - mae: 0.246 - ETA: 1:24 - loss: 0.2465 - mae: 0.246 - ETA: 1:24 - loss: 0.2464 - mae: 0.246 - ETA: 1:24 - loss: 0.2464 - mae: 0.246 - ETA: 1:24 - loss: 0.2463 - mae: 0.246 - ETA: 1:23 - loss: 0.2464 - mae: 0.246 - ETA: 1:23 - loss: 0.2464 - mae: 0.246 - ETA: 1:23 - loss: 0.2463 - mae: 0.246 - ETA: 1:23 - loss: 0.2465 - mae: 0.246 - ETA: 1:23 - loss: 0.2462 - mae: 0.246 - ETA: 1:23 - loss: 0.2460 - mae: 0.246 - ETA: 1:23 - loss: 0.2460 - mae: 0.246 - ETA: 1:23 - loss: 0.2460 - mae: 0.246 - ETA: 1:23 - loss: 0.2460 - mae: 0.246 - ETA: 1:23 - loss: 0.2460 - mae: 0.246 - ETA: 1:23 - loss: 0.2459 - mae: 0.245 - ETA: 1:23 - loss: 0.2458 - mae: 0.245 - ETA: 1:23 - loss: 0.2460 - mae: 0.246 - ETA: 1:23 - loss: 0.2462 - mae: 0.246 - ETA: 1:23 - loss: 0.2463 - mae: 0.246 - ETA: 1:22 - loss: 0.2464 - mae: 0.246 - ETA: 1:22 - loss: 0.2465 - mae: 0.246 - ETA: 1:22 - loss: 0.2465 - mae: 0.246 - ETA: 1:22 - loss: 0.2463 - mae: 0.246 - ETA: 1:22 - loss: 0.2465 - mae: 0.246 - ETA: 1:22 - loss: 0.2464 - mae: 0.246 - ETA: 1:22 - loss: 0.2464 - mae: 0.246 - ETA: 1:22 - loss: 0.2463 - mae: 0.246 - ETA: 1:22 - loss: 0.2463 - mae: 0.246 - ETA: 1:22 - loss: 0.2462 - mae: 0.246 - ETA: 1:22 - loss: 0.2461 - mae: 0.246 - ETA: 1:22 - loss: 0.2461 - mae: 0.246 - ETA: 1:22 - loss: 0.2461 - mae: 0.246 - ETA: 1:22 - loss: 0.2460 - mae: 0.246 - ETA: 1:22 - loss: 0.2461 - mae: 0.246 - ETA: 1:22 - loss: 0.2460 - mae: 0.246 - ETA: 1:22 - loss: 0.2459 - mae: 0.245 - ETA: 1:22 - loss: 0.2459 - mae: 0.245 - ETA: 1:22 - loss: 0.2458 - mae: 0.245 - ETA: 1:21 - loss: 0.2459 - mae: 0.245 - ETA: 1:21 - loss: 0.2459 - mae: 0.245 - ETA: 1:21 - loss: 0.2460 - mae: 0.246 - ETA: 1:21 - loss: 0.2459 - mae: 0.245 - ETA: 1:21 - loss: 0.2459 - mae: 0.245 - ETA: 1:21 - loss: 0.2461 - mae: 0.246 - ETA: 1:21 - loss: 0.2459 - mae: 0.245 - ETA: 1:21 - loss: 0.2462 - mae: 0.246 - ETA: 1:21 - loss: 0.2461 - mae: 0.246 - ETA: 1:21 - loss: 0.2462 - mae: 0.246 - ETA: 1:21 - loss: 0.2461 - mae: 0.246 - ETA: 1:21 - loss: 0.2460 - mae: 0.246 - ETA: 1:21 - loss: 0.2459 - mae: 0.245 - ETA: 1:21 - loss: 0.2459 - mae: 0.245 - ETA: 1:21 - loss: 0.2458 - mae: 0.245 - ETA: 1:21 - loss: 0.2458 - mae: 0.245 - ETA: 1:20 - loss: 0.2457 - mae: 0.245 - ETA: 1:20 - loss: 0.2457 - mae: 0.245 - ETA: 1:20 - loss: 0.2457 - mae: 0.245 - ETA: 1:20 - loss: 0.2458 - mae: 0.245 - ETA: 1:20 - loss: 0.2459 - mae: 0.245 - ETA: 1:20 - loss: 0.2459 - mae: 0.245 - ETA: 1:20 - loss: 0.2458 - mae: 0.245 - ETA: 1:20 - loss: 0.2459 - mae: 0.245 - ETA: 1:20 - loss: 0.2458 - mae: 0.245 - ETA: 1:20 - loss: 0.2459 - mae: 0.245 - ETA: 1:20 - loss: 0.2458 - mae: 0.245 - ETA: 1:20 - loss: 0.2457 - mae: 0.245 - ETA: 1:20 - loss: 0.2456 - mae: 0.245 - ETA: 1:20 - loss: 0.2457 - mae: 0.245 - ETA: 1:20 - loss: 0.2458 - mae: 0.245 - ETA: 1:20 - loss: 0.2458 - mae: 0.245 - ETA: 1:20 - loss: 0.2458 - mae: 0.245 - ETA: 1:20 - loss: 0.2459 - mae: 0.245 - ETA: 1:20 - loss: 0.2460 - mae: 0.246 - ETA: 1:20 - loss: 0.2460 - mae: 0.246 - ETA: 1:19 - loss: 0.2459 - mae: 0.245 - ETA: 1:19 - loss: 0.2459 - mae: 0.2459"
     ]
    },
    {
     "name": "stdout",
     "output_type": "stream",
     "text": [
      " 75296/299280 [======>.......................] - ETA: 1:19 - loss: 0.2459 - mae: 0.245 - ETA: 1:19 - loss: 0.2459 - mae: 0.245 - ETA: 1:19 - loss: 0.2457 - mae: 0.245 - ETA: 1:19 - loss: 0.2457 - mae: 0.245 - ETA: 1:19 - loss: 0.2458 - mae: 0.245 - ETA: 1:19 - loss: 0.2458 - mae: 0.245 - ETA: 1:19 - loss: 0.2458 - mae: 0.245 - ETA: 1:19 - loss: 0.2457 - mae: 0.245 - ETA: 1:19 - loss: 0.2457 - mae: 0.245 - ETA: 1:19 - loss: 0.2458 - mae: 0.245 - ETA: 1:19 - loss: 0.2457 - mae: 0.245 - ETA: 1:19 - loss: 0.2457 - mae: 0.245 - ETA: 1:19 - loss: 0.2458 - mae: 0.245 - ETA: 1:19 - loss: 0.2458 - mae: 0.245 - ETA: 1:19 - loss: 0.2457 - mae: 0.245 - ETA: 1:19 - loss: 0.2457 - mae: 0.245 - ETA: 1:19 - loss: 0.2458 - mae: 0.245 - ETA: 1:18 - loss: 0.2457 - mae: 0.245 - ETA: 1:18 - loss: 0.2456 - mae: 0.245 - ETA: 1:18 - loss: 0.2456 - mae: 0.245 - ETA: 1:18 - loss: 0.2456 - mae: 0.245 - ETA: 1:18 - loss: 0.2456 - mae: 0.245 - ETA: 1:18 - loss: 0.2456 - mae: 0.245 - ETA: 1:18 - loss: 0.2456 - mae: 0.245 - ETA: 1:18 - loss: 0.2456 - mae: 0.245 - ETA: 1:18 - loss: 0.2458 - mae: 0.245 - ETA: 1:18 - loss: 0.2458 - mae: 0.245 - ETA: 1:18 - loss: 0.2457 - mae: 0.245 - ETA: 1:18 - loss: 0.2458 - mae: 0.245 - ETA: 1:18 - loss: 0.2459 - mae: 0.245 - ETA: 1:18 - loss: 0.2458 - mae: 0.245 - ETA: 1:18 - loss: 0.2458 - mae: 0.245 - ETA: 1:18 - loss: 0.2459 - mae: 0.245 - ETA: 1:18 - loss: 0.2460 - mae: 0.246 - ETA: 1:17 - loss: 0.2460 - mae: 0.246 - ETA: 1:17 - loss: 0.2459 - mae: 0.245 - ETA: 1:17 - loss: 0.2458 - mae: 0.245 - ETA: 1:17 - loss: 0.2458 - mae: 0.245 - ETA: 1:17 - loss: 0.2459 - mae: 0.245 - ETA: 1:17 - loss: 0.2458 - mae: 0.245 - ETA: 1:17 - loss: 0.2458 - mae: 0.245 - ETA: 1:17 - loss: 0.2459 - mae: 0.245 - ETA: 1:17 - loss: 0.2459 - mae: 0.245 - ETA: 1:17 - loss: 0.2459 - mae: 0.245 - ETA: 1:17 - loss: 0.2459 - mae: 0.245 - ETA: 1:17 - loss: 0.2460 - mae: 0.246 - ETA: 1:17 - loss: 0.2460 - mae: 0.246 - ETA: 1:17 - loss: 0.2460 - mae: 0.246 - ETA: 1:17 - loss: 0.2460 - mae: 0.246 - ETA: 1:17 - loss: 0.2461 - mae: 0.246 - ETA: 1:16 - loss: 0.2461 - mae: 0.246 - ETA: 1:16 - loss: 0.2460 - mae: 0.246 - ETA: 1:16 - loss: 0.2460 - mae: 0.246 - ETA: 1:16 - loss: 0.2461 - mae: 0.246 - ETA: 1:16 - loss: 0.2461 - mae: 0.246 - ETA: 1:16 - loss: 0.2462 - mae: 0.246 - ETA: 1:16 - loss: 0.2461 - mae: 0.246 - ETA: 1:16 - loss: 0.2461 - mae: 0.246 - ETA: 1:16 - loss: 0.2461 - mae: 0.246 - ETA: 1:16 - loss: 0.2462 - mae: 0.246 - ETA: 1:16 - loss: 0.2463 - mae: 0.246 - ETA: 1:16 - loss: 0.2463 - mae: 0.246 - ETA: 1:16 - loss: 0.2463 - mae: 0.246 - ETA: 1:16 - loss: 0.2463 - mae: 0.246 - ETA: 1:16 - loss: 0.2463 - mae: 0.246 - ETA: 1:16 - loss: 0.2463 - mae: 0.246 - ETA: 1:16 - loss: 0.2462 - mae: 0.246 - ETA: 1:16 - loss: 0.2462 - mae: 0.246 - ETA: 1:15 - loss: 0.2462 - mae: 0.246 - ETA: 1:15 - loss: 0.2462 - mae: 0.246 - ETA: 1:15 - loss: 0.2463 - mae: 0.246 - ETA: 1:15 - loss: 0.2462 - mae: 0.246 - ETA: 1:15 - loss: 0.2462 - mae: 0.246 - ETA: 1:15 - loss: 0.2461 - mae: 0.246 - ETA: 1:15 - loss: 0.2461 - mae: 0.246 - ETA: 1:15 - loss: 0.2460 - mae: 0.246 - ETA: 1:15 - loss: 0.2459 - mae: 0.245 - ETA: 1:15 - loss: 0.2459 - mae: 0.245 - ETA: 1:15 - loss: 0.2460 - mae: 0.246 - ETA: 1:15 - loss: 0.2460 - mae: 0.246 - ETA: 1:15 - loss: 0.2460 - mae: 0.246 - ETA: 1:15 - loss: 0.2460 - mae: 0.246 - ETA: 1:15 - loss: 0.2460 - mae: 0.246 - ETA: 1:15 - loss: 0.2459 - mae: 0.245 - ETA: 1:15 - loss: 0.2459 - mae: 0.245 - ETA: 1:14 - loss: 0.2459 - mae: 0.245 - ETA: 1:14 - loss: 0.2460 - mae: 0.246 - ETA: 1:14 - loss: 0.2460 - mae: 0.246 - ETA: 1:14 - loss: 0.2459 - mae: 0.245 - ETA: 1:14 - loss: 0.2460 - mae: 0.246 - ETA: 1:14 - loss: 0.2460 - mae: 0.246 - ETA: 1:14 - loss: 0.2460 - mae: 0.246 - ETA: 1:14 - loss: 0.2460 - mae: 0.246 - ETA: 1:14 - loss: 0.2460 - mae: 0.246 - ETA: 1:14 - loss: 0.2459 - mae: 0.245 - ETA: 1:14 - loss: 0.2459 - mae: 0.245 - ETA: 1:14 - loss: 0.2459 - mae: 0.245 - ETA: 1:14 - loss: 0.2458 - mae: 0.245 - ETA: 1:14 - loss: 0.2458 - mae: 0.245 - ETA: 1:14 - loss: 0.2459 - mae: 0.245 - ETA: 1:14 - loss: 0.2459 - mae: 0.245 - ETA: 1:14 - loss: 0.2459 - mae: 0.245 - ETA: 1:13 - loss: 0.2458 - mae: 0.245 - ETA: 1:13 - loss: 0.2458 - mae: 0.245 - ETA: 1:13 - loss: 0.2459 - mae: 0.245 - ETA: 1:13 - loss: 0.2459 - mae: 0.245 - ETA: 1:13 - loss: 0.2460 - mae: 0.246 - ETA: 1:13 - loss: 0.2460 - mae: 0.246 - ETA: 1:13 - loss: 0.2462 - mae: 0.246 - ETA: 1:13 - loss: 0.2461 - mae: 0.246 - ETA: 1:13 - loss: 0.2461 - mae: 0.246 - ETA: 1:13 - loss: 0.2461 - mae: 0.246 - ETA: 1:13 - loss: 0.2460 - mae: 0.246 - ETA: 1:13 - loss: 0.2461 - mae: 0.246 - ETA: 1:13 - loss: 0.2460 - mae: 0.246 - ETA: 1:13 - loss: 0.2460 - mae: 0.246 - ETA: 1:13 - loss: 0.2460 - mae: 0.246 - ETA: 1:13 - loss: 0.2459 - mae: 0.245 - ETA: 1:13 - loss: 0.2460 - mae: 0.246 - ETA: 1:13 - loss: 0.2459 - mae: 0.245 - ETA: 1:12 - loss: 0.2458 - mae: 0.245 - ETA: 1:12 - loss: 0.2459 - mae: 0.245 - ETA: 1:12 - loss: 0.2459 - mae: 0.245 - ETA: 1:12 - loss: 0.2459 - mae: 0.245 - ETA: 1:12 - loss: 0.2458 - mae: 0.245 - ETA: 1:12 - loss: 0.2458 - mae: 0.245 - ETA: 1:12 - loss: 0.2458 - mae: 0.245 - ETA: 1:12 - loss: 0.2458 - mae: 0.245 - ETA: 1:12 - loss: 0.2457 - mae: 0.245 - ETA: 1:12 - loss: 0.2457 - mae: 0.245 - ETA: 1:12 - loss: 0.2458 - mae: 0.245 - ETA: 1:12 - loss: 0.2458 - mae: 0.245 - ETA: 1:12 - loss: 0.2458 - mae: 0.245 - ETA: 1:12 - loss: 0.2458 - mae: 0.245 - ETA: 1:12 - loss: 0.2458 - mae: 0.245 - ETA: 1:12 - loss: 0.2458 - mae: 0.245 - ETA: 1:12 - loss: 0.2458 - mae: 0.245 - ETA: 1:12 - loss: 0.2458 - mae: 0.245 - ETA: 1:11 - loss: 0.2458 - mae: 0.245 - ETA: 1:11 - loss: 0.2458 - mae: 0.245 - ETA: 1:11 - loss: 0.2457 - mae: 0.245 - ETA: 1:11 - loss: 0.2458 - mae: 0.245 - ETA: 1:11 - loss: 0.2459 - mae: 0.245 - ETA: 1:11 - loss: 0.2459 - mae: 0.245 - ETA: 1:11 - loss: 0.2460 - mae: 0.246 - ETA: 1:11 - loss: 0.2460 - mae: 0.246 - ETA: 1:11 - loss: 0.2460 - mae: 0.246 - ETA: 1:11 - loss: 0.2460 - mae: 0.246 - ETA: 1:11 - loss: 0.2460 - mae: 0.246 - ETA: 1:11 - loss: 0.2460 - mae: 0.246 - ETA: 1:11 - loss: 0.2459 - mae: 0.245 - ETA: 1:11 - loss: 0.2459 - mae: 0.245 - ETA: 1:11 - loss: 0.2459 - mae: 0.245 - ETA: 1:11 - loss: 0.2458 - mae: 0.245 - ETA: 1:11 - loss: 0.2458 - mae: 0.245 - ETA: 1:10 - loss: 0.2459 - mae: 0.245 - ETA: 1:10 - loss: 0.2459 - mae: 0.245 - ETA: 1:10 - loss: 0.2458 - mae: 0.245 - ETA: 1:10 - loss: 0.2459 - mae: 0.245 - ETA: 1:10 - loss: 0.2459 - mae: 0.245 - ETA: 1:10 - loss: 0.2459 - mae: 0.245 - ETA: 1:10 - loss: 0.2459 - mae: 0.245 - ETA: 1:10 - loss: 0.2459 - mae: 0.245 - ETA: 1:10 - loss: 0.2458 - mae: 0.245 - ETA: 1:10 - loss: 0.2459 - mae: 0.245 - ETA: 1:10 - loss: 0.2459 - mae: 0.245 - ETA: 1:10 - loss: 0.2459 - mae: 0.245 - ETA: 1:10 - loss: 0.2459 - mae: 0.245 - ETA: 1:10 - loss: 0.2459 - mae: 0.245 - ETA: 1:10 - loss: 0.2460 - mae: 0.246 - ETA: 1:10 - loss: 0.2460 - mae: 0.246 - ETA: 1:10 - loss: 0.2460 - mae: 0.246 - ETA: 1:10 - loss: 0.2459 - mae: 0.245 - ETA: 1:09 - loss: 0.2458 - mae: 0.245 - ETA: 1:09 - loss: 0.2458 - mae: 0.245 - ETA: 1:09 - loss: 0.2458 - mae: 0.245 - ETA: 1:09 - loss: 0.2458 - mae: 0.245 - ETA: 1:09 - loss: 0.2458 - mae: 0.245 - ETA: 1:09 - loss: 0.2457 - mae: 0.245 - ETA: 1:09 - loss: 0.2457 - mae: 0.245 - ETA: 1:09 - loss: 0.2457 - mae: 0.245 - ETA: 1:09 - loss: 0.2456 - mae: 0.245 - ETA: 1:09 - loss: 0.2457 - mae: 0.245 - ETA: 1:09 - loss: 0.2456 - mae: 0.245 - ETA: 1:09 - loss: 0.2457 - mae: 0.245 - ETA: 1:09 - loss: 0.2457 - mae: 0.245 - ETA: 1:09 - loss: 0.2457 - mae: 0.245 - ETA: 1:09 - loss: 0.2456 - mae: 0.245 - ETA: 1:09 - loss: 0.2456 - mae: 0.245 - ETA: 1:09 - loss: 0.2456 - mae: 0.245 - ETA: 1:09 - loss: 0.2455 - mae: 0.245 - ETA: 1:08 - loss: 0.2456 - mae: 0.245 - ETA: 1:08 - loss: 0.2455 - mae: 0.245 - ETA: 1:08 - loss: 0.2455 - mae: 0.245 - ETA: 1:08 - loss: 0.2455 - mae: 0.245 - ETA: 1:08 - loss: 0.2455 - mae: 0.245 - ETA: 1:08 - loss: 0.2456 - mae: 0.245 - ETA: 1:08 - loss: 0.2456 - mae: 0.245 - ETA: 1:08 - loss: 0.2456 - mae: 0.245 - ETA: 1:08 - loss: 0.2456 - mae: 0.245 - ETA: 1:08 - loss: 0.2455 - mae: 0.245 - ETA: 1:08 - loss: 0.2454 - mae: 0.245 - ETA: 1:08 - loss: 0.2454 - mae: 0.245 - ETA: 1:08 - loss: 0.2454 - mae: 0.2454"
     ]
    },
    {
     "name": "stdout",
     "output_type": "stream",
     "text": [
      "113504/299280 [==========>...................] - ETA: 1:08 - loss: 0.2454 - mae: 0.245 - ETA: 1:08 - loss: 0.2454 - mae: 0.245 - ETA: 1:08 - loss: 0.2454 - mae: 0.245 - ETA: 1:08 - loss: 0.2454 - mae: 0.245 - ETA: 1:08 - loss: 0.2454 - mae: 0.245 - ETA: 1:07 - loss: 0.2454 - mae: 0.245 - ETA: 1:07 - loss: 0.2454 - mae: 0.245 - ETA: 1:07 - loss: 0.2454 - mae: 0.245 - ETA: 1:07 - loss: 0.2454 - mae: 0.245 - ETA: 1:07 - loss: 0.2454 - mae: 0.245 - ETA: 1:07 - loss: 0.2454 - mae: 0.245 - ETA: 1:07 - loss: 0.2454 - mae: 0.245 - ETA: 1:07 - loss: 0.2454 - mae: 0.245 - ETA: 1:07 - loss: 0.2455 - mae: 0.245 - ETA: 1:07 - loss: 0.2455 - mae: 0.245 - ETA: 1:07 - loss: 0.2455 - mae: 0.245 - ETA: 1:07 - loss: 0.2455 - mae: 0.245 - ETA: 1:07 - loss: 0.2455 - mae: 0.245 - ETA: 1:07 - loss: 0.2455 - mae: 0.245 - ETA: 1:07 - loss: 0.2456 - mae: 0.245 - ETA: 1:07 - loss: 0.2456 - mae: 0.245 - ETA: 1:07 - loss: 0.2456 - mae: 0.245 - ETA: 1:06 - loss: 0.2456 - mae: 0.245 - ETA: 1:06 - loss: 0.2456 - mae: 0.245 - ETA: 1:06 - loss: 0.2456 - mae: 0.245 - ETA: 1:06 - loss: 0.2456 - mae: 0.245 - ETA: 1:06 - loss: 0.2457 - mae: 0.245 - ETA: 1:06 - loss: 0.2457 - mae: 0.245 - ETA: 1:06 - loss: 0.2458 - mae: 0.245 - ETA: 1:06 - loss: 0.2458 - mae: 0.245 - ETA: 1:06 - loss: 0.2458 - mae: 0.245 - ETA: 1:06 - loss: 0.2458 - mae: 0.245 - ETA: 1:06 - loss: 0.2458 - mae: 0.245 - ETA: 1:06 - loss: 0.2458 - mae: 0.245 - ETA: 1:06 - loss: 0.2458 - mae: 0.245 - ETA: 1:06 - loss: 0.2458 - mae: 0.245 - ETA: 1:06 - loss: 0.2458 - mae: 0.245 - ETA: 1:06 - loss: 0.2458 - mae: 0.245 - ETA: 1:06 - loss: 0.2457 - mae: 0.245 - ETA: 1:06 - loss: 0.2457 - mae: 0.245 - ETA: 1:05 - loss: 0.2457 - mae: 0.245 - ETA: 1:05 - loss: 0.2458 - mae: 0.245 - ETA: 1:05 - loss: 0.2458 - mae: 0.245 - ETA: 1:05 - loss: 0.2457 - mae: 0.245 - ETA: 1:05 - loss: 0.2457 - mae: 0.245 - ETA: 1:05 - loss: 0.2457 - mae: 0.245 - ETA: 1:05 - loss: 0.2457 - mae: 0.245 - ETA: 1:05 - loss: 0.2457 - mae: 0.245 - ETA: 1:05 - loss: 0.2457 - mae: 0.245 - ETA: 1:05 - loss: 0.2457 - mae: 0.245 - ETA: 1:05 - loss: 0.2457 - mae: 0.245 - ETA: 1:05 - loss: 0.2457 - mae: 0.245 - ETA: 1:05 - loss: 0.2456 - mae: 0.245 - ETA: 1:05 - loss: 0.2456 - mae: 0.245 - ETA: 1:05 - loss: 0.2457 - mae: 0.245 - ETA: 1:05 - loss: 0.2457 - mae: 0.245 - ETA: 1:05 - loss: 0.2457 - mae: 0.245 - ETA: 1:04 - loss: 0.2456 - mae: 0.245 - ETA: 1:04 - loss: 0.2456 - mae: 0.245 - ETA: 1:04 - loss: 0.2456 - mae: 0.245 - ETA: 1:04 - loss: 0.2456 - mae: 0.245 - ETA: 1:04 - loss: 0.2455 - mae: 0.245 - ETA: 1:04 - loss: 0.2456 - mae: 0.245 - ETA: 1:04 - loss: 0.2456 - mae: 0.245 - ETA: 1:04 - loss: 0.2455 - mae: 0.245 - ETA: 1:04 - loss: 0.2456 - mae: 0.245 - ETA: 1:04 - loss: 0.2456 - mae: 0.245 - ETA: 1:04 - loss: 0.2456 - mae: 0.245 - ETA: 1:04 - loss: 0.2456 - mae: 0.245 - ETA: 1:04 - loss: 0.2456 - mae: 0.245 - ETA: 1:04 - loss: 0.2456 - mae: 0.245 - ETA: 1:04 - loss: 0.2457 - mae: 0.245 - ETA: 1:04 - loss: 0.2457 - mae: 0.245 - ETA: 1:04 - loss: 0.2457 - mae: 0.245 - ETA: 1:04 - loss: 0.2457 - mae: 0.245 - ETA: 1:03 - loss: 0.2457 - mae: 0.245 - ETA: 1:03 - loss: 0.2457 - mae: 0.245 - ETA: 1:03 - loss: 0.2457 - mae: 0.245 - ETA: 1:03 - loss: 0.2457 - mae: 0.245 - ETA: 1:03 - loss: 0.2457 - mae: 0.245 - ETA: 1:03 - loss: 0.2457 - mae: 0.245 - ETA: 1:03 - loss: 0.2457 - mae: 0.245 - ETA: 1:03 - loss: 0.2457 - mae: 0.245 - ETA: 1:03 - loss: 0.2457 - mae: 0.245 - ETA: 1:03 - loss: 0.2457 - mae: 0.245 - ETA: 1:03 - loss: 0.2457 - mae: 0.245 - ETA: 1:03 - loss: 0.2457 - mae: 0.245 - ETA: 1:03 - loss: 0.2458 - mae: 0.245 - ETA: 1:03 - loss: 0.2458 - mae: 0.245 - ETA: 1:03 - loss: 0.2457 - mae: 0.245 - ETA: 1:03 - loss: 0.2457 - mae: 0.245 - ETA: 1:03 - loss: 0.2457 - mae: 0.245 - ETA: 1:03 - loss: 0.2457 - mae: 0.245 - ETA: 1:02 - loss: 0.2457 - mae: 0.245 - ETA: 1:02 - loss: 0.2457 - mae: 0.245 - ETA: 1:02 - loss: 0.2457 - mae: 0.245 - ETA: 1:02 - loss: 0.2458 - mae: 0.245 - ETA: 1:02 - loss: 0.2458 - mae: 0.245 - ETA: 1:02 - loss: 0.2457 - mae: 0.245 - ETA: 1:02 - loss: 0.2458 - mae: 0.245 - ETA: 1:02 - loss: 0.2457 - mae: 0.245 - ETA: 1:02 - loss: 0.2457 - mae: 0.245 - ETA: 1:02 - loss: 0.2457 - mae: 0.245 - ETA: 1:02 - loss: 0.2457 - mae: 0.245 - ETA: 1:02 - loss: 0.2457 - mae: 0.245 - ETA: 1:02 - loss: 0.2457 - mae: 0.245 - ETA: 1:02 - loss: 0.2457 - mae: 0.245 - ETA: 1:02 - loss: 0.2457 - mae: 0.245 - ETA: 1:02 - loss: 0.2456 - mae: 0.245 - ETA: 1:02 - loss: 0.2457 - mae: 0.245 - ETA: 1:02 - loss: 0.2457 - mae: 0.245 - ETA: 1:01 - loss: 0.2457 - mae: 0.245 - ETA: 1:01 - loss: 0.2456 - mae: 0.245 - ETA: 1:01 - loss: 0.2456 - mae: 0.245 - ETA: 1:01 - loss: 0.2455 - mae: 0.245 - ETA: 1:01 - loss: 0.2456 - mae: 0.245 - ETA: 1:01 - loss: 0.2456 - mae: 0.245 - ETA: 1:01 - loss: 0.2456 - mae: 0.245 - ETA: 1:01 - loss: 0.2456 - mae: 0.245 - ETA: 1:01 - loss: 0.2456 - mae: 0.245 - ETA: 1:01 - loss: 0.2455 - mae: 0.245 - ETA: 1:01 - loss: 0.2455 - mae: 0.245 - ETA: 1:01 - loss: 0.2455 - mae: 0.245 - ETA: 1:01 - loss: 0.2455 - mae: 0.245 - ETA: 1:01 - loss: 0.2455 - mae: 0.245 - ETA: 1:01 - loss: 0.2455 - mae: 0.245 - ETA: 1:01 - loss: 0.2454 - mae: 0.245 - ETA: 1:01 - loss: 0.2454 - mae: 0.245 - ETA: 1:00 - loss: 0.2454 - mae: 0.245 - ETA: 1:00 - loss: 0.2454 - mae: 0.245 - ETA: 1:00 - loss: 0.2454 - mae: 0.245 - ETA: 1:00 - loss: 0.2454 - mae: 0.245 - ETA: 1:00 - loss: 0.2454 - mae: 0.245 - ETA: 1:00 - loss: 0.2454 - mae: 0.245 - ETA: 1:00 - loss: 0.2454 - mae: 0.245 - ETA: 1:00 - loss: 0.2454 - mae: 0.245 - ETA: 1:00 - loss: 0.2454 - mae: 0.245 - ETA: 1:00 - loss: 0.2454 - mae: 0.245 - ETA: 1:00 - loss: 0.2454 - mae: 0.245 - ETA: 1:00 - loss: 0.2454 - mae: 0.245 - ETA: 1:00 - loss: 0.2454 - mae: 0.245 - ETA: 1:00 - loss: 0.2454 - mae: 0.245 - ETA: 1:00 - loss: 0.2454 - mae: 0.245 - ETA: 1:00 - loss: 0.2454 - mae: 0.245 - ETA: 1:00 - loss: 0.2455 - mae: 0.245 - ETA: 1:00 - loss: 0.2454 - mae: 0.245 - ETA: 1:00 - loss: 0.2454 - mae: 0.245 - ETA: 59s - loss: 0.2454 - mae: 0.245 - ETA: 59s - loss: 0.2454 - mae: 0.24 - ETA: 59s - loss: 0.2454 - mae: 0.24 - ETA: 59s - loss: 0.2454 - mae: 0.24 - ETA: 59s - loss: 0.2454 - mae: 0.24 - ETA: 59s - loss: 0.2454 - mae: 0.24 - ETA: 59s - loss: 0.2454 - mae: 0.24 - ETA: 59s - loss: 0.2454 - mae: 0.24 - ETA: 59s - loss: 0.2454 - mae: 0.24 - ETA: 59s - loss: 0.2453 - mae: 0.24 - ETA: 59s - loss: 0.2453 - mae: 0.24 - ETA: 59s - loss: 0.2453 - mae: 0.24 - ETA: 59s - loss: 0.2453 - mae: 0.24 - ETA: 59s - loss: 0.2452 - mae: 0.24 - ETA: 59s - loss: 0.2452 - mae: 0.24 - ETA: 59s - loss: 0.2452 - mae: 0.24 - ETA: 59s - loss: 0.2451 - mae: 0.24 - ETA: 59s - loss: 0.2451 - mae: 0.24 - ETA: 58s - loss: 0.2451 - mae: 0.24 - ETA: 58s - loss: 0.2451 - mae: 0.24 - ETA: 58s - loss: 0.2451 - mae: 0.24 - ETA: 58s - loss: 0.2451 - mae: 0.24 - ETA: 58s - loss: 0.2451 - mae: 0.24 - ETA: 58s - loss: 0.2451 - mae: 0.24 - ETA: 58s - loss: 0.2451 - mae: 0.24 - ETA: 58s - loss: 0.2451 - mae: 0.24 - ETA: 58s - loss: 0.2451 - mae: 0.24 - ETA: 58s - loss: 0.2451 - mae: 0.24 - ETA: 58s - loss: 0.2450 - mae: 0.24 - ETA: 58s - loss: 0.2451 - mae: 0.24 - ETA: 58s - loss: 0.2450 - mae: 0.24 - ETA: 58s - loss: 0.2450 - mae: 0.24 - ETA: 58s - loss: 0.2450 - mae: 0.24 - ETA: 58s - loss: 0.2450 - mae: 0.24 - ETA: 58s - loss: 0.2450 - mae: 0.24 - ETA: 58s - loss: 0.2450 - mae: 0.24 - ETA: 58s - loss: 0.2451 - mae: 0.24 - ETA: 57s - loss: 0.2451 - mae: 0.24 - ETA: 57s - loss: 0.2451 - mae: 0.24 - ETA: 57s - loss: 0.2451 - mae: 0.24 - ETA: 57s - loss: 0.2451 - mae: 0.24 - ETA: 57s - loss: 0.2451 - mae: 0.24 - ETA: 57s - loss: 0.2451 - mae: 0.24 - ETA: 57s - loss: 0.2450 - mae: 0.24 - ETA: 57s - loss: 0.2450 - mae: 0.24 - ETA: 57s - loss: 0.2450 - mae: 0.24 - ETA: 57s - loss: 0.2451 - mae: 0.24 - ETA: 57s - loss: 0.2451 - mae: 0.24 - ETA: 57s - loss: 0.2451 - mae: 0.24 - ETA: 57s - loss: 0.2451 - mae: 0.24 - ETA: 57s - loss: 0.2450 - mae: 0.24 - ETA: 57s - loss: 0.2450 - mae: 0.24 - ETA: 57s - loss: 0.2450 - mae: 0.24 - ETA: 57s - loss: 0.2450 - mae: 0.24 - ETA: 56s - loss: 0.2450 - mae: 0.24 - ETA: 56s - loss: 0.2450 - mae: 0.24 - ETA: 56s - loss: 0.2449 - mae: 0.24 - ETA: 56s - loss: 0.2450 - mae: 0.24 - ETA: 56s - loss: 0.2449 - mae: 0.24 - ETA: 56s - loss: 0.2450 - mae: 0.2450"
     ]
    },
    {
     "name": "stdout",
     "output_type": "stream",
     "text": [
      "153632/299280 [==============>...............] - ETA: 56s - loss: 0.2450 - mae: 0.24 - ETA: 56s - loss: 0.2450 - mae: 0.24 - ETA: 56s - loss: 0.2449 - mae: 0.24 - ETA: 56s - loss: 0.2449 - mae: 0.24 - ETA: 56s - loss: 0.2449 - mae: 0.24 - ETA: 56s - loss: 0.2449 - mae: 0.24 - ETA: 56s - loss: 0.2449 - mae: 0.24 - ETA: 56s - loss: 0.2448 - mae: 0.24 - ETA: 56s - loss: 0.2449 - mae: 0.24 - ETA: 56s - loss: 0.2448 - mae: 0.24 - ETA: 56s - loss: 0.2448 - mae: 0.24 - ETA: 55s - loss: 0.2448 - mae: 0.24 - ETA: 55s - loss: 0.2448 - mae: 0.24 - ETA: 55s - loss: 0.2448 - mae: 0.24 - ETA: 55s - loss: 0.2448 - mae: 0.24 - ETA: 55s - loss: 0.2448 - mae: 0.24 - ETA: 55s - loss: 0.2448 - mae: 0.24 - ETA: 55s - loss: 0.2448 - mae: 0.24 - ETA: 55s - loss: 0.2449 - mae: 0.24 - ETA: 55s - loss: 0.2448 - mae: 0.24 - ETA: 55s - loss: 0.2449 - mae: 0.24 - ETA: 55s - loss: 0.2449 - mae: 0.24 - ETA: 55s - loss: 0.2448 - mae: 0.24 - ETA: 55s - loss: 0.2448 - mae: 0.24 - ETA: 55s - loss: 0.2448 - mae: 0.24 - ETA: 55s - loss: 0.2448 - mae: 0.24 - ETA: 55s - loss: 0.2448 - mae: 0.24 - ETA: 55s - loss: 0.2448 - mae: 0.24 - ETA: 55s - loss: 0.2448 - mae: 0.24 - ETA: 54s - loss: 0.2448 - mae: 0.24 - ETA: 54s - loss: 0.2448 - mae: 0.24 - ETA: 54s - loss: 0.2448 - mae: 0.24 - ETA: 54s - loss: 0.2448 - mae: 0.24 - ETA: 54s - loss: 0.2447 - mae: 0.24 - ETA: 54s - loss: 0.2448 - mae: 0.24 - ETA: 54s - loss: 0.2447 - mae: 0.24 - ETA: 54s - loss: 0.2447 - mae: 0.24 - ETA: 54s - loss: 0.2447 - mae: 0.24 - ETA: 54s - loss: 0.2447 - mae: 0.24 - ETA: 54s - loss: 0.2447 - mae: 0.24 - ETA: 54s - loss: 0.2447 - mae: 0.24 - ETA: 54s - loss: 0.2447 - mae: 0.24 - ETA: 54s - loss: 0.2447 - mae: 0.24 - ETA: 54s - loss: 0.2447 - mae: 0.24 - ETA: 54s - loss: 0.2446 - mae: 0.24 - ETA: 54s - loss: 0.2446 - mae: 0.24 - ETA: 54s - loss: 0.2446 - mae: 0.24 - ETA: 53s - loss: 0.2446 - mae: 0.24 - ETA: 53s - loss: 0.2445 - mae: 0.24 - ETA: 53s - loss: 0.2445 - mae: 0.24 - ETA: 53s - loss: 0.2445 - mae: 0.24 - ETA: 53s - loss: 0.2445 - mae: 0.24 - ETA: 53s - loss: 0.2445 - mae: 0.24 - ETA: 53s - loss: 0.2445 - mae: 0.24 - ETA: 53s - loss: 0.2445 - mae: 0.24 - ETA: 53s - loss: 0.2444 - mae: 0.24 - ETA: 53s - loss: 0.2444 - mae: 0.24 - ETA: 53s - loss: 0.2445 - mae: 0.24 - ETA: 53s - loss: 0.2445 - mae: 0.24 - ETA: 53s - loss: 0.2445 - mae: 0.24 - ETA: 53s - loss: 0.2446 - mae: 0.24 - ETA: 53s - loss: 0.2445 - mae: 0.24 - ETA: 53s - loss: 0.2445 - mae: 0.24 - ETA: 53s - loss: 0.2445 - mae: 0.24 - ETA: 52s - loss: 0.2445 - mae: 0.24 - ETA: 52s - loss: 0.2445 - mae: 0.24 - ETA: 52s - loss: 0.2445 - mae: 0.24 - ETA: 52s - loss: 0.2445 - mae: 0.24 - ETA: 52s - loss: 0.2445 - mae: 0.24 - ETA: 52s - loss: 0.2445 - mae: 0.24 - ETA: 52s - loss: 0.2445 - mae: 0.24 - ETA: 52s - loss: 0.2446 - mae: 0.24 - ETA: 52s - loss: 0.2446 - mae: 0.24 - ETA: 52s - loss: 0.2446 - mae: 0.24 - ETA: 52s - loss: 0.2445 - mae: 0.24 - ETA: 52s - loss: 0.2445 - mae: 0.24 - ETA: 52s - loss: 0.2445 - mae: 0.24 - ETA: 52s - loss: 0.2445 - mae: 0.24 - ETA: 52s - loss: 0.2445 - mae: 0.24 - ETA: 52s - loss: 0.2444 - mae: 0.24 - ETA: 52s - loss: 0.2444 - mae: 0.24 - ETA: 52s - loss: 0.2444 - mae: 0.24 - ETA: 51s - loss: 0.2444 - mae: 0.24 - ETA: 51s - loss: 0.2444 - mae: 0.24 - ETA: 51s - loss: 0.2444 - mae: 0.24 - ETA: 51s - loss: 0.2444 - mae: 0.24 - ETA: 51s - loss: 0.2444 - mae: 0.24 - ETA: 51s - loss: 0.2444 - mae: 0.24 - ETA: 51s - loss: 0.2444 - mae: 0.24 - ETA: 51s - loss: 0.2444 - mae: 0.24 - ETA: 51s - loss: 0.2444 - mae: 0.24 - ETA: 51s - loss: 0.2444 - mae: 0.24 - ETA: 51s - loss: 0.2444 - mae: 0.24 - ETA: 51s - loss: 0.2444 - mae: 0.24 - ETA: 51s - loss: 0.2444 - mae: 0.24 - ETA: 51s - loss: 0.2444 - mae: 0.24 - ETA: 51s - loss: 0.2444 - mae: 0.24 - ETA: 51s - loss: 0.2444 - mae: 0.24 - ETA: 51s - loss: 0.2443 - mae: 0.24 - ETA: 50s - loss: 0.2444 - mae: 0.24 - ETA: 50s - loss: 0.2443 - mae: 0.24 - ETA: 50s - loss: 0.2443 - mae: 0.24 - ETA: 50s - loss: 0.2443 - mae: 0.24 - ETA: 50s - loss: 0.2443 - mae: 0.24 - ETA: 50s - loss: 0.2443 - mae: 0.24 - ETA: 50s - loss: 0.2443 - mae: 0.24 - ETA: 50s - loss: 0.2443 - mae: 0.24 - ETA: 50s - loss: 0.2443 - mae: 0.24 - ETA: 50s - loss: 0.2443 - mae: 0.24 - ETA: 50s - loss: 0.2443 - mae: 0.24 - ETA: 50s - loss: 0.2443 - mae: 0.24 - ETA: 50s - loss: 0.2443 - mae: 0.24 - ETA: 50s - loss: 0.2443 - mae: 0.24 - ETA: 50s - loss: 0.2442 - mae: 0.24 - ETA: 50s - loss: 0.2443 - mae: 0.24 - ETA: 50s - loss: 0.2443 - mae: 0.24 - ETA: 50s - loss: 0.2442 - mae: 0.24 - ETA: 49s - loss: 0.2443 - mae: 0.24 - ETA: 49s - loss: 0.2442 - mae: 0.24 - ETA: 49s - loss: 0.2443 - mae: 0.24 - ETA: 49s - loss: 0.2443 - mae: 0.24 - ETA: 49s - loss: 0.2443 - mae: 0.24 - ETA: 49s - loss: 0.2443 - mae: 0.24 - ETA: 49s - loss: 0.2443 - mae: 0.24 - ETA: 49s - loss: 0.2443 - mae: 0.24 - ETA: 49s - loss: 0.2443 - mae: 0.24 - ETA: 49s - loss: 0.2443 - mae: 0.24 - ETA: 49s - loss: 0.2443 - mae: 0.24 - ETA: 49s - loss: 0.2443 - mae: 0.24 - ETA: 49s - loss: 0.2443 - mae: 0.24 - ETA: 49s - loss: 0.2443 - mae: 0.24 - ETA: 49s - loss: 0.2444 - mae: 0.24 - ETA: 49s - loss: 0.2444 - mae: 0.24 - ETA: 49s - loss: 0.2444 - mae: 0.24 - ETA: 48s - loss: 0.2443 - mae: 0.24 - ETA: 48s - loss: 0.2443 - mae: 0.24 - ETA: 48s - loss: 0.2443 - mae: 0.24 - ETA: 48s - loss: 0.2443 - mae: 0.24 - ETA: 48s - loss: 0.2443 - mae: 0.24 - ETA: 48s - loss: 0.2443 - mae: 0.24 - ETA: 48s - loss: 0.2443 - mae: 0.24 - ETA: 48s - loss: 0.2442 - mae: 0.24 - ETA: 48s - loss: 0.2442 - mae: 0.24 - ETA: 48s - loss: 0.2443 - mae: 0.24 - ETA: 48s - loss: 0.2442 - mae: 0.24 - ETA: 48s - loss: 0.2442 - mae: 0.24 - ETA: 48s - loss: 0.2443 - mae: 0.24 - ETA: 48s - loss: 0.2443 - mae: 0.24 - ETA: 48s - loss: 0.2442 - mae: 0.24 - ETA: 48s - loss: 0.2443 - mae: 0.24 - ETA: 48s - loss: 0.2443 - mae: 0.24 - ETA: 47s - loss: 0.2442 - mae: 0.24 - ETA: 47s - loss: 0.2442 - mae: 0.24 - ETA: 47s - loss: 0.2442 - mae: 0.24 - ETA: 47s - loss: 0.2442 - mae: 0.24 - ETA: 47s - loss: 0.2442 - mae: 0.24 - ETA: 47s - loss: 0.2442 - mae: 0.24 - ETA: 47s - loss: 0.2441 - mae: 0.24 - ETA: 47s - loss: 0.2442 - mae: 0.24 - ETA: 47s - loss: 0.2441 - mae: 0.24 - ETA: 47s - loss: 0.2441 - mae: 0.24 - ETA: 47s - loss: 0.2441 - mae: 0.24 - ETA: 47s - loss: 0.2441 - mae: 0.24 - ETA: 47s - loss: 0.2441 - mae: 0.24 - ETA: 47s - loss: 0.2441 - mae: 0.24 - ETA: 47s - loss: 0.2441 - mae: 0.24 - ETA: 47s - loss: 0.2441 - mae: 0.24 - ETA: 47s - loss: 0.2441 - mae: 0.24 - ETA: 47s - loss: 0.2441 - mae: 0.24 - ETA: 46s - loss: 0.2442 - mae: 0.24 - ETA: 46s - loss: 0.2441 - mae: 0.24 - ETA: 46s - loss: 0.2441 - mae: 0.24 - ETA: 46s - loss: 0.2442 - mae: 0.24 - ETA: 46s - loss: 0.2442 - mae: 0.24 - ETA: 46s - loss: 0.2442 - mae: 0.24 - ETA: 46s - loss: 0.2442 - mae: 0.24 - ETA: 46s - loss: 0.2441 - mae: 0.24 - ETA: 46s - loss: 0.2442 - mae: 0.24 - ETA: 46s - loss: 0.2441 - mae: 0.24 - ETA: 46s - loss: 0.2441 - mae: 0.24 - ETA: 46s - loss: 0.2441 - mae: 0.24 - ETA: 46s - loss: 0.2441 - mae: 0.24 - ETA: 46s - loss: 0.2441 - mae: 0.24 - ETA: 46s - loss: 0.2441 - mae: 0.24 - ETA: 46s - loss: 0.2441 - mae: 0.24 - ETA: 46s - loss: 0.2441 - mae: 0.24 - ETA: 46s - loss: 0.2441 - mae: 0.24 - ETA: 45s - loss: 0.2442 - mae: 0.24 - ETA: 45s - loss: 0.2442 - mae: 0.24 - ETA: 45s - loss: 0.2441 - mae: 0.24 - ETA: 45s - loss: 0.2442 - mae: 0.24 - ETA: 45s - loss: 0.2441 - mae: 0.24 - ETA: 45s - loss: 0.2442 - mae: 0.24 - ETA: 45s - loss: 0.2442 - mae: 0.24 - ETA: 45s - loss: 0.2442 - mae: 0.24 - ETA: 45s - loss: 0.2442 - mae: 0.24 - ETA: 45s - loss: 0.2442 - mae: 0.24 - ETA: 45s - loss: 0.2442 - mae: 0.24 - ETA: 45s - loss: 0.2441 - mae: 0.24 - ETA: 45s - loss: 0.2442 - mae: 0.24 - ETA: 45s - loss: 0.2442 - mae: 0.24 - ETA: 45s - loss: 0.2442 - mae: 0.24 - ETA: 45s - loss: 0.2442 - mae: 0.24 - ETA: 45s - loss: 0.2441 - mae: 0.24 - ETA: 45s - loss: 0.2441 - mae: 0.24 - ETA: 44s - loss: 0.2441 - mae: 0.24 - ETA: 44s - loss: 0.2441 - mae: 0.24 - ETA: 44s - loss: 0.2441 - mae: 0.24 - ETA: 44s - loss: 0.2441 - mae: 0.24 - ETA: 44s - loss: 0.2441 - mae: 0.24 - ETA: 44s - loss: 0.2441 - mae: 0.24 - ETA: 44s - loss: 0.2441 - mae: 0.24 - ETA: 44s - loss: 0.2441 - mae: 0.24 - ETA: 44s - loss: 0.2442 - mae: 0.24 - ETA: 44s - loss: 0.2442 - mae: 0.2442"
     ]
    },
    {
     "name": "stdout",
     "output_type": "stream",
     "text": [
      "193504/299280 [==================>...........] - ETA: 44s - loss: 0.2442 - mae: 0.24 - ETA: 44s - loss: 0.2442 - mae: 0.24 - ETA: 44s - loss: 0.2442 - mae: 0.24 - ETA: 44s - loss: 0.2442 - mae: 0.24 - ETA: 44s - loss: 0.2442 - mae: 0.24 - ETA: 44s - loss: 0.2442 - mae: 0.24 - ETA: 44s - loss: 0.2442 - mae: 0.24 - ETA: 43s - loss: 0.2443 - mae: 0.24 - ETA: 43s - loss: 0.2442 - mae: 0.24 - ETA: 43s - loss: 0.2443 - mae: 0.24 - ETA: 43s - loss: 0.2443 - mae: 0.24 - ETA: 43s - loss: 0.2443 - mae: 0.24 - ETA: 43s - loss: 0.2443 - mae: 0.24 - ETA: 43s - loss: 0.2443 - mae: 0.24 - ETA: 43s - loss: 0.2443 - mae: 0.24 - ETA: 43s - loss: 0.2442 - mae: 0.24 - ETA: 43s - loss: 0.2442 - mae: 0.24 - ETA: 43s - loss: 0.2442 - mae: 0.24 - ETA: 43s - loss: 0.2442 - mae: 0.24 - ETA: 43s - loss: 0.2442 - mae: 0.24 - ETA: 43s - loss: 0.2442 - mae: 0.24 - ETA: 43s - loss: 0.2442 - mae: 0.24 - ETA: 43s - loss: 0.2442 - mae: 0.24 - ETA: 43s - loss: 0.2442 - mae: 0.24 - ETA: 42s - loss: 0.2441 - mae: 0.24 - ETA: 42s - loss: 0.2441 - mae: 0.24 - ETA: 42s - loss: 0.2441 - mae: 0.24 - ETA: 42s - loss: 0.2441 - mae: 0.24 - ETA: 42s - loss: 0.2441 - mae: 0.24 - ETA: 42s - loss: 0.2442 - mae: 0.24 - ETA: 42s - loss: 0.2441 - mae: 0.24 - ETA: 42s - loss: 0.2441 - mae: 0.24 - ETA: 42s - loss: 0.2442 - mae: 0.24 - ETA: 42s - loss: 0.2442 - mae: 0.24 - ETA: 42s - loss: 0.2442 - mae: 0.24 - ETA: 42s - loss: 0.2442 - mae: 0.24 - ETA: 42s - loss: 0.2442 - mae: 0.24 - ETA: 42s - loss: 0.2442 - mae: 0.24 - ETA: 42s - loss: 0.2442 - mae: 0.24 - ETA: 42s - loss: 0.2442 - mae: 0.24 - ETA: 42s - loss: 0.2442 - mae: 0.24 - ETA: 42s - loss: 0.2442 - mae: 0.24 - ETA: 41s - loss: 0.2442 - mae: 0.24 - ETA: 41s - loss: 0.2441 - mae: 0.24 - ETA: 41s - loss: 0.2441 - mae: 0.24 - ETA: 41s - loss: 0.2441 - mae: 0.24 - ETA: 41s - loss: 0.2441 - mae: 0.24 - ETA: 41s - loss: 0.2441 - mae: 0.24 - ETA: 41s - loss: 0.2441 - mae: 0.24 - ETA: 41s - loss: 0.2441 - mae: 0.24 - ETA: 41s - loss: 0.2441 - mae: 0.24 - ETA: 41s - loss: 0.2441 - mae: 0.24 - ETA: 41s - loss: 0.2441 - mae: 0.24 - ETA: 41s - loss: 0.2441 - mae: 0.24 - ETA: 41s - loss: 0.2441 - mae: 0.24 - ETA: 41s - loss: 0.2442 - mae: 0.24 - ETA: 41s - loss: 0.2442 - mae: 0.24 - ETA: 41s - loss: 0.2442 - mae: 0.24 - ETA: 41s - loss: 0.2441 - mae: 0.24 - ETA: 40s - loss: 0.2441 - mae: 0.24 - ETA: 40s - loss: 0.2441 - mae: 0.24 - ETA: 40s - loss: 0.2441 - mae: 0.24 - ETA: 40s - loss: 0.2441 - mae: 0.24 - ETA: 40s - loss: 0.2441 - mae: 0.24 - ETA: 40s - loss: 0.2441 - mae: 0.24 - ETA: 40s - loss: 0.2441 - mae: 0.24 - ETA: 40s - loss: 0.2441 - mae: 0.24 - ETA: 40s - loss: 0.2441 - mae: 0.24 - ETA: 40s - loss: 0.2441 - mae: 0.24 - ETA: 40s - loss: 0.2441 - mae: 0.24 - ETA: 40s - loss: 0.2441 - mae: 0.24 - ETA: 40s - loss: 0.2441 - mae: 0.24 - ETA: 40s - loss: 0.2441 - mae: 0.24 - ETA: 40s - loss: 0.2441 - mae: 0.24 - ETA: 40s - loss: 0.2441 - mae: 0.24 - ETA: 40s - loss: 0.2441 - mae: 0.24 - ETA: 40s - loss: 0.2441 - mae: 0.24 - ETA: 39s - loss: 0.2441 - mae: 0.24 - ETA: 39s - loss: 0.2441 - mae: 0.24 - ETA: 39s - loss: 0.2441 - mae: 0.24 - ETA: 39s - loss: 0.2441 - mae: 0.24 - ETA: 39s - loss: 0.2441 - mae: 0.24 - ETA: 39s - loss: 0.2440 - mae: 0.24 - ETA: 39s - loss: 0.2440 - mae: 0.24 - ETA: 39s - loss: 0.2440 - mae: 0.24 - ETA: 39s - loss: 0.2440 - mae: 0.24 - ETA: 39s - loss: 0.2440 - mae: 0.24 - ETA: 39s - loss: 0.2440 - mae: 0.24 - ETA: 39s - loss: 0.2440 - mae: 0.24 - ETA: 39s - loss: 0.2441 - mae: 0.24 - ETA: 39s - loss: 0.2441 - mae: 0.24 - ETA: 39s - loss: 0.2441 - mae: 0.24 - ETA: 39s - loss: 0.2441 - mae: 0.24 - ETA: 39s - loss: 0.2441 - mae: 0.24 - ETA: 39s - loss: 0.2441 - mae: 0.24 - ETA: 38s - loss: 0.2441 - mae: 0.24 - ETA: 38s - loss: 0.2441 - mae: 0.24 - ETA: 38s - loss: 0.2441 - mae: 0.24 - ETA: 38s - loss: 0.2441 - mae: 0.24 - ETA: 38s - loss: 0.2441 - mae: 0.24 - ETA: 38s - loss: 0.2441 - mae: 0.24 - ETA: 38s - loss: 0.2441 - mae: 0.24 - ETA: 38s - loss: 0.2441 - mae: 0.24 - ETA: 38s - loss: 0.2441 - mae: 0.24 - ETA: 38s - loss: 0.2441 - mae: 0.24 - ETA: 38s - loss: 0.2441 - mae: 0.24 - ETA: 38s - loss: 0.2441 - mae: 0.24 - ETA: 38s - loss: 0.2441 - mae: 0.24 - ETA: 38s - loss: 0.2440 - mae: 0.24 - ETA: 38s - loss: 0.2441 - mae: 0.24 - ETA: 38s - loss: 0.2441 - mae: 0.24 - ETA: 38s - loss: 0.2441 - mae: 0.24 - ETA: 37s - loss: 0.2441 - mae: 0.24 - ETA: 37s - loss: 0.2441 - mae: 0.24 - ETA: 37s - loss: 0.2441 - mae: 0.24 - ETA: 37s - loss: 0.2441 - mae: 0.24 - ETA: 37s - loss: 0.2441 - mae: 0.24 - ETA: 37s - loss: 0.2441 - mae: 0.24 - ETA: 37s - loss: 0.2441 - mae: 0.24 - ETA: 37s - loss: 0.2441 - mae: 0.24 - ETA: 37s - loss: 0.2441 - mae: 0.24 - ETA: 37s - loss: 0.2441 - mae: 0.24 - ETA: 37s - loss: 0.2441 - mae: 0.24 - ETA: 37s - loss: 0.2441 - mae: 0.24 - ETA: 37s - loss: 0.2441 - mae: 0.24 - ETA: 37s - loss: 0.2441 - mae: 0.24 - ETA: 37s - loss: 0.2441 - mae: 0.24 - ETA: 37s - loss: 0.2441 - mae: 0.24 - ETA: 37s - loss: 0.2441 - mae: 0.24 - ETA: 37s - loss: 0.2441 - mae: 0.24 - ETA: 36s - loss: 0.2441 - mae: 0.24 - ETA: 36s - loss: 0.2441 - mae: 0.24 - ETA: 36s - loss: 0.2441 - mae: 0.24 - ETA: 36s - loss: 0.2441 - mae: 0.24 - ETA: 36s - loss: 0.2441 - mae: 0.24 - ETA: 36s - loss: 0.2440 - mae: 0.24 - ETA: 36s - loss: 0.2440 - mae: 0.24 - ETA: 36s - loss: 0.2440 - mae: 0.24 - ETA: 36s - loss: 0.2440 - mae: 0.24 - ETA: 36s - loss: 0.2440 - mae: 0.24 - ETA: 36s - loss: 0.2440 - mae: 0.24 - ETA: 36s - loss: 0.2440 - mae: 0.24 - ETA: 36s - loss: 0.2440 - mae: 0.24 - ETA: 36s - loss: 0.2440 - mae: 0.24 - ETA: 36s - loss: 0.2440 - mae: 0.24 - ETA: 36s - loss: 0.2440 - mae: 0.24 - ETA: 36s - loss: 0.2440 - mae: 0.24 - ETA: 36s - loss: 0.2440 - mae: 0.24 - ETA: 35s - loss: 0.2440 - mae: 0.24 - ETA: 35s - loss: 0.2440 - mae: 0.24 - ETA: 35s - loss: 0.2440 - mae: 0.24 - ETA: 35s - loss: 0.2440 - mae: 0.24 - ETA: 35s - loss: 0.2440 - mae: 0.24 - ETA: 35s - loss: 0.2440 - mae: 0.24 - ETA: 35s - loss: 0.2440 - mae: 0.24 - ETA: 35s - loss: 0.2440 - mae: 0.24 - ETA: 35s - loss: 0.2439 - mae: 0.24 - ETA: 35s - loss: 0.2439 - mae: 0.24 - ETA: 35s - loss: 0.2439 - mae: 0.24 - ETA: 35s - loss: 0.2439 - mae: 0.24 - ETA: 35s - loss: 0.2439 - mae: 0.24 - ETA: 35s - loss: 0.2439 - mae: 0.24 - ETA: 35s - loss: 0.2439 - mae: 0.24 - ETA: 35s - loss: 0.2439 - mae: 0.24 - ETA: 35s - loss: 0.2439 - mae: 0.24 - ETA: 35s - loss: 0.2439 - mae: 0.24 - ETA: 34s - loss: 0.2439 - mae: 0.24 - ETA: 34s - loss: 0.2439 - mae: 0.24 - ETA: 34s - loss: 0.2439 - mae: 0.24 - ETA: 34s - loss: 0.2439 - mae: 0.24 - ETA: 34s - loss: 0.2439 - mae: 0.24 - ETA: 34s - loss: 0.2439 - mae: 0.24 - ETA: 34s - loss: 0.2439 - mae: 0.24 - ETA: 34s - loss: 0.2439 - mae: 0.24 - ETA: 34s - loss: 0.2439 - mae: 0.24 - ETA: 34s - loss: 0.2439 - mae: 0.24 - ETA: 34s - loss: 0.2439 - mae: 0.24 - ETA: 34s - loss: 0.2439 - mae: 0.24 - ETA: 34s - loss: 0.2438 - mae: 0.24 - ETA: 34s - loss: 0.2439 - mae: 0.24 - ETA: 34s - loss: 0.2439 - mae: 0.24 - ETA: 34s - loss: 0.2439 - mae: 0.24 - ETA: 34s - loss: 0.2438 - mae: 0.24 - ETA: 34s - loss: 0.2438 - mae: 0.24 - ETA: 33s - loss: 0.2438 - mae: 0.24 - ETA: 33s - loss: 0.2438 - mae: 0.24 - ETA: 33s - loss: 0.2438 - mae: 0.24 - ETA: 33s - loss: 0.2438 - mae: 0.24 - ETA: 33s - loss: 0.2438 - mae: 0.24 - ETA: 33s - loss: 0.2438 - mae: 0.24 - ETA: 33s - loss: 0.2438 - mae: 0.24 - ETA: 33s - loss: 0.2438 - mae: 0.24 - ETA: 33s - loss: 0.2438 - mae: 0.24 - ETA: 33s - loss: 0.2438 - mae: 0.24 - ETA: 33s - loss: 0.2438 - mae: 0.24 - ETA: 33s - loss: 0.2438 - mae: 0.24 - ETA: 33s - loss: 0.2438 - mae: 0.24 - ETA: 33s - loss: 0.2438 - mae: 0.24 - ETA: 33s - loss: 0.2437 - mae: 0.24 - ETA: 33s - loss: 0.2437 - mae: 0.24 - ETA: 33s - loss: 0.2437 - mae: 0.24 - ETA: 32s - loss: 0.2437 - mae: 0.24 - ETA: 32s - loss: 0.2437 - mae: 0.24 - ETA: 32s - loss: 0.2437 - mae: 0.24 - ETA: 32s - loss: 0.2437 - mae: 0.24 - ETA: 32s - loss: 0.2437 - mae: 0.24 - ETA: 32s - loss: 0.2437 - mae: 0.24 - ETA: 32s - loss: 0.2437 - mae: 0.24 - ETA: 32s - loss: 0.2437 - mae: 0.24 - ETA: 32s - loss: 0.2437 - mae: 0.24 - ETA: 32s - loss: 0.2437 - mae: 0.24 - ETA: 32s - loss: 0.2437 - mae: 0.24 - ETA: 32s - loss: 0.2437 - mae: 0.24 - ETA: 32s - loss: 0.2437 - mae: 0.24 - ETA: 32s - loss: 0.2436 - mae: 0.2436"
     ]
    },
    {
     "name": "stdout",
     "output_type": "stream",
     "text": [
      "232800/299280 [======================>.......] - ETA: 32s - loss: 0.2436 - mae: 0.24 - ETA: 32s - loss: 0.2436 - mae: 0.24 - ETA: 32s - loss: 0.2436 - mae: 0.24 - ETA: 32s - loss: 0.2436 - mae: 0.24 - ETA: 31s - loss: 0.2436 - mae: 0.24 - ETA: 31s - loss: 0.2436 - mae: 0.24 - ETA: 31s - loss: 0.2436 - mae: 0.24 - ETA: 31s - loss: 0.2436 - mae: 0.24 - ETA: 31s - loss: 0.2436 - mae: 0.24 - ETA: 31s - loss: 0.2436 - mae: 0.24 - ETA: 31s - loss: 0.2436 - mae: 0.24 - ETA: 31s - loss: 0.2436 - mae: 0.24 - ETA: 31s - loss: 0.2436 - mae: 0.24 - ETA: 31s - loss: 0.2436 - mae: 0.24 - ETA: 31s - loss: 0.2436 - mae: 0.24 - ETA: 31s - loss: 0.2436 - mae: 0.24 - ETA: 31s - loss: 0.2436 - mae: 0.24 - ETA: 31s - loss: 0.2436 - mae: 0.24 - ETA: 31s - loss: 0.2436 - mae: 0.24 - ETA: 31s - loss: 0.2436 - mae: 0.24 - ETA: 31s - loss: 0.2436 - mae: 0.24 - ETA: 30s - loss: 0.2436 - mae: 0.24 - ETA: 30s - loss: 0.2435 - mae: 0.24 - ETA: 30s - loss: 0.2435 - mae: 0.24 - ETA: 30s - loss: 0.2435 - mae: 0.24 - ETA: 30s - loss: 0.2435 - mae: 0.24 - ETA: 30s - loss: 0.2435 - mae: 0.24 - ETA: 30s - loss: 0.2435 - mae: 0.24 - ETA: 30s - loss: 0.2435 - mae: 0.24 - ETA: 30s - loss: 0.2435 - mae: 0.24 - ETA: 30s - loss: 0.2435 - mae: 0.24 - ETA: 30s - loss: 0.2435 - mae: 0.24 - ETA: 30s - loss: 0.2435 - mae: 0.24 - ETA: 30s - loss: 0.2435 - mae: 0.24 - ETA: 30s - loss: 0.2434 - mae: 0.24 - ETA: 30s - loss: 0.2434 - mae: 0.24 - ETA: 30s - loss: 0.2434 - mae: 0.24 - ETA: 30s - loss: 0.2434 - mae: 0.24 - ETA: 30s - loss: 0.2435 - mae: 0.24 - ETA: 29s - loss: 0.2434 - mae: 0.24 - ETA: 29s - loss: 0.2434 - mae: 0.24 - ETA: 29s - loss: 0.2435 - mae: 0.24 - ETA: 29s - loss: 0.2435 - mae: 0.24 - ETA: 29s - loss: 0.2435 - mae: 0.24 - ETA: 29s - loss: 0.2435 - mae: 0.24 - ETA: 29s - loss: 0.2435 - mae: 0.24 - ETA: 29s - loss: 0.2435 - mae: 0.24 - ETA: 29s - loss: 0.2435 - mae: 0.24 - ETA: 29s - loss: 0.2434 - mae: 0.24 - ETA: 29s - loss: 0.2434 - mae: 0.24 - ETA: 29s - loss: 0.2434 - mae: 0.24 - ETA: 29s - loss: 0.2434 - mae: 0.24 - ETA: 29s - loss: 0.2434 - mae: 0.24 - ETA: 29s - loss: 0.2434 - mae: 0.24 - ETA: 29s - loss: 0.2434 - mae: 0.24 - ETA: 29s - loss: 0.2434 - mae: 0.24 - ETA: 29s - loss: 0.2434 - mae: 0.24 - ETA: 29s - loss: 0.2434 - mae: 0.24 - ETA: 28s - loss: 0.2434 - mae: 0.24 - ETA: 28s - loss: 0.2434 - mae: 0.24 - ETA: 28s - loss: 0.2434 - mae: 0.24 - ETA: 28s - loss: 0.2434 - mae: 0.24 - ETA: 28s - loss: 0.2434 - mae: 0.24 - ETA: 28s - loss: 0.2434 - mae: 0.24 - ETA: 28s - loss: 0.2434 - mae: 0.24 - ETA: 28s - loss: 0.2434 - mae: 0.24 - ETA: 28s - loss: 0.2434 - mae: 0.24 - ETA: 28s - loss: 0.2434 - mae: 0.24 - ETA: 28s - loss: 0.2434 - mae: 0.24 - ETA: 28s - loss: 0.2434 - mae: 0.24 - ETA: 28s - loss: 0.2434 - mae: 0.24 - ETA: 28s - loss: 0.2434 - mae: 0.24 - ETA: 28s - loss: 0.2434 - mae: 0.24 - ETA: 28s - loss: 0.2434 - mae: 0.24 - ETA: 28s - loss: 0.2434 - mae: 0.24 - ETA: 28s - loss: 0.2434 - mae: 0.24 - ETA: 28s - loss: 0.2434 - mae: 0.24 - ETA: 27s - loss: 0.2434 - mae: 0.24 - ETA: 27s - loss: 0.2434 - mae: 0.24 - ETA: 27s - loss: 0.2434 - mae: 0.24 - ETA: 27s - loss: 0.2434 - mae: 0.24 - ETA: 27s - loss: 0.2434 - mae: 0.24 - ETA: 27s - loss: 0.2434 - mae: 0.24 - ETA: 27s - loss: 0.2434 - mae: 0.24 - ETA: 27s - loss: 0.2434 - mae: 0.24 - ETA: 27s - loss: 0.2434 - mae: 0.24 - ETA: 27s - loss: 0.2434 - mae: 0.24 - ETA: 27s - loss: 0.2434 - mae: 0.24 - ETA: 27s - loss: 0.2434 - mae: 0.24 - ETA: 27s - loss: 0.2434 - mae: 0.24 - ETA: 27s - loss: 0.2434 - mae: 0.24 - ETA: 27s - loss: 0.2434 - mae: 0.24 - ETA: 27s - loss: 0.2434 - mae: 0.24 - ETA: 27s - loss: 0.2433 - mae: 0.24 - ETA: 27s - loss: 0.2433 - mae: 0.24 - ETA: 27s - loss: 0.2433 - mae: 0.24 - ETA: 26s - loss: 0.2433 - mae: 0.24 - ETA: 26s - loss: 0.2433 - mae: 0.24 - ETA: 26s - loss: 0.2433 - mae: 0.24 - ETA: 26s - loss: 0.2433 - mae: 0.24 - ETA: 26s - loss: 0.2433 - mae: 0.24 - ETA: 26s - loss: 0.2433 - mae: 0.24 - ETA: 26s - loss: 0.2433 - mae: 0.24 - ETA: 26s - loss: 0.2433 - mae: 0.24 - ETA: 26s - loss: 0.2433 - mae: 0.24 - ETA: 26s - loss: 0.2434 - mae: 0.24 - ETA: 26s - loss: 0.2433 - mae: 0.24 - ETA: 26s - loss: 0.2433 - mae: 0.24 - ETA: 26s - loss: 0.2433 - mae: 0.24 - ETA: 26s - loss: 0.2433 - mae: 0.24 - ETA: 26s - loss: 0.2433 - mae: 0.24 - ETA: 26s - loss: 0.2433 - mae: 0.24 - ETA: 26s - loss: 0.2433 - mae: 0.24 - ETA: 26s - loss: 0.2433 - mae: 0.24 - ETA: 26s - loss: 0.2433 - mae: 0.24 - ETA: 25s - loss: 0.2433 - mae: 0.24 - ETA: 25s - loss: 0.2433 - mae: 0.24 - ETA: 25s - loss: 0.2433 - mae: 0.24 - ETA: 25s - loss: 0.2433 - mae: 0.24 - ETA: 25s - loss: 0.2433 - mae: 0.24 - ETA: 25s - loss: 0.2433 - mae: 0.24 - ETA: 25s - loss: 0.2433 - mae: 0.24 - ETA: 25s - loss: 0.2433 - mae: 0.24 - ETA: 25s - loss: 0.2433 - mae: 0.24 - ETA: 25s - loss: 0.2433 - mae: 0.24 - ETA: 25s - loss: 0.2433 - mae: 0.24 - ETA: 25s - loss: 0.2433 - mae: 0.24 - ETA: 25s - loss: 0.2433 - mae: 0.24 - ETA: 25s - loss: 0.2433 - mae: 0.24 - ETA: 25s - loss: 0.2433 - mae: 0.24 - ETA: 25s - loss: 0.2433 - mae: 0.24 - ETA: 25s - loss: 0.2433 - mae: 0.24 - ETA: 25s - loss: 0.2433 - mae: 0.24 - ETA: 24s - loss: 0.2433 - mae: 0.24 - ETA: 24s - loss: 0.2433 - mae: 0.24 - ETA: 24s - loss: 0.2433 - mae: 0.24 - ETA: 24s - loss: 0.2433 - mae: 0.24 - ETA: 24s - loss: 0.2433 - mae: 0.24 - ETA: 24s - loss: 0.2433 - mae: 0.24 - ETA: 24s - loss: 0.2433 - mae: 0.24 - ETA: 24s - loss: 0.2433 - mae: 0.24 - ETA: 24s - loss: 0.2433 - mae: 0.24 - ETA: 24s - loss: 0.2433 - mae: 0.24 - ETA: 24s - loss: 0.2433 - mae: 0.24 - ETA: 24s - loss: 0.2433 - mae: 0.24 - ETA: 24s - loss: 0.2433 - mae: 0.24 - ETA: 24s - loss: 0.2433 - mae: 0.24 - ETA: 24s - loss: 0.2433 - mae: 0.24 - ETA: 24s - loss: 0.2433 - mae: 0.24 - ETA: 24s - loss: 0.2433 - mae: 0.24 - ETA: 24s - loss: 0.2433 - mae: 0.24 - ETA: 23s - loss: 0.2433 - mae: 0.24 - ETA: 23s - loss: 0.2433 - mae: 0.24 - ETA: 23s - loss: 0.2433 - mae: 0.24 - ETA: 23s - loss: 0.2433 - mae: 0.24 - ETA: 23s - loss: 0.2433 - mae: 0.24 - ETA: 23s - loss: 0.2432 - mae: 0.24 - ETA: 23s - loss: 0.2432 - mae: 0.24 - ETA: 23s - loss: 0.2432 - mae: 0.24 - ETA: 23s - loss: 0.2432 - mae: 0.24 - ETA: 23s - loss: 0.2432 - mae: 0.24 - ETA: 23s - loss: 0.2432 - mae: 0.24 - ETA: 23s - loss: 0.2432 - mae: 0.24 - ETA: 23s - loss: 0.2432 - mae: 0.24 - ETA: 23s - loss: 0.2432 - mae: 0.24 - ETA: 23s - loss: 0.2432 - mae: 0.24 - ETA: 23s - loss: 0.2432 - mae: 0.24 - ETA: 23s - loss: 0.2432 - mae: 0.24 - ETA: 22s - loss: 0.2432 - mae: 0.24 - ETA: 22s - loss: 0.2432 - mae: 0.24 - ETA: 22s - loss: 0.2432 - mae: 0.24 - ETA: 22s - loss: 0.2432 - mae: 0.24 - ETA: 22s - loss: 0.2433 - mae: 0.24 - ETA: 22s - loss: 0.2432 - mae: 0.24 - ETA: 22s - loss: 0.2432 - mae: 0.24 - ETA: 22s - loss: 0.2432 - mae: 0.24 - ETA: 22s - loss: 0.2432 - mae: 0.24 - ETA: 22s - loss: 0.2432 - mae: 0.24 - ETA: 22s - loss: 0.2432 - mae: 0.24 - ETA: 22s - loss: 0.2432 - mae: 0.24 - ETA: 22s - loss: 0.2432 - mae: 0.24 - ETA: 22s - loss: 0.2432 - mae: 0.24 - ETA: 22s - loss: 0.2432 - mae: 0.24 - ETA: 22s - loss: 0.2432 - mae: 0.24 - ETA: 22s - loss: 0.2432 - mae: 0.24 - ETA: 22s - loss: 0.2432 - mae: 0.24 - ETA: 21s - loss: 0.2432 - mae: 0.24 - ETA: 21s - loss: 0.2432 - mae: 0.24 - ETA: 21s - loss: 0.2432 - mae: 0.24 - ETA: 21s - loss: 0.2432 - mae: 0.24 - ETA: 21s - loss: 0.2432 - mae: 0.24 - ETA: 21s - loss: 0.2432 - mae: 0.24 - ETA: 21s - loss: 0.2432 - mae: 0.24 - ETA: 21s - loss: 0.2432 - mae: 0.24 - ETA: 21s - loss: 0.2432 - mae: 0.24 - ETA: 21s - loss: 0.2432 - mae: 0.24 - ETA: 21s - loss: 0.2432 - mae: 0.24 - ETA: 21s - loss: 0.2432 - mae: 0.24 - ETA: 21s - loss: 0.2432 - mae: 0.24 - ETA: 21s - loss: 0.2432 - mae: 0.24 - ETA: 21s - loss: 0.2432 - mae: 0.24 - ETA: 21s - loss: 0.2432 - mae: 0.24 - ETA: 21s - loss: 0.2432 - mae: 0.24 - ETA: 20s - loss: 0.2432 - mae: 0.24 - ETA: 20s - loss: 0.2432 - mae: 0.24 - ETA: 20s - loss: 0.2432 - mae: 0.24 - ETA: 20s - loss: 0.2432 - mae: 0.24 - ETA: 20s - loss: 0.2433 - mae: 0.24 - ETA: 20s - loss: 0.2433 - mae: 0.24 - ETA: 20s - loss: 0.2432 - mae: 0.24 - ETA: 20s - loss: 0.2432 - mae: 0.24 - ETA: 20s - loss: 0.2432 - mae: 0.24 - ETA: 20s - loss: 0.2432 - mae: 0.24 - ETA: 20s - loss: 0.2432 - mae: 0.24 - ETA: 20s - loss: 0.2432 - mae: 0.2432"
     ]
    },
    {
     "name": "stdout",
     "output_type": "stream",
     "text": [
      "273504/299280 [==========================>...] - ETA: 20s - loss: 0.2432 - mae: 0.24 - ETA: 20s - loss: 0.2432 - mae: 0.24 - ETA: 20s - loss: 0.2432 - mae: 0.24 - ETA: 20s - loss: 0.2432 - mae: 0.24 - ETA: 20s - loss: 0.2432 - mae: 0.24 - ETA: 19s - loss: 0.2432 - mae: 0.24 - ETA: 19s - loss: 0.2432 - mae: 0.24 - ETA: 19s - loss: 0.2432 - mae: 0.24 - ETA: 19s - loss: 0.2432 - mae: 0.24 - ETA: 19s - loss: 0.2432 - mae: 0.24 - ETA: 19s - loss: 0.2432 - mae: 0.24 - ETA: 19s - loss: 0.2432 - mae: 0.24 - ETA: 19s - loss: 0.2432 - mae: 0.24 - ETA: 19s - loss: 0.2432 - mae: 0.24 - ETA: 19s - loss: 0.2432 - mae: 0.24 - ETA: 19s - loss: 0.2432 - mae: 0.24 - ETA: 19s - loss: 0.2432 - mae: 0.24 - ETA: 19s - loss: 0.2432 - mae: 0.24 - ETA: 19s - loss: 0.2432 - mae: 0.24 - ETA: 19s - loss: 0.2432 - mae: 0.24 - ETA: 19s - loss: 0.2432 - mae: 0.24 - ETA: 19s - loss: 0.2432 - mae: 0.24 - ETA: 18s - loss: 0.2432 - mae: 0.24 - ETA: 18s - loss: 0.2432 - mae: 0.24 - ETA: 18s - loss: 0.2432 - mae: 0.24 - ETA: 18s - loss: 0.2432 - mae: 0.24 - ETA: 18s - loss: 0.2432 - mae: 0.24 - ETA: 18s - loss: 0.2433 - mae: 0.24 - ETA: 18s - loss: 0.2433 - mae: 0.24 - ETA: 18s - loss: 0.2433 - mae: 0.24 - ETA: 18s - loss: 0.2433 - mae: 0.24 - ETA: 18s - loss: 0.2433 - mae: 0.24 - ETA: 18s - loss: 0.2433 - mae: 0.24 - ETA: 18s - loss: 0.2433 - mae: 0.24 - ETA: 18s - loss: 0.2433 - mae: 0.24 - ETA: 18s - loss: 0.2433 - mae: 0.24 - ETA: 18s - loss: 0.2433 - mae: 0.24 - ETA: 18s - loss: 0.2433 - mae: 0.24 - ETA: 18s - loss: 0.2433 - mae: 0.24 - ETA: 17s - loss: 0.2432 - mae: 0.24 - ETA: 17s - loss: 0.2433 - mae: 0.24 - ETA: 17s - loss: 0.2433 - mae: 0.24 - ETA: 17s - loss: 0.2433 - mae: 0.24 - ETA: 17s - loss: 0.2433 - mae: 0.24 - ETA: 17s - loss: 0.2433 - mae: 0.24 - ETA: 17s - loss: 0.2433 - mae: 0.24 - ETA: 17s - loss: 0.2433 - mae: 0.24 - ETA: 17s - loss: 0.2432 - mae: 0.24 - ETA: 17s - loss: 0.2433 - mae: 0.24 - ETA: 17s - loss: 0.2433 - mae: 0.24 - ETA: 17s - loss: 0.2433 - mae: 0.24 - ETA: 17s - loss: 0.2433 - mae: 0.24 - ETA: 17s - loss: 0.2433 - mae: 0.24 - ETA: 17s - loss: 0.2432 - mae: 0.24 - ETA: 17s - loss: 0.2433 - mae: 0.24 - ETA: 17s - loss: 0.2432 - mae: 0.24 - ETA: 16s - loss: 0.2432 - mae: 0.24 - ETA: 16s - loss: 0.2432 - mae: 0.24 - ETA: 16s - loss: 0.2432 - mae: 0.24 - ETA: 16s - loss: 0.2432 - mae: 0.24 - ETA: 16s - loss: 0.2432 - mae: 0.24 - ETA: 16s - loss: 0.2432 - mae: 0.24 - ETA: 16s - loss: 0.2432 - mae: 0.24 - ETA: 16s - loss: 0.2432 - mae: 0.24 - ETA: 16s - loss: 0.2432 - mae: 0.24 - ETA: 16s - loss: 0.2432 - mae: 0.24 - ETA: 16s - loss: 0.2432 - mae: 0.24 - ETA: 16s - loss: 0.2432 - mae: 0.24 - ETA: 16s - loss: 0.2432 - mae: 0.24 - ETA: 16s - loss: 0.2432 - mae: 0.24 - ETA: 16s - loss: 0.2431 - mae: 0.24 - ETA: 16s - loss: 0.2431 - mae: 0.24 - ETA: 16s - loss: 0.2431 - mae: 0.24 - ETA: 16s - loss: 0.2431 - mae: 0.24 - ETA: 15s - loss: 0.2431 - mae: 0.24 - ETA: 15s - loss: 0.2431 - mae: 0.24 - ETA: 15s - loss: 0.2431 - mae: 0.24 - ETA: 15s - loss: 0.2431 - mae: 0.24 - ETA: 15s - loss: 0.2431 - mae: 0.24 - ETA: 15s - loss: 0.2431 - mae: 0.24 - ETA: 15s - loss: 0.2431 - mae: 0.24 - ETA: 15s - loss: 0.2431 - mae: 0.24 - ETA: 15s - loss: 0.2431 - mae: 0.24 - ETA: 15s - loss: 0.2431 - mae: 0.24 - ETA: 15s - loss: 0.2431 - mae: 0.24 - ETA: 15s - loss: 0.2431 - mae: 0.24 - ETA: 15s - loss: 0.2431 - mae: 0.24 - ETA: 15s - loss: 0.2432 - mae: 0.24 - ETA: 15s - loss: 0.2432 - mae: 0.24 - ETA: 15s - loss: 0.2431 - mae: 0.24 - ETA: 15s - loss: 0.2431 - mae: 0.24 - ETA: 14s - loss: 0.2431 - mae: 0.24 - ETA: 14s - loss: 0.2431 - mae: 0.24 - ETA: 14s - loss: 0.2431 - mae: 0.24 - ETA: 14s - loss: 0.2431 - mae: 0.24 - ETA: 14s - loss: 0.2431 - mae: 0.24 - ETA: 14s - loss: 0.2431 - mae: 0.24 - ETA: 14s - loss: 0.2431 - mae: 0.24 - ETA: 14s - loss: 0.2431 - mae: 0.24 - ETA: 14s - loss: 0.2431 - mae: 0.24 - ETA: 14s - loss: 0.2431 - mae: 0.24 - ETA: 14s - loss: 0.2431 - mae: 0.24 - ETA: 14s - loss: 0.2431 - mae: 0.24 - ETA: 14s - loss: 0.2431 - mae: 0.24 - ETA: 14s - loss: 0.2431 - mae: 0.24 - ETA: 14s - loss: 0.2431 - mae: 0.24 - ETA: 14s - loss: 0.2431 - mae: 0.24 - ETA: 14s - loss: 0.2431 - mae: 0.24 - ETA: 13s - loss: 0.2431 - mae: 0.24 - ETA: 13s - loss: 0.2431 - mae: 0.24 - ETA: 13s - loss: 0.2431 - mae: 0.24 - ETA: 13s - loss: 0.2431 - mae: 0.24 - ETA: 13s - loss: 0.2431 - mae: 0.24 - ETA: 13s - loss: 0.2431 - mae: 0.24 - ETA: 13s - loss: 0.2431 - mae: 0.24 - ETA: 13s - loss: 0.2431 - mae: 0.24 - ETA: 13s - loss: 0.2431 - mae: 0.24 - ETA: 13s - loss: 0.2430 - mae: 0.24 - ETA: 13s - loss: 0.2430 - mae: 0.24 - ETA: 13s - loss: 0.2430 - mae: 0.24 - ETA: 13s - loss: 0.2430 - mae: 0.24 - ETA: 13s - loss: 0.2430 - mae: 0.24 - ETA: 13s - loss: 0.2430 - mae: 0.24 - ETA: 13s - loss: 0.2430 - mae: 0.24 - ETA: 13s - loss: 0.2430 - mae: 0.24 - ETA: 12s - loss: 0.2430 - mae: 0.24 - ETA: 12s - loss: 0.2430 - mae: 0.24 - ETA: 12s - loss: 0.2430 - mae: 0.24 - ETA: 12s - loss: 0.2430 - mae: 0.24 - ETA: 12s - loss: 0.2430 - mae: 0.24 - ETA: 12s - loss: 0.2430 - mae: 0.24 - ETA: 12s - loss: 0.2430 - mae: 0.24 - ETA: 12s - loss: 0.2430 - mae: 0.24 - ETA: 12s - loss: 0.2430 - mae: 0.24 - ETA: 12s - loss: 0.2430 - mae: 0.24 - ETA: 12s - loss: 0.2430 - mae: 0.24 - ETA: 12s - loss: 0.2429 - mae: 0.24 - ETA: 12s - loss: 0.2429 - mae: 0.24 - ETA: 12s - loss: 0.2429 - mae: 0.24 - ETA: 12s - loss: 0.2429 - mae: 0.24 - ETA: 12s - loss: 0.2429 - mae: 0.24 - ETA: 12s - loss: 0.2430 - mae: 0.24 - ETA: 12s - loss: 0.2429 - mae: 0.24 - ETA: 11s - loss: 0.2429 - mae: 0.24 - ETA: 11s - loss: 0.2429 - mae: 0.24 - ETA: 11s - loss: 0.2429 - mae: 0.24 - ETA: 11s - loss: 0.2429 - mae: 0.24 - ETA: 11s - loss: 0.2429 - mae: 0.24 - ETA: 11s - loss: 0.2429 - mae: 0.24 - ETA: 11s - loss: 0.2429 - mae: 0.24 - ETA: 11s - loss: 0.2429 - mae: 0.24 - ETA: 11s - loss: 0.2429 - mae: 0.24 - ETA: 11s - loss: 0.2429 - mae: 0.24 - ETA: 11s - loss: 0.2429 - mae: 0.24 - ETA: 11s - loss: 0.2429 - mae: 0.24 - ETA: 11s - loss: 0.2429 - mae: 0.24 - ETA: 11s - loss: 0.2429 - mae: 0.24 - ETA: 11s - loss: 0.2429 - mae: 0.24 - ETA: 11s - loss: 0.2429 - mae: 0.24 - ETA: 11s - loss: 0.2429 - mae: 0.24 - ETA: 10s - loss: 0.2429 - mae: 0.24 - ETA: 10s - loss: 0.2429 - mae: 0.24 - ETA: 10s - loss: 0.2429 - mae: 0.24 - ETA: 10s - loss: 0.2429 - mae: 0.24 - ETA: 10s - loss: 0.2429 - mae: 0.24 - ETA: 10s - loss: 0.2429 - mae: 0.24 - ETA: 10s - loss: 0.2429 - mae: 0.24 - ETA: 10s - loss: 0.2429 - mae: 0.24 - ETA: 10s - loss: 0.2429 - mae: 0.24 - ETA: 10s - loss: 0.2429 - mae: 0.24 - ETA: 10s - loss: 0.2429 - mae: 0.24 - ETA: 10s - loss: 0.2429 - mae: 0.24 - ETA: 10s - loss: 0.2429 - mae: 0.24 - ETA: 10s - loss: 0.2429 - mae: 0.24 - ETA: 10s - loss: 0.2429 - mae: 0.24 - ETA: 10s - loss: 0.2429 - mae: 0.24 - ETA: 10s - loss: 0.2429 - mae: 0.24 - ETA: 10s - loss: 0.2429 - mae: 0.24 - ETA: 9s - loss: 0.2429 - mae: 0.2429 - ETA: 9s - loss: 0.2429 - mae: 0.242 - ETA: 9s - loss: 0.2429 - mae: 0.242 - ETA: 9s - loss: 0.2429 - mae: 0.242 - ETA: 9s - loss: 0.2429 - mae: 0.242 - ETA: 9s - loss: 0.2429 - mae: 0.242 - ETA: 9s - loss: 0.2429 - mae: 0.242 - ETA: 9s - loss: 0.2428 - mae: 0.242 - ETA: 9s - loss: 0.2428 - mae: 0.242 - ETA: 9s - loss: 0.2428 - mae: 0.242 - ETA: 9s - loss: 0.2428 - mae: 0.242 - ETA: 9s - loss: 0.2428 - mae: 0.242 - ETA: 9s - loss: 0.2428 - mae: 0.242 - ETA: 9s - loss: 0.2428 - mae: 0.242 - ETA: 9s - loss: 0.2428 - mae: 0.242 - ETA: 9s - loss: 0.2428 - mae: 0.242 - ETA: 9s - loss: 0.2428 - mae: 0.242 - ETA: 8s - loss: 0.2428 - mae: 0.242 - ETA: 8s - loss: 0.2428 - mae: 0.242 - ETA: 8s - loss: 0.2428 - mae: 0.242 - ETA: 8s - loss: 0.2428 - mae: 0.242 - ETA: 8s - loss: 0.2428 - mae: 0.242 - ETA: 8s - loss: 0.2428 - mae: 0.242 - ETA: 8s - loss: 0.2428 - mae: 0.242 - ETA: 8s - loss: 0.2428 - mae: 0.242 - ETA: 8s - loss: 0.2428 - mae: 0.242 - ETA: 8s - loss: 0.2428 - mae: 0.242 - ETA: 8s - loss: 0.2428 - mae: 0.242 - ETA: 8s - loss: 0.2428 - mae: 0.242 - ETA: 8s - loss: 0.2428 - mae: 0.242 - ETA: 8s - loss: 0.2428 - mae: 0.242 - ETA: 8s - loss: 0.2428 - mae: 0.242 - ETA: 8s - loss: 0.2428 - mae: 0.242 - ETA: 8s - loss: 0.2428 - mae: 0.242 - ETA: 7s - loss: 0.2428 - mae: 0.242 - ETA: 7s - loss: 0.2428 - mae: 0.242 - ETA: 7s - loss: 0.2428 - mae: 0.2428"
     ]
    },
    {
     "name": "stdout",
     "output_type": "stream",
     "text": [
      "299280/299280 [==============================] - ETA: 7s - loss: 0.2428 - mae: 0.242 - ETA: 7s - loss: 0.2428 - mae: 0.242 - ETA: 7s - loss: 0.2428 - mae: 0.242 - ETA: 7s - loss: 0.2428 - mae: 0.242 - ETA: 7s - loss: 0.2428 - mae: 0.242 - ETA: 7s - loss: 0.2428 - mae: 0.242 - ETA: 7s - loss: 0.2428 - mae: 0.242 - ETA: 7s - loss: 0.2428 - mae: 0.242 - ETA: 7s - loss: 0.2428 - mae: 0.242 - ETA: 7s - loss: 0.2428 - mae: 0.242 - ETA: 7s - loss: 0.2428 - mae: 0.242 - ETA: 7s - loss: 0.2428 - mae: 0.242 - ETA: 7s - loss: 0.2428 - mae: 0.242 - ETA: 7s - loss: 0.2428 - mae: 0.242 - ETA: 6s - loss: 0.2428 - mae: 0.242 - ETA: 6s - loss: 0.2428 - mae: 0.242 - ETA: 6s - loss: 0.2428 - mae: 0.242 - ETA: 6s - loss: 0.2428 - mae: 0.242 - ETA: 6s - loss: 0.2428 - mae: 0.242 - ETA: 6s - loss: 0.2428 - mae: 0.242 - ETA: 6s - loss: 0.2428 - mae: 0.242 - ETA: 6s - loss: 0.2428 - mae: 0.242 - ETA: 6s - loss: 0.2428 - mae: 0.242 - ETA: 6s - loss: 0.2428 - mae: 0.242 - ETA: 6s - loss: 0.2428 - mae: 0.242 - ETA: 6s - loss: 0.2428 - mae: 0.242 - ETA: 6s - loss: 0.2428 - mae: 0.242 - ETA: 6s - loss: 0.2428 - mae: 0.242 - ETA: 6s - loss: 0.2428 - mae: 0.242 - ETA: 6s - loss: 0.2428 - mae: 0.242 - ETA: 6s - loss: 0.2428 - mae: 0.242 - ETA: 6s - loss: 0.2428 - mae: 0.242 - ETA: 5s - loss: 0.2428 - mae: 0.242 - ETA: 5s - loss: 0.2428 - mae: 0.242 - ETA: 5s - loss: 0.2428 - mae: 0.242 - ETA: 5s - loss: 0.2428 - mae: 0.242 - ETA: 5s - loss: 0.2428 - mae: 0.242 - ETA: 5s - loss: 0.2428 - mae: 0.242 - ETA: 5s - loss: 0.2428 - mae: 0.242 - ETA: 5s - loss: 0.2428 - mae: 0.242 - ETA: 5s - loss: 0.2428 - mae: 0.242 - ETA: 5s - loss: 0.2428 - mae: 0.242 - ETA: 5s - loss: 0.2428 - mae: 0.242 - ETA: 5s - loss: 0.2427 - mae: 0.242 - ETA: 5s - loss: 0.2427 - mae: 0.242 - ETA: 5s - loss: 0.2427 - mae: 0.242 - ETA: 5s - loss: 0.2427 - mae: 0.242 - ETA: 5s - loss: 0.2427 - mae: 0.242 - ETA: 5s - loss: 0.2427 - mae: 0.242 - ETA: 4s - loss: 0.2427 - mae: 0.242 - ETA: 4s - loss: 0.2427 - mae: 0.242 - ETA: 4s - loss: 0.2427 - mae: 0.242 - ETA: 4s - loss: 0.2427 - mae: 0.242 - ETA: 4s - loss: 0.2427 - mae: 0.242 - ETA: 4s - loss: 0.2427 - mae: 0.242 - ETA: 4s - loss: 0.2427 - mae: 0.242 - ETA: 4s - loss: 0.2427 - mae: 0.242 - ETA: 4s - loss: 0.2427 - mae: 0.242 - ETA: 4s - loss: 0.2427 - mae: 0.242 - ETA: 4s - loss: 0.2426 - mae: 0.242 - ETA: 4s - loss: 0.2427 - mae: 0.242 - ETA: 4s - loss: 0.2427 - mae: 0.242 - ETA: 4s - loss: 0.2427 - mae: 0.242 - ETA: 4s - loss: 0.2427 - mae: 0.242 - ETA: 4s - loss: 0.2427 - mae: 0.242 - ETA: 4s - loss: 0.2427 - mae: 0.242 - ETA: 4s - loss: 0.2427 - mae: 0.242 - ETA: 4s - loss: 0.2427 - mae: 0.242 - ETA: 3s - loss: 0.2427 - mae: 0.242 - ETA: 3s - loss: 0.2427 - mae: 0.242 - ETA: 3s - loss: 0.2427 - mae: 0.242 - ETA: 3s - loss: 0.2427 - mae: 0.242 - ETA: 3s - loss: 0.2427 - mae: 0.242 - ETA: 3s - loss: 0.2427 - mae: 0.242 - ETA: 3s - loss: 0.2427 - mae: 0.242 - ETA: 3s - loss: 0.2427 - mae: 0.242 - ETA: 3s - loss: 0.2427 - mae: 0.242 - ETA: 3s - loss: 0.2427 - mae: 0.242 - ETA: 3s - loss: 0.2427 - mae: 0.242 - ETA: 3s - loss: 0.2427 - mae: 0.242 - ETA: 3s - loss: 0.2427 - mae: 0.242 - ETA: 3s - loss: 0.2427 - mae: 0.242 - ETA: 3s - loss: 0.2427 - mae: 0.242 - ETA: 3s - loss: 0.2426 - mae: 0.242 - ETA: 3s - loss: 0.2426 - mae: 0.242 - ETA: 2s - loss: 0.2426 - mae: 0.242 - ETA: 2s - loss: 0.2426 - mae: 0.242 - ETA: 2s - loss: 0.2427 - mae: 0.242 - ETA: 2s - loss: 0.2426 - mae: 0.242 - ETA: 2s - loss: 0.2426 - mae: 0.242 - ETA: 2s - loss: 0.2426 - mae: 0.242 - ETA: 2s - loss: 0.2426 - mae: 0.242 - ETA: 2s - loss: 0.2427 - mae: 0.242 - ETA: 2s - loss: 0.2427 - mae: 0.242 - ETA: 2s - loss: 0.2427 - mae: 0.242 - ETA: 2s - loss: 0.2427 - mae: 0.242 - ETA: 2s - loss: 0.2427 - mae: 0.242 - ETA: 2s - loss: 0.2427 - mae: 0.242 - ETA: 2s - loss: 0.2426 - mae: 0.242 - ETA: 2s - loss: 0.2426 - mae: 0.242 - ETA: 2s - loss: 0.2426 - mae: 0.242 - ETA: 2s - loss: 0.2426 - mae: 0.242 - ETA: 1s - loss: 0.2426 - mae: 0.242 - ETA: 1s - loss: 0.2426 - mae: 0.242 - ETA: 1s - loss: 0.2426 - mae: 0.242 - ETA: 1s - loss: 0.2426 - mae: 0.242 - ETA: 1s - loss: 0.2426 - mae: 0.242 - ETA: 1s - loss: 0.2426 - mae: 0.242 - ETA: 1s - loss: 0.2426 - mae: 0.242 - ETA: 1s - loss: 0.2426 - mae: 0.242 - ETA: 1s - loss: 0.2426 - mae: 0.242 - ETA: 1s - loss: 0.2426 - mae: 0.242 - ETA: 1s - loss: 0.2426 - mae: 0.242 - ETA: 1s - loss: 0.2426 - mae: 0.242 - ETA: 1s - loss: 0.2426 - mae: 0.242 - ETA: 1s - loss: 0.2426 - mae: 0.242 - ETA: 1s - loss: 0.2426 - mae: 0.242 - ETA: 1s - loss: 0.2425 - mae: 0.242 - ETA: 1s - loss: 0.2425 - mae: 0.242 - ETA: 0s - loss: 0.2425 - mae: 0.242 - ETA: 0s - loss: 0.2425 - mae: 0.242 - ETA: 0s - loss: 0.2425 - mae: 0.242 - ETA: 0s - loss: 0.2425 - mae: 0.242 - ETA: 0s - loss: 0.2425 - mae: 0.242 - ETA: 0s - loss: 0.2425 - mae: 0.242 - ETA: 0s - loss: 0.2425 - mae: 0.242 - ETA: 0s - loss: 0.2426 - mae: 0.242 - ETA: 0s - loss: 0.2426 - mae: 0.242 - ETA: 0s - loss: 0.2425 - mae: 0.242 - ETA: 0s - loss: 0.2425 - mae: 0.242 - ETA: 0s - loss: 0.2425 - mae: 0.242 - ETA: 0s - loss: 0.2426 - mae: 0.242 - ETA: 0s - loss: 0.2425 - mae: 0.242 - ETA: 0s - loss: 0.2425 - mae: 0.242 - ETA: 0s - loss: 0.2425 - mae: 0.242 - ETA: 0s - loss: 0.2425 - mae: 0.242 - ETA: 0s - loss: 0.2425 - mae: 0.242 - 109s 365us/sample - loss: 0.2425 - mae: 0.2425 - val_loss: 0.2527 - val_mae: 0.2527\n"
     ]
    },
    {
     "data": {
      "text/html": [
       "<span style=\"color:#4527A0\"><h1 style=\"font-size:18px\">Trial complete</h1></span>"
      ],
      "text/plain": [
       "<IPython.core.display.HTML object>"
      ]
     },
     "metadata": {},
     "output_type": "display_data"
    },
    {
     "data": {
      "text/html": [
       "<span style=\"color:#4527A0\"><h1 style=\"font-size:18px\">Trial summary</h1></span>"
      ],
      "text/plain": [
       "<IPython.core.display.HTML object>"
      ]
     },
     "metadata": {},
     "output_type": "display_data"
    },
    {
     "data": {
      "text/html": [
       "<span style=\"color:cyan\"> |-Trial ID: 69dd50e9bb795cee09b410e4d93b32c2</span>"
      ],
      "text/plain": [
       "<IPython.core.display.HTML object>"
      ]
     },
     "metadata": {},
     "output_type": "display_data"
    },
    {
     "data": {
      "text/html": [
       "<span style=\"color:cyan\"> |-Score: 0.2425248771905899</span>"
      ],
      "text/plain": [
       "<IPython.core.display.HTML object>"
      ]
     },
     "metadata": {},
     "output_type": "display_data"
    },
    {
     "data": {
      "text/html": [
       "<span style=\"color:cyan\"> |-Best step: 0</span>"
      ],
      "text/plain": [
       "<IPython.core.display.HTML object>"
      ]
     },
     "metadata": {},
     "output_type": "display_data"
    },
    {
     "data": {
      "text/html": [
       "<span style=\"color:#7E57C2\"><h2 style=\"font-size:16px\">Hyperparameters:</h2></span>"
      ],
      "text/plain": [
       "<IPython.core.display.HTML object>"
      ]
     },
     "metadata": {},
     "output_type": "display_data"
    },
    {
     "data": {
      "text/html": [
       "<span style=\"color:cyan\"> |-learning_rate: 0.0001</span>"
      ],
      "text/plain": [
       "<IPython.core.display.HTML object>"
      ]
     },
     "metadata": {},
     "output_type": "display_data"
    },
    {
     "data": {
      "text/html": [
       "<span style=\"color:blue\"> |-units: 74</span>"
      ],
      "text/plain": [
       "<IPython.core.display.HTML object>"
      ]
     },
     "metadata": {},
     "output_type": "display_data"
    },
    {
     "name": "stdout",
     "output_type": "stream",
     "text": [
      "Train on 299280 samples, validate on 119759 samples\n",
      "Epoch 1/2\n"
     ]
    },
    {
     "name": "stdout",
     "output_type": "stream",
     "text": [
      " 32128/299280 [==>...........................] - ETA: 4:18:02 - loss: 0.5713 - mae: 0.57 - ETA: 44:33 - loss: 0.5566 - mae: 0.5566 - ETA: 27:32 - loss: 0.5563 - mae: 0.55 - ETA: 18:59 - loss: 0.5064 - mae: 0.50 - ETA: 15:24 - loss: 0.4890 - mae: 0.48 - ETA: 12:33 - loss: 0.4640 - mae: 0.46 - ETA: 10:41 - loss: 0.4415 - mae: 0.44 - ETA: 9:22 - loss: 0.4287 - mae: 0.4287 - ETA: 8:24 - loss: 0.4196 - mae: 0.419 - ETA: 7:38 - loss: 0.4127 - mae: 0.412 - ETA: 7:02 - loss: 0.4082 - mae: 0.408 - ETA: 6:32 - loss: 0.4045 - mae: 0.404 - ETA: 6:08 - loss: 0.3999 - mae: 0.399 - ETA: 5:47 - loss: 0.3989 - mae: 0.398 - ETA: 5:29 - loss: 0.3966 - mae: 0.396 - ETA: 5:13 - loss: 0.3966 - mae: 0.396 - ETA: 5:00 - loss: 0.3956 - mae: 0.395 - ETA: 4:48 - loss: 0.3915 - mae: 0.391 - ETA: 4:37 - loss: 0.3889 - mae: 0.388 - ETA: 4:28 - loss: 0.3861 - mae: 0.386 - ETA: 4:19 - loss: 0.3851 - mae: 0.385 - ETA: 4:12 - loss: 0.3839 - mae: 0.383 - ETA: 4:05 - loss: 0.3824 - mae: 0.382 - ETA: 3:58 - loss: 0.3808 - mae: 0.380 - ETA: 3:52 - loss: 0.3794 - mae: 0.379 - ETA: 3:47 - loss: 0.3784 - mae: 0.378 - ETA: 3:42 - loss: 0.3765 - mae: 0.376 - ETA: 3:37 - loss: 0.3752 - mae: 0.375 - ETA: 3:33 - loss: 0.3751 - mae: 0.375 - ETA: 3:29 - loss: 0.3727 - mae: 0.372 - ETA: 3:25 - loss: 0.3713 - mae: 0.371 - ETA: 3:22 - loss: 0.3693 - mae: 0.369 - ETA: 3:19 - loss: 0.3675 - mae: 0.367 - ETA: 3:16 - loss: 0.3684 - mae: 0.368 - ETA: 3:13 - loss: 0.3658 - mae: 0.365 - ETA: 3:10 - loss: 0.3657 - mae: 0.365 - ETA: 3:07 - loss: 0.3639 - mae: 0.363 - ETA: 3:05 - loss: 0.3622 - mae: 0.362 - ETA: 3:03 - loss: 0.3611 - mae: 0.361 - ETA: 3:01 - loss: 0.3608 - mae: 0.360 - ETA: 2:59 - loss: 0.3589 - mae: 0.358 - ETA: 2:56 - loss: 0.3580 - mae: 0.358 - ETA: 2:55 - loss: 0.3567 - mae: 0.356 - ETA: 2:53 - loss: 0.3547 - mae: 0.354 - ETA: 2:51 - loss: 0.3541 - mae: 0.354 - ETA: 2:49 - loss: 0.3535 - mae: 0.353 - ETA: 2:48 - loss: 0.3520 - mae: 0.352 - ETA: 2:46 - loss: 0.3504 - mae: 0.350 - ETA: 2:45 - loss: 0.3493 - mae: 0.349 - ETA: 2:43 - loss: 0.3475 - mae: 0.347 - ETA: 2:42 - loss: 0.3467 - mae: 0.346 - ETA: 2:41 - loss: 0.3450 - mae: 0.345 - ETA: 2:39 - loss: 0.3434 - mae: 0.343 - ETA: 2:38 - loss: 0.3425 - mae: 0.342 - ETA: 2:37 - loss: 0.3421 - mae: 0.342 - ETA: 2:36 - loss: 0.3407 - mae: 0.340 - ETA: 2:35 - loss: 0.3400 - mae: 0.340 - ETA: 2:34 - loss: 0.3381 - mae: 0.338 - ETA: 2:33 - loss: 0.3376 - mae: 0.337 - ETA: 2:32 - loss: 0.3366 - mae: 0.336 - ETA: 2:31 - loss: 0.3361 - mae: 0.336 - ETA: 2:30 - loss: 0.3352 - mae: 0.335 - ETA: 2:29 - loss: 0.3343 - mae: 0.334 - ETA: 2:28 - loss: 0.3330 - mae: 0.333 - ETA: 2:27 - loss: 0.3322 - mae: 0.332 - ETA: 2:26 - loss: 0.3317 - mae: 0.331 - ETA: 2:25 - loss: 0.3315 - mae: 0.331 - ETA: 2:25 - loss: 0.3308 - mae: 0.330 - ETA: 2:24 - loss: 0.3304 - mae: 0.330 - ETA: 2:23 - loss: 0.3300 - mae: 0.330 - ETA: 2:22 - loss: 0.3298 - mae: 0.329 - ETA: 2:22 - loss: 0.3293 - mae: 0.329 - ETA: 2:21 - loss: 0.3283 - mae: 0.328 - ETA: 2:20 - loss: 0.3278 - mae: 0.327 - ETA: 2:20 - loss: 0.3275 - mae: 0.327 - ETA: 2:19 - loss: 0.3262 - mae: 0.326 - ETA: 2:18 - loss: 0.3257 - mae: 0.325 - ETA: 2:18 - loss: 0.3252 - mae: 0.325 - ETA: 2:17 - loss: 0.3249 - mae: 0.324 - ETA: 2:17 - loss: 0.3241 - mae: 0.324 - ETA: 2:16 - loss: 0.3236 - mae: 0.323 - ETA: 2:15 - loss: 0.3229 - mae: 0.322 - ETA: 2:15 - loss: 0.3222 - mae: 0.322 - ETA: 2:14 - loss: 0.3221 - mae: 0.322 - ETA: 2:14 - loss: 0.3216 - mae: 0.321 - ETA: 2:13 - loss: 0.3207 - mae: 0.320 - ETA: 2:13 - loss: 0.3205 - mae: 0.320 - ETA: 2:12 - loss: 0.3205 - mae: 0.320 - ETA: 2:12 - loss: 0.3200 - mae: 0.320 - ETA: 2:11 - loss: 0.3193 - mae: 0.319 - ETA: 2:11 - loss: 0.3190 - mae: 0.319 - ETA: 2:10 - loss: 0.3187 - mae: 0.318 - ETA: 2:10 - loss: 0.3177 - mae: 0.317 - ETA: 2:10 - loss: 0.3171 - mae: 0.317 - ETA: 2:09 - loss: 0.3169 - mae: 0.316 - ETA: 2:09 - loss: 0.3165 - mae: 0.316 - ETA: 2:08 - loss: 0.3162 - mae: 0.316 - ETA: 2:08 - loss: 0.3159 - mae: 0.315 - ETA: 2:08 - loss: 0.3157 - mae: 0.315 - ETA: 2:07 - loss: 0.3153 - mae: 0.315 - ETA: 2:07 - loss: 0.3150 - mae: 0.315 - ETA: 2:06 - loss: 0.3142 - mae: 0.314 - ETA: 2:06 - loss: 0.3139 - mae: 0.313 - ETA: 2:06 - loss: 0.3137 - mae: 0.313 - ETA: 2:05 - loss: 0.3134 - mae: 0.313 - ETA: 2:05 - loss: 0.3132 - mae: 0.313 - ETA: 2:05 - loss: 0.3125 - mae: 0.312 - ETA: 2:04 - loss: 0.3123 - mae: 0.312 - ETA: 2:04 - loss: 0.3117 - mae: 0.311 - ETA: 2:04 - loss: 0.3111 - mae: 0.311 - ETA: 2:03 - loss: 0.3108 - mae: 0.310 - ETA: 2:03 - loss: 0.3104 - mae: 0.310 - ETA: 2:03 - loss: 0.3101 - mae: 0.310 - ETA: 2:02 - loss: 0.3097 - mae: 0.309 - ETA: 2:02 - loss: 0.3093 - mae: 0.309 - ETA: 2:02 - loss: 0.3089 - mae: 0.308 - ETA: 2:01 - loss: 0.3085 - mae: 0.308 - ETA: 2:01 - loss: 0.3081 - mae: 0.308 - ETA: 2:01 - loss: 0.3077 - mae: 0.307 - ETA: 2:01 - loss: 0.3075 - mae: 0.307 - ETA: 2:00 - loss: 0.3074 - mae: 0.307 - ETA: 2:00 - loss: 0.3070 - mae: 0.307 - ETA: 2:00 - loss: 0.3065 - mae: 0.306 - ETA: 1:59 - loss: 0.3062 - mae: 0.306 - ETA: 1:59 - loss: 0.3061 - mae: 0.306 - ETA: 1:59 - loss: 0.3056 - mae: 0.305 - ETA: 1:59 - loss: 0.3055 - mae: 0.305 - ETA: 1:58 - loss: 0.3053 - mae: 0.305 - ETA: 1:58 - loss: 0.3049 - mae: 0.304 - ETA: 1:58 - loss: 0.3047 - mae: 0.304 - ETA: 1:58 - loss: 0.3046 - mae: 0.304 - ETA: 1:57 - loss: 0.3042 - mae: 0.304 - ETA: 1:57 - loss: 0.3038 - mae: 0.303 - ETA: 1:57 - loss: 0.3037 - mae: 0.303 - ETA: 1:57 - loss: 0.3034 - mae: 0.303 - ETA: 1:56 - loss: 0.3030 - mae: 0.303 - ETA: 1:56 - loss: 0.3029 - mae: 0.302 - ETA: 1:56 - loss: 0.3027 - mae: 0.302 - ETA: 1:56 - loss: 0.3025 - mae: 0.302 - ETA: 1:55 - loss: 0.3023 - mae: 0.302 - ETA: 1:55 - loss: 0.3022 - mae: 0.302 - ETA: 1:55 - loss: 0.3021 - mae: 0.302 - ETA: 1:55 - loss: 0.3020 - mae: 0.302 - ETA: 1:55 - loss: 0.3017 - mae: 0.301 - ETA: 1:54 - loss: 0.3015 - mae: 0.301 - ETA: 1:54 - loss: 0.3013 - mae: 0.301 - ETA: 1:54 - loss: 0.3011 - mae: 0.301 - ETA: 1:54 - loss: 0.3010 - mae: 0.300 - ETA: 1:54 - loss: 0.3007 - mae: 0.300 - ETA: 1:53 - loss: 0.3005 - mae: 0.300 - ETA: 1:53 - loss: 0.3004 - mae: 0.300 - ETA: 1:53 - loss: 0.3002 - mae: 0.300 - ETA: 1:53 - loss: 0.2999 - mae: 0.299 - ETA: 1:53 - loss: 0.2997 - mae: 0.299 - ETA: 1:52 - loss: 0.2995 - mae: 0.299 - ETA: 1:52 - loss: 0.2994 - mae: 0.299 - ETA: 1:52 - loss: 0.2989 - mae: 0.298 - ETA: 1:52 - loss: 0.2988 - mae: 0.298 - ETA: 1:52 - loss: 0.2986 - mae: 0.298 - ETA: 1:51 - loss: 0.2984 - mae: 0.298 - ETA: 1:51 - loss: 0.2985 - mae: 0.298 - ETA: 1:51 - loss: 0.2983 - mae: 0.298 - ETA: 1:51 - loss: 0.2983 - mae: 0.298 - ETA: 1:51 - loss: 0.2979 - mae: 0.297 - ETA: 1:51 - loss: 0.2979 - mae: 0.297 - ETA: 1:50 - loss: 0.2978 - mae: 0.297 - ETA: 1:50 - loss: 0.2978 - mae: 0.297 - ETA: 1:50 - loss: 0.2976 - mae: 0.297 - ETA: 1:50 - loss: 0.2974 - mae: 0.297 - ETA: 1:50 - loss: 0.2973 - mae: 0.297 - ETA: 1:50 - loss: 0.2971 - mae: 0.297 - ETA: 1:49 - loss: 0.2968 - mae: 0.296 - ETA: 1:49 - loss: 0.2967 - mae: 0.296 - ETA: 1:49 - loss: 0.2966 - mae: 0.296 - ETA: 1:49 - loss: 0.2965 - mae: 0.296 - ETA: 1:49 - loss: 0.2963 - mae: 0.296 - ETA: 1:49 - loss: 0.2960 - mae: 0.296 - ETA: 1:48 - loss: 0.2958 - mae: 0.295 - ETA: 1:48 - loss: 0.2955 - mae: 0.295 - ETA: 1:48 - loss: 0.2951 - mae: 0.295 - ETA: 1:48 - loss: 0.2951 - mae: 0.295 - ETA: 1:48 - loss: 0.2949 - mae: 0.294 - ETA: 1:48 - loss: 0.2950 - mae: 0.295 - ETA: 1:48 - loss: 0.2949 - mae: 0.294 - ETA: 1:47 - loss: 0.2947 - mae: 0.294 - ETA: 1:47 - loss: 0.2947 - mae: 0.294 - ETA: 1:47 - loss: 0.2946 - mae: 0.294 - ETA: 1:47 - loss: 0.2945 - mae: 0.294 - ETA: 1:47 - loss: 0.2943 - mae: 0.294 - ETA: 1:47 - loss: 0.2942 - mae: 0.294 - ETA: 1:47 - loss: 0.2943 - mae: 0.294 - ETA: 1:46 - loss: 0.2941 - mae: 0.294 - ETA: 1:46 - loss: 0.2940 - mae: 0.294 - ETA: 1:46 - loss: 0.2938 - mae: 0.293 - ETA: 1:46 - loss: 0.2935 - mae: 0.293 - ETA: 1:46 - loss: 0.2932 - mae: 0.293 - ETA: 1:46 - loss: 0.2930 - mae: 0.293 - ETA: 1:46 - loss: 0.2929 - mae: 0.292 - ETA: 1:45 - loss: 0.2927 - mae: 0.292 - ETA: 1:45 - loss: 0.2927 - mae: 0.292 - ETA: 1:45 - loss: 0.2925 - mae: 0.292 - ETA: 1:45 - loss: 0.2923 - mae: 0.2923\b\b\b\b\b\b\b\b\b\b\b\b\b\b\b\b\b\b\b\b\b\b\b\b\b\b\b\b\b\b\b\b\b\b\b\b\b\b\b\b\b\b\b\b\b\b\b\b\b\b\b\b\b\b\b\b\b\b\b\b\b\b\b\b\b\b\b\b\b\b\b\b\b\b\b\b\b\b\b\b\b\b\b\b\b\b\b"
     ]
    },
    {
     "name": "stdout",
     "output_type": "stream",
     "text": [
      " 64512/299280 [=====>........................] - ETA: 1:45 - loss: 0.2922 - mae: 0.292 - ETA: 1:45 - loss: 0.2920 - mae: 0.292 - ETA: 1:45 - loss: 0.2918 - mae: 0.291 - ETA: 1:44 - loss: 0.2917 - mae: 0.291 - ETA: 1:44 - loss: 0.2915 - mae: 0.291 - ETA: 1:44 - loss: 0.2914 - mae: 0.291 - ETA: 1:44 - loss: 0.2912 - mae: 0.291 - ETA: 1:44 - loss: 0.2912 - mae: 0.291 - ETA: 1:44 - loss: 0.2910 - mae: 0.291 - ETA: 1:44 - loss: 0.2908 - mae: 0.290 - ETA: 1:44 - loss: 0.2906 - mae: 0.290 - ETA: 1:43 - loss: 0.2905 - mae: 0.290 - ETA: 1:43 - loss: 0.2905 - mae: 0.290 - ETA: 1:43 - loss: 0.2904 - mae: 0.290 - ETA: 1:43 - loss: 0.2903 - mae: 0.290 - ETA: 1:43 - loss: 0.2904 - mae: 0.290 - ETA: 1:43 - loss: 0.2903 - mae: 0.290 - ETA: 1:43 - loss: 0.2902 - mae: 0.290 - ETA: 1:43 - loss: 0.2901 - mae: 0.290 - ETA: 1:42 - loss: 0.2900 - mae: 0.290 - ETA: 1:42 - loss: 0.2899 - mae: 0.289 - ETA: 1:42 - loss: 0.2899 - mae: 0.289 - ETA: 1:42 - loss: 0.2897 - mae: 0.289 - ETA: 1:42 - loss: 0.2895 - mae: 0.289 - ETA: 1:42 - loss: 0.2894 - mae: 0.289 - ETA: 1:42 - loss: 0.2893 - mae: 0.289 - ETA: 1:42 - loss: 0.2892 - mae: 0.289 - ETA: 1:42 - loss: 0.2891 - mae: 0.289 - ETA: 1:41 - loss: 0.2891 - mae: 0.289 - ETA: 1:41 - loss: 0.2890 - mae: 0.289 - ETA: 1:41 - loss: 0.2890 - mae: 0.289 - ETA: 1:41 - loss: 0.2890 - mae: 0.289 - ETA: 1:41 - loss: 0.2887 - mae: 0.288 - ETA: 1:41 - loss: 0.2887 - mae: 0.288 - ETA: 1:41 - loss: 0.2885 - mae: 0.288 - ETA: 1:41 - loss: 0.2883 - mae: 0.288 - ETA: 1:40 - loss: 0.2882 - mae: 0.288 - ETA: 1:40 - loss: 0.2880 - mae: 0.288 - ETA: 1:40 - loss: 0.2879 - mae: 0.287 - ETA: 1:40 - loss: 0.2877 - mae: 0.287 - ETA: 1:40 - loss: 0.2877 - mae: 0.287 - ETA: 1:40 - loss: 0.2876 - mae: 0.287 - ETA: 1:40 - loss: 0.2875 - mae: 0.287 - ETA: 1:40 - loss: 0.2874 - mae: 0.287 - ETA: 1:40 - loss: 0.2873 - mae: 0.287 - ETA: 1:39 - loss: 0.2872 - mae: 0.287 - ETA: 1:39 - loss: 0.2870 - mae: 0.287 - ETA: 1:39 - loss: 0.2870 - mae: 0.287 - ETA: 1:39 - loss: 0.2869 - mae: 0.286 - ETA: 1:39 - loss: 0.2867 - mae: 0.286 - ETA: 1:39 - loss: 0.2866 - mae: 0.286 - ETA: 1:39 - loss: 0.2865 - mae: 0.286 - ETA: 1:39 - loss: 0.2864 - mae: 0.286 - ETA: 1:39 - loss: 0.2863 - mae: 0.286 - ETA: 1:39 - loss: 0.2862 - mae: 0.286 - ETA: 1:38 - loss: 0.2863 - mae: 0.286 - ETA: 1:38 - loss: 0.2862 - mae: 0.286 - ETA: 1:38 - loss: 0.2860 - mae: 0.286 - ETA: 1:38 - loss: 0.2859 - mae: 0.285 - ETA: 1:38 - loss: 0.2859 - mae: 0.285 - ETA: 1:38 - loss: 0.2859 - mae: 0.285 - ETA: 1:38 - loss: 0.2858 - mae: 0.285 - ETA: 1:38 - loss: 0.2857 - mae: 0.285 - ETA: 1:38 - loss: 0.2857 - mae: 0.285 - ETA: 1:38 - loss: 0.2855 - mae: 0.285 - ETA: 1:37 - loss: 0.2853 - mae: 0.285 - ETA: 1:37 - loss: 0.2852 - mae: 0.285 - ETA: 1:37 - loss: 0.2851 - mae: 0.285 - ETA: 1:37 - loss: 0.2850 - mae: 0.285 - ETA: 1:37 - loss: 0.2849 - mae: 0.284 - ETA: 1:37 - loss: 0.2848 - mae: 0.284 - ETA: 1:37 - loss: 0.2847 - mae: 0.284 - ETA: 1:37 - loss: 0.2846 - mae: 0.284 - ETA: 1:37 - loss: 0.2844 - mae: 0.284 - ETA: 1:37 - loss: 0.2843 - mae: 0.284 - ETA: 1:36 - loss: 0.2842 - mae: 0.284 - ETA: 1:36 - loss: 0.2842 - mae: 0.284 - ETA: 1:36 - loss: 0.2840 - mae: 0.284 - ETA: 1:36 - loss: 0.2840 - mae: 0.284 - ETA: 1:36 - loss: 0.2839 - mae: 0.283 - ETA: 1:36 - loss: 0.2838 - mae: 0.283 - ETA: 1:36 - loss: 0.2837 - mae: 0.283 - ETA: 1:36 - loss: 0.2837 - mae: 0.283 - ETA: 1:36 - loss: 0.2835 - mae: 0.283 - ETA: 1:36 - loss: 0.2834 - mae: 0.283 - ETA: 1:36 - loss: 0.2833 - mae: 0.283 - ETA: 1:35 - loss: 0.2832 - mae: 0.283 - ETA: 1:35 - loss: 0.2830 - mae: 0.283 - ETA: 1:35 - loss: 0.2829 - mae: 0.282 - ETA: 1:35 - loss: 0.2828 - mae: 0.282 - ETA: 1:35 - loss: 0.2827 - mae: 0.282 - ETA: 1:35 - loss: 0.2825 - mae: 0.282 - ETA: 1:35 - loss: 0.2825 - mae: 0.282 - ETA: 1:35 - loss: 0.2823 - mae: 0.282 - ETA: 1:35 - loss: 0.2823 - mae: 0.282 - ETA: 1:35 - loss: 0.2822 - mae: 0.282 - ETA: 1:35 - loss: 0.2821 - mae: 0.282 - ETA: 1:35 - loss: 0.2820 - mae: 0.282 - ETA: 1:34 - loss: 0.2819 - mae: 0.281 - ETA: 1:34 - loss: 0.2819 - mae: 0.281 - ETA: 1:34 - loss: 0.2818 - mae: 0.281 - ETA: 1:34 - loss: 0.2818 - mae: 0.281 - ETA: 1:34 - loss: 0.2815 - mae: 0.281 - ETA: 1:34 - loss: 0.2815 - mae: 0.281 - ETA: 1:34 - loss: 0.2815 - mae: 0.281 - ETA: 1:34 - loss: 0.2813 - mae: 0.281 - ETA: 1:34 - loss: 0.2812 - mae: 0.281 - ETA: 1:34 - loss: 0.2811 - mae: 0.281 - ETA: 1:34 - loss: 0.2812 - mae: 0.281 - ETA: 1:34 - loss: 0.2812 - mae: 0.281 - ETA: 1:34 - loss: 0.2811 - mae: 0.281 - ETA: 1:34 - loss: 0.2810 - mae: 0.281 - ETA: 1:33 - loss: 0.2810 - mae: 0.281 - ETA: 1:33 - loss: 0.2810 - mae: 0.281 - ETA: 1:33 - loss: 0.2808 - mae: 0.280 - ETA: 1:33 - loss: 0.2808 - mae: 0.280 - ETA: 1:33 - loss: 0.2809 - mae: 0.280 - ETA: 1:33 - loss: 0.2808 - mae: 0.280 - ETA: 1:33 - loss: 0.2807 - mae: 0.280 - ETA: 1:33 - loss: 0.2806 - mae: 0.280 - ETA: 1:33 - loss: 0.2805 - mae: 0.280 - ETA: 1:33 - loss: 0.2804 - mae: 0.280 - ETA: 1:33 - loss: 0.2804 - mae: 0.280 - ETA: 1:33 - loss: 0.2804 - mae: 0.280 - ETA: 1:32 - loss: 0.2804 - mae: 0.280 - ETA: 1:32 - loss: 0.2803 - mae: 0.280 - ETA: 1:32 - loss: 0.2802 - mae: 0.280 - ETA: 1:32 - loss: 0.2801 - mae: 0.280 - ETA: 1:32 - loss: 0.2801 - mae: 0.280 - ETA: 1:32 - loss: 0.2801 - mae: 0.280 - ETA: 1:32 - loss: 0.2801 - mae: 0.280 - ETA: 1:32 - loss: 0.2800 - mae: 0.280 - ETA: 1:32 - loss: 0.2800 - mae: 0.280 - ETA: 1:32 - loss: 0.2799 - mae: 0.279 - ETA: 1:32 - loss: 0.2798 - mae: 0.279 - ETA: 1:32 - loss: 0.2797 - mae: 0.279 - ETA: 1:32 - loss: 0.2796 - mae: 0.279 - ETA: 1:31 - loss: 0.2795 - mae: 0.279 - ETA: 1:31 - loss: 0.2794 - mae: 0.279 - ETA: 1:31 - loss: 0.2793 - mae: 0.279 - ETA: 1:31 - loss: 0.2792 - mae: 0.279 - ETA: 1:31 - loss: 0.2792 - mae: 0.279 - ETA: 1:31 - loss: 0.2792 - mae: 0.279 - ETA: 1:31 - loss: 0.2792 - mae: 0.279 - ETA: 1:31 - loss: 0.2791 - mae: 0.279 - ETA: 1:31 - loss: 0.2790 - mae: 0.279 - ETA: 1:31 - loss: 0.2789 - mae: 0.278 - ETA: 1:31 - loss: 0.2789 - mae: 0.278 - ETA: 1:31 - loss: 0.2789 - mae: 0.278 - ETA: 1:31 - loss: 0.2788 - mae: 0.278 - ETA: 1:30 - loss: 0.2788 - mae: 0.278 - ETA: 1:30 - loss: 0.2787 - mae: 0.278 - ETA: 1:30 - loss: 0.2786 - mae: 0.278 - ETA: 1:30 - loss: 0.2786 - mae: 0.278 - ETA: 1:30 - loss: 0.2785 - mae: 0.278 - ETA: 1:30 - loss: 0.2784 - mae: 0.278 - ETA: 1:30 - loss: 0.2783 - mae: 0.278 - ETA: 1:30 - loss: 0.2784 - mae: 0.278 - ETA: 1:30 - loss: 0.2783 - mae: 0.278 - ETA: 1:30 - loss: 0.2783 - mae: 0.278 - ETA: 1:30 - loss: 0.2782 - mae: 0.278 - ETA: 1:30 - loss: 0.2782 - mae: 0.278 - ETA: 1:30 - loss: 0.2782 - mae: 0.278 - ETA: 1:29 - loss: 0.2781 - mae: 0.278 - ETA: 1:29 - loss: 0.2781 - mae: 0.278 - ETA: 1:29 - loss: 0.2780 - mae: 0.278 - ETA: 1:29 - loss: 0.2780 - mae: 0.278 - ETA: 1:29 - loss: 0.2779 - mae: 0.277 - ETA: 1:29 - loss: 0.2778 - mae: 0.277 - ETA: 1:29 - loss: 0.2778 - mae: 0.277 - ETA: 1:29 - loss: 0.2777 - mae: 0.277 - ETA: 1:29 - loss: 0.2777 - mae: 0.277 - ETA: 1:29 - loss: 0.2777 - mae: 0.277 - ETA: 1:29 - loss: 0.2776 - mae: 0.277 - ETA: 1:29 - loss: 0.2775 - mae: 0.277 - ETA: 1:29 - loss: 0.2775 - mae: 0.277 - ETA: 1:28 - loss: 0.2775 - mae: 0.277 - ETA: 1:28 - loss: 0.2774 - mae: 0.277 - ETA: 1:28 - loss: 0.2774 - mae: 0.277 - ETA: 1:28 - loss: 0.2773 - mae: 0.277 - ETA: 1:28 - loss: 0.2772 - mae: 0.277 - ETA: 1:28 - loss: 0.2771 - mae: 0.277 - ETA: 1:28 - loss: 0.2771 - mae: 0.277 - ETA: 1:28 - loss: 0.2770 - mae: 0.277 - ETA: 1:28 - loss: 0.2769 - mae: 0.276 - ETA: 1:28 - loss: 0.2768 - mae: 0.276 - ETA: 1:28 - loss: 0.2768 - mae: 0.276 - ETA: 1:28 - loss: 0.2768 - mae: 0.276 - ETA: 1:28 - loss: 0.2767 - mae: 0.276 - ETA: 1:28 - loss: 0.2767 - mae: 0.276 - ETA: 1:27 - loss: 0.2766 - mae: 0.276 - ETA: 1:27 - loss: 0.2766 - mae: 0.276 - ETA: 1:27 - loss: 0.2765 - mae: 0.276 - ETA: 1:27 - loss: 0.2764 - mae: 0.276 - ETA: 1:27 - loss: 0.2763 - mae: 0.276 - ETA: 1:27 - loss: 0.2763 - mae: 0.276 - ETA: 1:27 - loss: 0.2762 - mae: 0.276 - ETA: 1:27 - loss: 0.2762 - mae: 0.276 - ETA: 1:27 - loss: 0.2762 - mae: 0.276 - ETA: 1:27 - loss: 0.2761 - mae: 0.276 - ETA: 1:27 - loss: 0.2761 - mae: 0.276 - ETA: 1:27 - loss: 0.2760 - mae: 0.276 - ETA: 1:27 - loss: 0.2759 - mae: 0.275 - ETA: 1:26 - loss: 0.2760 - mae: 0.2760"
     ]
    },
    {
     "name": "stdout",
     "output_type": "stream",
     "text": [
      " 97152/299280 [========>.....................] - ETA: 1:26 - loss: 0.2758 - mae: 0.275 - ETA: 1:26 - loss: 0.2758 - mae: 0.275 - ETA: 1:26 - loss: 0.2757 - mae: 0.275 - ETA: 1:26 - loss: 0.2756 - mae: 0.275 - ETA: 1:26 - loss: 0.2756 - mae: 0.275 - ETA: 1:26 - loss: 0.2756 - mae: 0.275 - ETA: 1:26 - loss: 0.2756 - mae: 0.275 - ETA: 1:26 - loss: 0.2755 - mae: 0.275 - ETA: 1:26 - loss: 0.2755 - mae: 0.275 - ETA: 1:26 - loss: 0.2754 - mae: 0.275 - ETA: 1:26 - loss: 0.2753 - mae: 0.275 - ETA: 1:26 - loss: 0.2753 - mae: 0.275 - ETA: 1:26 - loss: 0.2751 - mae: 0.275 - ETA: 1:25 - loss: 0.2751 - mae: 0.275 - ETA: 1:25 - loss: 0.2750 - mae: 0.275 - ETA: 1:25 - loss: 0.2750 - mae: 0.275 - ETA: 1:25 - loss: 0.2750 - mae: 0.275 - ETA: 1:25 - loss: 0.2750 - mae: 0.275 - ETA: 1:25 - loss: 0.2749 - mae: 0.274 - ETA: 1:25 - loss: 0.2749 - mae: 0.274 - ETA: 1:25 - loss: 0.2749 - mae: 0.274 - ETA: 1:25 - loss: 0.2748 - mae: 0.274 - ETA: 1:25 - loss: 0.2748 - mae: 0.274 - ETA: 1:25 - loss: 0.2747 - mae: 0.274 - ETA: 1:25 - loss: 0.2747 - mae: 0.274 - ETA: 1:25 - loss: 0.2746 - mae: 0.274 - ETA: 1:24 - loss: 0.2746 - mae: 0.274 - ETA: 1:24 - loss: 0.2746 - mae: 0.274 - ETA: 1:24 - loss: 0.2745 - mae: 0.274 - ETA: 1:24 - loss: 0.2744 - mae: 0.274 - ETA: 1:24 - loss: 0.2743 - mae: 0.274 - ETA: 1:24 - loss: 0.2742 - mae: 0.274 - ETA: 1:24 - loss: 0.2742 - mae: 0.274 - ETA: 1:24 - loss: 0.2742 - mae: 0.274 - ETA: 1:24 - loss: 0.2741 - mae: 0.274 - ETA: 1:24 - loss: 0.2740 - mae: 0.274 - ETA: 1:24 - loss: 0.2740 - mae: 0.274 - ETA: 1:24 - loss: 0.2739 - mae: 0.273 - ETA: 1:24 - loss: 0.2738 - mae: 0.273 - ETA: 1:24 - loss: 0.2737 - mae: 0.273 - ETA: 1:23 - loss: 0.2737 - mae: 0.273 - ETA: 1:23 - loss: 0.2736 - mae: 0.273 - ETA: 1:23 - loss: 0.2736 - mae: 0.273 - ETA: 1:23 - loss: 0.2736 - mae: 0.273 - ETA: 1:23 - loss: 0.2735 - mae: 0.273 - ETA: 1:23 - loss: 0.2735 - mae: 0.273 - ETA: 1:23 - loss: 0.2735 - mae: 0.273 - ETA: 1:23 - loss: 0.2735 - mae: 0.273 - ETA: 1:23 - loss: 0.2734 - mae: 0.273 - ETA: 1:23 - loss: 0.2734 - mae: 0.273 - ETA: 1:23 - loss: 0.2733 - mae: 0.273 - ETA: 1:23 - loss: 0.2732 - mae: 0.273 - ETA: 1:23 - loss: 0.2732 - mae: 0.273 - ETA: 1:22 - loss: 0.2732 - mae: 0.273 - ETA: 1:22 - loss: 0.2731 - mae: 0.273 - ETA: 1:22 - loss: 0.2731 - mae: 0.273 - ETA: 1:22 - loss: 0.2731 - mae: 0.273 - ETA: 1:22 - loss: 0.2730 - mae: 0.273 - ETA: 1:22 - loss: 0.2730 - mae: 0.273 - ETA: 1:22 - loss: 0.2730 - mae: 0.273 - ETA: 1:22 - loss: 0.2730 - mae: 0.273 - ETA: 1:22 - loss: 0.2729 - mae: 0.272 - ETA: 1:22 - loss: 0.2729 - mae: 0.272 - ETA: 1:22 - loss: 0.2730 - mae: 0.273 - ETA: 1:22 - loss: 0.2730 - mae: 0.273 - ETA: 1:22 - loss: 0.2729 - mae: 0.272 - ETA: 1:22 - loss: 0.2729 - mae: 0.272 - ETA: 1:22 - loss: 0.2729 - mae: 0.272 - ETA: 1:21 - loss: 0.2728 - mae: 0.272 - ETA: 1:21 - loss: 0.2728 - mae: 0.272 - ETA: 1:21 - loss: 0.2728 - mae: 0.272 - ETA: 1:21 - loss: 0.2728 - mae: 0.272 - ETA: 1:21 - loss: 0.2727 - mae: 0.272 - ETA: 1:21 - loss: 0.2726 - mae: 0.272 - ETA: 1:21 - loss: 0.2726 - mae: 0.272 - ETA: 1:21 - loss: 0.2725 - mae: 0.272 - ETA: 1:21 - loss: 0.2725 - mae: 0.272 - ETA: 1:21 - loss: 0.2724 - mae: 0.272 - ETA: 1:21 - loss: 0.2724 - mae: 0.272 - ETA: 1:21 - loss: 0.2723 - mae: 0.272 - ETA: 1:21 - loss: 0.2723 - mae: 0.272 - ETA: 1:21 - loss: 0.2723 - mae: 0.272 - ETA: 1:20 - loss: 0.2722 - mae: 0.272 - ETA: 1:20 - loss: 0.2722 - mae: 0.272 - ETA: 1:20 - loss: 0.2721 - mae: 0.272 - ETA: 1:20 - loss: 0.2720 - mae: 0.272 - ETA: 1:20 - loss: 0.2720 - mae: 0.272 - ETA: 1:20 - loss: 0.2719 - mae: 0.271 - ETA: 1:20 - loss: 0.2719 - mae: 0.271 - ETA: 1:20 - loss: 0.2718 - mae: 0.271 - ETA: 1:20 - loss: 0.2717 - mae: 0.271 - ETA: 1:20 - loss: 0.2717 - mae: 0.271 - ETA: 1:20 - loss: 0.2717 - mae: 0.271 - ETA: 1:20 - loss: 0.2717 - mae: 0.271 - ETA: 1:20 - loss: 0.2716 - mae: 0.271 - ETA: 1:20 - loss: 0.2716 - mae: 0.271 - ETA: 1:20 - loss: 0.2716 - mae: 0.271 - ETA: 1:19 - loss: 0.2715 - mae: 0.271 - ETA: 1:19 - loss: 0.2714 - mae: 0.271 - ETA: 1:19 - loss: 0.2714 - mae: 0.271 - ETA: 1:19 - loss: 0.2714 - mae: 0.271 - ETA: 1:19 - loss: 0.2713 - mae: 0.271 - ETA: 1:19 - loss: 0.2713 - mae: 0.271 - ETA: 1:19 - loss: 0.2712 - mae: 0.271 - ETA: 1:19 - loss: 0.2711 - mae: 0.271 - ETA: 1:19 - loss: 0.2711 - mae: 0.271 - ETA: 1:19 - loss: 0.2710 - mae: 0.271 - ETA: 1:19 - loss: 0.2710 - mae: 0.271 - ETA: 1:19 - loss: 0.2710 - mae: 0.271 - ETA: 1:19 - loss: 0.2710 - mae: 0.271 - ETA: 1:19 - loss: 0.2709 - mae: 0.270 - ETA: 1:18 - loss: 0.2709 - mae: 0.270 - ETA: 1:18 - loss: 0.2709 - mae: 0.270 - ETA: 1:18 - loss: 0.2708 - mae: 0.270 - ETA: 1:18 - loss: 0.2708 - mae: 0.270 - ETA: 1:18 - loss: 0.2708 - mae: 0.270 - ETA: 1:18 - loss: 0.2707 - mae: 0.270 - ETA: 1:18 - loss: 0.2707 - mae: 0.270 - ETA: 1:18 - loss: 0.2707 - mae: 0.270 - ETA: 1:18 - loss: 0.2707 - mae: 0.270 - ETA: 1:18 - loss: 0.2707 - mae: 0.270 - ETA: 1:18 - loss: 0.2706 - mae: 0.270 - ETA: 1:18 - loss: 0.2706 - mae: 0.270 - ETA: 1:18 - loss: 0.2705 - mae: 0.270 - ETA: 1:18 - loss: 0.2705 - mae: 0.270 - ETA: 1:18 - loss: 0.2704 - mae: 0.270 - ETA: 1:17 - loss: 0.2704 - mae: 0.270 - ETA: 1:17 - loss: 0.2703 - mae: 0.270 - ETA: 1:17 - loss: 0.2703 - mae: 0.270 - ETA: 1:17 - loss: 0.2702 - mae: 0.270 - ETA: 1:17 - loss: 0.2702 - mae: 0.270 - ETA: 1:17 - loss: 0.2701 - mae: 0.270 - ETA: 1:17 - loss: 0.2701 - mae: 0.270 - ETA: 1:17 - loss: 0.2700 - mae: 0.270 - ETA: 1:17 - loss: 0.2700 - mae: 0.270 - ETA: 1:17 - loss: 0.2700 - mae: 0.270 - ETA: 1:17 - loss: 0.2699 - mae: 0.269 - ETA: 1:17 - loss: 0.2699 - mae: 0.269 - ETA: 1:17 - loss: 0.2699 - mae: 0.269 - ETA: 1:17 - loss: 0.2699 - mae: 0.269 - ETA: 1:17 - loss: 0.2699 - mae: 0.269 - ETA: 1:16 - loss: 0.2699 - mae: 0.269 - ETA: 1:16 - loss: 0.2698 - mae: 0.269 - ETA: 1:16 - loss: 0.2698 - mae: 0.269 - ETA: 1:16 - loss: 0.2698 - mae: 0.269 - ETA: 1:16 - loss: 0.2697 - mae: 0.269 - ETA: 1:16 - loss: 0.2697 - mae: 0.269 - ETA: 1:16 - loss: 0.2697 - mae: 0.269 - ETA: 1:16 - loss: 0.2696 - mae: 0.269 - ETA: 1:16 - loss: 0.2696 - mae: 0.269 - ETA: 1:16 - loss: 0.2695 - mae: 0.269 - ETA: 1:16 - loss: 0.2695 - mae: 0.269 - ETA: 1:16 - loss: 0.2695 - mae: 0.269 - ETA: 1:16 - loss: 0.2694 - mae: 0.269 - ETA: 1:16 - loss: 0.2693 - mae: 0.269 - ETA: 1:16 - loss: 0.2693 - mae: 0.269 - ETA: 1:15 - loss: 0.2692 - mae: 0.269 - ETA: 1:15 - loss: 0.2692 - mae: 0.269 - ETA: 1:15 - loss: 0.2692 - mae: 0.269 - ETA: 1:15 - loss: 0.2692 - mae: 0.269 - ETA: 1:15 - loss: 0.2692 - mae: 0.269 - ETA: 1:15 - loss: 0.2692 - mae: 0.269 - ETA: 1:15 - loss: 0.2691 - mae: 0.269 - ETA: 1:15 - loss: 0.2691 - mae: 0.269 - ETA: 1:15 - loss: 0.2690 - mae: 0.269 - ETA: 1:15 - loss: 0.2689 - mae: 0.268 - ETA: 1:15 - loss: 0.2689 - mae: 0.268 - ETA: 1:15 - loss: 0.2688 - mae: 0.268 - ETA: 1:15 - loss: 0.2688 - mae: 0.268 - ETA: 1:15 - loss: 0.2688 - mae: 0.268 - ETA: 1:15 - loss: 0.2688 - mae: 0.268 - ETA: 1:15 - loss: 0.2688 - mae: 0.268 - ETA: 1:14 - loss: 0.2687 - mae: 0.268 - ETA: 1:14 - loss: 0.2688 - mae: 0.268 - ETA: 1:14 - loss: 0.2687 - mae: 0.268 - ETA: 1:14 - loss: 0.2687 - mae: 0.268 - ETA: 1:14 - loss: 0.2686 - mae: 0.268 - ETA: 1:14 - loss: 0.2686 - mae: 0.268 - ETA: 1:14 - loss: 0.2686 - mae: 0.268 - ETA: 1:14 - loss: 0.2686 - mae: 0.268 - ETA: 1:14 - loss: 0.2686 - mae: 0.268 - ETA: 1:14 - loss: 0.2686 - mae: 0.268 - ETA: 1:14 - loss: 0.2685 - mae: 0.268 - ETA: 1:14 - loss: 0.2684 - mae: 0.268 - ETA: 1:14 - loss: 0.2684 - mae: 0.268 - ETA: 1:14 - loss: 0.2684 - mae: 0.268 - ETA: 1:14 - loss: 0.2683 - mae: 0.268 - ETA: 1:13 - loss: 0.2683 - mae: 0.268 - ETA: 1:13 - loss: 0.2682 - mae: 0.268 - ETA: 1:13 - loss: 0.2682 - mae: 0.268 - ETA: 1:13 - loss: 0.2683 - mae: 0.268 - ETA: 1:13 - loss: 0.2683 - mae: 0.268 - ETA: 1:13 - loss: 0.2682 - mae: 0.268 - ETA: 1:13 - loss: 0.2682 - mae: 0.268 - ETA: 1:13 - loss: 0.2681 - mae: 0.268 - ETA: 1:13 - loss: 0.2681 - mae: 0.268 - ETA: 1:13 - loss: 0.2681 - mae: 0.268 - ETA: 1:13 - loss: 0.2681 - mae: 0.268 - ETA: 1:13 - loss: 0.2680 - mae: 0.268 - ETA: 1:13 - loss: 0.2681 - mae: 0.268 - ETA: 1:13 - loss: 0.2680 - mae: 0.268 - ETA: 1:13 - loss: 0.2680 - mae: 0.268 - ETA: 1:13 - loss: 0.2680 - mae: 0.268 - ETA: 1:12 - loss: 0.2679 - mae: 0.2679"
     ]
    },
    {
     "name": "stdout",
     "output_type": "stream",
     "text": [
      "129792/299280 [============>.................] - ETA: 1:12 - loss: 0.2679 - mae: 0.267 - ETA: 1:12 - loss: 0.2678 - mae: 0.267 - ETA: 1:12 - loss: 0.2678 - mae: 0.267 - ETA: 1:12 - loss: 0.2677 - mae: 0.267 - ETA: 1:12 - loss: 0.2677 - mae: 0.267 - ETA: 1:12 - loss: 0.2677 - mae: 0.267 - ETA: 1:12 - loss: 0.2676 - mae: 0.267 - ETA: 1:12 - loss: 0.2676 - mae: 0.267 - ETA: 1:12 - loss: 0.2676 - mae: 0.267 - ETA: 1:12 - loss: 0.2675 - mae: 0.267 - ETA: 1:12 - loss: 0.2675 - mae: 0.267 - ETA: 1:12 - loss: 0.2675 - mae: 0.267 - ETA: 1:12 - loss: 0.2674 - mae: 0.267 - ETA: 1:12 - loss: 0.2674 - mae: 0.267 - ETA: 1:12 - loss: 0.2673 - mae: 0.267 - ETA: 1:11 - loss: 0.2674 - mae: 0.267 - ETA: 1:11 - loss: 0.2673 - mae: 0.267 - ETA: 1:11 - loss: 0.2673 - mae: 0.267 - ETA: 1:11 - loss: 0.2673 - mae: 0.267 - ETA: 1:11 - loss: 0.2673 - mae: 0.267 - ETA: 1:11 - loss: 0.2673 - mae: 0.267 - ETA: 1:11 - loss: 0.2673 - mae: 0.267 - ETA: 1:11 - loss: 0.2672 - mae: 0.267 - ETA: 1:11 - loss: 0.2672 - mae: 0.267 - ETA: 1:11 - loss: 0.2672 - mae: 0.267 - ETA: 1:11 - loss: 0.2672 - mae: 0.267 - ETA: 1:11 - loss: 0.2671 - mae: 0.267 - ETA: 1:11 - loss: 0.2671 - mae: 0.267 - ETA: 1:11 - loss: 0.2670 - mae: 0.267 - ETA: 1:11 - loss: 0.2670 - mae: 0.267 - ETA: 1:11 - loss: 0.2670 - mae: 0.267 - ETA: 1:10 - loss: 0.2670 - mae: 0.267 - ETA: 1:10 - loss: 0.2670 - mae: 0.267 - ETA: 1:10 - loss: 0.2670 - mae: 0.267 - ETA: 1:10 - loss: 0.2670 - mae: 0.267 - ETA: 1:10 - loss: 0.2669 - mae: 0.266 - ETA: 1:10 - loss: 0.2669 - mae: 0.266 - ETA: 1:10 - loss: 0.2668 - mae: 0.266 - ETA: 1:10 - loss: 0.2667 - mae: 0.266 - ETA: 1:10 - loss: 0.2667 - mae: 0.266 - ETA: 1:10 - loss: 0.2667 - mae: 0.266 - ETA: 1:10 - loss: 0.2667 - mae: 0.266 - ETA: 1:10 - loss: 0.2667 - mae: 0.266 - ETA: 1:10 - loss: 0.2667 - mae: 0.266 - ETA: 1:10 - loss: 0.2666 - mae: 0.266 - ETA: 1:10 - loss: 0.2666 - mae: 0.266 - ETA: 1:10 - loss: 0.2666 - mae: 0.266 - ETA: 1:09 - loss: 0.2665 - mae: 0.266 - ETA: 1:09 - loss: 0.2665 - mae: 0.266 - ETA: 1:09 - loss: 0.2665 - mae: 0.266 - ETA: 1:09 - loss: 0.2665 - mae: 0.266 - ETA: 1:09 - loss: 0.2665 - mae: 0.266 - ETA: 1:09 - loss: 0.2665 - mae: 0.266 - ETA: 1:09 - loss: 0.2665 - mae: 0.266 - ETA: 1:09 - loss: 0.2664 - mae: 0.266 - ETA: 1:09 - loss: 0.2664 - mae: 0.266 - ETA: 1:09 - loss: 0.2664 - mae: 0.266 - ETA: 1:09 - loss: 0.2663 - mae: 0.266 - ETA: 1:09 - loss: 0.2663 - mae: 0.266 - ETA: 1:09 - loss: 0.2663 - mae: 0.266 - ETA: 1:09 - loss: 0.2662 - mae: 0.266 - ETA: 1:09 - loss: 0.2663 - mae: 0.266 - ETA: 1:09 - loss: 0.2663 - mae: 0.266 - ETA: 1:08 - loss: 0.2663 - mae: 0.266 - ETA: 1:08 - loss: 0.2663 - mae: 0.266 - ETA: 1:08 - loss: 0.2662 - mae: 0.266 - ETA: 1:08 - loss: 0.2663 - mae: 0.266 - ETA: 1:08 - loss: 0.2662 - mae: 0.266 - ETA: 1:08 - loss: 0.2662 - mae: 0.266 - ETA: 1:08 - loss: 0.2661 - mae: 0.266 - ETA: 1:08 - loss: 0.2661 - mae: 0.266 - ETA: 1:08 - loss: 0.2661 - mae: 0.266 - ETA: 1:08 - loss: 0.2661 - mae: 0.266 - ETA: 1:08 - loss: 0.2661 - mae: 0.266 - ETA: 1:08 - loss: 0.2660 - mae: 0.266 - ETA: 1:08 - loss: 0.2660 - mae: 0.266 - ETA: 1:08 - loss: 0.2660 - mae: 0.266 - ETA: 1:08 - loss: 0.2659 - mae: 0.265 - ETA: 1:08 - loss: 0.2659 - mae: 0.265 - ETA: 1:07 - loss: 0.2659 - mae: 0.265 - ETA: 1:07 - loss: 0.2659 - mae: 0.265 - ETA: 1:07 - loss: 0.2659 - mae: 0.265 - ETA: 1:07 - loss: 0.2659 - mae: 0.265 - ETA: 1:07 - loss: 0.2658 - mae: 0.265 - ETA: 1:07 - loss: 0.2658 - mae: 0.265 - ETA: 1:07 - loss: 0.2658 - mae: 0.265 - ETA: 1:07 - loss: 0.2658 - mae: 0.265 - ETA: 1:07 - loss: 0.2658 - mae: 0.265 - ETA: 1:07 - loss: 0.2657 - mae: 0.265 - ETA: 1:07 - loss: 0.2658 - mae: 0.265 - ETA: 1:07 - loss: 0.2657 - mae: 0.265 - ETA: 1:07 - loss: 0.2657 - mae: 0.265 - ETA: 1:07 - loss: 0.2657 - mae: 0.265 - ETA: 1:07 - loss: 0.2657 - mae: 0.265 - ETA: 1:07 - loss: 0.2658 - mae: 0.265 - ETA: 1:06 - loss: 0.2658 - mae: 0.265 - ETA: 1:06 - loss: 0.2658 - mae: 0.265 - ETA: 1:06 - loss: 0.2658 - mae: 0.265 - ETA: 1:06 - loss: 0.2658 - mae: 0.265 - ETA: 1:06 - loss: 0.2657 - mae: 0.265 - ETA: 1:06 - loss: 0.2658 - mae: 0.265 - ETA: 1:06 - loss: 0.2658 - mae: 0.265 - ETA: 1:06 - loss: 0.2657 - mae: 0.265 - ETA: 1:06 - loss: 0.2657 - mae: 0.265 - ETA: 1:06 - loss: 0.2657 - mae: 0.265 - ETA: 1:06 - loss: 0.2657 - mae: 0.265 - ETA: 1:06 - loss: 0.2657 - mae: 0.265 - ETA: 1:06 - loss: 0.2657 - mae: 0.265 - ETA: 1:06 - loss: 0.2656 - mae: 0.265 - ETA: 1:06 - loss: 0.2656 - mae: 0.265 - ETA: 1:06 - loss: 0.2656 - mae: 0.265 - ETA: 1:06 - loss: 0.2656 - mae: 0.265 - ETA: 1:05 - loss: 0.2655 - mae: 0.265 - ETA: 1:05 - loss: 0.2656 - mae: 0.265 - ETA: 1:05 - loss: 0.2655 - mae: 0.265 - ETA: 1:05 - loss: 0.2655 - mae: 0.265 - ETA: 1:05 - loss: 0.2654 - mae: 0.265 - ETA: 1:05 - loss: 0.2654 - mae: 0.265 - ETA: 1:05 - loss: 0.2654 - mae: 0.265 - ETA: 1:05 - loss: 0.2654 - mae: 0.265 - ETA: 1:05 - loss: 0.2654 - mae: 0.265 - ETA: 1:05 - loss: 0.2654 - mae: 0.265 - ETA: 1:05 - loss: 0.2653 - mae: 0.265 - ETA: 1:05 - loss: 0.2653 - mae: 0.265 - ETA: 1:05 - loss: 0.2653 - mae: 0.265 - ETA: 1:05 - loss: 0.2653 - mae: 0.265 - ETA: 1:05 - loss: 0.2652 - mae: 0.265 - ETA: 1:05 - loss: 0.2653 - mae: 0.265 - ETA: 1:04 - loss: 0.2653 - mae: 0.265 - ETA: 1:04 - loss: 0.2652 - mae: 0.265 - ETA: 1:04 - loss: 0.2652 - mae: 0.265 - ETA: 1:04 - loss: 0.2652 - mae: 0.265 - ETA: 1:04 - loss: 0.2652 - mae: 0.265 - ETA: 1:04 - loss: 0.2652 - mae: 0.265 - ETA: 1:04 - loss: 0.2652 - mae: 0.265 - ETA: 1:04 - loss: 0.2652 - mae: 0.265 - ETA: 1:04 - loss: 0.2652 - mae: 0.265 - ETA: 1:04 - loss: 0.2652 - mae: 0.265 - ETA: 1:04 - loss: 0.2651 - mae: 0.265 - ETA: 1:04 - loss: 0.2651 - mae: 0.265 - ETA: 1:04 - loss: 0.2651 - mae: 0.265 - ETA: 1:04 - loss: 0.2651 - mae: 0.265 - ETA: 1:04 - loss: 0.2651 - mae: 0.265 - ETA: 1:04 - loss: 0.2650 - mae: 0.265 - ETA: 1:04 - loss: 0.2650 - mae: 0.265 - ETA: 1:03 - loss: 0.2650 - mae: 0.265 - ETA: 1:03 - loss: 0.2650 - mae: 0.265 - ETA: 1:03 - loss: 0.2649 - mae: 0.264 - ETA: 1:03 - loss: 0.2648 - mae: 0.264 - ETA: 1:03 - loss: 0.2648 - mae: 0.264 - ETA: 1:03 - loss: 0.2649 - mae: 0.264 - ETA: 1:03 - loss: 0.2648 - mae: 0.264 - ETA: 1:03 - loss: 0.2648 - mae: 0.264 - ETA: 1:03 - loss: 0.2648 - mae: 0.264 - ETA: 1:03 - loss: 0.2648 - mae: 0.264 - ETA: 1:03 - loss: 0.2648 - mae: 0.264 - ETA: 1:03 - loss: 0.2647 - mae: 0.264 - ETA: 1:03 - loss: 0.2648 - mae: 0.264 - ETA: 1:03 - loss: 0.2647 - mae: 0.264 - ETA: 1:03 - loss: 0.2648 - mae: 0.264 - ETA: 1:03 - loss: 0.2647 - mae: 0.264 - ETA: 1:03 - loss: 0.2647 - mae: 0.264 - ETA: 1:02 - loss: 0.2647 - mae: 0.264 - ETA: 1:02 - loss: 0.2647 - mae: 0.264 - ETA: 1:02 - loss: 0.2647 - mae: 0.264 - ETA: 1:02 - loss: 0.2647 - mae: 0.264 - ETA: 1:02 - loss: 0.2646 - mae: 0.264 - ETA: 1:02 - loss: 0.2646 - mae: 0.264 - ETA: 1:02 - loss: 0.2646 - mae: 0.264 - ETA: 1:02 - loss: 0.2646 - mae: 0.264 - ETA: 1:02 - loss: 0.2646 - mae: 0.264 - ETA: 1:02 - loss: 0.2646 - mae: 0.264 - ETA: 1:02 - loss: 0.2645 - mae: 0.264 - ETA: 1:02 - loss: 0.2645 - mae: 0.264 - ETA: 1:02 - loss: 0.2644 - mae: 0.264 - ETA: 1:02 - loss: 0.2644 - mae: 0.264 - ETA: 1:02 - loss: 0.2644 - mae: 0.264 - ETA: 1:02 - loss: 0.2644 - mae: 0.264 - ETA: 1:02 - loss: 0.2644 - mae: 0.264 - ETA: 1:01 - loss: 0.2644 - mae: 0.264 - ETA: 1:01 - loss: 0.2644 - mae: 0.264 - ETA: 1:01 - loss: 0.2643 - mae: 0.264 - ETA: 1:01 - loss: 0.2643 - mae: 0.264 - ETA: 1:01 - loss: 0.2643 - mae: 0.264 - ETA: 1:01 - loss: 0.2643 - mae: 0.264 - ETA: 1:01 - loss: 0.2642 - mae: 0.264 - ETA: 1:01 - loss: 0.2642 - mae: 0.264 - ETA: 1:01 - loss: 0.2642 - mae: 0.264 - ETA: 1:01 - loss: 0.2641 - mae: 0.264 - ETA: 1:01 - loss: 0.2641 - mae: 0.264 - ETA: 1:01 - loss: 0.2641 - mae: 0.264 - ETA: 1:01 - loss: 0.2641 - mae: 0.264 - ETA: 1:01 - loss: 0.2641 - mae: 0.264 - ETA: 1:01 - loss: 0.2641 - mae: 0.264 - ETA: 1:01 - loss: 0.2641 - mae: 0.264 - ETA: 1:00 - loss: 0.2641 - mae: 0.264 - ETA: 1:00 - loss: 0.2641 - mae: 0.264 - ETA: 1:00 - loss: 0.2640 - mae: 0.264 - ETA: 1:00 - loss: 0.2640 - mae: 0.264 - ETA: 1:00 - loss: 0.2640 - mae: 0.264 - ETA: 1:00 - loss: 0.2639 - mae: 0.263 - ETA: 1:00 - loss: 0.2640 - mae: 0.264 - ETA: 1:00 - loss: 0.2639 - mae: 0.263 - ETA: 1:00 - loss: 0.2639 - mae: 0.2639"
     ]
    },
    {
     "name": "stdout",
     "output_type": "stream",
     "text": [
      "164032/299280 [===============>..............] - ETA: 1:00 - loss: 0.2639 - mae: 0.263 - ETA: 1:00 - loss: 0.2639 - mae: 0.263 - ETA: 1:00 - loss: 0.2639 - mae: 0.263 - ETA: 1:00 - loss: 0.2639 - mae: 0.263 - ETA: 1:00 - loss: 0.2639 - mae: 0.263 - ETA: 1:00 - loss: 0.2639 - mae: 0.263 - ETA: 1:00 - loss: 0.2639 - mae: 0.263 - ETA: 1:00 - loss: 0.2638 - mae: 0.263 - ETA: 59s - loss: 0.2638 - mae: 0.263 - ETA: 59s - loss: 0.2638 - mae: 0.26 - ETA: 59s - loss: 0.2638 - mae: 0.26 - ETA: 59s - loss: 0.2637 - mae: 0.26 - ETA: 59s - loss: 0.2637 - mae: 0.26 - ETA: 59s - loss: 0.2637 - mae: 0.26 - ETA: 59s - loss: 0.2637 - mae: 0.26 - ETA: 59s - loss: 0.2636 - mae: 0.26 - ETA: 59s - loss: 0.2636 - mae: 0.26 - ETA: 59s - loss: 0.2636 - mae: 0.26 - ETA: 59s - loss: 0.2636 - mae: 0.26 - ETA: 59s - loss: 0.2636 - mae: 0.26 - ETA: 59s - loss: 0.2636 - mae: 0.26 - ETA: 59s - loss: 0.2636 - mae: 0.26 - ETA: 59s - loss: 0.2636 - mae: 0.26 - ETA: 59s - loss: 0.2636 - mae: 0.26 - ETA: 59s - loss: 0.2635 - mae: 0.26 - ETA: 58s - loss: 0.2635 - mae: 0.26 - ETA: 58s - loss: 0.2635 - mae: 0.26 - ETA: 58s - loss: 0.2635 - mae: 0.26 - ETA: 58s - loss: 0.2634 - mae: 0.26 - ETA: 58s - loss: 0.2635 - mae: 0.26 - ETA: 58s - loss: 0.2634 - mae: 0.26 - ETA: 58s - loss: 0.2634 - mae: 0.26 - ETA: 58s - loss: 0.2634 - mae: 0.26 - ETA: 58s - loss: 0.2634 - mae: 0.26 - ETA: 58s - loss: 0.2634 - mae: 0.26 - ETA: 58s - loss: 0.2634 - mae: 0.26 - ETA: 58s - loss: 0.2634 - mae: 0.26 - ETA: 58s - loss: 0.2634 - mae: 0.26 - ETA: 58s - loss: 0.2634 - mae: 0.26 - ETA: 58s - loss: 0.2634 - mae: 0.26 - ETA: 58s - loss: 0.2634 - mae: 0.26 - ETA: 57s - loss: 0.2634 - mae: 0.26 - ETA: 57s - loss: 0.2633 - mae: 0.26 - ETA: 57s - loss: 0.2633 - mae: 0.26 - ETA: 57s - loss: 0.2633 - mae: 0.26 - ETA: 57s - loss: 0.2633 - mae: 0.26 - ETA: 57s - loss: 0.2632 - mae: 0.26 - ETA: 57s - loss: 0.2632 - mae: 0.26 - ETA: 57s - loss: 0.2632 - mae: 0.26 - ETA: 57s - loss: 0.2632 - mae: 0.26 - ETA: 57s - loss: 0.2632 - mae: 0.26 - ETA: 57s - loss: 0.2632 - mae: 0.26 - ETA: 57s - loss: 0.2631 - mae: 0.26 - ETA: 57s - loss: 0.2631 - mae: 0.26 - ETA: 57s - loss: 0.2631 - mae: 0.26 - ETA: 57s - loss: 0.2630 - mae: 0.26 - ETA: 57s - loss: 0.2630 - mae: 0.26 - ETA: 57s - loss: 0.2630 - mae: 0.26 - ETA: 56s - loss: 0.2629 - mae: 0.26 - ETA: 56s - loss: 0.2629 - mae: 0.26 - ETA: 56s - loss: 0.2629 - mae: 0.26 - ETA: 56s - loss: 0.2629 - mae: 0.26 - ETA: 56s - loss: 0.2628 - mae: 0.26 - ETA: 56s - loss: 0.2628 - mae: 0.26 - ETA: 56s - loss: 0.2627 - mae: 0.26 - ETA: 56s - loss: 0.2627 - mae: 0.26 - ETA: 56s - loss: 0.2627 - mae: 0.26 - ETA: 56s - loss: 0.2627 - mae: 0.26 - ETA: 56s - loss: 0.2626 - mae: 0.26 - ETA: 56s - loss: 0.2626 - mae: 0.26 - ETA: 56s - loss: 0.2626 - mae: 0.26 - ETA: 56s - loss: 0.2625 - mae: 0.26 - ETA: 56s - loss: 0.2626 - mae: 0.26 - ETA: 56s - loss: 0.2625 - mae: 0.26 - ETA: 56s - loss: 0.2625 - mae: 0.26 - ETA: 55s - loss: 0.2625 - mae: 0.26 - ETA: 55s - loss: 0.2625 - mae: 0.26 - ETA: 55s - loss: 0.2625 - mae: 0.26 - ETA: 55s - loss: 0.2625 - mae: 0.26 - ETA: 55s - loss: 0.2624 - mae: 0.26 - ETA: 55s - loss: 0.2624 - mae: 0.26 - ETA: 55s - loss: 0.2624 - mae: 0.26 - ETA: 55s - loss: 0.2624 - mae: 0.26 - ETA: 55s - loss: 0.2624 - mae: 0.26 - ETA: 55s - loss: 0.2624 - mae: 0.26 - ETA: 55s - loss: 0.2624 - mae: 0.26 - ETA: 55s - loss: 0.2624 - mae: 0.26 - ETA: 55s - loss: 0.2623 - mae: 0.26 - ETA: 55s - loss: 0.2623 - mae: 0.26 - ETA: 55s - loss: 0.2623 - mae: 0.26 - ETA: 55s - loss: 0.2623 - mae: 0.26 - ETA: 55s - loss: 0.2623 - mae: 0.26 - ETA: 54s - loss: 0.2623 - mae: 0.26 - ETA: 54s - loss: 0.2623 - mae: 0.26 - ETA: 54s - loss: 0.2623 - mae: 0.26 - ETA: 54s - loss: 0.2623 - mae: 0.26 - ETA: 54s - loss: 0.2622 - mae: 0.26 - ETA: 54s - loss: 0.2622 - mae: 0.26 - ETA: 54s - loss: 0.2621 - mae: 0.26 - ETA: 54s - loss: 0.2621 - mae: 0.26 - ETA: 54s - loss: 0.2621 - mae: 0.26 - ETA: 54s - loss: 0.2621 - mae: 0.26 - ETA: 54s - loss: 0.2621 - mae: 0.26 - ETA: 54s - loss: 0.2620 - mae: 0.26 - ETA: 54s - loss: 0.2620 - mae: 0.26 - ETA: 54s - loss: 0.2620 - mae: 0.26 - ETA: 54s - loss: 0.2620 - mae: 0.26 - ETA: 54s - loss: 0.2620 - mae: 0.26 - ETA: 54s - loss: 0.2620 - mae: 0.26 - ETA: 53s - loss: 0.2620 - mae: 0.26 - ETA: 53s - loss: 0.2619 - mae: 0.26 - ETA: 53s - loss: 0.2619 - mae: 0.26 - ETA: 53s - loss: 0.2619 - mae: 0.26 - ETA: 53s - loss: 0.2619 - mae: 0.26 - ETA: 53s - loss: 0.2619 - mae: 0.26 - ETA: 53s - loss: 0.2619 - mae: 0.26 - ETA: 53s - loss: 0.2619 - mae: 0.26 - ETA: 53s - loss: 0.2619 - mae: 0.26 - ETA: 53s - loss: 0.2619 - mae: 0.26 - ETA: 53s - loss: 0.2619 - mae: 0.26 - ETA: 53s - loss: 0.2618 - mae: 0.26 - ETA: 53s - loss: 0.2618 - mae: 0.26 - ETA: 53s - loss: 0.2618 - mae: 0.26 - ETA: 53s - loss: 0.2618 - mae: 0.26 - ETA: 53s - loss: 0.2618 - mae: 0.26 - ETA: 53s - loss: 0.2618 - mae: 0.26 - ETA: 52s - loss: 0.2618 - mae: 0.26 - ETA: 52s - loss: 0.2618 - mae: 0.26 - ETA: 52s - loss: 0.2617 - mae: 0.26 - ETA: 52s - loss: 0.2617 - mae: 0.26 - ETA: 52s - loss: 0.2617 - mae: 0.26 - ETA: 52s - loss: 0.2617 - mae: 0.26 - ETA: 52s - loss: 0.2617 - mae: 0.26 - ETA: 52s - loss: 0.2617 - mae: 0.26 - ETA: 52s - loss: 0.2616 - mae: 0.26 - ETA: 52s - loss: 0.2616 - mae: 0.26 - ETA: 52s - loss: 0.2616 - mae: 0.26 - ETA: 52s - loss: 0.2616 - mae: 0.26 - ETA: 52s - loss: 0.2616 - mae: 0.26 - ETA: 52s - loss: 0.2616 - mae: 0.26 - ETA: 52s - loss: 0.2616 - mae: 0.26 - ETA: 52s - loss: 0.2615 - mae: 0.26 - ETA: 52s - loss: 0.2615 - mae: 0.26 - ETA: 51s - loss: 0.2615 - mae: 0.26 - ETA: 51s - loss: 0.2615 - mae: 0.26 - ETA: 51s - loss: 0.2615 - mae: 0.26 - ETA: 51s - loss: 0.2614 - mae: 0.26 - ETA: 51s - loss: 0.2614 - mae: 0.26 - ETA: 51s - loss: 0.2614 - mae: 0.26 - ETA: 51s - loss: 0.2614 - mae: 0.26 - ETA: 51s - loss: 0.2614 - mae: 0.26 - ETA: 51s - loss: 0.2613 - mae: 0.26 - ETA: 51s - loss: 0.2613 - mae: 0.26 - ETA: 51s - loss: 0.2613 - mae: 0.26 - ETA: 51s - loss: 0.2613 - mae: 0.26 - ETA: 51s - loss: 0.2613 - mae: 0.26 - ETA: 51s - loss: 0.2613 - mae: 0.26 - ETA: 51s - loss: 0.2613 - mae: 0.26 - ETA: 51s - loss: 0.2613 - mae: 0.26 - ETA: 51s - loss: 0.2613 - mae: 0.26 - ETA: 50s - loss: 0.2612 - mae: 0.26 - ETA: 50s - loss: 0.2612 - mae: 0.26 - ETA: 50s - loss: 0.2612 - mae: 0.26 - ETA: 50s - loss: 0.2612 - mae: 0.26 - ETA: 50s - loss: 0.2612 - mae: 0.26 - ETA: 50s - loss: 0.2612 - mae: 0.26 - ETA: 50s - loss: 0.2611 - mae: 0.26 - ETA: 50s - loss: 0.2611 - mae: 0.26 - ETA: 50s - loss: 0.2611 - mae: 0.26 - ETA: 50s - loss: 0.2610 - mae: 0.26 - ETA: 50s - loss: 0.2611 - mae: 0.26 - ETA: 50s - loss: 0.2610 - mae: 0.26 - ETA: 50s - loss: 0.2610 - mae: 0.26 - ETA: 50s - loss: 0.2610 - mae: 0.26 - ETA: 50s - loss: 0.2610 - mae: 0.26 - ETA: 50s - loss: 0.2609 - mae: 0.26 - ETA: 50s - loss: 0.2609 - mae: 0.26 - ETA: 50s - loss: 0.2609 - mae: 0.26 - ETA: 49s - loss: 0.2609 - mae: 0.26 - ETA: 49s - loss: 0.2609 - mae: 0.26 - ETA: 49s - loss: 0.2609 - mae: 0.26 - ETA: 49s - loss: 0.2609 - mae: 0.26 - ETA: 49s - loss: 0.2608 - mae: 0.26 - ETA: 49s - loss: 0.2608 - mae: 0.26 - ETA: 49s - loss: 0.2608 - mae: 0.26 - ETA: 49s - loss: 0.2608 - mae: 0.26 - ETA: 49s - loss: 0.2608 - mae: 0.26 - ETA: 49s - loss: 0.2608 - mae: 0.26 - ETA: 49s - loss: 0.2608 - mae: 0.26 - ETA: 49s - loss: 0.2608 - mae: 0.26 - ETA: 49s - loss: 0.2608 - mae: 0.26 - ETA: 49s - loss: 0.2608 - mae: 0.26 - ETA: 49s - loss: 0.2608 - mae: 0.26 - ETA: 49s - loss: 0.2608 - mae: 0.26 - ETA: 49s - loss: 0.2608 - mae: 0.26 - ETA: 48s - loss: 0.2607 - mae: 0.26 - ETA: 48s - loss: 0.2608 - mae: 0.26 - ETA: 48s - loss: 0.2608 - mae: 0.26 - ETA: 48s - loss: 0.2607 - mae: 0.26 - ETA: 48s - loss: 0.2607 - mae: 0.26 - ETA: 48s - loss: 0.2607 - mae: 0.26 - ETA: 48s - loss: 0.2607 - mae: 0.26 - ETA: 48s - loss: 0.2607 - mae: 0.26 - ETA: 48s - loss: 0.2607 - mae: 0.26 - ETA: 48s - loss: 0.2607 - mae: 0.26 - ETA: 48s - loss: 0.2606 - mae: 0.26 - ETA: 48s - loss: 0.2606 - mae: 0.26 - ETA: 48s - loss: 0.2606 - mae: 0.26 - ETA: 48s - loss: 0.2606 - mae: 0.26 - ETA: 48s - loss: 0.2606 - mae: 0.26 - ETA: 48s - loss: 0.2605 - mae: 0.26 - ETA: 48s - loss: 0.2605 - mae: 0.26 - ETA: 47s - loss: 0.2605 - mae: 0.26 - ETA: 47s - loss: 0.2605 - mae: 0.2605"
     ]
    },
    {
     "name": "stdout",
     "output_type": "stream",
     "text": [
      "198432/299280 [==================>...........] - ETA: 47s - loss: 0.2605 - mae: 0.26 - ETA: 47s - loss: 0.2605 - mae: 0.26 - ETA: 47s - loss: 0.2604 - mae: 0.26 - ETA: 47s - loss: 0.2604 - mae: 0.26 - ETA: 47s - loss: 0.2604 - mae: 0.26 - ETA: 47s - loss: 0.2604 - mae: 0.26 - ETA: 47s - loss: 0.2604 - mae: 0.26 - ETA: 47s - loss: 0.2604 - mae: 0.26 - ETA: 47s - loss: 0.2604 - mae: 0.26 - ETA: 47s - loss: 0.2604 - mae: 0.26 - ETA: 47s - loss: 0.2604 - mae: 0.26 - ETA: 47s - loss: 0.2604 - mae: 0.26 - ETA: 47s - loss: 0.2604 - mae: 0.26 - ETA: 47s - loss: 0.2603 - mae: 0.26 - ETA: 47s - loss: 0.2603 - mae: 0.26 - ETA: 46s - loss: 0.2603 - mae: 0.26 - ETA: 46s - loss: 0.2603 - mae: 0.26 - ETA: 46s - loss: 0.2603 - mae: 0.26 - ETA: 46s - loss: 0.2603 - mae: 0.26 - ETA: 46s - loss: 0.2603 - mae: 0.26 - ETA: 46s - loss: 0.2602 - mae: 0.26 - ETA: 46s - loss: 0.2602 - mae: 0.26 - ETA: 46s - loss: 0.2602 - mae: 0.26 - ETA: 46s - loss: 0.2602 - mae: 0.26 - ETA: 46s - loss: 0.2602 - mae: 0.26 - ETA: 46s - loss: 0.2602 - mae: 0.26 - ETA: 46s - loss: 0.2602 - mae: 0.26 - ETA: 46s - loss: 0.2602 - mae: 0.26 - ETA: 46s - loss: 0.2602 - mae: 0.26 - ETA: 46s - loss: 0.2602 - mae: 0.26 - ETA: 46s - loss: 0.2602 - mae: 0.26 - ETA: 46s - loss: 0.2602 - mae: 0.26 - ETA: 45s - loss: 0.2601 - mae: 0.26 - ETA: 45s - loss: 0.2601 - mae: 0.26 - ETA: 45s - loss: 0.2601 - mae: 0.26 - ETA: 45s - loss: 0.2601 - mae: 0.26 - ETA: 45s - loss: 0.2601 - mae: 0.26 - ETA: 45s - loss: 0.2601 - mae: 0.26 - ETA: 45s - loss: 0.2601 - mae: 0.26 - ETA: 45s - loss: 0.2601 - mae: 0.26 - ETA: 45s - loss: 0.2601 - mae: 0.26 - ETA: 45s - loss: 0.2601 - mae: 0.26 - ETA: 45s - loss: 0.2601 - mae: 0.26 - ETA: 45s - loss: 0.2601 - mae: 0.26 - ETA: 45s - loss: 0.2601 - mae: 0.26 - ETA: 45s - loss: 0.2601 - mae: 0.26 - ETA: 45s - loss: 0.2600 - mae: 0.26 - ETA: 45s - loss: 0.2600 - mae: 0.26 - ETA: 45s - loss: 0.2600 - mae: 0.26 - ETA: 45s - loss: 0.2600 - mae: 0.26 - ETA: 44s - loss: 0.2600 - mae: 0.26 - ETA: 44s - loss: 0.2599 - mae: 0.25 - ETA: 44s - loss: 0.2599 - mae: 0.25 - ETA: 44s - loss: 0.2599 - mae: 0.25 - ETA: 44s - loss: 0.2599 - mae: 0.25 - ETA: 44s - loss: 0.2599 - mae: 0.25 - ETA: 44s - loss: 0.2599 - mae: 0.25 - ETA: 44s - loss: 0.2599 - mae: 0.25 - ETA: 44s - loss: 0.2599 - mae: 0.25 - ETA: 44s - loss: 0.2599 - mae: 0.25 - ETA: 44s - loss: 0.2599 - mae: 0.25 - ETA: 44s - loss: 0.2599 - mae: 0.25 - ETA: 44s - loss: 0.2598 - mae: 0.25 - ETA: 44s - loss: 0.2598 - mae: 0.25 - ETA: 44s - loss: 0.2598 - mae: 0.25 - ETA: 44s - loss: 0.2598 - mae: 0.25 - ETA: 44s - loss: 0.2598 - mae: 0.25 - ETA: 43s - loss: 0.2598 - mae: 0.25 - ETA: 43s - loss: 0.2598 - mae: 0.25 - ETA: 43s - loss: 0.2598 - mae: 0.25 - ETA: 43s - loss: 0.2598 - mae: 0.25 - ETA: 43s - loss: 0.2598 - mae: 0.25 - ETA: 43s - loss: 0.2598 - mae: 0.25 - ETA: 43s - loss: 0.2597 - mae: 0.25 - ETA: 43s - loss: 0.2597 - mae: 0.25 - ETA: 43s - loss: 0.2597 - mae: 0.25 - ETA: 43s - loss: 0.2597 - mae: 0.25 - ETA: 43s - loss: 0.2598 - mae: 0.25 - ETA: 43s - loss: 0.2597 - mae: 0.25 - ETA: 43s - loss: 0.2597 - mae: 0.25 - ETA: 43s - loss: 0.2598 - mae: 0.25 - ETA: 43s - loss: 0.2598 - mae: 0.25 - ETA: 43s - loss: 0.2597 - mae: 0.25 - ETA: 43s - loss: 0.2597 - mae: 0.25 - ETA: 42s - loss: 0.2597 - mae: 0.25 - ETA: 42s - loss: 0.2597 - mae: 0.25 - ETA: 42s - loss: 0.2597 - mae: 0.25 - ETA: 42s - loss: 0.2596 - mae: 0.25 - ETA: 42s - loss: 0.2596 - mae: 0.25 - ETA: 42s - loss: 0.2596 - mae: 0.25 - ETA: 42s - loss: 0.2596 - mae: 0.25 - ETA: 42s - loss: 0.2596 - mae: 0.25 - ETA: 42s - loss: 0.2596 - mae: 0.25 - ETA: 42s - loss: 0.2596 - mae: 0.25 - ETA: 42s - loss: 0.2596 - mae: 0.25 - ETA: 42s - loss: 0.2596 - mae: 0.25 - ETA: 42s - loss: 0.2596 - mae: 0.25 - ETA: 42s - loss: 0.2596 - mae: 0.25 - ETA: 42s - loss: 0.2595 - mae: 0.25 - ETA: 42s - loss: 0.2595 - mae: 0.25 - ETA: 42s - loss: 0.2595 - mae: 0.25 - ETA: 42s - loss: 0.2595 - mae: 0.25 - ETA: 41s - loss: 0.2595 - mae: 0.25 - ETA: 41s - loss: 0.2595 - mae: 0.25 - ETA: 41s - loss: 0.2595 - mae: 0.25 - ETA: 41s - loss: 0.2595 - mae: 0.25 - ETA: 41s - loss: 0.2595 - mae: 0.25 - ETA: 41s - loss: 0.2594 - mae: 0.25 - ETA: 41s - loss: 0.2594 - mae: 0.25 - ETA: 41s - loss: 0.2594 - mae: 0.25 - ETA: 41s - loss: 0.2594 - mae: 0.25 - ETA: 41s - loss: 0.2594 - mae: 0.25 - ETA: 41s - loss: 0.2593 - mae: 0.25 - ETA: 41s - loss: 0.2593 - mae: 0.25 - ETA: 41s - loss: 0.2593 - mae: 0.25 - ETA: 41s - loss: 0.2593 - mae: 0.25 - ETA: 41s - loss: 0.2593 - mae: 0.25 - ETA: 41s - loss: 0.2593 - mae: 0.25 - ETA: 41s - loss: 0.2593 - mae: 0.25 - ETA: 40s - loss: 0.2593 - mae: 0.25 - ETA: 40s - loss: 0.2593 - mae: 0.25 - ETA: 40s - loss: 0.2593 - mae: 0.25 - ETA: 40s - loss: 0.2592 - mae: 0.25 - ETA: 40s - loss: 0.2592 - mae: 0.25 - ETA: 40s - loss: 0.2592 - mae: 0.25 - ETA: 40s - loss: 0.2592 - mae: 0.25 - ETA: 40s - loss: 0.2592 - mae: 0.25 - ETA: 40s - loss: 0.2592 - mae: 0.25 - ETA: 40s - loss: 0.2592 - mae: 0.25 - ETA: 40s - loss: 0.2591 - mae: 0.25 - ETA: 40s - loss: 0.2591 - mae: 0.25 - ETA: 40s - loss: 0.2591 - mae: 0.25 - ETA: 40s - loss: 0.2591 - mae: 0.25 - ETA: 40s - loss: 0.2591 - mae: 0.25 - ETA: 40s - loss: 0.2591 - mae: 0.25 - ETA: 40s - loss: 0.2591 - mae: 0.25 - ETA: 39s - loss: 0.2591 - mae: 0.25 - ETA: 39s - loss: 0.2590 - mae: 0.25 - ETA: 39s - loss: 0.2590 - mae: 0.25 - ETA: 39s - loss: 0.2590 - mae: 0.25 - ETA: 39s - loss: 0.2590 - mae: 0.25 - ETA: 39s - loss: 0.2590 - mae: 0.25 - ETA: 39s - loss: 0.2590 - mae: 0.25 - ETA: 39s - loss: 0.2590 - mae: 0.25 - ETA: 39s - loss: 0.2590 - mae: 0.25 - ETA: 39s - loss: 0.2590 - mae: 0.25 - ETA: 39s - loss: 0.2590 - mae: 0.25 - ETA: 39s - loss: 0.2590 - mae: 0.25 - ETA: 39s - loss: 0.2590 - mae: 0.25 - ETA: 39s - loss: 0.2589 - mae: 0.25 - ETA: 39s - loss: 0.2589 - mae: 0.25 - ETA: 39s - loss: 0.2589 - mae: 0.25 - ETA: 39s - loss: 0.2589 - mae: 0.25 - ETA: 39s - loss: 0.2589 - mae: 0.25 - ETA: 38s - loss: 0.2588 - mae: 0.25 - ETA: 38s - loss: 0.2588 - mae: 0.25 - ETA: 38s - loss: 0.2588 - mae: 0.25 - ETA: 38s - loss: 0.2587 - mae: 0.25 - ETA: 38s - loss: 0.2587 - mae: 0.25 - ETA: 38s - loss: 0.2587 - mae: 0.25 - ETA: 38s - loss: 0.2587 - mae: 0.25 - ETA: 38s - loss: 0.2587 - mae: 0.25 - ETA: 38s - loss: 0.2587 - mae: 0.25 - ETA: 38s - loss: 0.2587 - mae: 0.25 - ETA: 38s - loss: 0.2587 - mae: 0.25 - ETA: 38s - loss: 0.2587 - mae: 0.25 - ETA: 38s - loss: 0.2586 - mae: 0.25 - ETA: 38s - loss: 0.2586 - mae: 0.25 - ETA: 38s - loss: 0.2586 - mae: 0.25 - ETA: 38s - loss: 0.2586 - mae: 0.25 - ETA: 38s - loss: 0.2586 - mae: 0.25 - ETA: 37s - loss: 0.2586 - mae: 0.25 - ETA: 37s - loss: 0.2586 - mae: 0.25 - ETA: 37s - loss: 0.2586 - mae: 0.25 - ETA: 37s - loss: 0.2586 - mae: 0.25 - ETA: 37s - loss: 0.2586 - mae: 0.25 - ETA: 37s - loss: 0.2586 - mae: 0.25 - ETA: 37s - loss: 0.2586 - mae: 0.25 - ETA: 37s - loss: 0.2586 - mae: 0.25 - ETA: 37s - loss: 0.2586 - mae: 0.25 - ETA: 37s - loss: 0.2586 - mae: 0.25 - ETA: 37s - loss: 0.2586 - mae: 0.25 - ETA: 37s - loss: 0.2586 - mae: 0.25 - ETA: 37s - loss: 0.2586 - mae: 0.25 - ETA: 37s - loss: 0.2586 - mae: 0.25 - ETA: 37s - loss: 0.2586 - mae: 0.25 - ETA: 37s - loss: 0.2586 - mae: 0.25 - ETA: 37s - loss: 0.2585 - mae: 0.25 - ETA: 37s - loss: 0.2585 - mae: 0.25 - ETA: 36s - loss: 0.2585 - mae: 0.25 - ETA: 36s - loss: 0.2585 - mae: 0.25 - ETA: 36s - loss: 0.2585 - mae: 0.25 - ETA: 36s - loss: 0.2585 - mae: 0.25 - ETA: 36s - loss: 0.2585 - mae: 0.25 - ETA: 36s - loss: 0.2585 - mae: 0.25 - ETA: 36s - loss: 0.2585 - mae: 0.25 - ETA: 36s - loss: 0.2584 - mae: 0.25 - ETA: 36s - loss: 0.2584 - mae: 0.25 - ETA: 36s - loss: 0.2584 - mae: 0.25 - ETA: 36s - loss: 0.2584 - mae: 0.25 - ETA: 36s - loss: 0.2584 - mae: 0.25 - ETA: 36s - loss: 0.2584 - mae: 0.25 - ETA: 36s - loss: 0.2584 - mae: 0.25 - ETA: 36s - loss: 0.2583 - mae: 0.25 - ETA: 36s - loss: 0.2583 - mae: 0.25 - ETA: 36s - loss: 0.2583 - mae: 0.25 - ETA: 35s - loss: 0.2583 - mae: 0.25 - ETA: 35s - loss: 0.2583 - mae: 0.25 - ETA: 35s - loss: 0.2583 - mae: 0.25 - ETA: 35s - loss: 0.2583 - mae: 0.25 - ETA: 35s - loss: 0.2583 - mae: 0.25 - ETA: 35s - loss: 0.2583 - mae: 0.25 - ETA: 35s - loss: 0.2583 - mae: 0.25 - ETA: 35s - loss: 0.2583 - mae: 0.25 - ETA: 35s - loss: 0.2582 - mae: 0.2582"
     ]
    },
    {
     "name": "stdout",
     "output_type": "stream",
     "text": [
      "232832/299280 [======================>.......] - ETA: 35s - loss: 0.2582 - mae: 0.25 - ETA: 35s - loss: 0.2582 - mae: 0.25 - ETA: 35s - loss: 0.2582 - mae: 0.25 - ETA: 35s - loss: 0.2582 - mae: 0.25 - ETA: 35s - loss: 0.2582 - mae: 0.25 - ETA: 35s - loss: 0.2582 - mae: 0.25 - ETA: 35s - loss: 0.2581 - mae: 0.25 - ETA: 35s - loss: 0.2581 - mae: 0.25 - ETA: 35s - loss: 0.2581 - mae: 0.25 - ETA: 34s - loss: 0.2581 - mae: 0.25 - ETA: 34s - loss: 0.2581 - mae: 0.25 - ETA: 34s - loss: 0.2581 - mae: 0.25 - ETA: 34s - loss: 0.2581 - mae: 0.25 - ETA: 34s - loss: 0.2581 - mae: 0.25 - ETA: 34s - loss: 0.2581 - mae: 0.25 - ETA: 34s - loss: 0.2581 - mae: 0.25 - ETA: 34s - loss: 0.2581 - mae: 0.25 - ETA: 34s - loss: 0.2581 - mae: 0.25 - ETA: 34s - loss: 0.2581 - mae: 0.25 - ETA: 34s - loss: 0.2581 - mae: 0.25 - ETA: 34s - loss: 0.2581 - mae: 0.25 - ETA: 34s - loss: 0.2581 - mae: 0.25 - ETA: 34s - loss: 0.2581 - mae: 0.25 - ETA: 34s - loss: 0.2581 - mae: 0.25 - ETA: 34s - loss: 0.2580 - mae: 0.25 - ETA: 34s - loss: 0.2580 - mae: 0.25 - ETA: 33s - loss: 0.2580 - mae: 0.25 - ETA: 33s - loss: 0.2580 - mae: 0.25 - ETA: 33s - loss: 0.2580 - mae: 0.25 - ETA: 33s - loss: 0.2580 - mae: 0.25 - ETA: 33s - loss: 0.2580 - mae: 0.25 - ETA: 33s - loss: 0.2580 - mae: 0.25 - ETA: 33s - loss: 0.2580 - mae: 0.25 - ETA: 33s - loss: 0.2580 - mae: 0.25 - ETA: 33s - loss: 0.2580 - mae: 0.25 - ETA: 33s - loss: 0.2580 - mae: 0.25 - ETA: 33s - loss: 0.2579 - mae: 0.25 - ETA: 33s - loss: 0.2579 - mae: 0.25 - ETA: 33s - loss: 0.2579 - mae: 0.25 - ETA: 33s - loss: 0.2579 - mae: 0.25 - ETA: 33s - loss: 0.2579 - mae: 0.25 - ETA: 33s - loss: 0.2579 - mae: 0.25 - ETA: 33s - loss: 0.2579 - mae: 0.25 - ETA: 33s - loss: 0.2579 - mae: 0.25 - ETA: 32s - loss: 0.2579 - mae: 0.25 - ETA: 32s - loss: 0.2579 - mae: 0.25 - ETA: 32s - loss: 0.2578 - mae: 0.25 - ETA: 32s - loss: 0.2578 - mae: 0.25 - ETA: 32s - loss: 0.2578 - mae: 0.25 - ETA: 32s - loss: 0.2578 - mae: 0.25 - ETA: 32s - loss: 0.2578 - mae: 0.25 - ETA: 32s - loss: 0.2578 - mae: 0.25 - ETA: 32s - loss: 0.2578 - mae: 0.25 - ETA: 32s - loss: 0.2578 - mae: 0.25 - ETA: 32s - loss: 0.2578 - mae: 0.25 - ETA: 32s - loss: 0.2578 - mae: 0.25 - ETA: 32s - loss: 0.2578 - mae: 0.25 - ETA: 32s - loss: 0.2578 - mae: 0.25 - ETA: 32s - loss: 0.2578 - mae: 0.25 - ETA: 32s - loss: 0.2578 - mae: 0.25 - ETA: 32s - loss: 0.2577 - mae: 0.25 - ETA: 31s - loss: 0.2577 - mae: 0.25 - ETA: 31s - loss: 0.2577 - mae: 0.25 - ETA: 31s - loss: 0.2577 - mae: 0.25 - ETA: 31s - loss: 0.2577 - mae: 0.25 - ETA: 31s - loss: 0.2577 - mae: 0.25 - ETA: 31s - loss: 0.2577 - mae: 0.25 - ETA: 31s - loss: 0.2577 - mae: 0.25 - ETA: 31s - loss: 0.2577 - mae: 0.25 - ETA: 31s - loss: 0.2576 - mae: 0.25 - ETA: 31s - loss: 0.2576 - mae: 0.25 - ETA: 31s - loss: 0.2576 - mae: 0.25 - ETA: 31s - loss: 0.2576 - mae: 0.25 - ETA: 31s - loss: 0.2576 - mae: 0.25 - ETA: 31s - loss: 0.2576 - mae: 0.25 - ETA: 31s - loss: 0.2576 - mae: 0.25 - ETA: 31s - loss: 0.2576 - mae: 0.25 - ETA: 31s - loss: 0.2576 - mae: 0.25 - ETA: 31s - loss: 0.2576 - mae: 0.25 - ETA: 30s - loss: 0.2576 - mae: 0.25 - ETA: 30s - loss: 0.2575 - mae: 0.25 - ETA: 30s - loss: 0.2575 - mae: 0.25 - ETA: 30s - loss: 0.2575 - mae: 0.25 - ETA: 30s - loss: 0.2575 - mae: 0.25 - ETA: 30s - loss: 0.2575 - mae: 0.25 - ETA: 30s - loss: 0.2575 - mae: 0.25 - ETA: 30s - loss: 0.2575 - mae: 0.25 - ETA: 30s - loss: 0.2575 - mae: 0.25 - ETA: 30s - loss: 0.2575 - mae: 0.25 - ETA: 30s - loss: 0.2575 - mae: 0.25 - ETA: 30s - loss: 0.2575 - mae: 0.25 - ETA: 30s - loss: 0.2574 - mae: 0.25 - ETA: 30s - loss: 0.2574 - mae: 0.25 - ETA: 30s - loss: 0.2574 - mae: 0.25 - ETA: 30s - loss: 0.2574 - mae: 0.25 - ETA: 30s - loss: 0.2574 - mae: 0.25 - ETA: 30s - loss: 0.2574 - mae: 0.25 - ETA: 29s - loss: 0.2574 - mae: 0.25 - ETA: 29s - loss: 0.2574 - mae: 0.25 - ETA: 29s - loss: 0.2574 - mae: 0.25 - ETA: 29s - loss: 0.2574 - mae: 0.25 - ETA: 29s - loss: 0.2574 - mae: 0.25 - ETA: 29s - loss: 0.2574 - mae: 0.25 - ETA: 29s - loss: 0.2574 - mae: 0.25 - ETA: 29s - loss: 0.2574 - mae: 0.25 - ETA: 29s - loss: 0.2573 - mae: 0.25 - ETA: 29s - loss: 0.2573 - mae: 0.25 - ETA: 29s - loss: 0.2573 - mae: 0.25 - ETA: 29s - loss: 0.2573 - mae: 0.25 - ETA: 29s - loss: 0.2573 - mae: 0.25 - ETA: 29s - loss: 0.2573 - mae: 0.25 - ETA: 29s - loss: 0.2573 - mae: 0.25 - ETA: 29s - loss: 0.2572 - mae: 0.25 - ETA: 29s - loss: 0.2572 - mae: 0.25 - ETA: 28s - loss: 0.2572 - mae: 0.25 - ETA: 28s - loss: 0.2572 - mae: 0.25 - ETA: 28s - loss: 0.2572 - mae: 0.25 - ETA: 28s - loss: 0.2571 - mae: 0.25 - ETA: 28s - loss: 0.2571 - mae: 0.25 - ETA: 28s - loss: 0.2571 - mae: 0.25 - ETA: 28s - loss: 0.2571 - mae: 0.25 - ETA: 28s - loss: 0.2571 - mae: 0.25 - ETA: 28s - loss: 0.2571 - mae: 0.25 - ETA: 28s - loss: 0.2571 - mae: 0.25 - ETA: 28s - loss: 0.2571 - mae: 0.25 - ETA: 28s - loss: 0.2571 - mae: 0.25 - ETA: 28s - loss: 0.2571 - mae: 0.25 - ETA: 28s - loss: 0.2571 - mae: 0.25 - ETA: 28s - loss: 0.2571 - mae: 0.25 - ETA: 28s - loss: 0.2571 - mae: 0.25 - ETA: 28s - loss: 0.2570 - mae: 0.25 - ETA: 28s - loss: 0.2570 - mae: 0.25 - ETA: 27s - loss: 0.2570 - mae: 0.25 - ETA: 27s - loss: 0.2570 - mae: 0.25 - ETA: 27s - loss: 0.2570 - mae: 0.25 - ETA: 27s - loss: 0.2570 - mae: 0.25 - ETA: 27s - loss: 0.2570 - mae: 0.25 - ETA: 27s - loss: 0.2570 - mae: 0.25 - ETA: 27s - loss: 0.2569 - mae: 0.25 - ETA: 27s - loss: 0.2569 - mae: 0.25 - ETA: 27s - loss: 0.2569 - mae: 0.25 - ETA: 27s - loss: 0.2569 - mae: 0.25 - ETA: 27s - loss: 0.2569 - mae: 0.25 - ETA: 27s - loss: 0.2569 - mae: 0.25 - ETA: 27s - loss: 0.2568 - mae: 0.25 - ETA: 27s - loss: 0.2568 - mae: 0.25 - ETA: 27s - loss: 0.2568 - mae: 0.25 - ETA: 27s - loss: 0.2568 - mae: 0.25 - ETA: 27s - loss: 0.2568 - mae: 0.25 - ETA: 27s - loss: 0.2568 - mae: 0.25 - ETA: 26s - loss: 0.2568 - mae: 0.25 - ETA: 26s - loss: 0.2567 - mae: 0.25 - ETA: 26s - loss: 0.2567 - mae: 0.25 - ETA: 26s - loss: 0.2567 - mae: 0.25 - ETA: 26s - loss: 0.2567 - mae: 0.25 - ETA: 26s - loss: 0.2567 - mae: 0.25 - ETA: 26s - loss: 0.2567 - mae: 0.25 - ETA: 26s - loss: 0.2567 - mae: 0.25 - ETA: 26s - loss: 0.2567 - mae: 0.25 - ETA: 26s - loss: 0.2567 - mae: 0.25 - ETA: 26s - loss: 0.2567 - mae: 0.25 - ETA: 26s - loss: 0.2567 - mae: 0.25 - ETA: 26s - loss: 0.2566 - mae: 0.25 - ETA: 26s - loss: 0.2566 - mae: 0.25 - ETA: 26s - loss: 0.2566 - mae: 0.25 - ETA: 26s - loss: 0.2566 - mae: 0.25 - ETA: 26s - loss: 0.2566 - mae: 0.25 - ETA: 25s - loss: 0.2566 - mae: 0.25 - ETA: 25s - loss: 0.2566 - mae: 0.25 - ETA: 25s - loss: 0.2566 - mae: 0.25 - ETA: 25s - loss: 0.2566 - mae: 0.25 - ETA: 25s - loss: 0.2565 - mae: 0.25 - ETA: 25s - loss: 0.2565 - mae: 0.25 - ETA: 25s - loss: 0.2565 - mae: 0.25 - ETA: 25s - loss: 0.2565 - mae: 0.25 - ETA: 25s - loss: 0.2565 - mae: 0.25 - ETA: 25s - loss: 0.2564 - mae: 0.25 - ETA: 25s - loss: 0.2564 - mae: 0.25 - ETA: 25s - loss: 0.2564 - mae: 0.25 - ETA: 25s - loss: 0.2564 - mae: 0.25 - ETA: 25s - loss: 0.2564 - mae: 0.25 - ETA: 25s - loss: 0.2564 - mae: 0.25 - ETA: 25s - loss: 0.2564 - mae: 0.25 - ETA: 25s - loss: 0.2564 - mae: 0.25 - ETA: 25s - loss: 0.2564 - mae: 0.25 - ETA: 24s - loss: 0.2564 - mae: 0.25 - ETA: 24s - loss: 0.2563 - mae: 0.25 - ETA: 24s - loss: 0.2563 - mae: 0.25 - ETA: 24s - loss: 0.2563 - mae: 0.25 - ETA: 24s - loss: 0.2563 - mae: 0.25 - ETA: 24s - loss: 0.2563 - mae: 0.25 - ETA: 24s - loss: 0.2563 - mae: 0.25 - ETA: 24s - loss: 0.2563 - mae: 0.25 - ETA: 24s - loss: 0.2563 - mae: 0.25 - ETA: 24s - loss: 0.2563 - mae: 0.25 - ETA: 24s - loss: 0.2563 - mae: 0.25 - ETA: 24s - loss: 0.2563 - mae: 0.25 - ETA: 24s - loss: 0.2563 - mae: 0.25 - ETA: 24s - loss: 0.2563 - mae: 0.25 - ETA: 24s - loss: 0.2563 - mae: 0.25 - ETA: 24s - loss: 0.2562 - mae: 0.25 - ETA: 24s - loss: 0.2562 - mae: 0.25 - ETA: 24s - loss: 0.2562 - mae: 0.25 - ETA: 23s - loss: 0.2562 - mae: 0.25 - ETA: 23s - loss: 0.2562 - mae: 0.25 - ETA: 23s - loss: 0.2562 - mae: 0.25 - ETA: 23s - loss: 0.2562 - mae: 0.25 - ETA: 23s - loss: 0.2561 - mae: 0.25 - ETA: 23s - loss: 0.2561 - mae: 0.25 - ETA: 23s - loss: 0.2561 - mae: 0.25 - ETA: 23s - loss: 0.2561 - mae: 0.25 - ETA: 23s - loss: 0.2561 - mae: 0.25 - ETA: 23s - loss: 0.2561 - mae: 0.25 - ETA: 23s - loss: 0.2561 - mae: 0.25 - ETA: 23s - loss: 0.2561 - mae: 0.2561"
     ]
    },
    {
     "name": "stdout",
     "output_type": "stream",
     "text": [
      "267072/299280 [=========================>....] - ETA: 23s - loss: 0.2561 - mae: 0.25 - ETA: 23s - loss: 0.2561 - mae: 0.25 - ETA: 23s - loss: 0.2561 - mae: 0.25 - ETA: 23s - loss: 0.2561 - mae: 0.25 - ETA: 23s - loss: 0.2560 - mae: 0.25 - ETA: 22s - loss: 0.2560 - mae: 0.25 - ETA: 22s - loss: 0.2560 - mae: 0.25 - ETA: 22s - loss: 0.2560 - mae: 0.25 - ETA: 22s - loss: 0.2560 - mae: 0.25 - ETA: 22s - loss: 0.2560 - mae: 0.25 - ETA: 22s - loss: 0.2560 - mae: 0.25 - ETA: 22s - loss: 0.2560 - mae: 0.25 - ETA: 22s - loss: 0.2560 - mae: 0.25 - ETA: 22s - loss: 0.2560 - mae: 0.25 - ETA: 22s - loss: 0.2560 - mae: 0.25 - ETA: 22s - loss: 0.2560 - mae: 0.25 - ETA: 22s - loss: 0.2560 - mae: 0.25 - ETA: 22s - loss: 0.2560 - mae: 0.25 - ETA: 22s - loss: 0.2560 - mae: 0.25 - ETA: 22s - loss: 0.2559 - mae: 0.25 - ETA: 22s - loss: 0.2559 - mae: 0.25 - ETA: 22s - loss: 0.2559 - mae: 0.25 - ETA: 22s - loss: 0.2559 - mae: 0.25 - ETA: 21s - loss: 0.2559 - mae: 0.25 - ETA: 21s - loss: 0.2559 - mae: 0.25 - ETA: 21s - loss: 0.2559 - mae: 0.25 - ETA: 21s - loss: 0.2559 - mae: 0.25 - ETA: 21s - loss: 0.2559 - mae: 0.25 - ETA: 21s - loss: 0.2559 - mae: 0.25 - ETA: 21s - loss: 0.2559 - mae: 0.25 - ETA: 21s - loss: 0.2559 - mae: 0.25 - ETA: 21s - loss: 0.2559 - mae: 0.25 - ETA: 21s - loss: 0.2558 - mae: 0.25 - ETA: 21s - loss: 0.2558 - mae: 0.25 - ETA: 21s - loss: 0.2558 - mae: 0.25 - ETA: 21s - loss: 0.2558 - mae: 0.25 - ETA: 21s - loss: 0.2558 - mae: 0.25 - ETA: 21s - loss: 0.2558 - mae: 0.25 - ETA: 21s - loss: 0.2558 - mae: 0.25 - ETA: 21s - loss: 0.2558 - mae: 0.25 - ETA: 21s - loss: 0.2558 - mae: 0.25 - ETA: 20s - loss: 0.2558 - mae: 0.25 - ETA: 20s - loss: 0.2558 - mae: 0.25 - ETA: 20s - loss: 0.2558 - mae: 0.25 - ETA: 20s - loss: 0.2558 - mae: 0.25 - ETA: 20s - loss: 0.2557 - mae: 0.25 - ETA: 20s - loss: 0.2557 - mae: 0.25 - ETA: 20s - loss: 0.2557 - mae: 0.25 - ETA: 20s - loss: 0.2557 - mae: 0.25 - ETA: 20s - loss: 0.2557 - mae: 0.25 - ETA: 20s - loss: 0.2557 - mae: 0.25 - ETA: 20s - loss: 0.2557 - mae: 0.25 - ETA: 20s - loss: 0.2557 - mae: 0.25 - ETA: 20s - loss: 0.2557 - mae: 0.25 - ETA: 20s - loss: 0.2557 - mae: 0.25 - ETA: 20s - loss: 0.2557 - mae: 0.25 - ETA: 20s - loss: 0.2556 - mae: 0.25 - ETA: 20s - loss: 0.2556 - mae: 0.25 - ETA: 20s - loss: 0.2556 - mae: 0.25 - ETA: 19s - loss: 0.2556 - mae: 0.25 - ETA: 19s - loss: 0.2556 - mae: 0.25 - ETA: 19s - loss: 0.2556 - mae: 0.25 - ETA: 19s - loss: 0.2556 - mae: 0.25 - ETA: 19s - loss: 0.2556 - mae: 0.25 - ETA: 19s - loss: 0.2556 - mae: 0.25 - ETA: 19s - loss: 0.2556 - mae: 0.25 - ETA: 19s - loss: 0.2556 - mae: 0.25 - ETA: 19s - loss: 0.2556 - mae: 0.25 - ETA: 19s - loss: 0.2556 - mae: 0.25 - ETA: 19s - loss: 0.2555 - mae: 0.25 - ETA: 19s - loss: 0.2555 - mae: 0.25 - ETA: 19s - loss: 0.2555 - mae: 0.25 - ETA: 19s - loss: 0.2555 - mae: 0.25 - ETA: 19s - loss: 0.2555 - mae: 0.25 - ETA: 19s - loss: 0.2555 - mae: 0.25 - ETA: 19s - loss: 0.2555 - mae: 0.25 - ETA: 19s - loss: 0.2555 - mae: 0.25 - ETA: 18s - loss: 0.2555 - mae: 0.25 - ETA: 18s - loss: 0.2555 - mae: 0.25 - ETA: 18s - loss: 0.2555 - mae: 0.25 - ETA: 18s - loss: 0.2555 - mae: 0.25 - ETA: 18s - loss: 0.2555 - mae: 0.25 - ETA: 18s - loss: 0.2555 - mae: 0.25 - ETA: 18s - loss: 0.2555 - mae: 0.25 - ETA: 18s - loss: 0.2555 - mae: 0.25 - ETA: 18s - loss: 0.2555 - mae: 0.25 - ETA: 18s - loss: 0.2555 - mae: 0.25 - ETA: 18s - loss: 0.2554 - mae: 0.25 - ETA: 18s - loss: 0.2554 - mae: 0.25 - ETA: 18s - loss: 0.2554 - mae: 0.25 - ETA: 18s - loss: 0.2554 - mae: 0.25 - ETA: 18s - loss: 0.2554 - mae: 0.25 - ETA: 18s - loss: 0.2554 - mae: 0.25 - ETA: 18s - loss: 0.2554 - mae: 0.25 - ETA: 18s - loss: 0.2554 - mae: 0.25 - ETA: 17s - loss: 0.2554 - mae: 0.25 - ETA: 17s - loss: 0.2554 - mae: 0.25 - ETA: 17s - loss: 0.2554 - mae: 0.25 - ETA: 17s - loss: 0.2553 - mae: 0.25 - ETA: 17s - loss: 0.2553 - mae: 0.25 - ETA: 17s - loss: 0.2553 - mae: 0.25 - ETA: 17s - loss: 0.2553 - mae: 0.25 - ETA: 17s - loss: 0.2553 - mae: 0.25 - ETA: 17s - loss: 0.2553 - mae: 0.25 - ETA: 17s - loss: 0.2553 - mae: 0.25 - ETA: 17s - loss: 0.2553 - mae: 0.25 - ETA: 17s - loss: 0.2553 - mae: 0.25 - ETA: 17s - loss: 0.2553 - mae: 0.25 - ETA: 17s - loss: 0.2553 - mae: 0.25 - ETA: 17s - loss: 0.2552 - mae: 0.25 - ETA: 17s - loss: 0.2552 - mae: 0.25 - ETA: 17s - loss: 0.2552 - mae: 0.25 - ETA: 17s - loss: 0.2552 - mae: 0.25 - ETA: 16s - loss: 0.2552 - mae: 0.25 - ETA: 16s - loss: 0.2552 - mae: 0.25 - ETA: 16s - loss: 0.2552 - mae: 0.25 - ETA: 16s - loss: 0.2552 - mae: 0.25 - ETA: 16s - loss: 0.2552 - mae: 0.25 - ETA: 16s - loss: 0.2552 - mae: 0.25 - ETA: 16s - loss: 0.2552 - mae: 0.25 - ETA: 16s - loss: 0.2552 - mae: 0.25 - ETA: 16s - loss: 0.2552 - mae: 0.25 - ETA: 16s - loss: 0.2552 - mae: 0.25 - ETA: 16s - loss: 0.2552 - mae: 0.25 - ETA: 16s - loss: 0.2552 - mae: 0.25 - ETA: 16s - loss: 0.2552 - mae: 0.25 - ETA: 16s - loss: 0.2552 - mae: 0.25 - ETA: 16s - loss: 0.2552 - mae: 0.25 - ETA: 16s - loss: 0.2552 - mae: 0.25 - ETA: 16s - loss: 0.2552 - mae: 0.25 - ETA: 16s - loss: 0.2552 - mae: 0.25 - ETA: 15s - loss: 0.2552 - mae: 0.25 - ETA: 15s - loss: 0.2552 - mae: 0.25 - ETA: 15s - loss: 0.2552 - mae: 0.25 - ETA: 15s - loss: 0.2552 - mae: 0.25 - ETA: 15s - loss: 0.2552 - mae: 0.25 - ETA: 15s - loss: 0.2551 - mae: 0.25 - ETA: 15s - loss: 0.2551 - mae: 0.25 - ETA: 15s - loss: 0.2551 - mae: 0.25 - ETA: 15s - loss: 0.2551 - mae: 0.25 - ETA: 15s - loss: 0.2551 - mae: 0.25 - ETA: 15s - loss: 0.2551 - mae: 0.25 - ETA: 15s - loss: 0.2551 - mae: 0.25 - ETA: 15s - loss: 0.2551 - mae: 0.25 - ETA: 15s - loss: 0.2551 - mae: 0.25 - ETA: 15s - loss: 0.2551 - mae: 0.25 - ETA: 15s - loss: 0.2551 - mae: 0.25 - ETA: 15s - loss: 0.2551 - mae: 0.25 - ETA: 15s - loss: 0.2551 - mae: 0.25 - ETA: 14s - loss: 0.2551 - mae: 0.25 - ETA: 14s - loss: 0.2551 - mae: 0.25 - ETA: 14s - loss: 0.2551 - mae: 0.25 - ETA: 14s - loss: 0.2550 - mae: 0.25 - ETA: 14s - loss: 0.2550 - mae: 0.25 - ETA: 14s - loss: 0.2550 - mae: 0.25 - ETA: 14s - loss: 0.2550 - mae: 0.25 - ETA: 14s - loss: 0.2550 - mae: 0.25 - ETA: 14s - loss: 0.2550 - mae: 0.25 - ETA: 14s - loss: 0.2550 - mae: 0.25 - ETA: 14s - loss: 0.2550 - mae: 0.25 - ETA: 14s - loss: 0.2550 - mae: 0.25 - ETA: 14s - loss: 0.2550 - mae: 0.25 - ETA: 14s - loss: 0.2550 - mae: 0.25 - ETA: 14s - loss: 0.2550 - mae: 0.25 - ETA: 14s - loss: 0.2550 - mae: 0.25 - ETA: 14s - loss: 0.2550 - mae: 0.25 - ETA: 13s - loss: 0.2550 - mae: 0.25 - ETA: 13s - loss: 0.2550 - mae: 0.25 - ETA: 13s - loss: 0.2550 - mae: 0.25 - ETA: 13s - loss: 0.2550 - mae: 0.25 - ETA: 13s - loss: 0.2550 - mae: 0.25 - ETA: 13s - loss: 0.2550 - mae: 0.25 - ETA: 13s - loss: 0.2550 - mae: 0.25 - ETA: 13s - loss: 0.2550 - mae: 0.25 - ETA: 13s - loss: 0.2550 - mae: 0.25 - ETA: 13s - loss: 0.2550 - mae: 0.25 - ETA: 13s - loss: 0.2550 - mae: 0.25 - ETA: 13s - loss: 0.2550 - mae: 0.25 - ETA: 13s - loss: 0.2550 - mae: 0.25 - ETA: 13s - loss: 0.2550 - mae: 0.25 - ETA: 13s - loss: 0.2549 - mae: 0.25 - ETA: 13s - loss: 0.2549 - mae: 0.25 - ETA: 13s - loss: 0.2549 - mae: 0.25 - ETA: 13s - loss: 0.2549 - mae: 0.25 - ETA: 12s - loss: 0.2549 - mae: 0.25 - ETA: 12s - loss: 0.2549 - mae: 0.25 - ETA: 12s - loss: 0.2549 - mae: 0.25 - ETA: 12s - loss: 0.2549 - mae: 0.25 - ETA: 12s - loss: 0.2549 - mae: 0.25 - ETA: 12s - loss: 0.2549 - mae: 0.25 - ETA: 12s - loss: 0.2549 - mae: 0.25 - ETA: 12s - loss: 0.2549 - mae: 0.25 - ETA: 12s - loss: 0.2549 - mae: 0.25 - ETA: 12s - loss: 0.2548 - mae: 0.25 - ETA: 12s - loss: 0.2548 - mae: 0.25 - ETA: 12s - loss: 0.2548 - mae: 0.25 - ETA: 12s - loss: 0.2548 - mae: 0.25 - ETA: 12s - loss: 0.2548 - mae: 0.25 - ETA: 12s - loss: 0.2548 - mae: 0.25 - ETA: 12s - loss: 0.2548 - mae: 0.25 - ETA: 12s - loss: 0.2548 - mae: 0.25 - ETA: 12s - loss: 0.2548 - mae: 0.25 - ETA: 11s - loss: 0.2548 - mae: 0.25 - ETA: 11s - loss: 0.2548 - mae: 0.25 - ETA: 11s - loss: 0.2548 - mae: 0.25 - ETA: 11s - loss: 0.2548 - mae: 0.25 - ETA: 11s - loss: 0.2548 - mae: 0.25 - ETA: 11s - loss: 0.2548 - mae: 0.25 - ETA: 11s - loss: 0.2547 - mae: 0.25 - ETA: 11s - loss: 0.2547 - mae: 0.25 - ETA: 11s - loss: 0.2547 - mae: 0.25 - ETA: 11s - loss: 0.2547 - mae: 0.25 - ETA: 11s - loss: 0.2547 - mae: 0.25 - ETA: 11s - loss: 0.2547 - mae: 0.25 - ETA: 11s - loss: 0.2547 - mae: 0.2547"
     ]
    },
    {
     "name": "stdout",
     "output_type": "stream",
     "text": [
      "299280/299280 [==============================] - ETA: 11s - loss: 0.2547 - mae: 0.25 - ETA: 11s - loss: 0.2546 - mae: 0.25 - ETA: 11s - loss: 0.2546 - mae: 0.25 - ETA: 11s - loss: 0.2546 - mae: 0.25 - ETA: 11s - loss: 0.2546 - mae: 0.25 - ETA: 10s - loss: 0.2546 - mae: 0.25 - ETA: 10s - loss: 0.2546 - mae: 0.25 - ETA: 10s - loss: 0.2546 - mae: 0.25 - ETA: 10s - loss: 0.2546 - mae: 0.25 - ETA: 10s - loss: 0.2546 - mae: 0.25 - ETA: 10s - loss: 0.2546 - mae: 0.25 - ETA: 10s - loss: 0.2546 - mae: 0.25 - ETA: 10s - loss: 0.2546 - mae: 0.25 - ETA: 10s - loss: 0.2546 - mae: 0.25 - ETA: 10s - loss: 0.2546 - mae: 0.25 - ETA: 10s - loss: 0.2546 - mae: 0.25 - ETA: 10s - loss: 0.2546 - mae: 0.25 - ETA: 10s - loss: 0.2546 - mae: 0.25 - ETA: 10s - loss: 0.2546 - mae: 0.25 - ETA: 10s - loss: 0.2546 - mae: 0.25 - ETA: 10s - loss: 0.2546 - mae: 0.25 - ETA: 10s - loss: 0.2546 - mae: 0.25 - ETA: 9s - loss: 0.2546 - mae: 0.2546 - ETA: 9s - loss: 0.2546 - mae: 0.254 - ETA: 9s - loss: 0.2546 - mae: 0.254 - ETA: 9s - loss: 0.2546 - mae: 0.254 - ETA: 9s - loss: 0.2546 - mae: 0.254 - ETA: 9s - loss: 0.2546 - mae: 0.254 - ETA: 9s - loss: 0.2546 - mae: 0.254 - ETA: 9s - loss: 0.2545 - mae: 0.254 - ETA: 9s - loss: 0.2545 - mae: 0.254 - ETA: 9s - loss: 0.2545 - mae: 0.254 - ETA: 9s - loss: 0.2545 - mae: 0.254 - ETA: 9s - loss: 0.2545 - mae: 0.254 - ETA: 9s - loss: 0.2545 - mae: 0.254 - ETA: 9s - loss: 0.2545 - mae: 0.254 - ETA: 9s - loss: 0.2545 - mae: 0.254 - ETA: 9s - loss: 0.2545 - mae: 0.254 - ETA: 9s - loss: 0.2545 - mae: 0.254 - ETA: 9s - loss: 0.2545 - mae: 0.254 - ETA: 8s - loss: 0.2545 - mae: 0.254 - ETA: 8s - loss: 0.2545 - mae: 0.254 - ETA: 8s - loss: 0.2545 - mae: 0.254 - ETA: 8s - loss: 0.2545 - mae: 0.254 - ETA: 8s - loss: 0.2545 - mae: 0.254 - ETA: 8s - loss: 0.2545 - mae: 0.254 - ETA: 8s - loss: 0.2545 - mae: 0.254 - ETA: 8s - loss: 0.2544 - mae: 0.254 - ETA: 8s - loss: 0.2544 - mae: 0.254 - ETA: 8s - loss: 0.2544 - mae: 0.254 - ETA: 8s - loss: 0.2544 - mae: 0.254 - ETA: 8s - loss: 0.2544 - mae: 0.254 - ETA: 8s - loss: 0.2544 - mae: 0.254 - ETA: 8s - loss: 0.2544 - mae: 0.254 - ETA: 8s - loss: 0.2544 - mae: 0.254 - ETA: 8s - loss: 0.2544 - mae: 0.254 - ETA: 8s - loss: 0.2543 - mae: 0.254 - ETA: 8s - loss: 0.2543 - mae: 0.254 - ETA: 7s - loss: 0.2543 - mae: 0.254 - ETA: 7s - loss: 0.2543 - mae: 0.254 - ETA: 7s - loss: 0.2543 - mae: 0.254 - ETA: 7s - loss: 0.2543 - mae: 0.254 - ETA: 7s - loss: 0.2543 - mae: 0.254 - ETA: 7s - loss: 0.2543 - mae: 0.254 - ETA: 7s - loss: 0.2543 - mae: 0.254 - ETA: 7s - loss: 0.2543 - mae: 0.254 - ETA: 7s - loss: 0.2543 - mae: 0.254 - ETA: 7s - loss: 0.2543 - mae: 0.254 - ETA: 7s - loss: 0.2542 - mae: 0.254 - ETA: 7s - loss: 0.2542 - mae: 0.254 - ETA: 7s - loss: 0.2542 - mae: 0.254 - ETA: 7s - loss: 0.2542 - mae: 0.254 - ETA: 7s - loss: 0.2542 - mae: 0.254 - ETA: 7s - loss: 0.2542 - mae: 0.254 - ETA: 7s - loss: 0.2542 - mae: 0.254 - ETA: 7s - loss: 0.2542 - mae: 0.254 - ETA: 6s - loss: 0.2542 - mae: 0.254 - ETA: 6s - loss: 0.2542 - mae: 0.254 - ETA: 6s - loss: 0.2542 - mae: 0.254 - ETA: 6s - loss: 0.2542 - mae: 0.254 - ETA: 6s - loss: 0.2542 - mae: 0.254 - ETA: 6s - loss: 0.2542 - mae: 0.254 - ETA: 6s - loss: 0.2542 - mae: 0.254 - ETA: 6s - loss: 0.2542 - mae: 0.254 - ETA: 6s - loss: 0.2542 - mae: 0.254 - ETA: 6s - loss: 0.2542 - mae: 0.254 - ETA: 6s - loss: 0.2542 - mae: 0.254 - ETA: 6s - loss: 0.2542 - mae: 0.254 - ETA: 6s - loss: 0.2542 - mae: 0.254 - ETA: 6s - loss: 0.2542 - mae: 0.254 - ETA: 6s - loss: 0.2542 - mae: 0.254 - ETA: 6s - loss: 0.2542 - mae: 0.254 - ETA: 6s - loss: 0.2542 - mae: 0.254 - ETA: 6s - loss: 0.2542 - mae: 0.254 - ETA: 5s - loss: 0.2542 - mae: 0.254 - ETA: 5s - loss: 0.2542 - mae: 0.254 - ETA: 5s - loss: 0.2541 - mae: 0.254 - ETA: 5s - loss: 0.2541 - mae: 0.254 - ETA: 5s - loss: 0.2541 - mae: 0.254 - ETA: 5s - loss: 0.2541 - mae: 0.254 - ETA: 5s - loss: 0.2541 - mae: 0.254 - ETA: 5s - loss: 0.2541 - mae: 0.254 - ETA: 5s - loss: 0.2541 - mae: 0.254 - ETA: 5s - loss: 0.2541 - mae: 0.254 - ETA: 5s - loss: 0.2541 - mae: 0.254 - ETA: 5s - loss: 0.2541 - mae: 0.254 - ETA: 5s - loss: 0.2541 - mae: 0.254 - ETA: 5s - loss: 0.2541 - mae: 0.254 - ETA: 5s - loss: 0.2541 - mae: 0.254 - ETA: 5s - loss: 0.2541 - mae: 0.254 - ETA: 5s - loss: 0.2541 - mae: 0.254 - ETA: 5s - loss: 0.2541 - mae: 0.254 - ETA: 4s - loss: 0.2541 - mae: 0.254 - ETA: 4s - loss: 0.2541 - mae: 0.254 - ETA: 4s - loss: 0.2541 - mae: 0.254 - ETA: 4s - loss: 0.2541 - mae: 0.254 - ETA: 4s - loss: 0.2541 - mae: 0.254 - ETA: 4s - loss: 0.2541 - mae: 0.254 - ETA: 4s - loss: 0.2541 - mae: 0.254 - ETA: 4s - loss: 0.2541 - mae: 0.254 - ETA: 4s - loss: 0.2541 - mae: 0.254 - ETA: 4s - loss: 0.2541 - mae: 0.254 - ETA: 4s - loss: 0.2541 - mae: 0.254 - ETA: 4s - loss: 0.2541 - mae: 0.254 - ETA: 4s - loss: 0.2541 - mae: 0.254 - ETA: 4s - loss: 0.2541 - mae: 0.254 - ETA: 4s - loss: 0.2541 - mae: 0.254 - ETA: 4s - loss: 0.2541 - mae: 0.254 - ETA: 4s - loss: 0.2540 - mae: 0.254 - ETA: 3s - loss: 0.2540 - mae: 0.254 - ETA: 3s - loss: 0.2540 - mae: 0.254 - ETA: 3s - loss: 0.2540 - mae: 0.254 - ETA: 3s - loss: 0.2540 - mae: 0.254 - ETA: 3s - loss: 0.2540 - mae: 0.254 - ETA: 3s - loss: 0.2540 - mae: 0.254 - ETA: 3s - loss: 0.2540 - mae: 0.254 - ETA: 3s - loss: 0.2540 - mae: 0.254 - ETA: 3s - loss: 0.2540 - mae: 0.254 - ETA: 3s - loss: 0.2540 - mae: 0.254 - ETA: 3s - loss: 0.2540 - mae: 0.254 - ETA: 3s - loss: 0.2540 - mae: 0.254 - ETA: 3s - loss: 0.2540 - mae: 0.254 - ETA: 3s - loss: 0.2540 - mae: 0.254 - ETA: 3s - loss: 0.2540 - mae: 0.254 - ETA: 3s - loss: 0.2540 - mae: 0.254 - ETA: 3s - loss: 0.2540 - mae: 0.254 - ETA: 3s - loss: 0.2540 - mae: 0.254 - ETA: 2s - loss: 0.2540 - mae: 0.254 - ETA: 2s - loss: 0.2540 - mae: 0.254 - ETA: 2s - loss: 0.2540 - mae: 0.254 - ETA: 2s - loss: 0.2540 - mae: 0.254 - ETA: 2s - loss: 0.2540 - mae: 0.254 - ETA: 2s - loss: 0.2540 - mae: 0.254 - ETA: 2s - loss: 0.2540 - mae: 0.254 - ETA: 2s - loss: 0.2540 - mae: 0.254 - ETA: 2s - loss: 0.2539 - mae: 0.253 - ETA: 2s - loss: 0.2539 - mae: 0.253 - ETA: 2s - loss: 0.2539 - mae: 0.253 - ETA: 2s - loss: 0.2539 - mae: 0.253 - ETA: 2s - loss: 0.2539 - mae: 0.253 - ETA: 2s - loss: 0.2539 - mae: 0.253 - ETA: 2s - loss: 0.2539 - mae: 0.253 - ETA: 2s - loss: 0.2539 - mae: 0.253 - ETA: 2s - loss: 0.2539 - mae: 0.253 - ETA: 2s - loss: 0.2538 - mae: 0.253 - ETA: 1s - loss: 0.2538 - mae: 0.253 - ETA: 1s - loss: 0.2538 - mae: 0.253 - ETA: 1s - loss: 0.2538 - mae: 0.253 - ETA: 1s - loss: 0.2538 - mae: 0.253 - ETA: 1s - loss: 0.2538 - mae: 0.253 - ETA: 1s - loss: 0.2538 - mae: 0.253 - ETA: 1s - loss: 0.2538 - mae: 0.253 - ETA: 1s - loss: 0.2538 - mae: 0.253 - ETA: 1s - loss: 0.2538 - mae: 0.253 - ETA: 1s - loss: 0.2538 - mae: 0.253 - ETA: 1s - loss: 0.2538 - mae: 0.253 - ETA: 1s - loss: 0.2538 - mae: 0.253 - ETA: 1s - loss: 0.2538 - mae: 0.253 - ETA: 1s - loss: 0.2537 - mae: 0.253 - ETA: 1s - loss: 0.2537 - mae: 0.253 - ETA: 1s - loss: 0.2537 - mae: 0.253 - ETA: 1s - loss: 0.2537 - mae: 0.253 - ETA: 1s - loss: 0.2537 - mae: 0.253 - ETA: 0s - loss: 0.2537 - mae: 0.253 - ETA: 0s - loss: 0.2537 - mae: 0.253 - ETA: 0s - loss: 0.2537 - mae: 0.253 - ETA: 0s - loss: 0.2537 - mae: 0.253 - ETA: 0s - loss: 0.2537 - mae: 0.253 - ETA: 0s - loss: 0.2537 - mae: 0.253 - ETA: 0s - loss: 0.2537 - mae: 0.253 - ETA: 0s - loss: 0.2537 - mae: 0.253 - ETA: 0s - loss: 0.2537 - mae: 0.253 - ETA: 0s - loss: 0.2537 - mae: 0.253 - ETA: 0s - loss: 0.2537 - mae: 0.253 - ETA: 0s - loss: 0.2537 - mae: 0.253 - ETA: 0s - loss: 0.2537 - mae: 0.253 - ETA: 0s - loss: 0.2537 - mae: 0.253 - ETA: 0s - loss: 0.2537 - mae: 0.253 - ETA: 0s - loss: 0.2537 - mae: 0.253 - ETA: 0s - loss: 0.2537 - mae: 0.253 - ETA: 0s - loss: 0.2537 - mae: 0.253 - 125s 417us/sample - loss: 0.2537 - mae: 0.2537 - val_loss: 0.2525 - val_mae: 0.2525\n",
      "Epoch 2/2\n"
     ]
    },
    {
     "name": "stdout",
     "output_type": "stream",
     "text": [
      " 32512/299280 [==>...........................] - ETA: 2:10 - loss: 0.2754 - mae: 0.275 - ETA: 1:53 - loss: 0.2441 - mae: 0.244 - ETA: 1:53 - loss: 0.2395 - mae: 0.239 - ETA: 1:51 - loss: 0.2337 - mae: 0.233 - ETA: 1:50 - loss: 0.2435 - mae: 0.243 - ETA: 1:50 - loss: 0.2442 - mae: 0.244 - ETA: 1:49 - loss: 0.2424 - mae: 0.242 - ETA: 1:48 - loss: 0.2421 - mae: 0.242 - ETA: 1:48 - loss: 0.2401 - mae: 0.240 - ETA: 1:48 - loss: 0.2409 - mae: 0.240 - ETA: 1:47 - loss: 0.2434 - mae: 0.243 - ETA: 1:47 - loss: 0.2407 - mae: 0.240 - ETA: 1:47 - loss: 0.2405 - mae: 0.240 - ETA: 1:46 - loss: 0.2394 - mae: 0.239 - ETA: 1:46 - loss: 0.2392 - mae: 0.239 - ETA: 1:46 - loss: 0.2407 - mae: 0.240 - ETA: 1:46 - loss: 0.2399 - mae: 0.239 - ETA: 1:46 - loss: 0.2401 - mae: 0.240 - ETA: 1:46 - loss: 0.2406 - mae: 0.240 - ETA: 1:46 - loss: 0.2399 - mae: 0.239 - ETA: 1:46 - loss: 0.2395 - mae: 0.239 - ETA: 1:45 - loss: 0.2396 - mae: 0.239 - ETA: 1:45 - loss: 0.2394 - mae: 0.239 - ETA: 1:45 - loss: 0.2394 - mae: 0.239 - ETA: 1:44 - loss: 0.2396 - mae: 0.239 - ETA: 1:44 - loss: 0.2397 - mae: 0.239 - ETA: 1:44 - loss: 0.2391 - mae: 0.239 - ETA: 1:44 - loss: 0.2399 - mae: 0.239 - ETA: 1:44 - loss: 0.2404 - mae: 0.240 - ETA: 1:44 - loss: 0.2407 - mae: 0.240 - ETA: 1:43 - loss: 0.2406 - mae: 0.240 - ETA: 1:43 - loss: 0.2400 - mae: 0.240 - ETA: 1:43 - loss: 0.2397 - mae: 0.239 - ETA: 1:43 - loss: 0.2396 - mae: 0.239 - ETA: 1:43 - loss: 0.2394 - mae: 0.239 - ETA: 1:43 - loss: 0.2397 - mae: 0.239 - ETA: 1:43 - loss: 0.2396 - mae: 0.239 - ETA: 1:42 - loss: 0.2395 - mae: 0.239 - ETA: 1:42 - loss: 0.2396 - mae: 0.239 - ETA: 1:42 - loss: 0.2398 - mae: 0.239 - ETA: 1:42 - loss: 0.2403 - mae: 0.240 - ETA: 1:42 - loss: 0.2398 - mae: 0.239 - ETA: 1:42 - loss: 0.2396 - mae: 0.239 - ETA: 1:42 - loss: 0.2398 - mae: 0.239 - ETA: 1:42 - loss: 0.2400 - mae: 0.240 - ETA: 1:42 - loss: 0.2403 - mae: 0.240 - ETA: 1:42 - loss: 0.2408 - mae: 0.240 - ETA: 1:42 - loss: 0.2408 - mae: 0.240 - ETA: 1:41 - loss: 0.2407 - mae: 0.240 - ETA: 1:41 - loss: 0.2407 - mae: 0.240 - ETA: 1:41 - loss: 0.2407 - mae: 0.240 - ETA: 1:41 - loss: 0.2410 - mae: 0.241 - ETA: 1:41 - loss: 0.2412 - mae: 0.241 - ETA: 1:41 - loss: 0.2410 - mae: 0.241 - ETA: 1:41 - loss: 0.2410 - mae: 0.241 - ETA: 1:41 - loss: 0.2410 - mae: 0.241 - ETA: 1:41 - loss: 0.2413 - mae: 0.241 - ETA: 1:41 - loss: 0.2413 - mae: 0.241 - ETA: 1:41 - loss: 0.2409 - mae: 0.240 - ETA: 1:40 - loss: 0.2413 - mae: 0.241 - ETA: 1:40 - loss: 0.2413 - mae: 0.241 - ETA: 1:40 - loss: 0.2417 - mae: 0.241 - ETA: 1:40 - loss: 0.2417 - mae: 0.241 - ETA: 1:40 - loss: 0.2419 - mae: 0.241 - ETA: 1:40 - loss: 0.2421 - mae: 0.242 - ETA: 1:40 - loss: 0.2422 - mae: 0.242 - ETA: 1:40 - loss: 0.2421 - mae: 0.242 - ETA: 1:40 - loss: 0.2419 - mae: 0.241 - ETA: 1:40 - loss: 0.2417 - mae: 0.241 - ETA: 1:40 - loss: 0.2417 - mae: 0.241 - ETA: 1:40 - loss: 0.2417 - mae: 0.241 - ETA: 1:40 - loss: 0.2418 - mae: 0.241 - ETA: 1:40 - loss: 0.2421 - mae: 0.242 - ETA: 1:40 - loss: 0.2424 - mae: 0.242 - ETA: 1:40 - loss: 0.2423 - mae: 0.242 - ETA: 1:39 - loss: 0.2422 - mae: 0.242 - ETA: 1:39 - loss: 0.2424 - mae: 0.242 - ETA: 1:39 - loss: 0.2422 - mae: 0.242 - ETA: 1:39 - loss: 0.2421 - mae: 0.242 - ETA: 1:39 - loss: 0.2424 - mae: 0.242 - ETA: 1:39 - loss: 0.2422 - mae: 0.242 - ETA: 1:39 - loss: 0.2424 - mae: 0.242 - ETA: 1:39 - loss: 0.2423 - mae: 0.242 - ETA: 1:39 - loss: 0.2424 - mae: 0.242 - ETA: 1:39 - loss: 0.2423 - mae: 0.242 - ETA: 1:39 - loss: 0.2424 - mae: 0.242 - ETA: 1:39 - loss: 0.2425 - mae: 0.242 - ETA: 1:39 - loss: 0.2421 - mae: 0.242 - ETA: 1:39 - loss: 0.2423 - mae: 0.242 - ETA: 1:39 - loss: 0.2423 - mae: 0.242 - ETA: 1:38 - loss: 0.2422 - mae: 0.242 - ETA: 1:38 - loss: 0.2422 - mae: 0.242 - ETA: 1:38 - loss: 0.2423 - mae: 0.242 - ETA: 1:38 - loss: 0.2425 - mae: 0.242 - ETA: 1:38 - loss: 0.2426 - mae: 0.242 - ETA: 1:38 - loss: 0.2427 - mae: 0.242 - ETA: 1:38 - loss: 0.2425 - mae: 0.242 - ETA: 1:38 - loss: 0.2423 - mae: 0.242 - ETA: 1:38 - loss: 0.2427 - mae: 0.242 - ETA: 1:38 - loss: 0.2429 - mae: 0.242 - ETA: 1:38 - loss: 0.2428 - mae: 0.242 - ETA: 1:38 - loss: 0.2424 - mae: 0.242 - ETA: 1:38 - loss: 0.2426 - mae: 0.242 - ETA: 1:38 - loss: 0.2424 - mae: 0.242 - ETA: 1:38 - loss: 0.2425 - mae: 0.242 - ETA: 1:37 - loss: 0.2425 - mae: 0.242 - ETA: 1:37 - loss: 0.2426 - mae: 0.242 - ETA: 1:37 - loss: 0.2426 - mae: 0.242 - ETA: 1:37 - loss: 0.2423 - mae: 0.242 - ETA: 1:37 - loss: 0.2424 - mae: 0.242 - ETA: 1:37 - loss: 0.2422 - mae: 0.242 - ETA: 1:37 - loss: 0.2421 - mae: 0.242 - ETA: 1:37 - loss: 0.2420 - mae: 0.242 - ETA: 1:37 - loss: 0.2421 - mae: 0.242 - ETA: 1:37 - loss: 0.2420 - mae: 0.242 - ETA: 1:37 - loss: 0.2420 - mae: 0.242 - ETA: 1:37 - loss: 0.2419 - mae: 0.241 - ETA: 1:37 - loss: 0.2417 - mae: 0.241 - ETA: 1:37 - loss: 0.2419 - mae: 0.241 - ETA: 1:37 - loss: 0.2418 - mae: 0.241 - ETA: 1:36 - loss: 0.2420 - mae: 0.242 - ETA: 1:36 - loss: 0.2419 - mae: 0.241 - ETA: 1:36 - loss: 0.2419 - mae: 0.241 - ETA: 1:36 - loss: 0.2417 - mae: 0.241 - ETA: 1:36 - loss: 0.2418 - mae: 0.241 - ETA: 1:36 - loss: 0.2418 - mae: 0.241 - ETA: 1:36 - loss: 0.2418 - mae: 0.241 - ETA: 1:36 - loss: 0.2417 - mae: 0.241 - ETA: 1:36 - loss: 0.2420 - mae: 0.242 - ETA: 1:36 - loss: 0.2420 - mae: 0.242 - ETA: 1:36 - loss: 0.2421 - mae: 0.242 - ETA: 1:36 - loss: 0.2423 - mae: 0.242 - ETA: 1:36 - loss: 0.2423 - mae: 0.242 - ETA: 1:36 - loss: 0.2422 - mae: 0.242 - ETA: 1:36 - loss: 0.2424 - mae: 0.242 - ETA: 1:36 - loss: 0.2423 - mae: 0.242 - ETA: 1:35 - loss: 0.2422 - mae: 0.242 - ETA: 1:35 - loss: 0.2420 - mae: 0.242 - ETA: 1:35 - loss: 0.2420 - mae: 0.242 - ETA: 1:35 - loss: 0.2420 - mae: 0.242 - ETA: 1:35 - loss: 0.2422 - mae: 0.242 - ETA: 1:35 - loss: 0.2422 - mae: 0.242 - ETA: 1:35 - loss: 0.2422 - mae: 0.242 - ETA: 1:35 - loss: 0.2424 - mae: 0.242 - ETA: 1:35 - loss: 0.2422 - mae: 0.242 - ETA: 1:35 - loss: 0.2424 - mae: 0.242 - ETA: 1:35 - loss: 0.2426 - mae: 0.242 - ETA: 1:35 - loss: 0.2428 - mae: 0.242 - ETA: 1:35 - loss: 0.2428 - mae: 0.242 - ETA: 1:35 - loss: 0.2428 - mae: 0.242 - ETA: 1:35 - loss: 0.2427 - mae: 0.242 - ETA: 1:35 - loss: 0.2427 - mae: 0.242 - ETA: 1:34 - loss: 0.2428 - mae: 0.242 - ETA: 1:34 - loss: 0.2427 - mae: 0.242 - ETA: 1:34 - loss: 0.2426 - mae: 0.242 - ETA: 1:34 - loss: 0.2428 - mae: 0.242 - ETA: 1:34 - loss: 0.2426 - mae: 0.242 - ETA: 1:34 - loss: 0.2424 - mae: 0.242 - ETA: 1:34 - loss: 0.2424 - mae: 0.242 - ETA: 1:34 - loss: 0.2423 - mae: 0.242 - ETA: 1:34 - loss: 0.2423 - mae: 0.242 - ETA: 1:34 - loss: 0.2424 - mae: 0.242 - ETA: 1:34 - loss: 0.2424 - mae: 0.242 - ETA: 1:34 - loss: 0.2422 - mae: 0.242 - ETA: 1:34 - loss: 0.2422 - mae: 0.242 - ETA: 1:34 - loss: 0.2422 - mae: 0.242 - ETA: 1:34 - loss: 0.2423 - mae: 0.242 - ETA: 1:34 - loss: 0.2425 - mae: 0.242 - ETA: 1:34 - loss: 0.2426 - mae: 0.242 - ETA: 1:33 - loss: 0.2427 - mae: 0.242 - ETA: 1:33 - loss: 0.2428 - mae: 0.242 - ETA: 1:33 - loss: 0.2429 - mae: 0.242 - ETA: 1:33 - loss: 0.2428 - mae: 0.242 - ETA: 1:33 - loss: 0.2426 - mae: 0.242 - ETA: 1:33 - loss: 0.2428 - mae: 0.242 - ETA: 1:33 - loss: 0.2428 - mae: 0.242 - ETA: 1:33 - loss: 0.2427 - mae: 0.242 - ETA: 1:33 - loss: 0.2427 - mae: 0.242 - ETA: 1:33 - loss: 0.2426 - mae: 0.242 - ETA: 1:33 - loss: 0.2426 - mae: 0.242 - ETA: 1:33 - loss: 0.2424 - mae: 0.242 - ETA: 1:33 - loss: 0.2424 - mae: 0.242 - ETA: 1:33 - loss: 0.2424 - mae: 0.242 - ETA: 1:33 - loss: 0.2424 - mae: 0.242 - ETA: 1:33 - loss: 0.2424 - mae: 0.242 - ETA: 1:33 - loss: 0.2424 - mae: 0.242 - ETA: 1:32 - loss: 0.2423 - mae: 0.242 - ETA: 1:32 - loss: 0.2423 - mae: 0.242 - ETA: 1:32 - loss: 0.2422 - mae: 0.242 - ETA: 1:32 - loss: 0.2422 - mae: 0.242 - ETA: 1:32 - loss: 0.2422 - mae: 0.242 - ETA: 1:32 - loss: 0.2422 - mae: 0.242 - ETA: 1:32 - loss: 0.2423 - mae: 0.242 - ETA: 1:32 - loss: 0.2423 - mae: 0.242 - ETA: 1:32 - loss: 0.2422 - mae: 0.242 - ETA: 1:32 - loss: 0.2423 - mae: 0.242 - ETA: 1:32 - loss: 0.2422 - mae: 0.242 - ETA: 1:32 - loss: 0.2424 - mae: 0.242 - ETA: 1:32 - loss: 0.2423 - mae: 0.242 - ETA: 1:32 - loss: 0.2423 - mae: 0.242 - ETA: 1:32 - loss: 0.2425 - mae: 0.242 - ETA: 1:32 - loss: 0.2425 - mae: 0.242 - ETA: 1:32 - loss: 0.2425 - mae: 0.242 - ETA: 1:32 - loss: 0.2424 - mae: 0.2424"
     ]
    },
    {
     "name": "stdout",
     "output_type": "stream",
     "text": [
      " 65152/299280 [=====>........................] - ETA: 1:32 - loss: 0.2423 - mae: 0.242 - ETA: 1:31 - loss: 0.2423 - mae: 0.242 - ETA: 1:31 - loss: 0.2422 - mae: 0.242 - ETA: 1:31 - loss: 0.2423 - mae: 0.242 - ETA: 1:31 - loss: 0.2421 - mae: 0.242 - ETA: 1:31 - loss: 0.2421 - mae: 0.242 - ETA: 1:31 - loss: 0.2421 - mae: 0.242 - ETA: 1:31 - loss: 0.2421 - mae: 0.242 - ETA: 1:31 - loss: 0.2420 - mae: 0.242 - ETA: 1:31 - loss: 0.2421 - mae: 0.242 - ETA: 1:31 - loss: 0.2421 - mae: 0.242 - ETA: 1:31 - loss: 0.2422 - mae: 0.242 - ETA: 1:31 - loss: 0.2421 - mae: 0.242 - ETA: 1:31 - loss: 0.2422 - mae: 0.242 - ETA: 1:31 - loss: 0.2422 - mae: 0.242 - ETA: 1:31 - loss: 0.2422 - mae: 0.242 - ETA: 1:31 - loss: 0.2422 - mae: 0.242 - ETA: 1:31 - loss: 0.2422 - mae: 0.242 - ETA: 1:30 - loss: 0.2422 - mae: 0.242 - ETA: 1:30 - loss: 0.2420 - mae: 0.242 - ETA: 1:30 - loss: 0.2420 - mae: 0.242 - ETA: 1:30 - loss: 0.2420 - mae: 0.242 - ETA: 1:30 - loss: 0.2421 - mae: 0.242 - ETA: 1:30 - loss: 0.2421 - mae: 0.242 - ETA: 1:30 - loss: 0.2422 - mae: 0.242 - ETA: 1:30 - loss: 0.2422 - mae: 0.242 - ETA: 1:30 - loss: 0.2423 - mae: 0.242 - ETA: 1:30 - loss: 0.2423 - mae: 0.242 - ETA: 1:30 - loss: 0.2423 - mae: 0.242 - ETA: 1:30 - loss: 0.2423 - mae: 0.242 - ETA: 1:30 - loss: 0.2423 - mae: 0.242 - ETA: 1:30 - loss: 0.2422 - mae: 0.242 - ETA: 1:30 - loss: 0.2422 - mae: 0.242 - ETA: 1:30 - loss: 0.2420 - mae: 0.242 - ETA: 1:30 - loss: 0.2421 - mae: 0.242 - ETA: 1:30 - loss: 0.2420 - mae: 0.242 - ETA: 1:29 - loss: 0.2421 - mae: 0.242 - ETA: 1:29 - loss: 0.2421 - mae: 0.242 - ETA: 1:29 - loss: 0.2421 - mae: 0.242 - ETA: 1:29 - loss: 0.2420 - mae: 0.242 - ETA: 1:29 - loss: 0.2420 - mae: 0.242 - ETA: 1:29 - loss: 0.2421 - mae: 0.242 - ETA: 1:29 - loss: 0.2421 - mae: 0.242 - ETA: 1:29 - loss: 0.2420 - mae: 0.242 - ETA: 1:29 - loss: 0.2421 - mae: 0.242 - ETA: 1:29 - loss: 0.2420 - mae: 0.242 - ETA: 1:29 - loss: 0.2420 - mae: 0.242 - ETA: 1:29 - loss: 0.2420 - mae: 0.242 - ETA: 1:29 - loss: 0.2420 - mae: 0.242 - ETA: 1:29 - loss: 0.2420 - mae: 0.242 - ETA: 1:29 - loss: 0.2420 - mae: 0.242 - ETA: 1:29 - loss: 0.2419 - mae: 0.241 - ETA: 1:29 - loss: 0.2419 - mae: 0.241 - ETA: 1:28 - loss: 0.2419 - mae: 0.241 - ETA: 1:28 - loss: 0.2419 - mae: 0.241 - ETA: 1:28 - loss: 0.2419 - mae: 0.241 - ETA: 1:28 - loss: 0.2419 - mae: 0.241 - ETA: 1:28 - loss: 0.2418 - mae: 0.241 - ETA: 1:28 - loss: 0.2419 - mae: 0.241 - ETA: 1:28 - loss: 0.2419 - mae: 0.241 - ETA: 1:28 - loss: 0.2420 - mae: 0.242 - ETA: 1:28 - loss: 0.2420 - mae: 0.242 - ETA: 1:28 - loss: 0.2419 - mae: 0.241 - ETA: 1:28 - loss: 0.2420 - mae: 0.242 - ETA: 1:28 - loss: 0.2420 - mae: 0.242 - ETA: 1:28 - loss: 0.2420 - mae: 0.242 - ETA: 1:28 - loss: 0.2420 - mae: 0.242 - ETA: 1:28 - loss: 0.2420 - mae: 0.242 - ETA: 1:28 - loss: 0.2420 - mae: 0.242 - ETA: 1:28 - loss: 0.2421 - mae: 0.242 - ETA: 1:28 - loss: 0.2421 - mae: 0.242 - ETA: 1:27 - loss: 0.2421 - mae: 0.242 - ETA: 1:27 - loss: 0.2421 - mae: 0.242 - ETA: 1:27 - loss: 0.2420 - mae: 0.242 - ETA: 1:27 - loss: 0.2421 - mae: 0.242 - ETA: 1:27 - loss: 0.2421 - mae: 0.242 - ETA: 1:27 - loss: 0.2420 - mae: 0.242 - ETA: 1:27 - loss: 0.2420 - mae: 0.242 - ETA: 1:27 - loss: 0.2420 - mae: 0.242 - ETA: 1:27 - loss: 0.2420 - mae: 0.242 - ETA: 1:27 - loss: 0.2421 - mae: 0.242 - ETA: 1:27 - loss: 0.2421 - mae: 0.242 - ETA: 1:27 - loss: 0.2421 - mae: 0.242 - ETA: 1:27 - loss: 0.2422 - mae: 0.242 - ETA: 1:27 - loss: 0.2422 - mae: 0.242 - ETA: 1:27 - loss: 0.2423 - mae: 0.242 - ETA: 1:27 - loss: 0.2422 - mae: 0.242 - ETA: 1:27 - loss: 0.2422 - mae: 0.242 - ETA: 1:27 - loss: 0.2422 - mae: 0.242 - ETA: 1:27 - loss: 0.2423 - mae: 0.242 - ETA: 1:26 - loss: 0.2422 - mae: 0.242 - ETA: 1:26 - loss: 0.2422 - mae: 0.242 - ETA: 1:26 - loss: 0.2422 - mae: 0.242 - ETA: 1:26 - loss: 0.2423 - mae: 0.242 - ETA: 1:26 - loss: 0.2423 - mae: 0.242 - ETA: 1:26 - loss: 0.2424 - mae: 0.242 - ETA: 1:26 - loss: 0.2423 - mae: 0.242 - ETA: 1:26 - loss: 0.2423 - mae: 0.242 - ETA: 1:26 - loss: 0.2423 - mae: 0.242 - ETA: 1:26 - loss: 0.2423 - mae: 0.242 - ETA: 1:26 - loss: 0.2424 - mae: 0.242 - ETA: 1:26 - loss: 0.2425 - mae: 0.242 - ETA: 1:26 - loss: 0.2425 - mae: 0.242 - ETA: 1:26 - loss: 0.2425 - mae: 0.242 - ETA: 1:26 - loss: 0.2425 - mae: 0.242 - ETA: 1:26 - loss: 0.2425 - mae: 0.242 - ETA: 1:26 - loss: 0.2425 - mae: 0.242 - ETA: 1:25 - loss: 0.2424 - mae: 0.242 - ETA: 1:25 - loss: 0.2423 - mae: 0.242 - ETA: 1:25 - loss: 0.2423 - mae: 0.242 - ETA: 1:25 - loss: 0.2424 - mae: 0.242 - ETA: 1:25 - loss: 0.2424 - mae: 0.242 - ETA: 1:25 - loss: 0.2424 - mae: 0.242 - ETA: 1:25 - loss: 0.2424 - mae: 0.242 - ETA: 1:25 - loss: 0.2424 - mae: 0.242 - ETA: 1:25 - loss: 0.2424 - mae: 0.242 - ETA: 1:25 - loss: 0.2423 - mae: 0.242 - ETA: 1:25 - loss: 0.2422 - mae: 0.242 - ETA: 1:25 - loss: 0.2421 - mae: 0.242 - ETA: 1:25 - loss: 0.2421 - mae: 0.242 - ETA: 1:25 - loss: 0.2420 - mae: 0.242 - ETA: 1:25 - loss: 0.2420 - mae: 0.242 - ETA: 1:25 - loss: 0.2420 - mae: 0.242 - ETA: 1:25 - loss: 0.2420 - mae: 0.242 - ETA: 1:25 - loss: 0.2421 - mae: 0.242 - ETA: 1:24 - loss: 0.2421 - mae: 0.242 - ETA: 1:24 - loss: 0.2420 - mae: 0.242 - ETA: 1:24 - loss: 0.2420 - mae: 0.242 - ETA: 1:24 - loss: 0.2420 - mae: 0.242 - ETA: 1:24 - loss: 0.2420 - mae: 0.242 - ETA: 1:24 - loss: 0.2421 - mae: 0.242 - ETA: 1:24 - loss: 0.2421 - mae: 0.242 - ETA: 1:24 - loss: 0.2421 - mae: 0.242 - ETA: 1:24 - loss: 0.2421 - mae: 0.242 - ETA: 1:24 - loss: 0.2421 - mae: 0.242 - ETA: 1:24 - loss: 0.2421 - mae: 0.242 - ETA: 1:24 - loss: 0.2421 - mae: 0.242 - ETA: 1:24 - loss: 0.2421 - mae: 0.242 - ETA: 1:24 - loss: 0.2421 - mae: 0.242 - ETA: 1:24 - loss: 0.2421 - mae: 0.242 - ETA: 1:24 - loss: 0.2421 - mae: 0.242 - ETA: 1:24 - loss: 0.2420 - mae: 0.242 - ETA: 1:24 - loss: 0.2421 - mae: 0.242 - ETA: 1:23 - loss: 0.2420 - mae: 0.242 - ETA: 1:23 - loss: 0.2419 - mae: 0.241 - ETA: 1:23 - loss: 0.2420 - mae: 0.242 - ETA: 1:23 - loss: 0.2420 - mae: 0.242 - ETA: 1:23 - loss: 0.2420 - mae: 0.242 - ETA: 1:23 - loss: 0.2420 - mae: 0.242 - ETA: 1:23 - loss: 0.2419 - mae: 0.241 - ETA: 1:23 - loss: 0.2420 - mae: 0.242 - ETA: 1:23 - loss: 0.2420 - mae: 0.242 - ETA: 1:23 - loss: 0.2420 - mae: 0.242 - ETA: 1:23 - loss: 0.2420 - mae: 0.242 - ETA: 1:23 - loss: 0.2421 - mae: 0.242 - ETA: 1:23 - loss: 0.2422 - mae: 0.242 - ETA: 1:23 - loss: 0.2422 - mae: 0.242 - ETA: 1:23 - loss: 0.2423 - mae: 0.242 - ETA: 1:23 - loss: 0.2422 - mae: 0.242 - ETA: 1:23 - loss: 0.2423 - mae: 0.242 - ETA: 1:23 - loss: 0.2422 - mae: 0.242 - ETA: 1:22 - loss: 0.2422 - mae: 0.242 - ETA: 1:22 - loss: 0.2421 - mae: 0.242 - ETA: 1:22 - loss: 0.2421 - mae: 0.242 - ETA: 1:22 - loss: 0.2421 - mae: 0.242 - ETA: 1:22 - loss: 0.2421 - mae: 0.242 - ETA: 1:22 - loss: 0.2420 - mae: 0.242 - ETA: 1:22 - loss: 0.2421 - mae: 0.242 - ETA: 1:22 - loss: 0.2421 - mae: 0.242 - ETA: 1:22 - loss: 0.2420 - mae: 0.242 - ETA: 1:22 - loss: 0.2420 - mae: 0.242 - ETA: 1:22 - loss: 0.2420 - mae: 0.242 - ETA: 1:22 - loss: 0.2421 - mae: 0.242 - ETA: 1:22 - loss: 0.2420 - mae: 0.242 - ETA: 1:22 - loss: 0.2420 - mae: 0.242 - ETA: 1:22 - loss: 0.2419 - mae: 0.241 - ETA: 1:22 - loss: 0.2419 - mae: 0.241 - ETA: 1:22 - loss: 0.2419 - mae: 0.241 - ETA: 1:22 - loss: 0.2419 - mae: 0.241 - ETA: 1:21 - loss: 0.2418 - mae: 0.241 - ETA: 1:21 - loss: 0.2418 - mae: 0.241 - ETA: 1:21 - loss: 0.2418 - mae: 0.241 - ETA: 1:21 - loss: 0.2419 - mae: 0.241 - ETA: 1:21 - loss: 0.2419 - mae: 0.241 - ETA: 1:21 - loss: 0.2419 - mae: 0.241 - ETA: 1:21 - loss: 0.2419 - mae: 0.241 - ETA: 1:21 - loss: 0.2419 - mae: 0.241 - ETA: 1:21 - loss: 0.2419 - mae: 0.241 - ETA: 1:21 - loss: 0.2419 - mae: 0.241 - ETA: 1:21 - loss: 0.2419 - mae: 0.241 - ETA: 1:21 - loss: 0.2419 - mae: 0.241 - ETA: 1:21 - loss: 0.2419 - mae: 0.241 - ETA: 1:21 - loss: 0.2419 - mae: 0.241 - ETA: 1:21 - loss: 0.2419 - mae: 0.241 - ETA: 1:21 - loss: 0.2419 - mae: 0.241 - ETA: 1:21 - loss: 0.2419 - mae: 0.241 - ETA: 1:20 - loss: 0.2420 - mae: 0.242 - ETA: 1:20 - loss: 0.2421 - mae: 0.242 - ETA: 1:20 - loss: 0.2421 - mae: 0.242 - ETA: 1:20 - loss: 0.2421 - mae: 0.242 - ETA: 1:20 - loss: 0.2421 - mae: 0.242 - ETA: 1:20 - loss: 0.2421 - mae: 0.242 - ETA: 1:20 - loss: 0.2421 - mae: 0.242 - ETA: 1:20 - loss: 0.2421 - mae: 0.2421"
     ]
    },
    {
     "name": "stdout",
     "output_type": "stream",
     "text": [
      " 97568/299280 [========>.....................] - ETA: 1:20 - loss: 0.2421 - mae: 0.242 - ETA: 1:20 - loss: 0.2421 - mae: 0.242 - ETA: 1:20 - loss: 0.2421 - mae: 0.242 - ETA: 1:20 - loss: 0.2421 - mae: 0.242 - ETA: 1:20 - loss: 0.2420 - mae: 0.242 - ETA: 1:20 - loss: 0.2420 - mae: 0.242 - ETA: 1:20 - loss: 0.2420 - mae: 0.242 - ETA: 1:20 - loss: 0.2420 - mae: 0.242 - ETA: 1:20 - loss: 0.2420 - mae: 0.242 - ETA: 1:20 - loss: 0.2420 - mae: 0.242 - ETA: 1:20 - loss: 0.2420 - mae: 0.242 - ETA: 1:19 - loss: 0.2420 - mae: 0.242 - ETA: 1:19 - loss: 0.2421 - mae: 0.242 - ETA: 1:19 - loss: 0.2421 - mae: 0.242 - ETA: 1:19 - loss: 0.2420 - mae: 0.242 - ETA: 1:19 - loss: 0.2420 - mae: 0.242 - ETA: 1:19 - loss: 0.2420 - mae: 0.242 - ETA: 1:19 - loss: 0.2420 - mae: 0.242 - ETA: 1:19 - loss: 0.2421 - mae: 0.242 - ETA: 1:19 - loss: 0.2421 - mae: 0.242 - ETA: 1:19 - loss: 0.2421 - mae: 0.242 - ETA: 1:19 - loss: 0.2421 - mae: 0.242 - ETA: 1:19 - loss: 0.2421 - mae: 0.242 - ETA: 1:19 - loss: 0.2421 - mae: 0.242 - ETA: 1:19 - loss: 0.2421 - mae: 0.242 - ETA: 1:19 - loss: 0.2421 - mae: 0.242 - ETA: 1:19 - loss: 0.2421 - mae: 0.242 - ETA: 1:19 - loss: 0.2421 - mae: 0.242 - ETA: 1:18 - loss: 0.2420 - mae: 0.242 - ETA: 1:18 - loss: 0.2420 - mae: 0.242 - ETA: 1:18 - loss: 0.2420 - mae: 0.242 - ETA: 1:18 - loss: 0.2420 - mae: 0.242 - ETA: 1:18 - loss: 0.2419 - mae: 0.241 - ETA: 1:18 - loss: 0.2420 - mae: 0.242 - ETA: 1:18 - loss: 0.2419 - mae: 0.241 - ETA: 1:18 - loss: 0.2418 - mae: 0.241 - ETA: 1:18 - loss: 0.2419 - mae: 0.241 - ETA: 1:18 - loss: 0.2418 - mae: 0.241 - ETA: 1:18 - loss: 0.2418 - mae: 0.241 - ETA: 1:18 - loss: 0.2418 - mae: 0.241 - ETA: 1:18 - loss: 0.2418 - mae: 0.241 - ETA: 1:18 - loss: 0.2419 - mae: 0.241 - ETA: 1:18 - loss: 0.2419 - mae: 0.241 - ETA: 1:18 - loss: 0.2419 - mae: 0.241 - ETA: 1:18 - loss: 0.2418 - mae: 0.241 - ETA: 1:18 - loss: 0.2418 - mae: 0.241 - ETA: 1:18 - loss: 0.2418 - mae: 0.241 - ETA: 1:18 - loss: 0.2418 - mae: 0.241 - ETA: 1:17 - loss: 0.2417 - mae: 0.241 - ETA: 1:17 - loss: 0.2418 - mae: 0.241 - ETA: 1:17 - loss: 0.2418 - mae: 0.241 - ETA: 1:17 - loss: 0.2417 - mae: 0.241 - ETA: 1:17 - loss: 0.2417 - mae: 0.241 - ETA: 1:17 - loss: 0.2417 - mae: 0.241 - ETA: 1:17 - loss: 0.2417 - mae: 0.241 - ETA: 1:17 - loss: 0.2418 - mae: 0.241 - ETA: 1:17 - loss: 0.2418 - mae: 0.241 - ETA: 1:17 - loss: 0.2418 - mae: 0.241 - ETA: 1:17 - loss: 0.2418 - mae: 0.241 - ETA: 1:17 - loss: 0.2418 - mae: 0.241 - ETA: 1:17 - loss: 0.2417 - mae: 0.241 - ETA: 1:17 - loss: 0.2416 - mae: 0.241 - ETA: 1:17 - loss: 0.2416 - mae: 0.241 - ETA: 1:17 - loss: 0.2416 - mae: 0.241 - ETA: 1:17 - loss: 0.2416 - mae: 0.241 - ETA: 1:17 - loss: 0.2417 - mae: 0.241 - ETA: 1:17 - loss: 0.2416 - mae: 0.241 - ETA: 1:17 - loss: 0.2416 - mae: 0.241 - ETA: 1:16 - loss: 0.2416 - mae: 0.241 - ETA: 1:16 - loss: 0.2416 - mae: 0.241 - ETA: 1:16 - loss: 0.2416 - mae: 0.241 - ETA: 1:16 - loss: 0.2416 - mae: 0.241 - ETA: 1:16 - loss: 0.2415 - mae: 0.241 - ETA: 1:16 - loss: 0.2416 - mae: 0.241 - ETA: 1:16 - loss: 0.2416 - mae: 0.241 - ETA: 1:16 - loss: 0.2416 - mae: 0.241 - ETA: 1:16 - loss: 0.2416 - mae: 0.241 - ETA: 1:16 - loss: 0.2416 - mae: 0.241 - ETA: 1:16 - loss: 0.2416 - mae: 0.241 - ETA: 1:16 - loss: 0.2417 - mae: 0.241 - ETA: 1:16 - loss: 0.2417 - mae: 0.241 - ETA: 1:16 - loss: 0.2417 - mae: 0.241 - ETA: 1:16 - loss: 0.2417 - mae: 0.241 - ETA: 1:16 - loss: 0.2417 - mae: 0.241 - ETA: 1:16 - loss: 0.2418 - mae: 0.241 - ETA: 1:16 - loss: 0.2417 - mae: 0.241 - ETA: 1:16 - loss: 0.2417 - mae: 0.241 - ETA: 1:16 - loss: 0.2418 - mae: 0.241 - ETA: 1:15 - loss: 0.2418 - mae: 0.241 - ETA: 1:15 - loss: 0.2418 - mae: 0.241 - ETA: 1:15 - loss: 0.2418 - mae: 0.241 - ETA: 1:15 - loss: 0.2418 - mae: 0.241 - ETA: 1:15 - loss: 0.2418 - mae: 0.241 - ETA: 1:15 - loss: 0.2417 - mae: 0.241 - ETA: 1:15 - loss: 0.2418 - mae: 0.241 - ETA: 1:15 - loss: 0.2418 - mae: 0.241 - ETA: 1:15 - loss: 0.2419 - mae: 0.241 - ETA: 1:15 - loss: 0.2419 - mae: 0.241 - ETA: 1:15 - loss: 0.2420 - mae: 0.242 - ETA: 1:15 - loss: 0.2420 - mae: 0.242 - ETA: 1:15 - loss: 0.2420 - mae: 0.242 - ETA: 1:15 - loss: 0.2420 - mae: 0.242 - ETA: 1:15 - loss: 0.2420 - mae: 0.242 - ETA: 1:15 - loss: 0.2420 - mae: 0.242 - ETA: 1:15 - loss: 0.2420 - mae: 0.242 - ETA: 1:15 - loss: 0.2420 - mae: 0.242 - ETA: 1:15 - loss: 0.2420 - mae: 0.242 - ETA: 1:15 - loss: 0.2420 - mae: 0.242 - ETA: 1:14 - loss: 0.2420 - mae: 0.242 - ETA: 1:14 - loss: 0.2420 - mae: 0.242 - ETA: 1:14 - loss: 0.2419 - mae: 0.241 - ETA: 1:14 - loss: 0.2419 - mae: 0.241 - ETA: 1:14 - loss: 0.2419 - mae: 0.241 - ETA: 1:14 - loss: 0.2419 - mae: 0.241 - ETA: 1:14 - loss: 0.2420 - mae: 0.242 - ETA: 1:14 - loss: 0.2419 - mae: 0.241 - ETA: 1:14 - loss: 0.2419 - mae: 0.241 - ETA: 1:14 - loss: 0.2419 - mae: 0.241 - ETA: 1:14 - loss: 0.2419 - mae: 0.241 - ETA: 1:14 - loss: 0.2419 - mae: 0.241 - ETA: 1:14 - loss: 0.2419 - mae: 0.241 - ETA: 1:14 - loss: 0.2419 - mae: 0.241 - ETA: 1:14 - loss: 0.2419 - mae: 0.241 - ETA: 1:14 - loss: 0.2418 - mae: 0.241 - ETA: 1:14 - loss: 0.2418 - mae: 0.241 - ETA: 1:13 - loss: 0.2419 - mae: 0.241 - ETA: 1:13 - loss: 0.2418 - mae: 0.241 - ETA: 1:13 - loss: 0.2418 - mae: 0.241 - ETA: 1:13 - loss: 0.2419 - mae: 0.241 - ETA: 1:13 - loss: 0.2419 - mae: 0.241 - ETA: 1:13 - loss: 0.2419 - mae: 0.241 - ETA: 1:13 - loss: 0.2418 - mae: 0.241 - ETA: 1:13 - loss: 0.2418 - mae: 0.241 - ETA: 1:13 - loss: 0.2418 - mae: 0.241 - ETA: 1:13 - loss: 0.2418 - mae: 0.241 - ETA: 1:13 - loss: 0.2418 - mae: 0.241 - ETA: 1:13 - loss: 0.2417 - mae: 0.241 - ETA: 1:13 - loss: 0.2417 - mae: 0.241 - ETA: 1:13 - loss: 0.2417 - mae: 0.241 - ETA: 1:13 - loss: 0.2417 - mae: 0.241 - ETA: 1:13 - loss: 0.2417 - mae: 0.241 - ETA: 1:13 - loss: 0.2418 - mae: 0.241 - ETA: 1:13 - loss: 0.2418 - mae: 0.241 - ETA: 1:12 - loss: 0.2418 - mae: 0.241 - ETA: 1:12 - loss: 0.2418 - mae: 0.241 - ETA: 1:12 - loss: 0.2418 - mae: 0.241 - ETA: 1:12 - loss: 0.2418 - mae: 0.241 - ETA: 1:12 - loss: 0.2418 - mae: 0.241 - ETA: 1:12 - loss: 0.2418 - mae: 0.241 - ETA: 1:12 - loss: 0.2418 - mae: 0.241 - ETA: 1:12 - loss: 0.2418 - mae: 0.241 - ETA: 1:12 - loss: 0.2418 - mae: 0.241 - ETA: 1:12 - loss: 0.2418 - mae: 0.241 - ETA: 1:12 - loss: 0.2418 - mae: 0.241 - ETA: 1:12 - loss: 0.2418 - mae: 0.241 - ETA: 1:12 - loss: 0.2419 - mae: 0.241 - ETA: 1:12 - loss: 0.2419 - mae: 0.241 - ETA: 1:12 - loss: 0.2419 - mae: 0.241 - ETA: 1:12 - loss: 0.2419 - mae: 0.241 - ETA: 1:12 - loss: 0.2419 - mae: 0.241 - ETA: 1:12 - loss: 0.2419 - mae: 0.241 - ETA: 1:11 - loss: 0.2418 - mae: 0.241 - ETA: 1:11 - loss: 0.2418 - mae: 0.241 - ETA: 1:11 - loss: 0.2418 - mae: 0.241 - ETA: 1:11 - loss: 0.2419 - mae: 0.241 - ETA: 1:11 - loss: 0.2419 - mae: 0.241 - ETA: 1:11 - loss: 0.2419 - mae: 0.241 - ETA: 1:11 - loss: 0.2419 - mae: 0.241 - ETA: 1:11 - loss: 0.2419 - mae: 0.241 - ETA: 1:11 - loss: 0.2419 - mae: 0.241 - ETA: 1:11 - loss: 0.2419 - mae: 0.241 - ETA: 1:11 - loss: 0.2419 - mae: 0.241 - ETA: 1:11 - loss: 0.2418 - mae: 0.241 - ETA: 1:11 - loss: 0.2418 - mae: 0.241 - ETA: 1:11 - loss: 0.2419 - mae: 0.241 - ETA: 1:11 - loss: 0.2419 - mae: 0.241 - ETA: 1:11 - loss: 0.2420 - mae: 0.242 - ETA: 1:11 - loss: 0.2420 - mae: 0.242 - ETA: 1:11 - loss: 0.2419 - mae: 0.241 - ETA: 1:10 - loss: 0.2419 - mae: 0.241 - ETA: 1:10 - loss: 0.2420 - mae: 0.242 - ETA: 1:10 - loss: 0.2419 - mae: 0.241 - ETA: 1:10 - loss: 0.2419 - mae: 0.241 - ETA: 1:10 - loss: 0.2419 - mae: 0.241 - ETA: 1:10 - loss: 0.2419 - mae: 0.241 - ETA: 1:10 - loss: 0.2419 - mae: 0.241 - ETA: 1:10 - loss: 0.2419 - mae: 0.241 - ETA: 1:10 - loss: 0.2419 - mae: 0.241 - ETA: 1:10 - loss: 0.2419 - mae: 0.241 - ETA: 1:10 - loss: 0.2419 - mae: 0.241 - ETA: 1:10 - loss: 0.2419 - mae: 0.241 - ETA: 1:10 - loss: 0.2418 - mae: 0.241 - ETA: 1:10 - loss: 0.2419 - mae: 0.241 - ETA: 1:10 - loss: 0.2419 - mae: 0.241 - ETA: 1:10 - loss: 0.2418 - mae: 0.241 - ETA: 1:10 - loss: 0.2418 - mae: 0.241 - ETA: 1:10 - loss: 0.2418 - mae: 0.241 - ETA: 1:09 - loss: 0.2418 - mae: 0.241 - ETA: 1:09 - loss: 0.2418 - mae: 0.241 - ETA: 1:09 - loss: 0.2418 - mae: 0.241 - ETA: 1:09 - loss: 0.2418 - mae: 0.241 - ETA: 1:09 - loss: 0.2418 - mae: 0.241 - ETA: 1:09 - loss: 0.2418 - mae: 0.241 - ETA: 1:09 - loss: 0.2418 - mae: 0.2418"
     ]
    },
    {
     "name": "stdout",
     "output_type": "stream",
     "text": [
      "130528/299280 [============>.................] - ETA: 1:09 - loss: 0.2417 - mae: 0.241 - ETA: 1:09 - loss: 0.2417 - mae: 0.241 - ETA: 1:09 - loss: 0.2417 - mae: 0.241 - ETA: 1:09 - loss: 0.2417 - mae: 0.241 - ETA: 1:09 - loss: 0.2417 - mae: 0.241 - ETA: 1:09 - loss: 0.2417 - mae: 0.241 - ETA: 1:09 - loss: 0.2417 - mae: 0.241 - ETA: 1:09 - loss: 0.2417 - mae: 0.241 - ETA: 1:09 - loss: 0.2417 - mae: 0.241 - ETA: 1:09 - loss: 0.2416 - mae: 0.241 - ETA: 1:09 - loss: 0.2416 - mae: 0.241 - ETA: 1:08 - loss: 0.2416 - mae: 0.241 - ETA: 1:08 - loss: 0.2416 - mae: 0.241 - ETA: 1:08 - loss: 0.2416 - mae: 0.241 - ETA: 1:08 - loss: 0.2416 - mae: 0.241 - ETA: 1:08 - loss: 0.2417 - mae: 0.241 - ETA: 1:08 - loss: 0.2416 - mae: 0.241 - ETA: 1:08 - loss: 0.2416 - mae: 0.241 - ETA: 1:08 - loss: 0.2416 - mae: 0.241 - ETA: 1:08 - loss: 0.2416 - mae: 0.241 - ETA: 1:08 - loss: 0.2417 - mae: 0.241 - ETA: 1:08 - loss: 0.2417 - mae: 0.241 - ETA: 1:08 - loss: 0.2417 - mae: 0.241 - ETA: 1:08 - loss: 0.2417 - mae: 0.241 - ETA: 1:08 - loss: 0.2417 - mae: 0.241 - ETA: 1:08 - loss: 0.2417 - mae: 0.241 - ETA: 1:08 - loss: 0.2417 - mae: 0.241 - ETA: 1:08 - loss: 0.2417 - mae: 0.241 - ETA: 1:08 - loss: 0.2417 - mae: 0.241 - ETA: 1:07 - loss: 0.2417 - mae: 0.241 - ETA: 1:07 - loss: 0.2417 - mae: 0.241 - ETA: 1:07 - loss: 0.2417 - mae: 0.241 - ETA: 1:07 - loss: 0.2417 - mae: 0.241 - ETA: 1:07 - loss: 0.2417 - mae: 0.241 - ETA: 1:07 - loss: 0.2417 - mae: 0.241 - ETA: 1:07 - loss: 0.2416 - mae: 0.241 - ETA: 1:07 - loss: 0.2417 - mae: 0.241 - ETA: 1:07 - loss: 0.2417 - mae: 0.241 - ETA: 1:07 - loss: 0.2417 - mae: 0.241 - ETA: 1:07 - loss: 0.2416 - mae: 0.241 - ETA: 1:07 - loss: 0.2416 - mae: 0.241 - ETA: 1:07 - loss: 0.2416 - mae: 0.241 - ETA: 1:07 - loss: 0.2416 - mae: 0.241 - ETA: 1:07 - loss: 0.2416 - mae: 0.241 - ETA: 1:07 - loss: 0.2415 - mae: 0.241 - ETA: 1:07 - loss: 0.2415 - mae: 0.241 - ETA: 1:07 - loss: 0.2415 - mae: 0.241 - ETA: 1:06 - loss: 0.2414 - mae: 0.241 - ETA: 1:06 - loss: 0.2414 - mae: 0.241 - ETA: 1:06 - loss: 0.2414 - mae: 0.241 - ETA: 1:06 - loss: 0.2414 - mae: 0.241 - ETA: 1:06 - loss: 0.2414 - mae: 0.241 - ETA: 1:06 - loss: 0.2414 - mae: 0.241 - ETA: 1:06 - loss: 0.2414 - mae: 0.241 - ETA: 1:06 - loss: 0.2414 - mae: 0.241 - ETA: 1:06 - loss: 0.2414 - mae: 0.241 - ETA: 1:06 - loss: 0.2414 - mae: 0.241 - ETA: 1:06 - loss: 0.2414 - mae: 0.241 - ETA: 1:06 - loss: 0.2414 - mae: 0.241 - ETA: 1:06 - loss: 0.2414 - mae: 0.241 - ETA: 1:06 - loss: 0.2414 - mae: 0.241 - ETA: 1:06 - loss: 0.2414 - mae: 0.241 - ETA: 1:06 - loss: 0.2413 - mae: 0.241 - ETA: 1:06 - loss: 0.2413 - mae: 0.241 - ETA: 1:06 - loss: 0.2413 - mae: 0.241 - ETA: 1:05 - loss: 0.2413 - mae: 0.241 - ETA: 1:05 - loss: 0.2413 - mae: 0.241 - ETA: 1:05 - loss: 0.2413 - mae: 0.241 - ETA: 1:05 - loss: 0.2413 - mae: 0.241 - ETA: 1:05 - loss: 0.2413 - mae: 0.241 - ETA: 1:05 - loss: 0.2413 - mae: 0.241 - ETA: 1:05 - loss: 0.2414 - mae: 0.241 - ETA: 1:05 - loss: 0.2414 - mae: 0.241 - ETA: 1:05 - loss: 0.2414 - mae: 0.241 - ETA: 1:05 - loss: 0.2414 - mae: 0.241 - ETA: 1:05 - loss: 0.2414 - mae: 0.241 - ETA: 1:05 - loss: 0.2414 - mae: 0.241 - ETA: 1:05 - loss: 0.2414 - mae: 0.241 - ETA: 1:05 - loss: 0.2414 - mae: 0.241 - ETA: 1:05 - loss: 0.2414 - mae: 0.241 - ETA: 1:05 - loss: 0.2413 - mae: 0.241 - ETA: 1:05 - loss: 0.2413 - mae: 0.241 - ETA: 1:05 - loss: 0.2414 - mae: 0.241 - ETA: 1:04 - loss: 0.2414 - mae: 0.241 - ETA: 1:04 - loss: 0.2414 - mae: 0.241 - ETA: 1:04 - loss: 0.2414 - mae: 0.241 - ETA: 1:04 - loss: 0.2414 - mae: 0.241 - ETA: 1:04 - loss: 0.2414 - mae: 0.241 - ETA: 1:04 - loss: 0.2414 - mae: 0.241 - ETA: 1:04 - loss: 0.2413 - mae: 0.241 - ETA: 1:04 - loss: 0.2413 - mae: 0.241 - ETA: 1:04 - loss: 0.2413 - mae: 0.241 - ETA: 1:04 - loss: 0.2413 - mae: 0.241 - ETA: 1:04 - loss: 0.2413 - mae: 0.241 - ETA: 1:04 - loss: 0.2413 - mae: 0.241 - ETA: 1:04 - loss: 0.2413 - mae: 0.241 - ETA: 1:04 - loss: 0.2413 - mae: 0.241 - ETA: 1:04 - loss: 0.2413 - mae: 0.241 - ETA: 1:04 - loss: 0.2413 - mae: 0.241 - ETA: 1:04 - loss: 0.2413 - mae: 0.241 - ETA: 1:04 - loss: 0.2413 - mae: 0.241 - ETA: 1:03 - loss: 0.2413 - mae: 0.241 - ETA: 1:03 - loss: 0.2413 - mae: 0.241 - ETA: 1:03 - loss: 0.2413 - mae: 0.241 - ETA: 1:03 - loss: 0.2412 - mae: 0.241 - ETA: 1:03 - loss: 0.2412 - mae: 0.241 - ETA: 1:03 - loss: 0.2412 - mae: 0.241 - ETA: 1:03 - loss: 0.2412 - mae: 0.241 - ETA: 1:03 - loss: 0.2412 - mae: 0.241 - ETA: 1:03 - loss: 0.2412 - mae: 0.241 - ETA: 1:03 - loss: 0.2412 - mae: 0.241 - ETA: 1:03 - loss: 0.2412 - mae: 0.241 - ETA: 1:03 - loss: 0.2412 - mae: 0.241 - ETA: 1:03 - loss: 0.2412 - mae: 0.241 - ETA: 1:03 - loss: 0.2412 - mae: 0.241 - ETA: 1:03 - loss: 0.2412 - mae: 0.241 - ETA: 1:03 - loss: 0.2412 - mae: 0.241 - ETA: 1:03 - loss: 0.2412 - mae: 0.241 - ETA: 1:03 - loss: 0.2412 - mae: 0.241 - ETA: 1:02 - loss: 0.2412 - mae: 0.241 - ETA: 1:02 - loss: 0.2412 - mae: 0.241 - ETA: 1:02 - loss: 0.2412 - mae: 0.241 - ETA: 1:02 - loss: 0.2412 - mae: 0.241 - ETA: 1:02 - loss: 0.2412 - mae: 0.241 - ETA: 1:02 - loss: 0.2412 - mae: 0.241 - ETA: 1:02 - loss: 0.2412 - mae: 0.241 - ETA: 1:02 - loss: 0.2412 - mae: 0.241 - ETA: 1:02 - loss: 0.2412 - mae: 0.241 - ETA: 1:02 - loss: 0.2412 - mae: 0.241 - ETA: 1:02 - loss: 0.2412 - mae: 0.241 - ETA: 1:02 - loss: 0.2412 - mae: 0.241 - ETA: 1:02 - loss: 0.2412 - mae: 0.241 - ETA: 1:02 - loss: 0.2412 - mae: 0.241 - ETA: 1:02 - loss: 0.2412 - mae: 0.241 - ETA: 1:02 - loss: 0.2412 - mae: 0.241 - ETA: 1:02 - loss: 0.2412 - mae: 0.241 - ETA: 1:02 - loss: 0.2412 - mae: 0.241 - ETA: 1:02 - loss: 0.2411 - mae: 0.241 - ETA: 1:01 - loss: 0.2411 - mae: 0.241 - ETA: 1:01 - loss: 0.2411 - mae: 0.241 - ETA: 1:01 - loss: 0.2411 - mae: 0.241 - ETA: 1:01 - loss: 0.2411 - mae: 0.241 - ETA: 1:01 - loss: 0.2411 - mae: 0.241 - ETA: 1:01 - loss: 0.2411 - mae: 0.241 - ETA: 1:01 - loss: 0.2411 - mae: 0.241 - ETA: 1:01 - loss: 0.2411 - mae: 0.241 - ETA: 1:01 - loss: 0.2411 - mae: 0.241 - ETA: 1:01 - loss: 0.2411 - mae: 0.241 - ETA: 1:01 - loss: 0.2411 - mae: 0.241 - ETA: 1:01 - loss: 0.2411 - mae: 0.241 - ETA: 1:01 - loss: 0.2410 - mae: 0.241 - ETA: 1:01 - loss: 0.2410 - mae: 0.241 - ETA: 1:01 - loss: 0.2410 - mae: 0.241 - ETA: 1:01 - loss: 0.2410 - mae: 0.241 - ETA: 1:01 - loss: 0.2409 - mae: 0.240 - ETA: 1:00 - loss: 0.2409 - mae: 0.240 - ETA: 1:00 - loss: 0.2409 - mae: 0.240 - ETA: 1:00 - loss: 0.2409 - mae: 0.240 - ETA: 1:00 - loss: 0.2409 - mae: 0.240 - ETA: 1:00 - loss: 0.2409 - mae: 0.240 - ETA: 1:00 - loss: 0.2409 - mae: 0.240 - ETA: 1:00 - loss: 0.2409 - mae: 0.240 - ETA: 1:00 - loss: 0.2409 - mae: 0.240 - ETA: 1:00 - loss: 0.2409 - mae: 0.240 - ETA: 1:00 - loss: 0.2409 - mae: 0.240 - ETA: 1:00 - loss: 0.2409 - mae: 0.240 - ETA: 1:00 - loss: 0.2409 - mae: 0.240 - ETA: 1:00 - loss: 0.2409 - mae: 0.240 - ETA: 1:00 - loss: 0.2410 - mae: 0.241 - ETA: 1:00 - loss: 0.2410 - mae: 0.241 - ETA: 1:00 - loss: 0.2410 - mae: 0.241 - ETA: 1:00 - loss: 0.2410 - mae: 0.241 - ETA: 1:00 - loss: 0.2410 - mae: 0.241 - ETA: 59s - loss: 0.2409 - mae: 0.240 - ETA: 59s - loss: 0.2409 - mae: 0.24 - ETA: 59s - loss: 0.2409 - mae: 0.24 - ETA: 59s - loss: 0.2409 - mae: 0.24 - ETA: 59s - loss: 0.2409 - mae: 0.24 - ETA: 59s - loss: 0.2409 - mae: 0.24 - ETA: 59s - loss: 0.2409 - mae: 0.24 - ETA: 59s - loss: 0.2409 - mae: 0.24 - ETA: 59s - loss: 0.2409 - mae: 0.24 - ETA: 59s - loss: 0.2410 - mae: 0.24 - ETA: 59s - loss: 0.2410 - mae: 0.24 - ETA: 59s - loss: 0.2410 - mae: 0.24 - ETA: 59s - loss: 0.2410 - mae: 0.24 - ETA: 59s - loss: 0.2409 - mae: 0.24 - ETA: 59s - loss: 0.2409 - mae: 0.24 - ETA: 59s - loss: 0.2409 - mae: 0.24 - ETA: 59s - loss: 0.2409 - mae: 0.24 - ETA: 59s - loss: 0.2409 - mae: 0.24 - ETA: 58s - loss: 0.2409 - mae: 0.24 - ETA: 58s - loss: 0.2409 - mae: 0.24 - ETA: 58s - loss: 0.2409 - mae: 0.24 - ETA: 58s - loss: 0.2408 - mae: 0.24 - ETA: 58s - loss: 0.2408 - mae: 0.24 - ETA: 58s - loss: 0.2408 - mae: 0.24 - ETA: 58s - loss: 0.2408 - mae: 0.24 - ETA: 58s - loss: 0.2408 - mae: 0.24 - ETA: 58s - loss: 0.2408 - mae: 0.24 - ETA: 58s - loss: 0.2408 - mae: 0.24 - ETA: 58s - loss: 0.2408 - mae: 0.24 - ETA: 58s - loss: 0.2408 - mae: 0.24 - ETA: 58s - loss: 0.2408 - mae: 0.24 - ETA: 58s - loss: 0.2408 - mae: 0.24 - ETA: 58s - loss: 0.2408 - mae: 0.2408"
     ]
    },
    {
     "name": "stdout",
     "output_type": "stream",
     "text": [
      "164928/299280 [===============>..............] - ETA: 58s - loss: 0.2408 - mae: 0.24 - ETA: 58s - loss: 0.2408 - mae: 0.24 - ETA: 58s - loss: 0.2408 - mae: 0.24 - ETA: 57s - loss: 0.2408 - mae: 0.24 - ETA: 57s - loss: 0.2408 - mae: 0.24 - ETA: 57s - loss: 0.2408 - mae: 0.24 - ETA: 57s - loss: 0.2408 - mae: 0.24 - ETA: 57s - loss: 0.2408 - mae: 0.24 - ETA: 57s - loss: 0.2407 - mae: 0.24 - ETA: 57s - loss: 0.2408 - mae: 0.24 - ETA: 57s - loss: 0.2407 - mae: 0.24 - ETA: 57s - loss: 0.2407 - mae: 0.24 - ETA: 57s - loss: 0.2407 - mae: 0.24 - ETA: 57s - loss: 0.2407 - mae: 0.24 - ETA: 57s - loss: 0.2407 - mae: 0.24 - ETA: 57s - loss: 0.2407 - mae: 0.24 - ETA: 57s - loss: 0.2407 - mae: 0.24 - ETA: 57s - loss: 0.2407 - mae: 0.24 - ETA: 57s - loss: 0.2407 - mae: 0.24 - ETA: 57s - loss: 0.2407 - mae: 0.24 - ETA: 57s - loss: 0.2407 - mae: 0.24 - ETA: 56s - loss: 0.2407 - mae: 0.24 - ETA: 56s - loss: 0.2407 - mae: 0.24 - ETA: 56s - loss: 0.2407 - mae: 0.24 - ETA: 56s - loss: 0.2407 - mae: 0.24 - ETA: 56s - loss: 0.2407 - mae: 0.24 - ETA: 56s - loss: 0.2406 - mae: 0.24 - ETA: 56s - loss: 0.2407 - mae: 0.24 - ETA: 56s - loss: 0.2407 - mae: 0.24 - ETA: 56s - loss: 0.2406 - mae: 0.24 - ETA: 56s - loss: 0.2407 - mae: 0.24 - ETA: 56s - loss: 0.2407 - mae: 0.24 - ETA: 56s - loss: 0.2407 - mae: 0.24 - ETA: 56s - loss: 0.2407 - mae: 0.24 - ETA: 56s - loss: 0.2407 - mae: 0.24 - ETA: 56s - loss: 0.2407 - mae: 0.24 - ETA: 56s - loss: 0.2406 - mae: 0.24 - ETA: 56s - loss: 0.2407 - mae: 0.24 - ETA: 56s - loss: 0.2407 - mae: 0.24 - ETA: 56s - loss: 0.2407 - mae: 0.24 - ETA: 55s - loss: 0.2407 - mae: 0.24 - ETA: 55s - loss: 0.2407 - mae: 0.24 - ETA: 55s - loss: 0.2407 - mae: 0.24 - ETA: 55s - loss: 0.2407 - mae: 0.24 - ETA: 55s - loss: 0.2407 - mae: 0.24 - ETA: 55s - loss: 0.2407 - mae: 0.24 - ETA: 55s - loss: 0.2407 - mae: 0.24 - ETA: 55s - loss: 0.2408 - mae: 0.24 - ETA: 55s - loss: 0.2408 - mae: 0.24 - ETA: 55s - loss: 0.2408 - mae: 0.24 - ETA: 55s - loss: 0.2407 - mae: 0.24 - ETA: 55s - loss: 0.2407 - mae: 0.24 - ETA: 55s - loss: 0.2407 - mae: 0.24 - ETA: 55s - loss: 0.2407 - mae: 0.24 - ETA: 55s - loss: 0.2407 - mae: 0.24 - ETA: 55s - loss: 0.2407 - mae: 0.24 - ETA: 55s - loss: 0.2407 - mae: 0.24 - ETA: 55s - loss: 0.2406 - mae: 0.24 - ETA: 54s - loss: 0.2406 - mae: 0.24 - ETA: 54s - loss: 0.2406 - mae: 0.24 - ETA: 54s - loss: 0.2406 - mae: 0.24 - ETA: 54s - loss: 0.2406 - mae: 0.24 - ETA: 54s - loss: 0.2406 - mae: 0.24 - ETA: 54s - loss: 0.2406 - mae: 0.24 - ETA: 54s - loss: 0.2406 - mae: 0.24 - ETA: 54s - loss: 0.2406 - mae: 0.24 - ETA: 54s - loss: 0.2406 - mae: 0.24 - ETA: 54s - loss: 0.2406 - mae: 0.24 - ETA: 54s - loss: 0.2406 - mae: 0.24 - ETA: 54s - loss: 0.2406 - mae: 0.24 - ETA: 54s - loss: 0.2406 - mae: 0.24 - ETA: 54s - loss: 0.2406 - mae: 0.24 - ETA: 54s - loss: 0.2406 - mae: 0.24 - ETA: 54s - loss: 0.2406 - mae: 0.24 - ETA: 54s - loss: 0.2406 - mae: 0.24 - ETA: 54s - loss: 0.2406 - mae: 0.24 - ETA: 53s - loss: 0.2405 - mae: 0.24 - ETA: 53s - loss: 0.2405 - mae: 0.24 - ETA: 53s - loss: 0.2405 - mae: 0.24 - ETA: 53s - loss: 0.2405 - mae: 0.24 - ETA: 53s - loss: 0.2405 - mae: 0.24 - ETA: 53s - loss: 0.2405 - mae: 0.24 - ETA: 53s - loss: 0.2405 - mae: 0.24 - ETA: 53s - loss: 0.2405 - mae: 0.24 - ETA: 53s - loss: 0.2405 - mae: 0.24 - ETA: 53s - loss: 0.2405 - mae: 0.24 - ETA: 53s - loss: 0.2405 - mae: 0.24 - ETA: 53s - loss: 0.2405 - mae: 0.24 - ETA: 53s - loss: 0.2406 - mae: 0.24 - ETA: 53s - loss: 0.2406 - mae: 0.24 - ETA: 53s - loss: 0.2405 - mae: 0.24 - ETA: 53s - loss: 0.2406 - mae: 0.24 - ETA: 53s - loss: 0.2406 - mae: 0.24 - ETA: 53s - loss: 0.2405 - mae: 0.24 - ETA: 52s - loss: 0.2405 - mae: 0.24 - ETA: 52s - loss: 0.2406 - mae: 0.24 - ETA: 52s - loss: 0.2406 - mae: 0.24 - ETA: 52s - loss: 0.2406 - mae: 0.24 - ETA: 52s - loss: 0.2406 - mae: 0.24 - ETA: 52s - loss: 0.2405 - mae: 0.24 - ETA: 52s - loss: 0.2406 - mae: 0.24 - ETA: 52s - loss: 0.2405 - mae: 0.24 - ETA: 52s - loss: 0.2405 - mae: 0.24 - ETA: 52s - loss: 0.2405 - mae: 0.24 - ETA: 52s - loss: 0.2405 - mae: 0.24 - ETA: 52s - loss: 0.2405 - mae: 0.24 - ETA: 52s - loss: 0.2405 - mae: 0.24 - ETA: 52s - loss: 0.2406 - mae: 0.24 - ETA: 52s - loss: 0.2405 - mae: 0.24 - ETA: 52s - loss: 0.2405 - mae: 0.24 - ETA: 52s - loss: 0.2406 - mae: 0.24 - ETA: 52s - loss: 0.2406 - mae: 0.24 - ETA: 51s - loss: 0.2406 - mae: 0.24 - ETA: 51s - loss: 0.2406 - mae: 0.24 - ETA: 51s - loss: 0.2406 - mae: 0.24 - ETA: 51s - loss: 0.2406 - mae: 0.24 - ETA: 51s - loss: 0.2406 - mae: 0.24 - ETA: 51s - loss: 0.2406 - mae: 0.24 - ETA: 51s - loss: 0.2406 - mae: 0.24 - ETA: 51s - loss: 0.2406 - mae: 0.24 - ETA: 51s - loss: 0.2406 - mae: 0.24 - ETA: 51s - loss: 0.2406 - mae: 0.24 - ETA: 51s - loss: 0.2406 - mae: 0.24 - ETA: 51s - loss: 0.2406 - mae: 0.24 - ETA: 51s - loss: 0.2405 - mae: 0.24 - ETA: 51s - loss: 0.2405 - mae: 0.24 - ETA: 51s - loss: 0.2406 - mae: 0.24 - ETA: 51s - loss: 0.2406 - mae: 0.24 - ETA: 51s - loss: 0.2406 - mae: 0.24 - ETA: 51s - loss: 0.2406 - mae: 0.24 - ETA: 50s - loss: 0.2406 - mae: 0.24 - ETA: 50s - loss: 0.2405 - mae: 0.24 - ETA: 50s - loss: 0.2405 - mae: 0.24 - ETA: 50s - loss: 0.2405 - mae: 0.24 - ETA: 50s - loss: 0.2405 - mae: 0.24 - ETA: 50s - loss: 0.2405 - mae: 0.24 - ETA: 50s - loss: 0.2405 - mae: 0.24 - ETA: 50s - loss: 0.2405 - mae: 0.24 - ETA: 50s - loss: 0.2405 - mae: 0.24 - ETA: 50s - loss: 0.2405 - mae: 0.24 - ETA: 50s - loss: 0.2405 - mae: 0.24 - ETA: 50s - loss: 0.2405 - mae: 0.24 - ETA: 50s - loss: 0.2406 - mae: 0.24 - ETA: 50s - loss: 0.2406 - mae: 0.24 - ETA: 50s - loss: 0.2406 - mae: 0.24 - ETA: 50s - loss: 0.2405 - mae: 0.24 - ETA: 50s - loss: 0.2405 - mae: 0.24 - ETA: 50s - loss: 0.2405 - mae: 0.24 - ETA: 49s - loss: 0.2406 - mae: 0.24 - ETA: 49s - loss: 0.2406 - mae: 0.24 - ETA: 49s - loss: 0.2406 - mae: 0.24 - ETA: 49s - loss: 0.2406 - mae: 0.24 - ETA: 49s - loss: 0.2406 - mae: 0.24 - ETA: 49s - loss: 0.2406 - mae: 0.24 - ETA: 49s - loss: 0.2406 - mae: 0.24 - ETA: 49s - loss: 0.2406 - mae: 0.24 - ETA: 49s - loss: 0.2406 - mae: 0.24 - ETA: 49s - loss: 0.2406 - mae: 0.24 - ETA: 49s - loss: 0.2407 - mae: 0.24 - ETA: 49s - loss: 0.2406 - mae: 0.24 - ETA: 49s - loss: 0.2407 - mae: 0.24 - ETA: 49s - loss: 0.2406 - mae: 0.24 - ETA: 49s - loss: 0.2406 - mae: 0.24 - ETA: 49s - loss: 0.2406 - mae: 0.24 - ETA: 49s - loss: 0.2406 - mae: 0.24 - ETA: 49s - loss: 0.2406 - mae: 0.24 - ETA: 48s - loss: 0.2406 - mae: 0.24 - ETA: 48s - loss: 0.2406 - mae: 0.24 - ETA: 48s - loss: 0.2406 - mae: 0.24 - ETA: 48s - loss: 0.2406 - mae: 0.24 - ETA: 48s - loss: 0.2406 - mae: 0.24 - ETA: 48s - loss: 0.2406 - mae: 0.24 - ETA: 48s - loss: 0.2405 - mae: 0.24 - ETA: 48s - loss: 0.2405 - mae: 0.24 - ETA: 48s - loss: 0.2405 - mae: 0.24 - ETA: 48s - loss: 0.2405 - mae: 0.24 - ETA: 48s - loss: 0.2405 - mae: 0.24 - ETA: 48s - loss: 0.2405 - mae: 0.24 - ETA: 48s - loss: 0.2405 - mae: 0.24 - ETA: 48s - loss: 0.2405 - mae: 0.24 - ETA: 48s - loss: 0.2405 - mae: 0.24 - ETA: 48s - loss: 0.2405 - mae: 0.24 - ETA: 48s - loss: 0.2405 - mae: 0.24 - ETA: 48s - loss: 0.2406 - mae: 0.24 - ETA: 47s - loss: 0.2406 - mae: 0.24 - ETA: 47s - loss: 0.2406 - mae: 0.24 - ETA: 47s - loss: 0.2406 - mae: 0.24 - ETA: 47s - loss: 0.2406 - mae: 0.24 - ETA: 47s - loss: 0.2406 - mae: 0.24 - ETA: 47s - loss: 0.2406 - mae: 0.24 - ETA: 47s - loss: 0.2406 - mae: 0.24 - ETA: 47s - loss: 0.2406 - mae: 0.24 - ETA: 47s - loss: 0.2406 - mae: 0.24 - ETA: 47s - loss: 0.2406 - mae: 0.24 - ETA: 47s - loss: 0.2405 - mae: 0.24 - ETA: 47s - loss: 0.2405 - mae: 0.24 - ETA: 47s - loss: 0.2405 - mae: 0.24 - ETA: 47s - loss: 0.2405 - mae: 0.24 - ETA: 47s - loss: 0.2405 - mae: 0.24 - ETA: 47s - loss: 0.2405 - mae: 0.24 - ETA: 47s - loss: 0.2405 - mae: 0.24 - ETA: 47s - loss: 0.2405 - mae: 0.24 - ETA: 46s - loss: 0.2405 - mae: 0.24 - ETA: 46s - loss: 0.2405 - mae: 0.24 - ETA: 46s - loss: 0.2405 - mae: 0.24 - ETA: 46s - loss: 0.2405 - mae: 0.24 - ETA: 46s - loss: 0.2405 - mae: 0.24 - ETA: 46s - loss: 0.2405 - mae: 0.24 - ETA: 46s - loss: 0.2405 - mae: 0.24 - ETA: 46s - loss: 0.2405 - mae: 0.24 - ETA: 46s - loss: 0.2405 - mae: 0.24 - ETA: 46s - loss: 0.2405 - mae: 0.24 - ETA: 46s - loss: 0.2405 - mae: 0.24 - ETA: 46s - loss: 0.2405 - mae: 0.24 - ETA: 46s - loss: 0.2405 - mae: 0.2405"
     ]
    },
    {
     "name": "stdout",
     "output_type": "stream",
     "text": [
      "199328/299280 [==================>...........] - ETA: 46s - loss: 0.2405 - mae: 0.24 - ETA: 46s - loss: 0.2405 - mae: 0.24 - ETA: 46s - loss: 0.2405 - mae: 0.24 - ETA: 46s - loss: 0.2405 - mae: 0.24 - ETA: 46s - loss: 0.2405 - mae: 0.24 - ETA: 45s - loss: 0.2405 - mae: 0.24 - ETA: 45s - loss: 0.2405 - mae: 0.24 - ETA: 45s - loss: 0.2405 - mae: 0.24 - ETA: 45s - loss: 0.2405 - mae: 0.24 - ETA: 45s - loss: 0.2405 - mae: 0.24 - ETA: 45s - loss: 0.2405 - mae: 0.24 - ETA: 45s - loss: 0.2405 - mae: 0.24 - ETA: 45s - loss: 0.2405 - mae: 0.24 - ETA: 45s - loss: 0.2405 - mae: 0.24 - ETA: 45s - loss: 0.2405 - mae: 0.24 - ETA: 45s - loss: 0.2405 - mae: 0.24 - ETA: 45s - loss: 0.2405 - mae: 0.24 - ETA: 45s - loss: 0.2405 - mae: 0.24 - ETA: 45s - loss: 0.2405 - mae: 0.24 - ETA: 45s - loss: 0.2405 - mae: 0.24 - ETA: 45s - loss: 0.2405 - mae: 0.24 - ETA: 45s - loss: 0.2405 - mae: 0.24 - ETA: 45s - loss: 0.2404 - mae: 0.24 - ETA: 44s - loss: 0.2404 - mae: 0.24 - ETA: 44s - loss: 0.2405 - mae: 0.24 - ETA: 44s - loss: 0.2404 - mae: 0.24 - ETA: 44s - loss: 0.2404 - mae: 0.24 - ETA: 44s - loss: 0.2404 - mae: 0.24 - ETA: 44s - loss: 0.2404 - mae: 0.24 - ETA: 44s - loss: 0.2404 - mae: 0.24 - ETA: 44s - loss: 0.2404 - mae: 0.24 - ETA: 44s - loss: 0.2404 - mae: 0.24 - ETA: 44s - loss: 0.2404 - mae: 0.24 - ETA: 44s - loss: 0.2405 - mae: 0.24 - ETA: 44s - loss: 0.2405 - mae: 0.24 - ETA: 44s - loss: 0.2405 - mae: 0.24 - ETA: 44s - loss: 0.2405 - mae: 0.24 - ETA: 44s - loss: 0.2405 - mae: 0.24 - ETA: 44s - loss: 0.2405 - mae: 0.24 - ETA: 44s - loss: 0.2405 - mae: 0.24 - ETA: 44s - loss: 0.2405 - mae: 0.24 - ETA: 43s - loss: 0.2405 - mae: 0.24 - ETA: 43s - loss: 0.2405 - mae: 0.24 - ETA: 43s - loss: 0.2405 - mae: 0.24 - ETA: 43s - loss: 0.2405 - mae: 0.24 - ETA: 43s - loss: 0.2404 - mae: 0.24 - ETA: 43s - loss: 0.2405 - mae: 0.24 - ETA: 43s - loss: 0.2405 - mae: 0.24 - ETA: 43s - loss: 0.2405 - mae: 0.24 - ETA: 43s - loss: 0.2405 - mae: 0.24 - ETA: 43s - loss: 0.2405 - mae: 0.24 - ETA: 43s - loss: 0.2405 - mae: 0.24 - ETA: 43s - loss: 0.2405 - mae: 0.24 - ETA: 43s - loss: 0.2405 - mae: 0.24 - ETA: 43s - loss: 0.2405 - mae: 0.24 - ETA: 43s - loss: 0.2405 - mae: 0.24 - ETA: 43s - loss: 0.2405 - mae: 0.24 - ETA: 43s - loss: 0.2405 - mae: 0.24 - ETA: 43s - loss: 0.2405 - mae: 0.24 - ETA: 43s - loss: 0.2404 - mae: 0.24 - ETA: 42s - loss: 0.2404 - mae: 0.24 - ETA: 42s - loss: 0.2405 - mae: 0.24 - ETA: 42s - loss: 0.2405 - mae: 0.24 - ETA: 42s - loss: 0.2405 - mae: 0.24 - ETA: 42s - loss: 0.2405 - mae: 0.24 - ETA: 42s - loss: 0.2405 - mae: 0.24 - ETA: 42s - loss: 0.2405 - mae: 0.24 - ETA: 42s - loss: 0.2405 - mae: 0.24 - ETA: 42s - loss: 0.2405 - mae: 0.24 - ETA: 42s - loss: 0.2405 - mae: 0.24 - ETA: 42s - loss: 0.2405 - mae: 0.24 - ETA: 42s - loss: 0.2405 - mae: 0.24 - ETA: 42s - loss: 0.2405 - mae: 0.24 - ETA: 42s - loss: 0.2405 - mae: 0.24 - ETA: 42s - loss: 0.2405 - mae: 0.24 - ETA: 42s - loss: 0.2405 - mae: 0.24 - ETA: 42s - loss: 0.2405 - mae: 0.24 - ETA: 42s - loss: 0.2405 - mae: 0.24 - ETA: 41s - loss: 0.2405 - mae: 0.24 - ETA: 41s - loss: 0.2405 - mae: 0.24 - ETA: 41s - loss: 0.2405 - mae: 0.24 - ETA: 41s - loss: 0.2405 - mae: 0.24 - ETA: 41s - loss: 0.2405 - mae: 0.24 - ETA: 41s - loss: 0.2405 - mae: 0.24 - ETA: 41s - loss: 0.2405 - mae: 0.24 - ETA: 41s - loss: 0.2405 - mae: 0.24 - ETA: 41s - loss: 0.2404 - mae: 0.24 - ETA: 41s - loss: 0.2404 - mae: 0.24 - ETA: 41s - loss: 0.2404 - mae: 0.24 - ETA: 41s - loss: 0.2404 - mae: 0.24 - ETA: 41s - loss: 0.2404 - mae: 0.24 - ETA: 41s - loss: 0.2404 - mae: 0.24 - ETA: 41s - loss: 0.2404 - mae: 0.24 - ETA: 41s - loss: 0.2404 - mae: 0.24 - ETA: 41s - loss: 0.2404 - mae: 0.24 - ETA: 41s - loss: 0.2404 - mae: 0.24 - ETA: 40s - loss: 0.2404 - mae: 0.24 - ETA: 40s - loss: 0.2404 - mae: 0.24 - ETA: 40s - loss: 0.2404 - mae: 0.24 - ETA: 40s - loss: 0.2403 - mae: 0.24 - ETA: 40s - loss: 0.2404 - mae: 0.24 - ETA: 40s - loss: 0.2404 - mae: 0.24 - ETA: 40s - loss: 0.2403 - mae: 0.24 - ETA: 40s - loss: 0.2404 - mae: 0.24 - ETA: 40s - loss: 0.2404 - mae: 0.24 - ETA: 40s - loss: 0.2404 - mae: 0.24 - ETA: 40s - loss: 0.2404 - mae: 0.24 - ETA: 40s - loss: 0.2404 - mae: 0.24 - ETA: 40s - loss: 0.2403 - mae: 0.24 - ETA: 40s - loss: 0.2403 - mae: 0.24 - ETA: 40s - loss: 0.2403 - mae: 0.24 - ETA: 40s - loss: 0.2403 - mae: 0.24 - ETA: 40s - loss: 0.2403 - mae: 0.24 - ETA: 40s - loss: 0.2403 - mae: 0.24 - ETA: 39s - loss: 0.2403 - mae: 0.24 - ETA: 39s - loss: 0.2403 - mae: 0.24 - ETA: 39s - loss: 0.2403 - mae: 0.24 - ETA: 39s - loss: 0.2402 - mae: 0.24 - ETA: 39s - loss: 0.2403 - mae: 0.24 - ETA: 39s - loss: 0.2402 - mae: 0.24 - ETA: 39s - loss: 0.2402 - mae: 0.24 - ETA: 39s - loss: 0.2403 - mae: 0.24 - ETA: 39s - loss: 0.2402 - mae: 0.24 - ETA: 39s - loss: 0.2403 - mae: 0.24 - ETA: 39s - loss: 0.2403 - mae: 0.24 - ETA: 39s - loss: 0.2402 - mae: 0.24 - ETA: 39s - loss: 0.2402 - mae: 0.24 - ETA: 39s - loss: 0.2403 - mae: 0.24 - ETA: 39s - loss: 0.2403 - mae: 0.24 - ETA: 39s - loss: 0.2403 - mae: 0.24 - ETA: 39s - loss: 0.2403 - mae: 0.24 - ETA: 39s - loss: 0.2403 - mae: 0.24 - ETA: 38s - loss: 0.2403 - mae: 0.24 - ETA: 38s - loss: 0.2402 - mae: 0.24 - ETA: 38s - loss: 0.2403 - mae: 0.24 - ETA: 38s - loss: 0.2403 - mae: 0.24 - ETA: 38s - loss: 0.2402 - mae: 0.24 - ETA: 38s - loss: 0.2403 - mae: 0.24 - ETA: 38s - loss: 0.2402 - mae: 0.24 - ETA: 38s - loss: 0.2402 - mae: 0.24 - ETA: 38s - loss: 0.2402 - mae: 0.24 - ETA: 38s - loss: 0.2402 - mae: 0.24 - ETA: 38s - loss: 0.2402 - mae: 0.24 - ETA: 38s - loss: 0.2402 - mae: 0.24 - ETA: 38s - loss: 0.2402 - mae: 0.24 - ETA: 38s - loss: 0.2402 - mae: 0.24 - ETA: 38s - loss: 0.2402 - mae: 0.24 - ETA: 38s - loss: 0.2402 - mae: 0.24 - ETA: 38s - loss: 0.2402 - mae: 0.24 - ETA: 38s - loss: 0.2402 - mae: 0.24 - ETA: 37s - loss: 0.2402 - mae: 0.24 - ETA: 37s - loss: 0.2402 - mae: 0.24 - ETA: 37s - loss: 0.2402 - mae: 0.24 - ETA: 37s - loss: 0.2402 - mae: 0.24 - ETA: 37s - loss: 0.2402 - mae: 0.24 - ETA: 37s - loss: 0.2402 - mae: 0.24 - ETA: 37s - loss: 0.2401 - mae: 0.24 - ETA: 37s - loss: 0.2402 - mae: 0.24 - ETA: 37s - loss: 0.2401 - mae: 0.24 - ETA: 37s - loss: 0.2401 - mae: 0.24 - ETA: 37s - loss: 0.2401 - mae: 0.24 - ETA: 37s - loss: 0.2401 - mae: 0.24 - ETA: 37s - loss: 0.2401 - mae: 0.24 - ETA: 37s - loss: 0.2401 - mae: 0.24 - ETA: 37s - loss: 0.2401 - mae: 0.24 - ETA: 37s - loss: 0.2401 - mae: 0.24 - ETA: 37s - loss: 0.2401 - mae: 0.24 - ETA: 37s - loss: 0.2401 - mae: 0.24 - ETA: 37s - loss: 0.2401 - mae: 0.24 - ETA: 36s - loss: 0.2401 - mae: 0.24 - ETA: 36s - loss: 0.2401 - mae: 0.24 - ETA: 36s - loss: 0.2401 - mae: 0.24 - ETA: 36s - loss: 0.2401 - mae: 0.24 - ETA: 36s - loss: 0.2401 - mae: 0.24 - ETA: 36s - loss: 0.2401 - mae: 0.24 - ETA: 36s - loss: 0.2401 - mae: 0.24 - ETA: 36s - loss: 0.2401 - mae: 0.24 - ETA: 36s - loss: 0.2401 - mae: 0.24 - ETA: 36s - loss: 0.2401 - mae: 0.24 - ETA: 36s - loss: 0.2400 - mae: 0.24 - ETA: 36s - loss: 0.2401 - mae: 0.24 - ETA: 36s - loss: 0.2401 - mae: 0.24 - ETA: 36s - loss: 0.2400 - mae: 0.24 - ETA: 36s - loss: 0.2400 - mae: 0.24 - ETA: 36s - loss: 0.2400 - mae: 0.24 - ETA: 36s - loss: 0.2400 - mae: 0.24 - ETA: 36s - loss: 0.2400 - mae: 0.24 - ETA: 35s - loss: 0.2400 - mae: 0.24 - ETA: 35s - loss: 0.2400 - mae: 0.24 - ETA: 35s - loss: 0.2400 - mae: 0.24 - ETA: 35s - loss: 0.2400 - mae: 0.24 - ETA: 35s - loss: 0.2400 - mae: 0.24 - ETA: 35s - loss: 0.2400 - mae: 0.24 - ETA: 35s - loss: 0.2400 - mae: 0.24 - ETA: 35s - loss: 0.2400 - mae: 0.24 - ETA: 35s - loss: 0.2400 - mae: 0.24 - ETA: 35s - loss: 0.2400 - mae: 0.24 - ETA: 35s - loss: 0.2400 - mae: 0.24 - ETA: 35s - loss: 0.2400 - mae: 0.24 - ETA: 35s - loss: 0.2400 - mae: 0.24 - ETA: 35s - loss: 0.2400 - mae: 0.24 - ETA: 35s - loss: 0.2400 - mae: 0.24 - ETA: 35s - loss: 0.2400 - mae: 0.24 - ETA: 35s - loss: 0.2400 - mae: 0.24 - ETA: 35s - loss: 0.2400 - mae: 0.24 - ETA: 34s - loss: 0.2400 - mae: 0.24 - ETA: 34s - loss: 0.2399 - mae: 0.23 - ETA: 34s - loss: 0.2400 - mae: 0.24 - ETA: 34s - loss: 0.2400 - mae: 0.24 - ETA: 34s - loss: 0.2399 - mae: 0.23 - ETA: 34s - loss: 0.2399 - mae: 0.23 - ETA: 34s - loss: 0.2399 - mae: 0.23 - ETA: 34s - loss: 0.2399 - mae: 0.23 - ETA: 34s - loss: 0.2399 - mae: 0.23 - ETA: 34s - loss: 0.2399 - mae: 0.2399"
     ]
    },
    {
     "name": "stdout",
     "output_type": "stream",
     "text": [
      "233728/299280 [======================>.......] - ETA: 34s - loss: 0.2399 - mae: 0.23 - ETA: 34s - loss: 0.2399 - mae: 0.23 - ETA: 34s - loss: 0.2399 - mae: 0.23 - ETA: 34s - loss: 0.2399 - mae: 0.23 - ETA: 34s - loss: 0.2399 - mae: 0.23 - ETA: 34s - loss: 0.2398 - mae: 0.23 - ETA: 34s - loss: 0.2398 - mae: 0.23 - ETA: 34s - loss: 0.2398 - mae: 0.23 - ETA: 33s - loss: 0.2399 - mae: 0.23 - ETA: 33s - loss: 0.2399 - mae: 0.23 - ETA: 33s - loss: 0.2399 - mae: 0.23 - ETA: 33s - loss: 0.2398 - mae: 0.23 - ETA: 33s - loss: 0.2399 - mae: 0.23 - ETA: 33s - loss: 0.2399 - mae: 0.23 - ETA: 33s - loss: 0.2399 - mae: 0.23 - ETA: 33s - loss: 0.2399 - mae: 0.23 - ETA: 33s - loss: 0.2399 - mae: 0.23 - ETA: 33s - loss: 0.2399 - mae: 0.23 - ETA: 33s - loss: 0.2399 - mae: 0.23 - ETA: 33s - loss: 0.2398 - mae: 0.23 - ETA: 33s - loss: 0.2398 - mae: 0.23 - ETA: 33s - loss: 0.2398 - mae: 0.23 - ETA: 33s - loss: 0.2398 - mae: 0.23 - ETA: 33s - loss: 0.2398 - mae: 0.23 - ETA: 33s - loss: 0.2398 - mae: 0.23 - ETA: 33s - loss: 0.2398 - mae: 0.23 - ETA: 33s - loss: 0.2398 - mae: 0.23 - ETA: 32s - loss: 0.2398 - mae: 0.23 - ETA: 32s - loss: 0.2398 - mae: 0.23 - ETA: 32s - loss: 0.2398 - mae: 0.23 - ETA: 32s - loss: 0.2398 - mae: 0.23 - ETA: 32s - loss: 0.2398 - mae: 0.23 - ETA: 32s - loss: 0.2398 - mae: 0.23 - ETA: 32s - loss: 0.2398 - mae: 0.23 - ETA: 32s - loss: 0.2398 - mae: 0.23 - ETA: 32s - loss: 0.2398 - mae: 0.23 - ETA: 32s - loss: 0.2398 - mae: 0.23 - ETA: 32s - loss: 0.2398 - mae: 0.23 - ETA: 32s - loss: 0.2398 - mae: 0.23 - ETA: 32s - loss: 0.2398 - mae: 0.23 - ETA: 32s - loss: 0.2398 - mae: 0.23 - ETA: 32s - loss: 0.2398 - mae: 0.23 - ETA: 32s - loss: 0.2398 - mae: 0.23 - ETA: 32s - loss: 0.2398 - mae: 0.23 - ETA: 32s - loss: 0.2398 - mae: 0.23 - ETA: 31s - loss: 0.2398 - mae: 0.23 - ETA: 31s - loss: 0.2398 - mae: 0.23 - ETA: 31s - loss: 0.2398 - mae: 0.23 - ETA: 31s - loss: 0.2398 - mae: 0.23 - ETA: 31s - loss: 0.2398 - mae: 0.23 - ETA: 31s - loss: 0.2398 - mae: 0.23 - ETA: 31s - loss: 0.2398 - mae: 0.23 - ETA: 31s - loss: 0.2398 - mae: 0.23 - ETA: 31s - loss: 0.2398 - mae: 0.23 - ETA: 31s - loss: 0.2398 - mae: 0.23 - ETA: 31s - loss: 0.2398 - mae: 0.23 - ETA: 31s - loss: 0.2398 - mae: 0.23 - ETA: 31s - loss: 0.2398 - mae: 0.23 - ETA: 31s - loss: 0.2398 - mae: 0.23 - ETA: 31s - loss: 0.2398 - mae: 0.23 - ETA: 31s - loss: 0.2398 - mae: 0.23 - ETA: 31s - loss: 0.2398 - mae: 0.23 - ETA: 31s - loss: 0.2398 - mae: 0.23 - ETA: 30s - loss: 0.2398 - mae: 0.23 - ETA: 30s - loss: 0.2398 - mae: 0.23 - ETA: 30s - loss: 0.2398 - mae: 0.23 - ETA: 30s - loss: 0.2398 - mae: 0.23 - ETA: 30s - loss: 0.2398 - mae: 0.23 - ETA: 30s - loss: 0.2397 - mae: 0.23 - ETA: 30s - loss: 0.2397 - mae: 0.23 - ETA: 30s - loss: 0.2397 - mae: 0.23 - ETA: 30s - loss: 0.2397 - mae: 0.23 - ETA: 30s - loss: 0.2397 - mae: 0.23 - ETA: 30s - loss: 0.2397 - mae: 0.23 - ETA: 30s - loss: 0.2397 - mae: 0.23 - ETA: 30s - loss: 0.2397 - mae: 0.23 - ETA: 30s - loss: 0.2397 - mae: 0.23 - ETA: 30s - loss: 0.2397 - mae: 0.23 - ETA: 30s - loss: 0.2397 - mae: 0.23 - ETA: 30s - loss: 0.2397 - mae: 0.23 - ETA: 30s - loss: 0.2397 - mae: 0.23 - ETA: 29s - loss: 0.2397 - mae: 0.23 - ETA: 29s - loss: 0.2397 - mae: 0.23 - ETA: 29s - loss: 0.2397 - mae: 0.23 - ETA: 29s - loss: 0.2397 - mae: 0.23 - ETA: 29s - loss: 0.2397 - mae: 0.23 - ETA: 29s - loss: 0.2397 - mae: 0.23 - ETA: 29s - loss: 0.2397 - mae: 0.23 - ETA: 29s - loss: 0.2397 - mae: 0.23 - ETA: 29s - loss: 0.2397 - mae: 0.23 - ETA: 29s - loss: 0.2397 - mae: 0.23 - ETA: 29s - loss: 0.2397 - mae: 0.23 - ETA: 29s - loss: 0.2397 - mae: 0.23 - ETA: 29s - loss: 0.2397 - mae: 0.23 - ETA: 29s - loss: 0.2397 - mae: 0.23 - ETA: 29s - loss: 0.2397 - mae: 0.23 - ETA: 29s - loss: 0.2397 - mae: 0.23 - ETA: 29s - loss: 0.2397 - mae: 0.23 - ETA: 29s - loss: 0.2397 - mae: 0.23 - ETA: 28s - loss: 0.2397 - mae: 0.23 - ETA: 28s - loss: 0.2397 - mae: 0.23 - ETA: 28s - loss: 0.2397 - mae: 0.23 - ETA: 28s - loss: 0.2397 - mae: 0.23 - ETA: 28s - loss: 0.2397 - mae: 0.23 - ETA: 28s - loss: 0.2397 - mae: 0.23 - ETA: 28s - loss: 0.2397 - mae: 0.23 - ETA: 28s - loss: 0.2396 - mae: 0.23 - ETA: 28s - loss: 0.2397 - mae: 0.23 - ETA: 28s - loss: 0.2396 - mae: 0.23 - ETA: 28s - loss: 0.2397 - mae: 0.23 - ETA: 28s - loss: 0.2396 - mae: 0.23 - ETA: 28s - loss: 0.2397 - mae: 0.23 - ETA: 28s - loss: 0.2397 - mae: 0.23 - ETA: 28s - loss: 0.2397 - mae: 0.23 - ETA: 28s - loss: 0.2397 - mae: 0.23 - ETA: 28s - loss: 0.2397 - mae: 0.23 - ETA: 28s - loss: 0.2397 - mae: 0.23 - ETA: 27s - loss: 0.2397 - mae: 0.23 - ETA: 27s - loss: 0.2397 - mae: 0.23 - ETA: 27s - loss: 0.2397 - mae: 0.23 - ETA: 27s - loss: 0.2397 - mae: 0.23 - ETA: 27s - loss: 0.2397 - mae: 0.23 - ETA: 27s - loss: 0.2397 - mae: 0.23 - ETA: 27s - loss: 0.2397 - mae: 0.23 - ETA: 27s - loss: 0.2397 - mae: 0.23 - ETA: 27s - loss: 0.2397 - mae: 0.23 - ETA: 27s - loss: 0.2397 - mae: 0.23 - ETA: 27s - loss: 0.2397 - mae: 0.23 - ETA: 27s - loss: 0.2397 - mae: 0.23 - ETA: 27s - loss: 0.2397 - mae: 0.23 - ETA: 27s - loss: 0.2397 - mae: 0.23 - ETA: 27s - loss: 0.2397 - mae: 0.23 - ETA: 27s - loss: 0.2397 - mae: 0.23 - ETA: 27s - loss: 0.2397 - mae: 0.23 - ETA: 27s - loss: 0.2396 - mae: 0.23 - ETA: 27s - loss: 0.2396 - mae: 0.23 - ETA: 26s - loss: 0.2396 - mae: 0.23 - ETA: 26s - loss: 0.2396 - mae: 0.23 - ETA: 26s - loss: 0.2396 - mae: 0.23 - ETA: 26s - loss: 0.2396 - mae: 0.23 - ETA: 26s - loss: 0.2396 - mae: 0.23 - ETA: 26s - loss: 0.2396 - mae: 0.23 - ETA: 26s - loss: 0.2396 - mae: 0.23 - ETA: 26s - loss: 0.2396 - mae: 0.23 - ETA: 26s - loss: 0.2396 - mae: 0.23 - ETA: 26s - loss: 0.2396 - mae: 0.23 - ETA: 26s - loss: 0.2396 - mae: 0.23 - ETA: 26s - loss: 0.2396 - mae: 0.23 - ETA: 26s - loss: 0.2396 - mae: 0.23 - ETA: 26s - loss: 0.2396 - mae: 0.23 - ETA: 26s - loss: 0.2396 - mae: 0.23 - ETA: 26s - loss: 0.2396 - mae: 0.23 - ETA: 26s - loss: 0.2396 - mae: 0.23 - ETA: 26s - loss: 0.2396 - mae: 0.23 - ETA: 25s - loss: 0.2396 - mae: 0.23 - ETA: 25s - loss: 0.2396 - mae: 0.23 - ETA: 25s - loss: 0.2396 - mae: 0.23 - ETA: 25s - loss: 0.2396 - mae: 0.23 - ETA: 25s - loss: 0.2396 - mae: 0.23 - ETA: 25s - loss: 0.2396 - mae: 0.23 - ETA: 25s - loss: 0.2396 - mae: 0.23 - ETA: 25s - loss: 0.2396 - mae: 0.23 - ETA: 25s - loss: 0.2396 - mae: 0.23 - ETA: 25s - loss: 0.2396 - mae: 0.23 - ETA: 25s - loss: 0.2396 - mae: 0.23 - ETA: 25s - loss: 0.2396 - mae: 0.23 - ETA: 25s - loss: 0.2396 - mae: 0.23 - ETA: 25s - loss: 0.2396 - mae: 0.23 - ETA: 25s - loss: 0.2396 - mae: 0.23 - ETA: 25s - loss: 0.2396 - mae: 0.23 - ETA: 25s - loss: 0.2396 - mae: 0.23 - ETA: 25s - loss: 0.2396 - mae: 0.23 - ETA: 24s - loss: 0.2396 - mae: 0.23 - ETA: 24s - loss: 0.2396 - mae: 0.23 - ETA: 24s - loss: 0.2396 - mae: 0.23 - ETA: 24s - loss: 0.2396 - mae: 0.23 - ETA: 24s - loss: 0.2396 - mae: 0.23 - ETA: 24s - loss: 0.2396 - mae: 0.23 - ETA: 24s - loss: 0.2396 - mae: 0.23 - ETA: 24s - loss: 0.2396 - mae: 0.23 - ETA: 24s - loss: 0.2396 - mae: 0.23 - ETA: 24s - loss: 0.2396 - mae: 0.23 - ETA: 24s - loss: 0.2396 - mae: 0.23 - ETA: 24s - loss: 0.2396 - mae: 0.23 - ETA: 24s - loss: 0.2396 - mae: 0.23 - ETA: 24s - loss: 0.2396 - mae: 0.23 - ETA: 24s - loss: 0.2396 - mae: 0.23 - ETA: 24s - loss: 0.2396 - mae: 0.23 - ETA: 24s - loss: 0.2396 - mae: 0.23 - ETA: 24s - loss: 0.2396 - mae: 0.23 - ETA: 23s - loss: 0.2396 - mae: 0.23 - ETA: 23s - loss: 0.2396 - mae: 0.23 - ETA: 23s - loss: 0.2396 - mae: 0.23 - ETA: 23s - loss: 0.2396 - mae: 0.23 - ETA: 23s - loss: 0.2396 - mae: 0.23 - ETA: 23s - loss: 0.2396 - mae: 0.23 - ETA: 23s - loss: 0.2396 - mae: 0.23 - ETA: 23s - loss: 0.2396 - mae: 0.23 - ETA: 23s - loss: 0.2396 - mae: 0.23 - ETA: 23s - loss: 0.2396 - mae: 0.23 - ETA: 23s - loss: 0.2396 - mae: 0.23 - ETA: 23s - loss: 0.2396 - mae: 0.23 - ETA: 23s - loss: 0.2396 - mae: 0.23 - ETA: 23s - loss: 0.2396 - mae: 0.23 - ETA: 23s - loss: 0.2396 - mae: 0.23 - ETA: 23s - loss: 0.2396 - mae: 0.23 - ETA: 23s - loss: 0.2396 - mae: 0.23 - ETA: 23s - loss: 0.2396 - mae: 0.23 - ETA: 22s - loss: 0.2396 - mae: 0.23 - ETA: 22s - loss: 0.2396 - mae: 0.23 - ETA: 22s - loss: 0.2396 - mae: 0.23 - ETA: 22s - loss: 0.2396 - mae: 0.23 - ETA: 22s - loss: 0.2396 - mae: 0.23 - ETA: 22s - loss: 0.2396 - mae: 0.23 - ETA: 22s - loss: 0.2396 - mae: 0.2396"
     ]
    },
    {
     "name": "stdout",
     "output_type": "stream",
     "text": [
      "268000/299280 [=========================>....] - ETA: 22s - loss: 0.2396 - mae: 0.23 - ETA: 22s - loss: 0.2396 - mae: 0.23 - ETA: 22s - loss: 0.2396 - mae: 0.23 - ETA: 22s - loss: 0.2396 - mae: 0.23 - ETA: 22s - loss: 0.2396 - mae: 0.23 - ETA: 22s - loss: 0.2396 - mae: 0.23 - ETA: 22s - loss: 0.2396 - mae: 0.23 - ETA: 22s - loss: 0.2396 - mae: 0.23 - ETA: 22s - loss: 0.2396 - mae: 0.23 - ETA: 22s - loss: 0.2396 - mae: 0.23 - ETA: 22s - loss: 0.2396 - mae: 0.23 - ETA: 21s - loss: 0.2396 - mae: 0.23 - ETA: 21s - loss: 0.2396 - mae: 0.23 - ETA: 21s - loss: 0.2396 - mae: 0.23 - ETA: 21s - loss: 0.2396 - mae: 0.23 - ETA: 21s - loss: 0.2396 - mae: 0.23 - ETA: 21s - loss: 0.2396 - mae: 0.23 - ETA: 21s - loss: 0.2396 - mae: 0.23 - ETA: 21s - loss: 0.2396 - mae: 0.23 - ETA: 21s - loss: 0.2396 - mae: 0.23 - ETA: 21s - loss: 0.2396 - mae: 0.23 - ETA: 21s - loss: 0.2395 - mae: 0.23 - ETA: 21s - loss: 0.2396 - mae: 0.23 - ETA: 21s - loss: 0.2396 - mae: 0.23 - ETA: 21s - loss: 0.2396 - mae: 0.23 - ETA: 21s - loss: 0.2396 - mae: 0.23 - ETA: 21s - loss: 0.2396 - mae: 0.23 - ETA: 21s - loss: 0.2396 - mae: 0.23 - ETA: 21s - loss: 0.2396 - mae: 0.23 - ETA: 20s - loss: 0.2396 - mae: 0.23 - ETA: 20s - loss: 0.2396 - mae: 0.23 - ETA: 20s - loss: 0.2396 - mae: 0.23 - ETA: 20s - loss: 0.2396 - mae: 0.23 - ETA: 20s - loss: 0.2396 - mae: 0.23 - ETA: 20s - loss: 0.2396 - mae: 0.23 - ETA: 20s - loss: 0.2396 - mae: 0.23 - ETA: 20s - loss: 0.2396 - mae: 0.23 - ETA: 20s - loss: 0.2396 - mae: 0.23 - ETA: 20s - loss: 0.2396 - mae: 0.23 - ETA: 20s - loss: 0.2396 - mae: 0.23 - ETA: 20s - loss: 0.2396 - mae: 0.23 - ETA: 20s - loss: 0.2396 - mae: 0.23 - ETA: 20s - loss: 0.2396 - mae: 0.23 - ETA: 20s - loss: 0.2396 - mae: 0.23 - ETA: 20s - loss: 0.2396 - mae: 0.23 - ETA: 20s - loss: 0.2396 - mae: 0.23 - ETA: 20s - loss: 0.2396 - mae: 0.23 - ETA: 19s - loss: 0.2396 - mae: 0.23 - ETA: 19s - loss: 0.2396 - mae: 0.23 - ETA: 19s - loss: 0.2396 - mae: 0.23 - ETA: 19s - loss: 0.2396 - mae: 0.23 - ETA: 19s - loss: 0.2396 - mae: 0.23 - ETA: 19s - loss: 0.2396 - mae: 0.23 - ETA: 19s - loss: 0.2396 - mae: 0.23 - ETA: 19s - loss: 0.2396 - mae: 0.23 - ETA: 19s - loss: 0.2396 - mae: 0.23 - ETA: 19s - loss: 0.2396 - mae: 0.23 - ETA: 19s - loss: 0.2396 - mae: 0.23 - ETA: 19s - loss: 0.2396 - mae: 0.23 - ETA: 19s - loss: 0.2396 - mae: 0.23 - ETA: 19s - loss: 0.2396 - mae: 0.23 - ETA: 19s - loss: 0.2396 - mae: 0.23 - ETA: 19s - loss: 0.2396 - mae: 0.23 - ETA: 19s - loss: 0.2396 - mae: 0.23 - ETA: 19s - loss: 0.2396 - mae: 0.23 - ETA: 18s - loss: 0.2395 - mae: 0.23 - ETA: 18s - loss: 0.2395 - mae: 0.23 - ETA: 18s - loss: 0.2395 - mae: 0.23 - ETA: 18s - loss: 0.2395 - mae: 0.23 - ETA: 18s - loss: 0.2395 - mae: 0.23 - ETA: 18s - loss: 0.2395 - mae: 0.23 - ETA: 18s - loss: 0.2395 - mae: 0.23 - ETA: 18s - loss: 0.2395 - mae: 0.23 - ETA: 18s - loss: 0.2395 - mae: 0.23 - ETA: 18s - loss: 0.2395 - mae: 0.23 - ETA: 18s - loss: 0.2395 - mae: 0.23 - ETA: 18s - loss: 0.2395 - mae: 0.23 - ETA: 18s - loss: 0.2395 - mae: 0.23 - ETA: 18s - loss: 0.2395 - mae: 0.23 - ETA: 18s - loss: 0.2394 - mae: 0.23 - ETA: 18s - loss: 0.2394 - mae: 0.23 - ETA: 18s - loss: 0.2394 - mae: 0.23 - ETA: 18s - loss: 0.2394 - mae: 0.23 - ETA: 17s - loss: 0.2394 - mae: 0.23 - ETA: 17s - loss: 0.2394 - mae: 0.23 - ETA: 17s - loss: 0.2394 - mae: 0.23 - ETA: 17s - loss: 0.2394 - mae: 0.23 - ETA: 17s - loss: 0.2394 - mae: 0.23 - ETA: 17s - loss: 0.2394 - mae: 0.23 - ETA: 17s - loss: 0.2394 - mae: 0.23 - ETA: 17s - loss: 0.2394 - mae: 0.23 - ETA: 17s - loss: 0.2394 - mae: 0.23 - ETA: 17s - loss: 0.2394 - mae: 0.23 - ETA: 17s - loss: 0.2394 - mae: 0.23 - ETA: 17s - loss: 0.2394 - mae: 0.23 - ETA: 17s - loss: 0.2394 - mae: 0.23 - ETA: 17s - loss: 0.2394 - mae: 0.23 - ETA: 17s - loss: 0.2395 - mae: 0.23 - ETA: 17s - loss: 0.2395 - mae: 0.23 - ETA: 17s - loss: 0.2395 - mae: 0.23 - ETA: 17s - loss: 0.2394 - mae: 0.23 - ETA: 17s - loss: 0.2394 - mae: 0.23 - ETA: 16s - loss: 0.2394 - mae: 0.23 - ETA: 16s - loss: 0.2394 - mae: 0.23 - ETA: 16s - loss: 0.2394 - mae: 0.23 - ETA: 16s - loss: 0.2394 - mae: 0.23 - ETA: 16s - loss: 0.2394 - mae: 0.23 - ETA: 16s - loss: 0.2394 - mae: 0.23 - ETA: 16s - loss: 0.2394 - mae: 0.23 - ETA: 16s - loss: 0.2394 - mae: 0.23 - ETA: 16s - loss: 0.2394 - mae: 0.23 - ETA: 16s - loss: 0.2394 - mae: 0.23 - ETA: 16s - loss: 0.2394 - mae: 0.23 - ETA: 16s - loss: 0.2394 - mae: 0.23 - ETA: 16s - loss: 0.2394 - mae: 0.23 - ETA: 16s - loss: 0.2394 - mae: 0.23 - ETA: 16s - loss: 0.2394 - mae: 0.23 - ETA: 16s - loss: 0.2394 - mae: 0.23 - ETA: 16s - loss: 0.2394 - mae: 0.23 - ETA: 16s - loss: 0.2394 - mae: 0.23 - ETA: 15s - loss: 0.2394 - mae: 0.23 - ETA: 15s - loss: 0.2394 - mae: 0.23 - ETA: 15s - loss: 0.2394 - mae: 0.23 - ETA: 15s - loss: 0.2394 - mae: 0.23 - ETA: 15s - loss: 0.2394 - mae: 0.23 - ETA: 15s - loss: 0.2394 - mae: 0.23 - ETA: 15s - loss: 0.2394 - mae: 0.23 - ETA: 15s - loss: 0.2394 - mae: 0.23 - ETA: 15s - loss: 0.2394 - mae: 0.23 - ETA: 15s - loss: 0.2394 - mae: 0.23 - ETA: 15s - loss: 0.2394 - mae: 0.23 - ETA: 15s - loss: 0.2394 - mae: 0.23 - ETA: 15s - loss: 0.2393 - mae: 0.23 - ETA: 15s - loss: 0.2393 - mae: 0.23 - ETA: 15s - loss: 0.2393 - mae: 0.23 - ETA: 15s - loss: 0.2393 - mae: 0.23 - ETA: 15s - loss: 0.2393 - mae: 0.23 - ETA: 15s - loss: 0.2393 - mae: 0.23 - ETA: 14s - loss: 0.2393 - mae: 0.23 - ETA: 14s - loss: 0.2393 - mae: 0.23 - ETA: 14s - loss: 0.2393 - mae: 0.23 - ETA: 14s - loss: 0.2393 - mae: 0.23 - ETA: 14s - loss: 0.2393 - mae: 0.23 - ETA: 14s - loss: 0.2393 - mae: 0.23 - ETA: 14s - loss: 0.2393 - mae: 0.23 - ETA: 14s - loss: 0.2393 - mae: 0.23 - ETA: 14s - loss: 0.2393 - mae: 0.23 - ETA: 14s - loss: 0.2393 - mae: 0.23 - ETA: 14s - loss: 0.2393 - mae: 0.23 - ETA: 14s - loss: 0.2393 - mae: 0.23 - ETA: 14s - loss: 0.2393 - mae: 0.23 - ETA: 14s - loss: 0.2393 - mae: 0.23 - ETA: 14s - loss: 0.2393 - mae: 0.23 - ETA: 14s - loss: 0.2393 - mae: 0.23 - ETA: 14s - loss: 0.2393 - mae: 0.23 - ETA: 14s - loss: 0.2392 - mae: 0.23 - ETA: 13s - loss: 0.2392 - mae: 0.23 - ETA: 13s - loss: 0.2392 - mae: 0.23 - ETA: 13s - loss: 0.2392 - mae: 0.23 - ETA: 13s - loss: 0.2392 - mae: 0.23 - ETA: 13s - loss: 0.2392 - mae: 0.23 - ETA: 13s - loss: 0.2392 - mae: 0.23 - ETA: 13s - loss: 0.2392 - mae: 0.23 - ETA: 13s - loss: 0.2392 - mae: 0.23 - ETA: 13s - loss: 0.2392 - mae: 0.23 - ETA: 13s - loss: 0.2392 - mae: 0.23 - ETA: 13s - loss: 0.2392 - mae: 0.23 - ETA: 13s - loss: 0.2392 - mae: 0.23 - ETA: 13s - loss: 0.2392 - mae: 0.23 - ETA: 13s - loss: 0.2392 - mae: 0.23 - ETA: 13s - loss: 0.2392 - mae: 0.23 - ETA: 13s - loss: 0.2392 - mae: 0.23 - ETA: 13s - loss: 0.2392 - mae: 0.23 - ETA: 13s - loss: 0.2392 - mae: 0.23 - ETA: 12s - loss: 0.2392 - mae: 0.23 - ETA: 12s - loss: 0.2392 - mae: 0.23 - ETA: 12s - loss: 0.2392 - mae: 0.23 - ETA: 12s - loss: 0.2392 - mae: 0.23 - ETA: 12s - loss: 0.2392 - mae: 0.23 - ETA: 12s - loss: 0.2392 - mae: 0.23 - ETA: 12s - loss: 0.2392 - mae: 0.23 - ETA: 12s - loss: 0.2392 - mae: 0.23 - ETA: 12s - loss: 0.2392 - mae: 0.23 - ETA: 12s - loss: 0.2392 - mae: 0.23 - ETA: 12s - loss: 0.2392 - mae: 0.23 - ETA: 12s - loss: 0.2392 - mae: 0.23 - ETA: 12s - loss: 0.2392 - mae: 0.23 - ETA: 12s - loss: 0.2392 - mae: 0.23 - ETA: 12s - loss: 0.2392 - mae: 0.23 - ETA: 12s - loss: 0.2392 - mae: 0.23 - ETA: 12s - loss: 0.2392 - mae: 0.23 - ETA: 12s - loss: 0.2392 - mae: 0.23 - ETA: 12s - loss: 0.2392 - mae: 0.23 - ETA: 11s - loss: 0.2392 - mae: 0.23 - ETA: 11s - loss: 0.2392 - mae: 0.23 - ETA: 11s - loss: 0.2391 - mae: 0.23 - ETA: 11s - loss: 0.2392 - mae: 0.23 - ETA: 11s - loss: 0.2392 - mae: 0.23 - ETA: 11s - loss: 0.2392 - mae: 0.23 - ETA: 11s - loss: 0.2392 - mae: 0.23 - ETA: 11s - loss: 0.2392 - mae: 0.23 - ETA: 11s - loss: 0.2391 - mae: 0.23 - ETA: 11s - loss: 0.2391 - mae: 0.23 - ETA: 11s - loss: 0.2392 - mae: 0.23 - ETA: 11s - loss: 0.2392 - mae: 0.23 - ETA: 11s - loss: 0.2392 - mae: 0.23 - ETA: 11s - loss: 0.2392 - mae: 0.23 - ETA: 11s - loss: 0.2392 - mae: 0.23 - ETA: 11s - loss: 0.2392 - mae: 0.23 - ETA: 11s - loss: 0.2392 - mae: 0.23 - ETA: 11s - loss: 0.2391 - mae: 0.23 - ETA: 10s - loss: 0.2391 - mae: 0.23 - ETA: 10s - loss: 0.2391 - mae: 0.23 - ETA: 10s - loss: 0.2391 - mae: 0.23 - ETA: 10s - loss: 0.2391 - mae: 0.2391"
     ]
    },
    {
     "name": "stdout",
     "output_type": "stream",
     "text": [
      "299280/299280 [==============================] - ETA: 10s - loss: 0.2391 - mae: 0.23 - ETA: 10s - loss: 0.2391 - mae: 0.23 - ETA: 10s - loss: 0.2391 - mae: 0.23 - ETA: 10s - loss: 0.2391 - mae: 0.23 - ETA: 10s - loss: 0.2391 - mae: 0.23 - ETA: 10s - loss: 0.2391 - mae: 0.23 - ETA: 10s - loss: 0.2391 - mae: 0.23 - ETA: 10s - loss: 0.2391 - mae: 0.23 - ETA: 10s - loss: 0.2391 - mae: 0.23 - ETA: 10s - loss: 0.2391 - mae: 0.23 - ETA: 10s - loss: 0.2391 - mae: 0.23 - ETA: 10s - loss: 0.2391 - mae: 0.23 - ETA: 10s - loss: 0.2391 - mae: 0.23 - ETA: 10s - loss: 0.2391 - mae: 0.23 - ETA: 9s - loss: 0.2391 - mae: 0.2391 - ETA: 9s - loss: 0.2391 - mae: 0.239 - ETA: 9s - loss: 0.2391 - mae: 0.239 - ETA: 9s - loss: 0.2391 - mae: 0.239 - ETA: 9s - loss: 0.2391 - mae: 0.239 - ETA: 9s - loss: 0.2391 - mae: 0.239 - ETA: 9s - loss: 0.2391 - mae: 0.239 - ETA: 9s - loss: 0.2391 - mae: 0.239 - ETA: 9s - loss: 0.2391 - mae: 0.239 - ETA: 9s - loss: 0.2391 - mae: 0.239 - ETA: 9s - loss: 0.2391 - mae: 0.239 - ETA: 9s - loss: 0.2391 - mae: 0.239 - ETA: 9s - loss: 0.2391 - mae: 0.239 - ETA: 9s - loss: 0.2391 - mae: 0.239 - ETA: 9s - loss: 0.2391 - mae: 0.239 - ETA: 9s - loss: 0.2391 - mae: 0.239 - ETA: 9s - loss: 0.2391 - mae: 0.239 - ETA: 9s - loss: 0.2391 - mae: 0.239 - ETA: 9s - loss: 0.2391 - mae: 0.239 - ETA: 8s - loss: 0.2391 - mae: 0.239 - ETA: 8s - loss: 0.2391 - mae: 0.239 - ETA: 8s - loss: 0.2391 - mae: 0.239 - ETA: 8s - loss: 0.2391 - mae: 0.239 - ETA: 8s - loss: 0.2391 - mae: 0.239 - ETA: 8s - loss: 0.2391 - mae: 0.239 - ETA: 8s - loss: 0.2391 - mae: 0.239 - ETA: 8s - loss: 0.2391 - mae: 0.239 - ETA: 8s - loss: 0.2391 - mae: 0.239 - ETA: 8s - loss: 0.2391 - mae: 0.239 - ETA: 8s - loss: 0.2391 - mae: 0.239 - ETA: 8s - loss: 0.2391 - mae: 0.239 - ETA: 8s - loss: 0.2391 - mae: 0.239 - ETA: 8s - loss: 0.2391 - mae: 0.239 - ETA: 8s - loss: 0.2391 - mae: 0.239 - ETA: 8s - loss: 0.2391 - mae: 0.239 - ETA: 8s - loss: 0.2391 - mae: 0.239 - ETA: 8s - loss: 0.2391 - mae: 0.239 - ETA: 7s - loss: 0.2391 - mae: 0.239 - ETA: 7s - loss: 0.2391 - mae: 0.239 - ETA: 7s - loss: 0.2391 - mae: 0.239 - ETA: 7s - loss: 0.2391 - mae: 0.239 - ETA: 7s - loss: 0.2391 - mae: 0.239 - ETA: 7s - loss: 0.2391 - mae: 0.239 - ETA: 7s - loss: 0.2391 - mae: 0.239 - ETA: 7s - loss: 0.2391 - mae: 0.239 - ETA: 7s - loss: 0.2391 - mae: 0.239 - ETA: 7s - loss: 0.2390 - mae: 0.239 - ETA: 7s - loss: 0.2390 - mae: 0.239 - ETA: 7s - loss: 0.2391 - mae: 0.239 - ETA: 7s - loss: 0.2390 - mae: 0.239 - ETA: 7s - loss: 0.2391 - mae: 0.239 - ETA: 7s - loss: 0.2390 - mae: 0.239 - ETA: 7s - loss: 0.2390 - mae: 0.239 - ETA: 7s - loss: 0.2390 - mae: 0.239 - ETA: 7s - loss: 0.2390 - mae: 0.239 - ETA: 6s - loss: 0.2390 - mae: 0.239 - ETA: 6s - loss: 0.2390 - mae: 0.239 - ETA: 6s - loss: 0.2390 - mae: 0.239 - ETA: 6s - loss: 0.2390 - mae: 0.239 - ETA: 6s - loss: 0.2390 - mae: 0.239 - ETA: 6s - loss: 0.2390 - mae: 0.239 - ETA: 6s - loss: 0.2391 - mae: 0.239 - ETA: 6s - loss: 0.2390 - mae: 0.239 - ETA: 6s - loss: 0.2390 - mae: 0.239 - ETA: 6s - loss: 0.2390 - mae: 0.239 - ETA: 6s - loss: 0.2390 - mae: 0.239 - ETA: 6s - loss: 0.2390 - mae: 0.239 - ETA: 6s - loss: 0.2390 - mae: 0.239 - ETA: 6s - loss: 0.2390 - mae: 0.239 - ETA: 6s - loss: 0.2390 - mae: 0.239 - ETA: 6s - loss: 0.2390 - mae: 0.239 - ETA: 6s - loss: 0.2390 - mae: 0.239 - ETA: 6s - loss: 0.2390 - mae: 0.239 - ETA: 5s - loss: 0.2390 - mae: 0.239 - ETA: 5s - loss: 0.2390 - mae: 0.239 - ETA: 5s - loss: 0.2389 - mae: 0.238 - ETA: 5s - loss: 0.2390 - mae: 0.239 - ETA: 5s - loss: 0.2390 - mae: 0.239 - ETA: 5s - loss: 0.2390 - mae: 0.239 - ETA: 5s - loss: 0.2389 - mae: 0.238 - ETA: 5s - loss: 0.2389 - mae: 0.238 - ETA: 5s - loss: 0.2389 - mae: 0.238 - ETA: 5s - loss: 0.2389 - mae: 0.238 - ETA: 5s - loss: 0.2389 - mae: 0.238 - ETA: 5s - loss: 0.2389 - mae: 0.238 - ETA: 5s - loss: 0.2389 - mae: 0.238 - ETA: 5s - loss: 0.2389 - mae: 0.238 - ETA: 5s - loss: 0.2389 - mae: 0.238 - ETA: 5s - loss: 0.2389 - mae: 0.238 - ETA: 5s - loss: 0.2389 - mae: 0.238 - ETA: 5s - loss: 0.2389 - mae: 0.238 - ETA: 4s - loss: 0.2389 - mae: 0.238 - ETA: 4s - loss: 0.2389 - mae: 0.238 - ETA: 4s - loss: 0.2389 - mae: 0.238 - ETA: 4s - loss: 0.2389 - mae: 0.238 - ETA: 4s - loss: 0.2389 - mae: 0.238 - ETA: 4s - loss: 0.2389 - mae: 0.238 - ETA: 4s - loss: 0.2389 - mae: 0.238 - ETA: 4s - loss: 0.2389 - mae: 0.238 - ETA: 4s - loss: 0.2389 - mae: 0.238 - ETA: 4s - loss: 0.2389 - mae: 0.238 - ETA: 4s - loss: 0.2389 - mae: 0.238 - ETA: 4s - loss: 0.2389 - mae: 0.238 - ETA: 4s - loss: 0.2389 - mae: 0.238 - ETA: 4s - loss: 0.2389 - mae: 0.238 - ETA: 4s - loss: 0.2389 - mae: 0.238 - ETA: 4s - loss: 0.2389 - mae: 0.238 - ETA: 4s - loss: 0.2389 - mae: 0.238 - ETA: 4s - loss: 0.2389 - mae: 0.238 - ETA: 3s - loss: 0.2389 - mae: 0.238 - ETA: 3s - loss: 0.2389 - mae: 0.238 - ETA: 3s - loss: 0.2389 - mae: 0.238 - ETA: 3s - loss: 0.2389 - mae: 0.238 - ETA: 3s - loss: 0.2389 - mae: 0.238 - ETA: 3s - loss: 0.2389 - mae: 0.238 - ETA: 3s - loss: 0.2389 - mae: 0.238 - ETA: 3s - loss: 0.2389 - mae: 0.238 - ETA: 3s - loss: 0.2389 - mae: 0.238 - ETA: 3s - loss: 0.2389 - mae: 0.238 - ETA: 3s - loss: 0.2388 - mae: 0.238 - ETA: 3s - loss: 0.2389 - mae: 0.238 - ETA: 3s - loss: 0.2389 - mae: 0.238 - ETA: 3s - loss: 0.2389 - mae: 0.238 - ETA: 3s - loss: 0.2389 - mae: 0.238 - ETA: 3s - loss: 0.2388 - mae: 0.238 - ETA: 3s - loss: 0.2388 - mae: 0.238 - ETA: 3s - loss: 0.2388 - mae: 0.238 - ETA: 2s - loss: 0.2388 - mae: 0.238 - ETA: 2s - loss: 0.2388 - mae: 0.238 - ETA: 2s - loss: 0.2389 - mae: 0.238 - ETA: 2s - loss: 0.2389 - mae: 0.238 - ETA: 2s - loss: 0.2389 - mae: 0.238 - ETA: 2s - loss: 0.2389 - mae: 0.238 - ETA: 2s - loss: 0.2388 - mae: 0.238 - ETA: 2s - loss: 0.2389 - mae: 0.238 - ETA: 2s - loss: 0.2388 - mae: 0.238 - ETA: 2s - loss: 0.2388 - mae: 0.238 - ETA: 2s - loss: 0.2388 - mae: 0.238 - ETA: 2s - loss: 0.2388 - mae: 0.238 - ETA: 2s - loss: 0.2388 - mae: 0.238 - ETA: 2s - loss: 0.2388 - mae: 0.238 - ETA: 2s - loss: 0.2388 - mae: 0.238 - ETA: 2s - loss: 0.2388 - mae: 0.238 - ETA: 2s - loss: 0.2388 - mae: 0.238 - ETA: 2s - loss: 0.2388 - mae: 0.238 - ETA: 2s - loss: 0.2388 - mae: 0.238 - ETA: 1s - loss: 0.2388 - mae: 0.238 - ETA: 1s - loss: 0.2388 - mae: 0.238 - ETA: 1s - loss: 0.2388 - mae: 0.238 - ETA: 1s - loss: 0.2388 - mae: 0.238 - ETA: 1s - loss: 0.2388 - mae: 0.238 - ETA: 1s - loss: 0.2388 - mae: 0.238 - ETA: 1s - loss: 0.2388 - mae: 0.238 - ETA: 1s - loss: 0.2388 - mae: 0.238 - ETA: 1s - loss: 0.2388 - mae: 0.238 - ETA: 1s - loss: 0.2387 - mae: 0.238 - ETA: 1s - loss: 0.2387 - mae: 0.238 - ETA: 1s - loss: 0.2387 - mae: 0.238 - ETA: 1s - loss: 0.2387 - mae: 0.238 - ETA: 1s - loss: 0.2387 - mae: 0.238 - ETA: 1s - loss: 0.2387 - mae: 0.238 - ETA: 1s - loss: 0.2387 - mae: 0.238 - ETA: 1s - loss: 0.2387 - mae: 0.238 - ETA: 1s - loss: 0.2387 - mae: 0.238 - ETA: 0s - loss: 0.2387 - mae: 0.238 - ETA: 0s - loss: 0.2387 - mae: 0.238 - ETA: 0s - loss: 0.2387 - mae: 0.238 - ETA: 0s - loss: 0.2387 - mae: 0.238 - ETA: 0s - loss: 0.2387 - mae: 0.238 - ETA: 0s - loss: 0.2387 - mae: 0.238 - ETA: 0s - loss: 0.2387 - mae: 0.238 - ETA: 0s - loss: 0.2387 - mae: 0.238 - ETA: 0s - loss: 0.2387 - mae: 0.238 - ETA: 0s - loss: 0.2387 - mae: 0.238 - ETA: 0s - loss: 0.2387 - mae: 0.238 - ETA: 0s - loss: 0.2387 - mae: 0.238 - ETA: 0s - loss: 0.2387 - mae: 0.238 - ETA: 0s - loss: 0.2387 - mae: 0.238 - ETA: 0s - loss: 0.2387 - mae: 0.238 - ETA: 0s - loss: 0.2387 - mae: 0.238 - ETA: 0s - loss: 0.2387 - mae: 0.238 - ETA: 0s - loss: 0.2387 - mae: 0.238 - 124s 413us/sample - loss: 0.2387 - mae: 0.2387 - val_loss: 0.2522 - val_mae: 0.2522\n"
     ]
    },
    {
     "data": {
      "text/html": [
       "<span style=\"color:#4527A0\"><h1 style=\"font-size:18px\">Trial complete</h1></span>"
      ],
      "text/plain": [
       "<IPython.core.display.HTML object>"
      ]
     },
     "metadata": {},
     "output_type": "display_data"
    },
    {
     "data": {
      "text/html": [
       "<span style=\"color:#4527A0\"><h1 style=\"font-size:18px\">Trial summary</h1></span>"
      ],
      "text/plain": [
       "<IPython.core.display.HTML object>"
      ]
     },
     "metadata": {},
     "output_type": "display_data"
    },
    {
     "data": {
      "text/html": [
       "<span style=\"color:cyan\"> |-Trial ID: a37bdd0f97454385642870c68034c287</span>"
      ],
      "text/plain": [
       "<IPython.core.display.HTML object>"
      ]
     },
     "metadata": {},
     "output_type": "display_data"
    },
    {
     "data": {
      "text/html": [
       "<span style=\"color:cyan\"> |-Score: 0.23868654668331146</span>"
      ],
      "text/plain": [
       "<IPython.core.display.HTML object>"
      ]
     },
     "metadata": {},
     "output_type": "display_data"
    },
    {
     "data": {
      "text/html": [
       "<span style=\"color:cyan\"> |-Best step: 0</span>"
      ],
      "text/plain": [
       "<IPython.core.display.HTML object>"
      ]
     },
     "metadata": {},
     "output_type": "display_data"
    },
    {
     "data": {
      "text/html": [
       "<span style=\"color:#7E57C2\"><h2 style=\"font-size:16px\">Hyperparameters:</h2></span>"
      ],
      "text/plain": [
       "<IPython.core.display.HTML object>"
      ]
     },
     "metadata": {},
     "output_type": "display_data"
    },
    {
     "data": {
      "text/html": [
       "<span style=\"color:cyan\"> |-learning_rate: 0.0001</span>"
      ],
      "text/plain": [
       "<IPython.core.display.HTML object>"
      ]
     },
     "metadata": {},
     "output_type": "display_data"
    },
    {
     "data": {
      "text/html": [
       "<span style=\"color:blue\"> |-units: 170</span>"
      ],
      "text/plain": [
       "<IPython.core.display.HTML object>"
      ]
     },
     "metadata": {},
     "output_type": "display_data"
    },
    {
     "name": "stdout",
     "output_type": "stream",
     "text": [
      "INFO:tensorflow:Oracle triggered exit\n",
      "Wall time: 7min 46s\n"
     ]
    }
   ],
   "source": [
    "%%time\n",
    "\n",
    "randommodel = TimeSeriesLSTM(num_outputs=1)\n",
    "\n",
    "random_tuner = RandomSearch(\n",
    "    randommodel,\n",
    "    objective='mae',\n",
    "    max_trials=4,\n",
    "    directory='random_search',\n",
    "    project_name='helloworld_random')\n",
    "\n",
    "random_tuner.search(x_train_single,\n",
    "                    y_train_single, \n",
    "                    epochs=4, \n",
    "                    validation_data=(x_val_single, y_val_single), )"
   ]
  },
  {
   "cell_type": "code",
   "execution_count": null,
   "metadata": {},
   "outputs": [],
   "source": []
  },
  {
   "cell_type": "markdown",
   "metadata": {},
   "source": [
    "# Plot result of random search"
   ]
  },
  {
   "cell_type": "code",
   "execution_count": 27,
   "metadata": {},
   "outputs": [
    {
     "data": {
      "text/html": [
       "<span style=\"color:#4527A0\"><h1 style=\"font-size:18px\">Results summary</h1></span>"
      ],
      "text/plain": [
       "<IPython.core.display.HTML object>"
      ]
     },
     "metadata": {},
     "output_type": "display_data"
    },
    {
     "data": {
      "text/html": [
       "<span style=\"color:cyan\"> |-Results in random_search\\helloworld_random</span>"
      ],
      "text/plain": [
       "<IPython.core.display.HTML object>"
      ]
     },
     "metadata": {},
     "output_type": "display_data"
    },
    {
     "data": {
      "text/html": [
       "<span style=\"color:cyan\"> |-Showing 10 best trials</span>"
      ],
      "text/plain": [
       "<IPython.core.display.HTML object>"
      ]
     },
     "metadata": {},
     "output_type": "display_data"
    },
    {
     "data": {
      "text/html": [
       "<span style=\"color:cyan\"> |-Objective(name='mae', direction='min')</span>"
      ],
      "text/plain": [
       "<IPython.core.display.HTML object>"
      ]
     },
     "metadata": {},
     "output_type": "display_data"
    },
    {
     "data": {
      "text/html": [
       "<span style=\"color:#4527A0\"><h1 style=\"font-size:18px\">Trial summary</h1></span>"
      ],
      "text/plain": [
       "<IPython.core.display.HTML object>"
      ]
     },
     "metadata": {},
     "output_type": "display_data"
    },
    {
     "data": {
      "text/html": [
       "<span style=\"color:cyan\"> |-Trial ID: a37bdd0f97454385642870c68034c287</span>"
      ],
      "text/plain": [
       "<IPython.core.display.HTML object>"
      ]
     },
     "metadata": {},
     "output_type": "display_data"
    },
    {
     "data": {
      "text/html": [
       "<span style=\"color:cyan\"> |-Score: 0.23868654668331146</span>"
      ],
      "text/plain": [
       "<IPython.core.display.HTML object>"
      ]
     },
     "metadata": {},
     "output_type": "display_data"
    },
    {
     "data": {
      "text/html": [
       "<span style=\"color:cyan\"> |-Best step: 0</span>"
      ],
      "text/plain": [
       "<IPython.core.display.HTML object>"
      ]
     },
     "metadata": {},
     "output_type": "display_data"
    },
    {
     "data": {
      "text/html": [
       "<span style=\"color:#7E57C2\"><h2 style=\"font-size:16px\">Hyperparameters:</h2></span>"
      ],
      "text/plain": [
       "<IPython.core.display.HTML object>"
      ]
     },
     "metadata": {},
     "output_type": "display_data"
    },
    {
     "data": {
      "text/html": [
       "<span style=\"color:cyan\"> |-learning_rate: 0.0001</span>"
      ],
      "text/plain": [
       "<IPython.core.display.HTML object>"
      ]
     },
     "metadata": {},
     "output_type": "display_data"
    },
    {
     "data": {
      "text/html": [
       "<span style=\"color:blue\"> |-units: 170</span>"
      ],
      "text/plain": [
       "<IPython.core.display.HTML object>"
      ]
     },
     "metadata": {},
     "output_type": "display_data"
    },
    {
     "data": {
      "text/html": [
       "<span style=\"color:#4527A0\"><h1 style=\"font-size:18px\">Trial summary</h1></span>"
      ],
      "text/plain": [
       "<IPython.core.display.HTML object>"
      ]
     },
     "metadata": {},
     "output_type": "display_data"
    },
    {
     "data": {
      "text/html": [
       "<span style=\"color:cyan\"> |-Trial ID: 69dd50e9bb795cee09b410e4d93b32c2</span>"
      ],
      "text/plain": [
       "<IPython.core.display.HTML object>"
      ]
     },
     "metadata": {},
     "output_type": "display_data"
    },
    {
     "data": {
      "text/html": [
       "<span style=\"color:cyan\"> |-Score: 0.2425248771905899</span>"
      ],
      "text/plain": [
       "<IPython.core.display.HTML object>"
      ]
     },
     "metadata": {},
     "output_type": "display_data"
    },
    {
     "data": {
      "text/html": [
       "<span style=\"color:cyan\"> |-Best step: 0</span>"
      ],
      "text/plain": [
       "<IPython.core.display.HTML object>"
      ]
     },
     "metadata": {},
     "output_type": "display_data"
    },
    {
     "data": {
      "text/html": [
       "<span style=\"color:#7E57C2\"><h2 style=\"font-size:16px\">Hyperparameters:</h2></span>"
      ],
      "text/plain": [
       "<IPython.core.display.HTML object>"
      ]
     },
     "metadata": {},
     "output_type": "display_data"
    },
    {
     "data": {
      "text/html": [
       "<span style=\"color:cyan\"> |-learning_rate: 0.0001</span>"
      ],
      "text/plain": [
       "<IPython.core.display.HTML object>"
      ]
     },
     "metadata": {},
     "output_type": "display_data"
    },
    {
     "data": {
      "text/html": [
       "<span style=\"color:blue\"> |-units: 74</span>"
      ],
      "text/plain": [
       "<IPython.core.display.HTML object>"
      ]
     },
     "metadata": {},
     "output_type": "display_data"
    },
    {
     "name": "stdout",
     "output_type": "stream",
     "text": [
      "None\n"
     ]
    }
   ],
   "source": [
    "models = random_tuner.get_best_models(num_models=1)\n",
    "print(random_tuner.results_summary())\n"
   ]
  },
  {
   "cell_type": "code",
   "execution_count": 28,
   "metadata": {
    "scrolled": false
   },
   "outputs": [
    {
     "data": {
      "image/png": "[encoded data removed]",
      "text/plain": [
       "<Figure size 576x432 with 1 Axes>"
      ]
     },
     "metadata": {
      "needs_background": "light"
     },
     "output_type": "display_data"
    },
    {
     "data": {
      "image/png": "[encoded data removed]",
      "text/plain": [
       "<Figure size 576x432 with 1 Axes>"
      ]
     },
     "metadata": {
      "needs_background": "light"
     },
     "output_type": "display_data"
    },
    {
     "data": {
      "image/png": "[encoded data removed]",
      "text/plain": [
       "<Figure size 576x432 with 1 Axes>"
      ]
     },
     "metadata": {
      "needs_background": "light"
     },
     "output_type": "display_data"
    },
    {
     "data": {
      "text/html": [
       "<span style=\"color:#4527A0\"><h1 style=\"font-size:18px\">Results summary</h1></span>"
      ],
      "text/plain": [
       "<IPython.core.display.HTML object>"
      ]
     },
     "metadata": {},
     "output_type": "display_data"
    },
    {
     "data": {
      "text/html": [
       "<span style=\"color:cyan\"> |-Results in hyperband\\helloworld_hyperband</span>"
      ],
      "text/plain": [
       "<IPython.core.display.HTML object>"
      ]
     },
     "metadata": {},
     "output_type": "display_data"
    },
    {
     "data": {
      "text/html": [
       "<span style=\"color:cyan\"> |-Showing 10 best trials</span>"
      ],
      "text/plain": [
       "<IPython.core.display.HTML object>"
      ]
     },
     "metadata": {},
     "output_type": "display_data"
    },
    {
     "data": {
      "text/html": [
       "<span style=\"color:cyan\"> |-Objective(name='mae', direction='min')</span>"
      ],
      "text/plain": [
       "<IPython.core.display.HTML object>"
      ]
     },
     "metadata": {},
     "output_type": "display_data"
    },
    {
     "data": {
      "text/html": [
       "<span style=\"color:#4527A0\"><h1 style=\"font-size:18px\">Trial summary</h1></span>"
      ],
      "text/plain": [
       "<IPython.core.display.HTML object>"
      ]
     },
     "metadata": {},
     "output_type": "display_data"
    },
    {
     "data": {
      "text/html": [
       "<span style=\"color:cyan\"> |-Trial ID: d8270198777cabecc58ca53750f71a3c</span>"
      ],
      "text/plain": [
       "<IPython.core.display.HTML object>"
      ]
     },
     "metadata": {},
     "output_type": "display_data"
    },
    {
     "data": {
      "text/html": [
       "<span style=\"color:cyan\"> |-Score: 0.09361021965742111</span>"
      ],
      "text/plain": [
       "<IPython.core.display.HTML object>"
      ]
     },
     "metadata": {},
     "output_type": "display_data"
    },
    {
     "data": {
      "text/html": [
       "<span style=\"color:cyan\"> |-Best step: 0</span>"
      ],
      "text/plain": [
       "<IPython.core.display.HTML object>"
      ]
     },
     "metadata": {},
     "output_type": "display_data"
    },
    {
     "data": {
      "text/html": [
       "<span style=\"color:#7E57C2\"><h2 style=\"font-size:16px\">Hyperparameters:</h2></span>"
      ],
      "text/plain": [
       "<IPython.core.display.HTML object>"
      ]
     },
     "metadata": {},
     "output_type": "display_data"
    },
    {
     "data": {
      "text/html": [
       "<span style=\"color:cyan\"> |-learning_rate: 0.001</span>"
      ],
      "text/plain": [
       "<IPython.core.display.HTML object>"
      ]
     },
     "metadata": {},
     "output_type": "display_data"
    },
    {
     "data": {
      "text/html": [
       "<span style=\"color:blue\"> |-tuner/bracket: 2</span>"
      ],
      "text/plain": [
       "<IPython.core.display.HTML object>"
      ]
     },
     "metadata": {},
     "output_type": "display_data"
    },
    {
     "data": {
      "text/html": [
       "<span style=\"color:cyan\"> |-tuner/epochs: 10</span>"
      ],
      "text/plain": [
       "<IPython.core.display.HTML object>"
      ]
     },
     "metadata": {},
     "output_type": "display_data"
    },
    {
     "data": {
      "text/html": [
       "<span style=\"color:blue\"> |-tuner/initial_epoch: 4</span>"
      ],
      "text/plain": [
       "<IPython.core.display.HTML object>"
      ]
     },
     "metadata": {},
     "output_type": "display_data"
    },
    {
     "data": {
      "text/html": [
       "<span style=\"color:cyan\"> |-tuner/round: 2</span>"
      ],
      "text/plain": [
       "<IPython.core.display.HTML object>"
      ]
     },
     "metadata": {},
     "output_type": "display_data"
    },
    {
     "data": {
      "text/html": [
       "<span style=\"color:blue\"> |-tuner/trial_id: cb603b01b7a928eef597e3e9e8dd5790</span>"
      ],
      "text/plain": [
       "<IPython.core.display.HTML object>"
      ]
     },
     "metadata": {},
     "output_type": "display_data"
    },
    {
     "data": {
      "text/html": [
       "<span style=\"color:cyan\"> |-units: 170</span>"
      ],
      "text/plain": [
       "<IPython.core.display.HTML object>"
      ]
     },
     "metadata": {},
     "output_type": "display_data"
    },
    {
     "data": {
      "text/html": [
       "<span style=\"color:#4527A0\"><h1 style=\"font-size:18px\">Trial summary</h1></span>"
      ],
      "text/plain": [
       "<IPython.core.display.HTML object>"
      ]
     },
     "metadata": {},
     "output_type": "display_data"
    },
    {
     "data": {
      "text/html": [
       "<span style=\"color:cyan\"> |-Trial ID: 01186cfb5bc7387a335657269c2b7e84</span>"
      ],
      "text/plain": [
       "<IPython.core.display.HTML object>"
      ]
     },
     "metadata": {},
     "output_type": "display_data"
    },
    {
     "data": {
      "text/html": [
       "<span style=\"color:cyan\"> |-Score: 0.09800152480602264</span>"
      ],
      "text/plain": [
       "<IPython.core.display.HTML object>"
      ]
     },
     "metadata": {},
     "output_type": "display_data"
    },
    {
     "data": {
      "text/html": [
       "<span style=\"color:cyan\"> |-Best step: 0</span>"
      ],
      "text/plain": [
       "<IPython.core.display.HTML object>"
      ]
     },
     "metadata": {},
     "output_type": "display_data"
    },
    {
     "data": {
      "text/html": [
       "<span style=\"color:#7E57C2\"><h2 style=\"font-size:16px\">Hyperparameters:</h2></span>"
      ],
      "text/plain": [
       "<IPython.core.display.HTML object>"
      ]
     },
     "metadata": {},
     "output_type": "display_data"
    },
    {
     "data": {
      "text/html": [
       "<span style=\"color:cyan\"> |-learning_rate: 0.001</span>"
      ],
      "text/plain": [
       "<IPython.core.display.HTML object>"
      ]
     },
     "metadata": {},
     "output_type": "display_data"
    },
    {
     "data": {
      "text/html": [
       "<span style=\"color:blue\"> |-tuner/bracket: 2</span>"
      ],
      "text/plain": [
       "<IPython.core.display.HTML object>"
      ]
     },
     "metadata": {},
     "output_type": "display_data"
    },
    {
     "data": {
      "text/html": [
       "<span style=\"color:cyan\"> |-tuner/epochs: 10</span>"
      ],
      "text/plain": [
       "<IPython.core.display.HTML object>"
      ]
     },
     "metadata": {},
     "output_type": "display_data"
    },
    {
     "data": {
      "text/html": [
       "<span style=\"color:blue\"> |-tuner/initial_epoch: 4</span>"
      ],
      "text/plain": [
       "<IPython.core.display.HTML object>"
      ]
     },
     "metadata": {},
     "output_type": "display_data"
    },
    {
     "data": {
      "text/html": [
       "<span style=\"color:cyan\"> |-tuner/round: 2</span>"
      ],
      "text/plain": [
       "<IPython.core.display.HTML object>"
      ]
     },
     "metadata": {},
     "output_type": "display_data"
    },
    {
     "data": {
      "text/html": [
       "<span style=\"color:blue\"> |-tuner/trial_id: 2bc0760519a3de782f6ff4f7501d34aa</span>"
      ],
      "text/plain": [
       "<IPython.core.display.HTML object>"
      ]
     },
     "metadata": {},
     "output_type": "display_data"
    },
    {
     "data": {
      "text/html": [
       "<span style=\"color:cyan\"> |-units: 138</span>"
      ],
      "text/plain": [
       "<IPython.core.display.HTML object>"
      ]
     },
     "metadata": {},
     "output_type": "display_data"
    },
    {
     "data": {
      "text/html": [
       "<span style=\"color:#4527A0\"><h1 style=\"font-size:18px\">Trial summary</h1></span>"
      ],
      "text/plain": [
       "<IPython.core.display.HTML object>"
      ]
     },
     "metadata": {},
     "output_type": "display_data"
    },
    {
     "data": {
      "text/html": [
       "<span style=\"color:cyan\"> |-Trial ID: 7c8b3b41c330e961b653c5228cb29a89</span>"
      ],
      "text/plain": [
       "<IPython.core.display.HTML object>"
      ]
     },
     "metadata": {},
     "output_type": "display_data"
    },
    {
     "data": {
      "text/html": [
       "<span style=\"color:cyan\"> |-Score: 0.10843775421380997</span>"
      ],
      "text/plain": [
       "<IPython.core.display.HTML object>"
      ]
     },
     "metadata": {},
     "output_type": "display_data"
    },
    {
     "data": {
      "text/html": [
       "<span style=\"color:cyan\"> |-Best step: 0</span>"
      ],
      "text/plain": [
       "<IPython.core.display.HTML object>"
      ]
     },
     "metadata": {},
     "output_type": "display_data"
    },
    {
     "data": {
      "text/html": [
       "<span style=\"color:#7E57C2\"><h2 style=\"font-size:16px\">Hyperparameters:</h2></span>"
      ],
      "text/plain": [
       "<IPython.core.display.HTML object>"
      ]
     },
     "metadata": {},
     "output_type": "display_data"
    },
    {
     "data": {
      "text/html": [
       "<span style=\"color:cyan\"> |-learning_rate: 0.001</span>"
      ],
      "text/plain": [
       "<IPython.core.display.HTML object>"
      ]
     },
     "metadata": {},
     "output_type": "display_data"
    },
    {
     "data": {
      "text/html": [
       "<span style=\"color:blue\"> |-tuner/bracket: 1</span>"
      ],
      "text/plain": [
       "<IPython.core.display.HTML object>"
      ]
     },
     "metadata": {},
     "output_type": "display_data"
    },
    {
     "data": {
      "text/html": [
       "<span style=\"color:cyan\"> |-tuner/epochs: 10</span>"
      ],
      "text/plain": [
       "<IPython.core.display.HTML object>"
      ]
     },
     "metadata": {},
     "output_type": "display_data"
    },
    {
     "data": {
      "text/html": [
       "<span style=\"color:blue\"> |-tuner/initial_epoch: 4</span>"
      ],
      "text/plain": [
       "<IPython.core.display.HTML object>"
      ]
     },
     "metadata": {},
     "output_type": "display_data"
    },
    {
     "data": {
      "text/html": [
       "<span style=\"color:cyan\"> |-tuner/round: 1</span>"
      ],
      "text/plain": [
       "<IPython.core.display.HTML object>"
      ]
     },
     "metadata": {},
     "output_type": "display_data"
    },
    {
     "data": {
      "text/html": [
       "<span style=\"color:blue\"> |-tuner/trial_id: 20713e0ed83c5e4a5c1771694c1c5b8d</span>"
      ],
      "text/plain": [
       "<IPython.core.display.HTML object>"
      ]
     },
     "metadata": {},
     "output_type": "display_data"
    },
    {
     "data": {
      "text/html": [
       "<span style=\"color:cyan\"> |-units: 106</span>"
      ],
      "text/plain": [
       "<IPython.core.display.HTML object>"
      ]
     },
     "metadata": {},
     "output_type": "display_data"
    },
    {
     "data": {
      "text/html": [
       "<span style=\"color:#4527A0\"><h1 style=\"font-size:18px\">Trial summary</h1></span>"
      ],
      "text/plain": [
       "<IPython.core.display.HTML object>"
      ]
     },
     "metadata": {},
     "output_type": "display_data"
    },
    {
     "data": {
      "text/html": [
       "<span style=\"color:cyan\"> |-Trial ID: 20713e0ed83c5e4a5c1771694c1c5b8d</span>"
      ],
      "text/plain": [
       "<IPython.core.display.HTML object>"
      ]
     },
     "metadata": {},
     "output_type": "display_data"
    },
    {
     "data": {
      "text/html": [
       "<span style=\"color:cyan\"> |-Score: 0.15005381405353546</span>"
      ],
      "text/plain": [
       "<IPython.core.display.HTML object>"
      ]
     },
     "metadata": {},
     "output_type": "display_data"
    },
    {
     "data": {
      "text/html": [
       "<span style=\"color:cyan\"> |-Best step: 0</span>"
      ],
      "text/plain": [
       "<IPython.core.display.HTML object>"
      ]
     },
     "metadata": {},
     "output_type": "display_data"
    },
    {
     "data": {
      "text/html": [
       "<span style=\"color:#7E57C2\"><h2 style=\"font-size:16px\">Hyperparameters:</h2></span>"
      ],
      "text/plain": [
       "<IPython.core.display.HTML object>"
      ]
     },
     "metadata": {},
     "output_type": "display_data"
    },
    {
     "data": {
      "text/html": [
       "<span style=\"color:cyan\"> |-learning_rate: 0.001</span>"
      ],
      "text/plain": [
       "<IPython.core.display.HTML object>"
      ]
     },
     "metadata": {},
     "output_type": "display_data"
    },
    {
     "data": {
      "text/html": [
       "<span style=\"color:blue\"> |-tuner/bracket: 1</span>"
      ],
      "text/plain": [
       "<IPython.core.display.HTML object>"
      ]
     },
     "metadata": {},
     "output_type": "display_data"
    },
    {
     "data": {
      "text/html": [
       "<span style=\"color:cyan\"> |-tuner/epochs: 4</span>"
      ],
      "text/plain": [
       "<IPython.core.display.HTML object>"
      ]
     },
     "metadata": {},
     "output_type": "display_data"
    },
    {
     "data": {
      "text/html": [
       "<span style=\"color:blue\"> |-tuner/initial_epoch: 0</span>"
      ],
      "text/plain": [
       "<IPython.core.display.HTML object>"
      ]
     },
     "metadata": {},
     "output_type": "display_data"
    },
    {
     "data": {
      "text/html": [
       "<span style=\"color:cyan\"> |-tuner/round: 0</span>"
      ],
      "text/plain": [
       "<IPython.core.display.HTML object>"
      ]
     },
     "metadata": {},
     "output_type": "display_data"
    },
    {
     "data": {
      "text/html": [
       "<span style=\"color:blue\"> |-units: 106</span>"
      ],
      "text/plain": [
       "<IPython.core.display.HTML object>"
      ]
     },
     "metadata": {},
     "output_type": "display_data"
    },
    {
     "data": {
      "text/html": [
       "<span style=\"color:#4527A0\"><h1 style=\"font-size:18px\">Trial summary</h1></span>"
      ],
      "text/plain": [
       "<IPython.core.display.HTML object>"
      ]
     },
     "metadata": {},
     "output_type": "display_data"
    },
    {
     "data": {
      "text/html": [
       "<span style=\"color:cyan\"> |-Trial ID: b17628a771e52ac9dbd4c18ef510ad1a</span>"
      ],
      "text/plain": [
       "<IPython.core.display.HTML object>"
      ]
     },
     "metadata": {},
     "output_type": "display_data"
    },
    {
     "data": {
      "text/html": [
       "<span style=\"color:cyan\"> |-Score: 0.18283025920391083</span>"
      ],
      "text/plain": [
       "<IPython.core.display.HTML object>"
      ]
     },
     "metadata": {},
     "output_type": "display_data"
    },
    {
     "data": {
      "text/html": [
       "<span style=\"color:cyan\"> |-Best step: 0</span>"
      ],
      "text/plain": [
       "<IPython.core.display.HTML object>"
      ]
     },
     "metadata": {},
     "output_type": "display_data"
    },
    {
     "data": {
      "text/html": [
       "<span style=\"color:#7E57C2\"><h2 style=\"font-size:16px\">Hyperparameters:</h2></span>"
      ],
      "text/plain": [
       "<IPython.core.display.HTML object>"
      ]
     },
     "metadata": {},
     "output_type": "display_data"
    },
    {
     "data": {
      "text/html": [
       "<span style=\"color:cyan\"> |-learning_rate: 0.001</span>"
      ],
      "text/plain": [
       "<IPython.core.display.HTML object>"
      ]
     },
     "metadata": {},
     "output_type": "display_data"
    },
    {
     "data": {
      "text/html": [
       "<span style=\"color:blue\"> |-tuner/bracket: 1</span>"
      ],
      "text/plain": [
       "<IPython.core.display.HTML object>"
      ]
     },
     "metadata": {},
     "output_type": "display_data"
    },
    {
     "data": {
      "text/html": [
       "<span style=\"color:cyan\"> |-tuner/epochs: 10</span>"
      ],
      "text/plain": [
       "<IPython.core.display.HTML object>"
      ]
     },
     "metadata": {},
     "output_type": "display_data"
    },
    {
     "data": {
      "text/html": [
       "<span style=\"color:blue\"> |-tuner/initial_epoch: 4</span>"
      ],
      "text/plain": [
       "<IPython.core.display.HTML object>"
      ]
     },
     "metadata": {},
     "output_type": "display_data"
    },
    {
     "data": {
      "text/html": [
       "<span style=\"color:cyan\"> |-tuner/round: 1</span>"
      ],
      "text/plain": [
       "<IPython.core.display.HTML object>"
      ]
     },
     "metadata": {},
     "output_type": "display_data"
    },
    {
     "data": {
      "text/html": [
       "<span style=\"color:blue\"> |-tuner/trial_id: 54a968df59eee5a2e776818e7998bd6a</span>"
      ],
      "text/plain": [
       "<IPython.core.display.HTML object>"
      ]
     },
     "metadata": {},
     "output_type": "display_data"
    },
    {
     "data": {
      "text/html": [
       "<span style=\"color:cyan\"> |-units: 42</span>"
      ],
      "text/plain": [
       "<IPython.core.display.HTML object>"
      ]
     },
     "metadata": {},
     "output_type": "display_data"
    },
    {
     "data": {
      "text/html": [
       "<span style=\"color:#4527A0\"><h1 style=\"font-size:18px\">Trial summary</h1></span>"
      ],
      "text/plain": [
       "<IPython.core.display.HTML object>"
      ]
     },
     "metadata": {},
     "output_type": "display_data"
    },
    {
     "data": {
      "text/html": [
       "<span style=\"color:cyan\"> |-Trial ID: 54a968df59eee5a2e776818e7998bd6a</span>"
      ],
      "text/plain": [
       "<IPython.core.display.HTML object>"
      ]
     },
     "metadata": {},
     "output_type": "display_data"
    },
    {
     "data": {
      "text/html": [
       "<span style=\"color:cyan\"> |-Score: 0.201022669672966</span>"
      ],
      "text/plain": [
       "<IPython.core.display.HTML object>"
      ]
     },
     "metadata": {},
     "output_type": "display_data"
    },
    {
     "data": {
      "text/html": [
       "<span style=\"color:cyan\"> |-Best step: 0</span>"
      ],
      "text/plain": [
       "<IPython.core.display.HTML object>"
      ]
     },
     "metadata": {},
     "output_type": "display_data"
    },
    {
     "data": {
      "text/html": [
       "<span style=\"color:#7E57C2\"><h2 style=\"font-size:16px\">Hyperparameters:</h2></span>"
      ],
      "text/plain": [
       "<IPython.core.display.HTML object>"
      ]
     },
     "metadata": {},
     "output_type": "display_data"
    },
    {
     "data": {
      "text/html": [
       "<span style=\"color:cyan\"> |-learning_rate: 0.001</span>"
      ],
      "text/plain": [
       "<IPython.core.display.HTML object>"
      ]
     },
     "metadata": {},
     "output_type": "display_data"
    },
    {
     "data": {
      "text/html": [
       "<span style=\"color:blue\"> |-tuner/bracket: 1</span>"
      ],
      "text/plain": [
       "<IPython.core.display.HTML object>"
      ]
     },
     "metadata": {},
     "output_type": "display_data"
    },
    {
     "data": {
      "text/html": [
       "<span style=\"color:cyan\"> |-tuner/epochs: 4</span>"
      ],
      "text/plain": [
       "<IPython.core.display.HTML object>"
      ]
     },
     "metadata": {},
     "output_type": "display_data"
    },
    {
     "data": {
      "text/html": [
       "<span style=\"color:blue\"> |-tuner/initial_epoch: 0</span>"
      ],
      "text/plain": [
       "<IPython.core.display.HTML object>"
      ]
     },
     "metadata": {},
     "output_type": "display_data"
    },
    {
     "data": {
      "text/html": [
       "<span style=\"color:cyan\"> |-tuner/round: 0</span>"
      ],
      "text/plain": [
       "<IPython.core.display.HTML object>"
      ]
     },
     "metadata": {},
     "output_type": "display_data"
    },
    {
     "data": {
      "text/html": [
       "<span style=\"color:blue\"> |-units: 42</span>"
      ],
      "text/plain": [
       "<IPython.core.display.HTML object>"
      ]
     },
     "metadata": {},
     "output_type": "display_data"
    },
    {
     "data": {
      "text/html": [
       "<span style=\"color:#4527A0\"><h1 style=\"font-size:18px\">Trial summary</h1></span>"
      ],
      "text/plain": [
       "<IPython.core.display.HTML object>"
      ]
     },
     "metadata": {},
     "output_type": "display_data"
    },
    {
     "data": {
      "text/html": [
       "<span style=\"color:cyan\"> |-Trial ID: 47da3fca3a61667175a4528904cd244e</span>"
      ],
      "text/plain": [
       "<IPython.core.display.HTML object>"
      ]
     },
     "metadata": {},
     "output_type": "display_data"
    },
    {
     "data": {
      "text/html": [
       "<span style=\"color:cyan\"> |-Score: 0.21071305871009827</span>"
      ],
      "text/plain": [
       "<IPython.core.display.HTML object>"
      ]
     },
     "metadata": {},
     "output_type": "display_data"
    },
    {
     "data": {
      "text/html": [
       "<span style=\"color:cyan\"> |-Best step: 0</span>"
      ],
      "text/plain": [
       "<IPython.core.display.HTML object>"
      ]
     },
     "metadata": {},
     "output_type": "display_data"
    },
    {
     "data": {
      "text/html": [
       "<span style=\"color:#7E57C2\"><h2 style=\"font-size:16px\">Hyperparameters:</h2></span>"
      ],
      "text/plain": [
       "<IPython.core.display.HTML object>"
      ]
     },
     "metadata": {},
     "output_type": "display_data"
    },
    {
     "data": {
      "text/html": [
       "<span style=\"color:cyan\"> |-learning_rate: 0.001</span>"
      ],
      "text/plain": [
       "<IPython.core.display.HTML object>"
      ]
     },
     "metadata": {},
     "output_type": "display_data"
    },
    {
     "data": {
      "text/html": [
       "<span style=\"color:blue\"> |-tuner/bracket: 2</span>"
      ],
      "text/plain": [
       "<IPython.core.display.HTML object>"
      ]
     },
     "metadata": {},
     "output_type": "display_data"
    },
    {
     "data": {
      "text/html": [
       "<span style=\"color:cyan\"> |-tuner/epochs: 2</span>"
      ],
      "text/plain": [
       "<IPython.core.display.HTML object>"
      ]
     },
     "metadata": {},
     "output_type": "display_data"
    },
    {
     "data": {
      "text/html": [
       "<span style=\"color:blue\"> |-tuner/initial_epoch: 0</span>"
      ],
      "text/plain": [
       "<IPython.core.display.HTML object>"
      ]
     },
     "metadata": {},
     "output_type": "display_data"
    },
    {
     "data": {
      "text/html": [
       "<span style=\"color:cyan\"> |-tuner/round: 0</span>"
      ],
      "text/plain": [
       "<IPython.core.display.HTML object>"
      ]
     },
     "metadata": {},
     "output_type": "display_data"
    },
    {
     "data": {
      "text/html": [
       "<span style=\"color:blue\"> |-units: 170</span>"
      ],
      "text/plain": [
       "<IPython.core.display.HTML object>"
      ]
     },
     "metadata": {},
     "output_type": "display_data"
    },
    {
     "data": {
      "text/html": [
       "<span style=\"color:#4527A0\"><h1 style=\"font-size:18px\">Trial summary</h1></span>"
      ],
      "text/plain": [
       "<IPython.core.display.HTML object>"
      ]
     },
     "metadata": {},
     "output_type": "display_data"
    },
    {
     "data": {
      "text/html": [
       "<span style=\"color:cyan\"> |-Trial ID: cb603b01b7a928eef597e3e9e8dd5790</span>"
      ],
      "text/plain": [
       "<IPython.core.display.HTML object>"
      ]
     },
     "metadata": {},
     "output_type": "display_data"
    },
    {
     "data": {
      "text/html": [
       "<span style=\"color:cyan\"> |-Score: 0.21093550324440002</span>"
      ],
      "text/plain": [
       "<IPython.core.display.HTML object>"
      ]
     },
     "metadata": {},
     "output_type": "display_data"
    },
    {
     "data": {
      "text/html": [
       "<span style=\"color:cyan\"> |-Best step: 0</span>"
      ],
      "text/plain": [
       "<IPython.core.display.HTML object>"
      ]
     },
     "metadata": {},
     "output_type": "display_data"
    },
    {
     "data": {
      "text/html": [
       "<span style=\"color:#7E57C2\"><h2 style=\"font-size:16px\">Hyperparameters:</h2></span>"
      ],
      "text/plain": [
       "<IPython.core.display.HTML object>"
      ]
     },
     "metadata": {},
     "output_type": "display_data"
    },
    {
     "data": {
      "text/html": [
       "<span style=\"color:cyan\"> |-learning_rate: 0.001</span>"
      ],
      "text/plain": [
       "<IPython.core.display.HTML object>"
      ]
     },
     "metadata": {},
     "output_type": "display_data"
    },
    {
     "data": {
      "text/html": [
       "<span style=\"color:blue\"> |-tuner/bracket: 2</span>"
      ],
      "text/plain": [
       "<IPython.core.display.HTML object>"
      ]
     },
     "metadata": {},
     "output_type": "display_data"
    },
    {
     "data": {
      "text/html": [
       "<span style=\"color:cyan\"> |-tuner/epochs: 4</span>"
      ],
      "text/plain": [
       "<IPython.core.display.HTML object>"
      ]
     },
     "metadata": {},
     "output_type": "display_data"
    },
    {
     "data": {
      "text/html": [
       "<span style=\"color:blue\"> |-tuner/initial_epoch: 2</span>"
      ],
      "text/plain": [
       "<IPython.core.display.HTML object>"
      ]
     },
     "metadata": {},
     "output_type": "display_data"
    },
    {
     "data": {
      "text/html": [
       "<span style=\"color:cyan\"> |-tuner/round: 1</span>"
      ],
      "text/plain": [
       "<IPython.core.display.HTML object>"
      ]
     },
     "metadata": {},
     "output_type": "display_data"
    },
    {
     "data": {
      "text/html": [
       "<span style=\"color:blue\"> |-tuner/trial_id: 47da3fca3a61667175a4528904cd244e</span>"
      ],
      "text/plain": [
       "<IPython.core.display.HTML object>"
      ]
     },
     "metadata": {},
     "output_type": "display_data"
    },
    {
     "data": {
      "text/html": [
       "<span style=\"color:cyan\"> |-units: 170</span>"
      ],
      "text/plain": [
       "<IPython.core.display.HTML object>"
      ]
     },
     "metadata": {},
     "output_type": "display_data"
    },
    {
     "data": {
      "text/html": [
       "<span style=\"color:#4527A0\"><h1 style=\"font-size:18px\">Trial summary</h1></span>"
      ],
      "text/plain": [
       "<IPython.core.display.HTML object>"
      ]
     },
     "metadata": {},
     "output_type": "display_data"
    },
    {
     "data": {
      "text/html": [
       "<span style=\"color:cyan\"> |-Trial ID: 6ec0f1975e4682a636262abeeb786273</span>"
      ],
      "text/plain": [
       "<IPython.core.display.HTML object>"
      ]
     },
     "metadata": {},
     "output_type": "display_data"
    },
    {
     "data": {
      "text/html": [
       "<span style=\"color:cyan\"> |-Score: 0.21296684443950653</span>"
      ],
      "text/plain": [
       "<IPython.core.display.HTML object>"
      ]
     },
     "metadata": {},
     "output_type": "display_data"
    },
    {
     "data": {
      "text/html": [
       "<span style=\"color:cyan\"> |-Best step: 0</span>"
      ],
      "text/plain": [
       "<IPython.core.display.HTML object>"
      ]
     },
     "metadata": {},
     "output_type": "display_data"
    },
    {
     "data": {
      "text/html": [
       "<span style=\"color:#7E57C2\"><h2 style=\"font-size:16px\">Hyperparameters:</h2></span>"
      ],
      "text/plain": [
       "<IPython.core.display.HTML object>"
      ]
     },
     "metadata": {},
     "output_type": "display_data"
    },
    {
     "data": {
      "text/html": [
       "<span style=\"color:cyan\"> |-learning_rate: 0.001</span>"
      ],
      "text/plain": [
       "<IPython.core.display.HTML object>"
      ]
     },
     "metadata": {},
     "output_type": "display_data"
    },
    {
     "data": {
      "text/html": [
       "<span style=\"color:blue\"> |-tuner/bracket: 2</span>"
      ],
      "text/plain": [
       "<IPython.core.display.HTML object>"
      ]
     },
     "metadata": {},
     "output_type": "display_data"
    },
    {
     "data": {
      "text/html": [
       "<span style=\"color:cyan\"> |-tuner/epochs: 2</span>"
      ],
      "text/plain": [
       "<IPython.core.display.HTML object>"
      ]
     },
     "metadata": {},
     "output_type": "display_data"
    },
    {
     "data": {
      "text/html": [
       "<span style=\"color:blue\"> |-tuner/initial_epoch: 0</span>"
      ],
      "text/plain": [
       "<IPython.core.display.HTML object>"
      ]
     },
     "metadata": {},
     "output_type": "display_data"
    },
    {
     "data": {
      "text/html": [
       "<span style=\"color:cyan\"> |-tuner/round: 0</span>"
      ],
      "text/plain": [
       "<IPython.core.display.HTML object>"
      ]
     },
     "metadata": {},
     "output_type": "display_data"
    },
    {
     "data": {
      "text/html": [
       "<span style=\"color:blue\"> |-units: 138</span>"
      ],
      "text/plain": [
       "<IPython.core.display.HTML object>"
      ]
     },
     "metadata": {},
     "output_type": "display_data"
    },
    {
     "data": {
      "text/html": [
       "<span style=\"color:#4527A0\"><h1 style=\"font-size:18px\">Trial summary</h1></span>"
      ],
      "text/plain": [
       "<IPython.core.display.HTML object>"
      ]
     },
     "metadata": {},
     "output_type": "display_data"
    },
    {
     "data": {
      "text/html": [
       "<span style=\"color:cyan\"> |-Trial ID: 2bc0760519a3de782f6ff4f7501d34aa</span>"
      ],
      "text/plain": [
       "<IPython.core.display.HTML object>"
      ]
     },
     "metadata": {},
     "output_type": "display_data"
    },
    {
     "data": {
      "text/html": [
       "<span style=\"color:cyan\"> |-Score: 0.21389415860176086</span>"
      ],
      "text/plain": [
       "<IPython.core.display.HTML object>"
      ]
     },
     "metadata": {},
     "output_type": "display_data"
    },
    {
     "data": {
      "text/html": [
       "<span style=\"color:cyan\"> |-Best step: 0</span>"
      ],
      "text/plain": [
       "<IPython.core.display.HTML object>"
      ]
     },
     "metadata": {},
     "output_type": "display_data"
    },
    {
     "data": {
      "text/html": [
       "<span style=\"color:#7E57C2\"><h2 style=\"font-size:16px\">Hyperparameters:</h2></span>"
      ],
      "text/plain": [
       "<IPython.core.display.HTML object>"
      ]
     },
     "metadata": {},
     "output_type": "display_data"
    },
    {
     "data": {
      "text/html": [
       "<span style=\"color:cyan\"> |-learning_rate: 0.001</span>"
      ],
      "text/plain": [
       "<IPython.core.display.HTML object>"
      ]
     },
     "metadata": {},
     "output_type": "display_data"
    },
    {
     "data": {
      "text/html": [
       "<span style=\"color:blue\"> |-tuner/bracket: 2</span>"
      ],
      "text/plain": [
       "<IPython.core.display.HTML object>"
      ]
     },
     "metadata": {},
     "output_type": "display_data"
    },
    {
     "data": {
      "text/html": [
       "<span style=\"color:cyan\"> |-tuner/epochs: 4</span>"
      ],
      "text/plain": [
       "<IPython.core.display.HTML object>"
      ]
     },
     "metadata": {},
     "output_type": "display_data"
    },
    {
     "data": {
      "text/html": [
       "<span style=\"color:blue\"> |-tuner/initial_epoch: 2</span>"
      ],
      "text/plain": [
       "<IPython.core.display.HTML object>"
      ]
     },
     "metadata": {},
     "output_type": "display_data"
    },
    {
     "data": {
      "text/html": [
       "<span style=\"color:cyan\"> |-tuner/round: 1</span>"
      ],
      "text/plain": [
       "<IPython.core.display.HTML object>"
      ]
     },
     "metadata": {},
     "output_type": "display_data"
    },
    {
     "data": {
      "text/html": [
       "<span style=\"color:blue\"> |-tuner/trial_id: 6ec0f1975e4682a636262abeeb786273</span>"
      ],
      "text/plain": [
       "<IPython.core.display.HTML object>"
      ]
     },
     "metadata": {},
     "output_type": "display_data"
    },
    {
     "data": {
      "text/html": [
       "<span style=\"color:cyan\"> |-units: 138</span>"
      ],
      "text/plain": [
       "<IPython.core.display.HTML object>"
      ]
     },
     "metadata": {},
     "output_type": "display_data"
    }
   ],
   "source": [
    "plot_preds(models[0], val_data_single)\n",
    "# Show a summary of the search\n",
    "tuner.results_summary()\n",
    "\n",
    "# Retrieve the best model.\n",
    "best_model = random_tuner.get_best_models(num_models=1)[0]\n",
    "\n",
    "# Evaluate the best model.\n",
    "#loss, accuracy = best_model.evaluate(x_val_single, y_val_single)"
   ]
  }
 ],
 "metadata": {
  "kernelspec": {
   "display_name": "Python 3",
   "language": "python",
   "name": "python3"
  },
  "language_info": {
   "codemirror_mode": {
    "name": "ipython",
    "version": 3
   },
   "file_extension": ".py",
   "mimetype": "text/x-python",
   "name": "python",
   "nbconvert_exporter": "python",
   "pygments_lexer": "ipython3",
   "version": "3.7.7"
  }
 },
 "nbformat": 4,
 "nbformat_minor": 4
}
